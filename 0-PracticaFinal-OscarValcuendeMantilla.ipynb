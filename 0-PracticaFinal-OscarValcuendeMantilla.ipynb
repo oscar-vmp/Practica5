{
 "cells": [
  {
   "cell_type": "code",
   "execution_count": 1,
   "metadata": {},
   "outputs": [],
   "source": [
    "library(ggplot2)\n",
    "options(repr.plot.height=4,repr.plot.width=6)"
   ]
  },
  {
   "cell_type": "markdown",
   "metadata": {},
   "source": [
    "Cargar los datos en un dataframe llamado: airbnb"
   ]
  },
  {
   "cell_type": "code",
   "execution_count": 2,
   "metadata": {},
   "outputs": [],
   "source": [
    "airbnb<-read.csv('data//airbnb.csv',sep = ',')"
   ]
  },
  {
   "cell_type": "markdown",
   "metadata": {},
   "source": [
    "Mostrar las primeras 6 filas del dataframe"
   ]
  },
  {
   "cell_type": "code",
   "execution_count": 3,
   "metadata": {
    "scrolled": true
   },
   "outputs": [
    {
     "data": {
      "text/html": [
       "<table>\n",
       "<caption>A data.frame: 6 × 13</caption>\n",
       "<thead>\n",
       "\t<tr><th></th><th scope=col>Zipcode</th><th scope=col>Neighbourhood.Cleansed</th><th scope=col>Property.Type</th><th scope=col>Room.Type</th><th scope=col>Accommodates</th><th scope=col>Bathrooms</th><th scope=col>Bedrooms</th><th scope=col>Beds</th><th scope=col>Bed.Type</th><th scope=col>Amenities</th><th scope=col>Square.Feet</th><th scope=col>Price</th><th scope=col>Review.Scores.Rating</th></tr>\n",
       "\t<tr><th></th><th scope=col>&lt;fct&gt;</th><th scope=col>&lt;fct&gt;</th><th scope=col>&lt;fct&gt;</th><th scope=col>&lt;fct&gt;</th><th scope=col>&lt;int&gt;</th><th scope=col>&lt;dbl&gt;</th><th scope=col>&lt;int&gt;</th><th scope=col>&lt;int&gt;</th><th scope=col>&lt;fct&gt;</th><th scope=col>&lt;fct&gt;</th><th scope=col>&lt;int&gt;</th><th scope=col>&lt;int&gt;</th><th scope=col>&lt;int&gt;</th></tr>\n",
       "</thead>\n",
       "<tbody>\n",
       "\t<tr><th scope=row>1</th><td>28004</td><td>Universidad</td><td>Apartment</td><td>Private room   </td><td>2</td><td>2</td><td>1</td><td>1</td><td>Real Bed</td><td>TV,Wireless Internet,Kitchen,Pets allowed,Pets live on this property,Buzzer/wireless intercom,Heating,Suitable for events,Washer,First aid kit,Essentials,Lock on bedroom door,Iron                                                                                                                                                                             </td><td> NA</td><td>35</td><td> NA</td></tr>\n",
       "\t<tr><th scope=row>2</th><td>28004</td><td>Universidad</td><td>Apartment</td><td>Entire home/apt</td><td>6</td><td>1</td><td>3</td><td>5</td><td>Real Bed</td><td>TV,Internet,Wireless Internet,Air conditioning,Kitchen,Indoor fireplace,Heating,Family/kid friendly,Washer,Dryer,Smoke detector,Carbon monoxide detector,Essentials,Shampoo                                                                                                                                                                                     </td><td> NA</td><td>92</td><td> 96</td></tr>\n",
       "\t<tr><th scope=row>3</th><td>28004</td><td>Universidad</td><td>Apartment</td><td>Entire home/apt</td><td>3</td><td>1</td><td>2</td><td>2</td><td>Real Bed</td><td>TV,Internet,Wireless Internet,Air conditioning,Kitchen,Doorman,Heating,Family/kid friendly,Washer,Essentials,Shampoo,Hangers,Hair dryer,Iron,Laptop friendly workspace                                                                                                                                                                                          </td><td> NA</td><td>55</td><td> 91</td></tr>\n",
       "\t<tr><th scope=row>4</th><td>28004</td><td>Universidad</td><td>Loft     </td><td>Entire home/apt</td><td>3</td><td>2</td><td>1</td><td>1</td><td>Real Bed</td><td>TV,Internet,Wireless Internet,Air conditioning,Kitchen,Pets allowed,Breakfast,Elevator in building,Indoor fireplace,Buzzer/wireless intercom,Heating,Washer,Essentials,Shampoo,Hangers,Hair dryer,Iron,Laptop friendly workspace,translation missing: en.hosting_amenity_49,translation missing: en.hosting_amenity_50                                          </td><td> NA</td><td>60</td><td>100</td></tr>\n",
       "\t<tr><th scope=row>5</th><td>28015</td><td>Universidad</td><td>Apartment</td><td>Entire home/apt</td><td>5</td><td>1</td><td>1</td><td>1</td><td>Real Bed</td><td>TV,Wireless Internet,Air conditioning,Kitchen,Smoking allowed,Pets allowed,Elevator in building,Heating,Family/kid friendly,Washer,Essentials,Iron                                                                                                                                                                                                              </td><td>538</td><td>75</td><td> 90</td></tr>\n",
       "\t<tr><th scope=row>6</th><td>28004</td><td>Universidad</td><td>Apartment</td><td>Entire home/apt</td><td>2</td><td>1</td><td>0</td><td>1</td><td>Real Bed</td><td>TV,Cable TV,Internet,Wireless Internet,Air conditioning,Wheelchair accessible,Kitchen,Doorman,Elevator in building,Buzzer/wireless intercom,Heating,Washer,Smoke detector,Carbon monoxide detector,First aid kit,Safety card,Fire extinguisher,Essentials,Shampoo,24-hour check-in,Hangers,Hair dryer,Iron,Laptop friendly workspace,Self Check-In,Doorman Entry</td><td> NA</td><td>55</td><td> 95</td></tr>\n",
       "</tbody>\n",
       "</table>\n"
      ],
      "text/latex": [
       "A data.frame: 6 × 13\n",
       "\\begin{tabular}{r|lllllllllllll}\n",
       "  & Zipcode & Neighbourhood.Cleansed & Property.Type & Room.Type & Accommodates & Bathrooms & Bedrooms & Beds & Bed.Type & Amenities & Square.Feet & Price & Review.Scores.Rating\\\\\n",
       "  & <fct> & <fct> & <fct> & <fct> & <int> & <dbl> & <int> & <int> & <fct> & <fct> & <int> & <int> & <int>\\\\\n",
       "\\hline\n",
       "\t1 & 28004 & Universidad & Apartment & Private room    & 2 & 2 & 1 & 1 & Real Bed & TV,Wireless Internet,Kitchen,Pets allowed,Pets live on this property,Buzzer/wireless intercom,Heating,Suitable for events,Washer,First aid kit,Essentials,Lock on bedroom door,Iron                                                                                                                                                                              &  NA & 35 &  NA\\\\\n",
       "\t2 & 28004 & Universidad & Apartment & Entire home/apt & 6 & 1 & 3 & 5 & Real Bed & TV,Internet,Wireless Internet,Air conditioning,Kitchen,Indoor fireplace,Heating,Family/kid friendly,Washer,Dryer,Smoke detector,Carbon monoxide detector,Essentials,Shampoo                                                                                                                                                                                      &  NA & 92 &  96\\\\\n",
       "\t3 & 28004 & Universidad & Apartment & Entire home/apt & 3 & 1 & 2 & 2 & Real Bed & TV,Internet,Wireless Internet,Air conditioning,Kitchen,Doorman,Heating,Family/kid friendly,Washer,Essentials,Shampoo,Hangers,Hair dryer,Iron,Laptop friendly workspace                                                                                                                                                                                           &  NA & 55 &  91\\\\\n",
       "\t4 & 28004 & Universidad & Loft      & Entire home/apt & 3 & 2 & 1 & 1 & Real Bed & TV,Internet,Wireless Internet,Air conditioning,Kitchen,Pets allowed,Breakfast,Elevator in building,Indoor fireplace,Buzzer/wireless intercom,Heating,Washer,Essentials,Shampoo,Hangers,Hair dryer,Iron,Laptop friendly workspace,translation missing: en.hosting\\_amenity\\_49,translation missing: en.hosting\\_amenity\\_50                                           &  NA & 60 & 100\\\\\n",
       "\t5 & 28015 & Universidad & Apartment & Entire home/apt & 5 & 1 & 1 & 1 & Real Bed & TV,Wireless Internet,Air conditioning,Kitchen,Smoking allowed,Pets allowed,Elevator in building,Heating,Family/kid friendly,Washer,Essentials,Iron                                                                                                                                                                                                               & 538 & 75 &  90\\\\\n",
       "\t6 & 28004 & Universidad & Apartment & Entire home/apt & 2 & 1 & 0 & 1 & Real Bed & TV,Cable TV,Internet,Wireless Internet,Air conditioning,Wheelchair accessible,Kitchen,Doorman,Elevator in building,Buzzer/wireless intercom,Heating,Washer,Smoke detector,Carbon monoxide detector,First aid kit,Safety card,Fire extinguisher,Essentials,Shampoo,24-hour check-in,Hangers,Hair dryer,Iron,Laptop friendly workspace,Self Check-In,Doorman Entry &  NA & 55 &  95\\\\\n",
       "\\end{tabular}\n"
      ],
      "text/markdown": [
       "\n",
       "A data.frame: 6 × 13\n",
       "\n",
       "| <!--/--> | Zipcode &lt;fct&gt; | Neighbourhood.Cleansed &lt;fct&gt; | Property.Type &lt;fct&gt; | Room.Type &lt;fct&gt; | Accommodates &lt;int&gt; | Bathrooms &lt;dbl&gt; | Bedrooms &lt;int&gt; | Beds &lt;int&gt; | Bed.Type &lt;fct&gt; | Amenities &lt;fct&gt; | Square.Feet &lt;int&gt; | Price &lt;int&gt; | Review.Scores.Rating &lt;int&gt; |\n",
       "|---|---|---|---|---|---|---|---|---|---|---|---|---|---|\n",
       "| 1 | 28004 | Universidad | Apartment | Private room    | 2 | 2 | 1 | 1 | Real Bed | TV,Wireless Internet,Kitchen,Pets allowed,Pets live on this property,Buzzer/wireless intercom,Heating,Suitable for events,Washer,First aid kit,Essentials,Lock on bedroom door,Iron                                                                                                                                                                              |  NA | 35 |  NA |\n",
       "| 2 | 28004 | Universidad | Apartment | Entire home/apt | 6 | 1 | 3 | 5 | Real Bed | TV,Internet,Wireless Internet,Air conditioning,Kitchen,Indoor fireplace,Heating,Family/kid friendly,Washer,Dryer,Smoke detector,Carbon monoxide detector,Essentials,Shampoo                                                                                                                                                                                      |  NA | 92 |  96 |\n",
       "| 3 | 28004 | Universidad | Apartment | Entire home/apt | 3 | 1 | 2 | 2 | Real Bed | TV,Internet,Wireless Internet,Air conditioning,Kitchen,Doorman,Heating,Family/kid friendly,Washer,Essentials,Shampoo,Hangers,Hair dryer,Iron,Laptop friendly workspace                                                                                                                                                                                           |  NA | 55 |  91 |\n",
       "| 4 | 28004 | Universidad | Loft      | Entire home/apt | 3 | 2 | 1 | 1 | Real Bed | TV,Internet,Wireless Internet,Air conditioning,Kitchen,Pets allowed,Breakfast,Elevator in building,Indoor fireplace,Buzzer/wireless intercom,Heating,Washer,Essentials,Shampoo,Hangers,Hair dryer,Iron,Laptop friendly workspace,translation missing: en.hosting_amenity_49,translation missing: en.hosting_amenity_50                                           |  NA | 60 | 100 |\n",
       "| 5 | 28015 | Universidad | Apartment | Entire home/apt | 5 | 1 | 1 | 1 | Real Bed | TV,Wireless Internet,Air conditioning,Kitchen,Smoking allowed,Pets allowed,Elevator in building,Heating,Family/kid friendly,Washer,Essentials,Iron                                                                                                                                                                                                               | 538 | 75 |  90 |\n",
       "| 6 | 28004 | Universidad | Apartment | Entire home/apt | 2 | 1 | 0 | 1 | Real Bed | TV,Cable TV,Internet,Wireless Internet,Air conditioning,Wheelchair accessible,Kitchen,Doorman,Elevator in building,Buzzer/wireless intercom,Heating,Washer,Smoke detector,Carbon monoxide detector,First aid kit,Safety card,Fire extinguisher,Essentials,Shampoo,24-hour check-in,Hangers,Hair dryer,Iron,Laptop friendly workspace,Self Check-In,Doorman Entry |  NA | 55 |  95 |\n",
       "\n"
      ],
      "text/plain": [
       "  Zipcode Neighbourhood.Cleansed Property.Type Room.Type       Accommodates\n",
       "1 28004   Universidad            Apartment     Private room    2           \n",
       "2 28004   Universidad            Apartment     Entire home/apt 6           \n",
       "3 28004   Universidad            Apartment     Entire home/apt 3           \n",
       "4 28004   Universidad            Loft          Entire home/apt 3           \n",
       "5 28015   Universidad            Apartment     Entire home/apt 5           \n",
       "6 28004   Universidad            Apartment     Entire home/apt 2           \n",
       "  Bathrooms Bedrooms Beds Bed.Type\n",
       "1 2         1        1    Real Bed\n",
       "2 1         3        5    Real Bed\n",
       "3 1         2        2    Real Bed\n",
       "4 2         1        1    Real Bed\n",
       "5 1         1        1    Real Bed\n",
       "6 1         0        1    Real Bed\n",
       "  Amenities                                                                                                                                                                                                                                                                                                                                                       \n",
       "1 TV,Wireless Internet,Kitchen,Pets allowed,Pets live on this property,Buzzer/wireless intercom,Heating,Suitable for events,Washer,First aid kit,Essentials,Lock on bedroom door,Iron                                                                                                                                                                             \n",
       "2 TV,Internet,Wireless Internet,Air conditioning,Kitchen,Indoor fireplace,Heating,Family/kid friendly,Washer,Dryer,Smoke detector,Carbon monoxide detector,Essentials,Shampoo                                                                                                                                                                                     \n",
       "3 TV,Internet,Wireless Internet,Air conditioning,Kitchen,Doorman,Heating,Family/kid friendly,Washer,Essentials,Shampoo,Hangers,Hair dryer,Iron,Laptop friendly workspace                                                                                                                                                                                          \n",
       "4 TV,Internet,Wireless Internet,Air conditioning,Kitchen,Pets allowed,Breakfast,Elevator in building,Indoor fireplace,Buzzer/wireless intercom,Heating,Washer,Essentials,Shampoo,Hangers,Hair dryer,Iron,Laptop friendly workspace,translation missing: en.hosting_amenity_49,translation missing: en.hosting_amenity_50                                          \n",
       "5 TV,Wireless Internet,Air conditioning,Kitchen,Smoking allowed,Pets allowed,Elevator in building,Heating,Family/kid friendly,Washer,Essentials,Iron                                                                                                                                                                                                              \n",
       "6 TV,Cable TV,Internet,Wireless Internet,Air conditioning,Wheelchair accessible,Kitchen,Doorman,Elevator in building,Buzzer/wireless intercom,Heating,Washer,Smoke detector,Carbon monoxide detector,First aid kit,Safety card,Fire extinguisher,Essentials,Shampoo,24-hour check-in,Hangers,Hair dryer,Iron,Laptop friendly workspace,Self Check-In,Doorman Entry\n",
       "  Square.Feet Price Review.Scores.Rating\n",
       "1  NA         35     NA                 \n",
       "2  NA         92     96                 \n",
       "3  NA         55     91                 \n",
       "4  NA         60    100                 \n",
       "5 538         75     90                 \n",
       "6  NA         55     95                 "
      ]
     },
     "metadata": {},
     "output_type": "display_data"
    }
   ],
   "source": [
    "head(airbnb)"
   ]
  },
  {
   "cell_type": "markdown",
   "metadata": {},
   "source": [
    "Renombrar las columnas de la siguiente forma:\n",
    "\n",
    "| Nombre original | Nuevo nombre |\n",
    "| - | - |\n",
    "| Zipcode | CodigoPostal |\n",
    "| Neighbourhood.Cleansed | Barrio |\n",
    "| Property.Type\t| TipoPropiedad |\n",
    "| Room.Type | TipoAlquiler |\n",
    "| Accommodates | MaxOcupantes |\n",
    "| Bathrooms\t| NumBanyos |\n",
    "| Bedrooms\t| NumDormitorios |\n",
    "| Beds\t|  NumCamas |\n",
    "| Bed.Type\t| TipoCama |\n",
    "| Amenities | Comodidades |\n",
    "| Square.Feet | PiesCuadrados |\n",
    "| Price\t| Precio |\n",
    "| Review.Scores.Rating | Puntuacion |"
   ]
  },
  {
   "cell_type": "code",
   "execution_count": 4,
   "metadata": {},
   "outputs": [],
   "source": [
    "newnames<-c(\"CodigoPostal\",\"Barrio\",\"TipoPropiedad\",\"TipoAlquiler\",\"MaxOcupantes\",\"NumBanyos\",\n",
    "\"NumDormitorios\",\"NumCamas\",\"TipoCama\",\"Comodidades\",\"PiesCuadrados\",\"Precio\",\"Puntuacion\")\n"
   ]
  },
  {
   "cell_type": "code",
   "execution_count": 5,
   "metadata": {},
   "outputs": [
    {
     "data": {
      "text/html": [
       "<style>\n",
       ".list-inline {list-style: none; margin:0; padding: 0}\n",
       ".list-inline>li {display: inline-block}\n",
       ".list-inline>li:not(:last-child)::after {content: \"\\00b7\"; padding: 0 .5ex}\n",
       "</style>\n",
       "<ol class=list-inline><li>'Zipcode'</li><li>'Neighbourhood.Cleansed'</li><li>'Property.Type'</li><li>'Room.Type'</li><li>'Accommodates'</li><li>'Bathrooms'</li><li>'Bedrooms'</li><li>'Beds'</li><li>'Bed.Type'</li><li>'Amenities'</li><li>'Square.Feet'</li><li>'Price'</li><li>'Review.Scores.Rating'</li></ol>\n"
      ],
      "text/latex": [
       "\\begin{enumerate*}\n",
       "\\item 'Zipcode'\n",
       "\\item 'Neighbourhood.Cleansed'\n",
       "\\item 'Property.Type'\n",
       "\\item 'Room.Type'\n",
       "\\item 'Accommodates'\n",
       "\\item 'Bathrooms'\n",
       "\\item 'Bedrooms'\n",
       "\\item 'Beds'\n",
       "\\item 'Bed.Type'\n",
       "\\item 'Amenities'\n",
       "\\item 'Square.Feet'\n",
       "\\item 'Price'\n",
       "\\item 'Review.Scores.Rating'\n",
       "\\end{enumerate*}\n"
      ],
      "text/markdown": [
       "1. 'Zipcode'\n",
       "2. 'Neighbourhood.Cleansed'\n",
       "3. 'Property.Type'\n",
       "4. 'Room.Type'\n",
       "5. 'Accommodates'\n",
       "6. 'Bathrooms'\n",
       "7. 'Bedrooms'\n",
       "8. 'Beds'\n",
       "9. 'Bed.Type'\n",
       "10. 'Amenities'\n",
       "11. 'Square.Feet'\n",
       "12. 'Price'\n",
       "13. 'Review.Scores.Rating'\n",
       "\n",
       "\n"
      ],
      "text/plain": [
       " [1] \"Zipcode\"                \"Neighbourhood.Cleansed\" \"Property.Type\"         \n",
       " [4] \"Room.Type\"              \"Accommodates\"           \"Bathrooms\"             \n",
       " [7] \"Bedrooms\"               \"Beds\"                   \"Bed.Type\"              \n",
       "[10] \"Amenities\"              \"Square.Feet\"            \"Price\"                 \n",
       "[13] \"Review.Scores.Rating\"  "
      ]
     },
     "metadata": {},
     "output_type": "display_data"
    },
    {
     "data": {
      "text/html": [
       "<style>\n",
       ".list-inline {list-style: none; margin:0; padding: 0}\n",
       ".list-inline>li {display: inline-block}\n",
       ".list-inline>li:not(:last-child)::after {content: \"\\00b7\"; padding: 0 .5ex}\n",
       "</style>\n",
       "<ol class=list-inline><li>'CodigoPostal'</li><li>'Barrio'</li><li>'TipoPropiedad'</li><li>'TipoAlquiler'</li><li>'MaxOcupantes'</li><li>'NumBanyos'</li><li>'NumDormitorios'</li><li>'NumCamas'</li><li>'TipoCama'</li><li>'Comodidades'</li><li>'PiesCuadrados'</li><li>'Precio'</li><li>'Puntuacion'</li></ol>\n"
      ],
      "text/latex": [
       "\\begin{enumerate*}\n",
       "\\item 'CodigoPostal'\n",
       "\\item 'Barrio'\n",
       "\\item 'TipoPropiedad'\n",
       "\\item 'TipoAlquiler'\n",
       "\\item 'MaxOcupantes'\n",
       "\\item 'NumBanyos'\n",
       "\\item 'NumDormitorios'\n",
       "\\item 'NumCamas'\n",
       "\\item 'TipoCama'\n",
       "\\item 'Comodidades'\n",
       "\\item 'PiesCuadrados'\n",
       "\\item 'Precio'\n",
       "\\item 'Puntuacion'\n",
       "\\end{enumerate*}\n"
      ],
      "text/markdown": [
       "1. 'CodigoPostal'\n",
       "2. 'Barrio'\n",
       "3. 'TipoPropiedad'\n",
       "4. 'TipoAlquiler'\n",
       "5. 'MaxOcupantes'\n",
       "6. 'NumBanyos'\n",
       "7. 'NumDormitorios'\n",
       "8. 'NumCamas'\n",
       "9. 'TipoCama'\n",
       "10. 'Comodidades'\n",
       "11. 'PiesCuadrados'\n",
       "12. 'Precio'\n",
       "13. 'Puntuacion'\n",
       "\n",
       "\n"
      ],
      "text/plain": [
       " [1] \"CodigoPostal\"   \"Barrio\"         \"TipoPropiedad\"  \"TipoAlquiler\"  \n",
       " [5] \"MaxOcupantes\"   \"NumBanyos\"      \"NumDormitorios\" \"NumCamas\"      \n",
       " [9] \"TipoCama\"       \"Comodidades\"    \"PiesCuadrados\"  \"Precio\"        \n",
       "[13] \"Puntuacion\"    "
      ]
     },
     "metadata": {},
     "output_type": "display_data"
    }
   ],
   "source": [
    "colnames(airbnb)\n",
    "colnames(airbnb)<-newnames\n",
    "colnames(airbnb)"
   ]
  },
  {
   "cell_type": "markdown",
   "metadata": {},
   "source": [
    "Crea una nueva columna llamada MetrosCuadrados a partir de la columna PiesCuadrados.\n",
    "\n",
    "Ayuda: 1 pie cuadrado son 0,092903 metros cuadrdados"
   ]
  },
  {
   "cell_type": "code",
   "execution_count": 6,
   "metadata": {},
   "outputs": [],
   "source": [
    "airbnb$MetrosCuadrados<-airbnb$PiesCuadrados*0.092903 "
   ]
  },
  {
   "cell_type": "code",
   "execution_count": 7,
   "metadata": {},
   "outputs": [
    {
     "data": {
      "text/html": [
       "<table>\n",
       "<caption>A data.frame: 6 × 14</caption>\n",
       "<thead>\n",
       "\t<tr><th></th><th scope=col>CodigoPostal</th><th scope=col>Barrio</th><th scope=col>TipoPropiedad</th><th scope=col>TipoAlquiler</th><th scope=col>MaxOcupantes</th><th scope=col>NumBanyos</th><th scope=col>NumDormitorios</th><th scope=col>NumCamas</th><th scope=col>TipoCama</th><th scope=col>Comodidades</th><th scope=col>PiesCuadrados</th><th scope=col>Precio</th><th scope=col>Puntuacion</th><th scope=col>MetrosCuadrados</th></tr>\n",
       "\t<tr><th></th><th scope=col>&lt;fct&gt;</th><th scope=col>&lt;fct&gt;</th><th scope=col>&lt;fct&gt;</th><th scope=col>&lt;fct&gt;</th><th scope=col>&lt;int&gt;</th><th scope=col>&lt;dbl&gt;</th><th scope=col>&lt;int&gt;</th><th scope=col>&lt;int&gt;</th><th scope=col>&lt;fct&gt;</th><th scope=col>&lt;fct&gt;</th><th scope=col>&lt;int&gt;</th><th scope=col>&lt;int&gt;</th><th scope=col>&lt;int&gt;</th><th scope=col>&lt;dbl&gt;</th></tr>\n",
       "</thead>\n",
       "<tbody>\n",
       "\t<tr><th scope=row>1</th><td>28004</td><td>Universidad</td><td>Apartment</td><td>Private room   </td><td>2</td><td>2</td><td>1</td><td>1</td><td>Real Bed</td><td>TV,Wireless Internet,Kitchen,Pets allowed,Pets live on this property,Buzzer/wireless intercom,Heating,Suitable for events,Washer,First aid kit,Essentials,Lock on bedroom door,Iron                                                                                                                                                                             </td><td> NA</td><td>35</td><td> NA</td><td>      NA</td></tr>\n",
       "\t<tr><th scope=row>2</th><td>28004</td><td>Universidad</td><td>Apartment</td><td>Entire home/apt</td><td>6</td><td>1</td><td>3</td><td>5</td><td>Real Bed</td><td>TV,Internet,Wireless Internet,Air conditioning,Kitchen,Indoor fireplace,Heating,Family/kid friendly,Washer,Dryer,Smoke detector,Carbon monoxide detector,Essentials,Shampoo                                                                                                                                                                                     </td><td> NA</td><td>92</td><td> 96</td><td>      NA</td></tr>\n",
       "\t<tr><th scope=row>3</th><td>28004</td><td>Universidad</td><td>Apartment</td><td>Entire home/apt</td><td>3</td><td>1</td><td>2</td><td>2</td><td>Real Bed</td><td>TV,Internet,Wireless Internet,Air conditioning,Kitchen,Doorman,Heating,Family/kid friendly,Washer,Essentials,Shampoo,Hangers,Hair dryer,Iron,Laptop friendly workspace                                                                                                                                                                                          </td><td> NA</td><td>55</td><td> 91</td><td>      NA</td></tr>\n",
       "\t<tr><th scope=row>4</th><td>28004</td><td>Universidad</td><td>Loft     </td><td>Entire home/apt</td><td>3</td><td>2</td><td>1</td><td>1</td><td>Real Bed</td><td>TV,Internet,Wireless Internet,Air conditioning,Kitchen,Pets allowed,Breakfast,Elevator in building,Indoor fireplace,Buzzer/wireless intercom,Heating,Washer,Essentials,Shampoo,Hangers,Hair dryer,Iron,Laptop friendly workspace,translation missing: en.hosting_amenity_49,translation missing: en.hosting_amenity_50                                          </td><td> NA</td><td>60</td><td>100</td><td>      NA</td></tr>\n",
       "\t<tr><th scope=row>5</th><td>28015</td><td>Universidad</td><td>Apartment</td><td>Entire home/apt</td><td>5</td><td>1</td><td>1</td><td>1</td><td>Real Bed</td><td>TV,Wireless Internet,Air conditioning,Kitchen,Smoking allowed,Pets allowed,Elevator in building,Heating,Family/kid friendly,Washer,Essentials,Iron                                                                                                                                                                                                              </td><td>538</td><td>75</td><td> 90</td><td>49.98181</td></tr>\n",
       "\t<tr><th scope=row>6</th><td>28004</td><td>Universidad</td><td>Apartment</td><td>Entire home/apt</td><td>2</td><td>1</td><td>0</td><td>1</td><td>Real Bed</td><td>TV,Cable TV,Internet,Wireless Internet,Air conditioning,Wheelchair accessible,Kitchen,Doorman,Elevator in building,Buzzer/wireless intercom,Heating,Washer,Smoke detector,Carbon monoxide detector,First aid kit,Safety card,Fire extinguisher,Essentials,Shampoo,24-hour check-in,Hangers,Hair dryer,Iron,Laptop friendly workspace,Self Check-In,Doorman Entry</td><td> NA</td><td>55</td><td> 95</td><td>      NA</td></tr>\n",
       "</tbody>\n",
       "</table>\n"
      ],
      "text/latex": [
       "A data.frame: 6 × 14\n",
       "\\begin{tabular}{r|llllllllllllll}\n",
       "  & CodigoPostal & Barrio & TipoPropiedad & TipoAlquiler & MaxOcupantes & NumBanyos & NumDormitorios & NumCamas & TipoCama & Comodidades & PiesCuadrados & Precio & Puntuacion & MetrosCuadrados\\\\\n",
       "  & <fct> & <fct> & <fct> & <fct> & <int> & <dbl> & <int> & <int> & <fct> & <fct> & <int> & <int> & <int> & <dbl>\\\\\n",
       "\\hline\n",
       "\t1 & 28004 & Universidad & Apartment & Private room    & 2 & 2 & 1 & 1 & Real Bed & TV,Wireless Internet,Kitchen,Pets allowed,Pets live on this property,Buzzer/wireless intercom,Heating,Suitable for events,Washer,First aid kit,Essentials,Lock on bedroom door,Iron                                                                                                                                                                              &  NA & 35 &  NA &       NA\\\\\n",
       "\t2 & 28004 & Universidad & Apartment & Entire home/apt & 6 & 1 & 3 & 5 & Real Bed & TV,Internet,Wireless Internet,Air conditioning,Kitchen,Indoor fireplace,Heating,Family/kid friendly,Washer,Dryer,Smoke detector,Carbon monoxide detector,Essentials,Shampoo                                                                                                                                                                                      &  NA & 92 &  96 &       NA\\\\\n",
       "\t3 & 28004 & Universidad & Apartment & Entire home/apt & 3 & 1 & 2 & 2 & Real Bed & TV,Internet,Wireless Internet,Air conditioning,Kitchen,Doorman,Heating,Family/kid friendly,Washer,Essentials,Shampoo,Hangers,Hair dryer,Iron,Laptop friendly workspace                                                                                                                                                                                           &  NA & 55 &  91 &       NA\\\\\n",
       "\t4 & 28004 & Universidad & Loft      & Entire home/apt & 3 & 2 & 1 & 1 & Real Bed & TV,Internet,Wireless Internet,Air conditioning,Kitchen,Pets allowed,Breakfast,Elevator in building,Indoor fireplace,Buzzer/wireless intercom,Heating,Washer,Essentials,Shampoo,Hangers,Hair dryer,Iron,Laptop friendly workspace,translation missing: en.hosting\\_amenity\\_49,translation missing: en.hosting\\_amenity\\_50                                           &  NA & 60 & 100 &       NA\\\\\n",
       "\t5 & 28015 & Universidad & Apartment & Entire home/apt & 5 & 1 & 1 & 1 & Real Bed & TV,Wireless Internet,Air conditioning,Kitchen,Smoking allowed,Pets allowed,Elevator in building,Heating,Family/kid friendly,Washer,Essentials,Iron                                                                                                                                                                                                               & 538 & 75 &  90 & 49.98181\\\\\n",
       "\t6 & 28004 & Universidad & Apartment & Entire home/apt & 2 & 1 & 0 & 1 & Real Bed & TV,Cable TV,Internet,Wireless Internet,Air conditioning,Wheelchair accessible,Kitchen,Doorman,Elevator in building,Buzzer/wireless intercom,Heating,Washer,Smoke detector,Carbon monoxide detector,First aid kit,Safety card,Fire extinguisher,Essentials,Shampoo,24-hour check-in,Hangers,Hair dryer,Iron,Laptop friendly workspace,Self Check-In,Doorman Entry &  NA & 55 &  95 &       NA\\\\\n",
       "\\end{tabular}\n"
      ],
      "text/markdown": [
       "\n",
       "A data.frame: 6 × 14\n",
       "\n",
       "| <!--/--> | CodigoPostal &lt;fct&gt; | Barrio &lt;fct&gt; | TipoPropiedad &lt;fct&gt; | TipoAlquiler &lt;fct&gt; | MaxOcupantes &lt;int&gt; | NumBanyos &lt;dbl&gt; | NumDormitorios &lt;int&gt; | NumCamas &lt;int&gt; | TipoCama &lt;fct&gt; | Comodidades &lt;fct&gt; | PiesCuadrados &lt;int&gt; | Precio &lt;int&gt; | Puntuacion &lt;int&gt; | MetrosCuadrados &lt;dbl&gt; |\n",
       "|---|---|---|---|---|---|---|---|---|---|---|---|---|---|---|\n",
       "| 1 | 28004 | Universidad | Apartment | Private room    | 2 | 2 | 1 | 1 | Real Bed | TV,Wireless Internet,Kitchen,Pets allowed,Pets live on this property,Buzzer/wireless intercom,Heating,Suitable for events,Washer,First aid kit,Essentials,Lock on bedroom door,Iron                                                                                                                                                                              |  NA | 35 |  NA |       NA |\n",
       "| 2 | 28004 | Universidad | Apartment | Entire home/apt | 6 | 1 | 3 | 5 | Real Bed | TV,Internet,Wireless Internet,Air conditioning,Kitchen,Indoor fireplace,Heating,Family/kid friendly,Washer,Dryer,Smoke detector,Carbon monoxide detector,Essentials,Shampoo                                                                                                                                                                                      |  NA | 92 |  96 |       NA |\n",
       "| 3 | 28004 | Universidad | Apartment | Entire home/apt | 3 | 1 | 2 | 2 | Real Bed | TV,Internet,Wireless Internet,Air conditioning,Kitchen,Doorman,Heating,Family/kid friendly,Washer,Essentials,Shampoo,Hangers,Hair dryer,Iron,Laptop friendly workspace                                                                                                                                                                                           |  NA | 55 |  91 |       NA |\n",
       "| 4 | 28004 | Universidad | Loft      | Entire home/apt | 3 | 2 | 1 | 1 | Real Bed | TV,Internet,Wireless Internet,Air conditioning,Kitchen,Pets allowed,Breakfast,Elevator in building,Indoor fireplace,Buzzer/wireless intercom,Heating,Washer,Essentials,Shampoo,Hangers,Hair dryer,Iron,Laptop friendly workspace,translation missing: en.hosting_amenity_49,translation missing: en.hosting_amenity_50                                           |  NA | 60 | 100 |       NA |\n",
       "| 5 | 28015 | Universidad | Apartment | Entire home/apt | 5 | 1 | 1 | 1 | Real Bed | TV,Wireless Internet,Air conditioning,Kitchen,Smoking allowed,Pets allowed,Elevator in building,Heating,Family/kid friendly,Washer,Essentials,Iron                                                                                                                                                                                                               | 538 | 75 |  90 | 49.98181 |\n",
       "| 6 | 28004 | Universidad | Apartment | Entire home/apt | 2 | 1 | 0 | 1 | Real Bed | TV,Cable TV,Internet,Wireless Internet,Air conditioning,Wheelchair accessible,Kitchen,Doorman,Elevator in building,Buzzer/wireless intercom,Heating,Washer,Smoke detector,Carbon monoxide detector,First aid kit,Safety card,Fire extinguisher,Essentials,Shampoo,24-hour check-in,Hangers,Hair dryer,Iron,Laptop friendly workspace,Self Check-In,Doorman Entry |  NA | 55 |  95 |       NA |\n",
       "\n"
      ],
      "text/plain": [
       "  CodigoPostal Barrio      TipoPropiedad TipoAlquiler    MaxOcupantes NumBanyos\n",
       "1 28004        Universidad Apartment     Private room    2            2        \n",
       "2 28004        Universidad Apartment     Entire home/apt 6            1        \n",
       "3 28004        Universidad Apartment     Entire home/apt 3            1        \n",
       "4 28004        Universidad Loft          Entire home/apt 3            2        \n",
       "5 28015        Universidad Apartment     Entire home/apt 5            1        \n",
       "6 28004        Universidad Apartment     Entire home/apt 2            1        \n",
       "  NumDormitorios NumCamas TipoCama\n",
       "1 1              1        Real Bed\n",
       "2 3              5        Real Bed\n",
       "3 2              2        Real Bed\n",
       "4 1              1        Real Bed\n",
       "5 1              1        Real Bed\n",
       "6 0              1        Real Bed\n",
       "  Comodidades                                                                                                                                                                                                                                                                                                                                                     \n",
       "1 TV,Wireless Internet,Kitchen,Pets allowed,Pets live on this property,Buzzer/wireless intercom,Heating,Suitable for events,Washer,First aid kit,Essentials,Lock on bedroom door,Iron                                                                                                                                                                             \n",
       "2 TV,Internet,Wireless Internet,Air conditioning,Kitchen,Indoor fireplace,Heating,Family/kid friendly,Washer,Dryer,Smoke detector,Carbon monoxide detector,Essentials,Shampoo                                                                                                                                                                                     \n",
       "3 TV,Internet,Wireless Internet,Air conditioning,Kitchen,Doorman,Heating,Family/kid friendly,Washer,Essentials,Shampoo,Hangers,Hair dryer,Iron,Laptop friendly workspace                                                                                                                                                                                          \n",
       "4 TV,Internet,Wireless Internet,Air conditioning,Kitchen,Pets allowed,Breakfast,Elevator in building,Indoor fireplace,Buzzer/wireless intercom,Heating,Washer,Essentials,Shampoo,Hangers,Hair dryer,Iron,Laptop friendly workspace,translation missing: en.hosting_amenity_49,translation missing: en.hosting_amenity_50                                          \n",
       "5 TV,Wireless Internet,Air conditioning,Kitchen,Smoking allowed,Pets allowed,Elevator in building,Heating,Family/kid friendly,Washer,Essentials,Iron                                                                                                                                                                                                              \n",
       "6 TV,Cable TV,Internet,Wireless Internet,Air conditioning,Wheelchair accessible,Kitchen,Doorman,Elevator in building,Buzzer/wireless intercom,Heating,Washer,Smoke detector,Carbon monoxide detector,First aid kit,Safety card,Fire extinguisher,Essentials,Shampoo,24-hour check-in,Hangers,Hair dryer,Iron,Laptop friendly workspace,Self Check-In,Doorman Entry\n",
       "  PiesCuadrados Precio Puntuacion MetrosCuadrados\n",
       "1  NA           35      NA              NA       \n",
       "2  NA           92      96              NA       \n",
       "3  NA           55      91              NA       \n",
       "4  NA           60     100              NA       \n",
       "5 538           75      90        49.98181       \n",
       "6  NA           55      95              NA       "
      ]
     },
     "metadata": {},
     "output_type": "display_data"
    }
   ],
   "source": [
    "head(airbnb)"
   ]
  },
  {
   "cell_type": "markdown",
   "metadata": {},
   "source": [
    "Miremos el código postal. Es una variable con entradas erroneas.\n",
    "Hay valores como '', '-'  y '28' que deberían ser considerados como NA.\n",
    "Así mismo también debería ser NA todos los que no compiencen por 28, ya que estamos con códigos postales de Madrid\n",
    "\n",
    "El código postal 28002, 28004 y 28051 tienen entradas repetidas. \n",
    "Por ejemplo las entradas 28002\\n20882 deberían ir dnetro de 28002\n",
    "\n",
    "El codigo 2804 debería ser 28004, 2805 deberia ser 28005 y 2815 juncto con 2815 debería ser 28015\n",
    "\n",
    "Limpia los datos de la columna Codigo Postal"
   ]
  },
  {
   "cell_type": "code",
   "execution_count": 8,
   "metadata": {
    "scrolled": true
   },
   "outputs": [
    {
     "name": "stdout",
     "output_type": "stream",
     "text": [
      " Factor w/ 77 levels \"\",\"-\",\"20013\",..: 15 15 15 15 26 15 15 15 26 15 ...\n"
     ]
    },
    {
     "data": {
      "text/html": [
       "<style>\n",
       ".list-inline {list-style: none; margin:0; padding: 0}\n",
       ".list-inline>li {display: inline-block}\n",
       ".list-inline>li:not(:last-child)::after {content: \"\\00b7\"; padding: 0 .5ex}\n",
       "</style>\n",
       "<ol class=list-inline><li>''</li><li>'-'</li><li>'20013'</li><li>'20126'</li><li>'2015'</li><li>'25008'</li><li>'27004'</li><li>'27013'</li><li>'28'</li><li>'28001'</li><li>'280013'</li><li>'28002'</li><li>'28002\\n28002'</li><li>'28003'</li><li>'28004'</li><li>'28005'</li><li>'28006'</li><li>'28007'</li><li>'28008'</li><li>'28009'</li><li>'28010'</li><li>'28011'</li><li>'28012'</li><li>'28013'</li><li>'28014'</li><li>'28015'</li><li>'28016'</li><li>'28017'</li><li>'28018'</li><li>'28019'</li><li>'28020'</li><li>'28021'</li><li>'28022'</li><li>'28023'</li><li>'28024'</li><li>'28025'</li><li>'28026'</li><li>'28027'</li><li>'28028'</li><li>'28029'</li><li>'28030'</li><li>'28031'</li><li>'28032'</li><li>'28033'</li><li>'28034'</li><li>'28035'</li><li>'28036'</li><li>'28037'</li><li>'28038'</li><li>'28039'</li><li>'2804'</li><li>'28040'</li><li>'28041'</li><li>'28042'</li><li>'28043'</li><li>'28044'</li><li>'28045'</li><li>'28046'</li><li>'28047'</li><li>'28048'</li><li>'28049'</li><li>'2805'</li><li>'28050'</li><li>'28051'</li><li>'28051\\n28051'</li><li>'28052'</li><li>'28053'</li><li>'28054'</li><li>'28055'</li><li>'28056'</li><li>'28058'</li><li>'28060'</li><li>'28094'</li><li>'28105'</li><li>'2815'</li><li>'28850'</li><li>'Madrid 28004'</li></ol>\n"
      ],
      "text/latex": [
       "\\begin{enumerate*}\n",
       "\\item ''\n",
       "\\item '-'\n",
       "\\item '20013'\n",
       "\\item '20126'\n",
       "\\item '2015'\n",
       "\\item '25008'\n",
       "\\item '27004'\n",
       "\\item '27013'\n",
       "\\item '28'\n",
       "\\item '28001'\n",
       "\\item '280013'\n",
       "\\item '28002'\n",
       "\\item '28002\\textbackslash{}n28002'\n",
       "\\item '28003'\n",
       "\\item '28004'\n",
       "\\item '28005'\n",
       "\\item '28006'\n",
       "\\item '28007'\n",
       "\\item '28008'\n",
       "\\item '28009'\n",
       "\\item '28010'\n",
       "\\item '28011'\n",
       "\\item '28012'\n",
       "\\item '28013'\n",
       "\\item '28014'\n",
       "\\item '28015'\n",
       "\\item '28016'\n",
       "\\item '28017'\n",
       "\\item '28018'\n",
       "\\item '28019'\n",
       "\\item '28020'\n",
       "\\item '28021'\n",
       "\\item '28022'\n",
       "\\item '28023'\n",
       "\\item '28024'\n",
       "\\item '28025'\n",
       "\\item '28026'\n",
       "\\item '28027'\n",
       "\\item '28028'\n",
       "\\item '28029'\n",
       "\\item '28030'\n",
       "\\item '28031'\n",
       "\\item '28032'\n",
       "\\item '28033'\n",
       "\\item '28034'\n",
       "\\item '28035'\n",
       "\\item '28036'\n",
       "\\item '28037'\n",
       "\\item '28038'\n",
       "\\item '28039'\n",
       "\\item '2804'\n",
       "\\item '28040'\n",
       "\\item '28041'\n",
       "\\item '28042'\n",
       "\\item '28043'\n",
       "\\item '28044'\n",
       "\\item '28045'\n",
       "\\item '28046'\n",
       "\\item '28047'\n",
       "\\item '28048'\n",
       "\\item '28049'\n",
       "\\item '2805'\n",
       "\\item '28050'\n",
       "\\item '28051'\n",
       "\\item '28051\\textbackslash{}n28051'\n",
       "\\item '28052'\n",
       "\\item '28053'\n",
       "\\item '28054'\n",
       "\\item '28055'\n",
       "\\item '28056'\n",
       "\\item '28058'\n",
       "\\item '28060'\n",
       "\\item '28094'\n",
       "\\item '28105'\n",
       "\\item '2815'\n",
       "\\item '28850'\n",
       "\\item 'Madrid 28004'\n",
       "\\end{enumerate*}\n"
      ],
      "text/markdown": [
       "1. ''\n",
       "2. '-'\n",
       "3. '20013'\n",
       "4. '20126'\n",
       "5. '2015'\n",
       "6. '25008'\n",
       "7. '27004'\n",
       "8. '27013'\n",
       "9. '28'\n",
       "10. '28001'\n",
       "11. '280013'\n",
       "12. '28002'\n",
       "13. '28002\\n28002'\n",
       "14. '28003'\n",
       "15. '28004'\n",
       "16. '28005'\n",
       "17. '28006'\n",
       "18. '28007'\n",
       "19. '28008'\n",
       "20. '28009'\n",
       "21. '28010'\n",
       "22. '28011'\n",
       "23. '28012'\n",
       "24. '28013'\n",
       "25. '28014'\n",
       "26. '28015'\n",
       "27. '28016'\n",
       "28. '28017'\n",
       "29. '28018'\n",
       "30. '28019'\n",
       "31. '28020'\n",
       "32. '28021'\n",
       "33. '28022'\n",
       "34. '28023'\n",
       "35. '28024'\n",
       "36. '28025'\n",
       "37. '28026'\n",
       "38. '28027'\n",
       "39. '28028'\n",
       "40. '28029'\n",
       "41. '28030'\n",
       "42. '28031'\n",
       "43. '28032'\n",
       "44. '28033'\n",
       "45. '28034'\n",
       "46. '28035'\n",
       "47. '28036'\n",
       "48. '28037'\n",
       "49. '28038'\n",
       "50. '28039'\n",
       "51. '2804'\n",
       "52. '28040'\n",
       "53. '28041'\n",
       "54. '28042'\n",
       "55. '28043'\n",
       "56. '28044'\n",
       "57. '28045'\n",
       "58. '28046'\n",
       "59. '28047'\n",
       "60. '28048'\n",
       "61. '28049'\n",
       "62. '2805'\n",
       "63. '28050'\n",
       "64. '28051'\n",
       "65. '28051\\n28051'\n",
       "66. '28052'\n",
       "67. '28053'\n",
       "68. '28054'\n",
       "69. '28055'\n",
       "70. '28056'\n",
       "71. '28058'\n",
       "72. '28060'\n",
       "73. '28094'\n",
       "74. '28105'\n",
       "75. '2815'\n",
       "76. '28850'\n",
       "77. 'Madrid 28004'\n",
       "\n",
       "\n"
      ],
      "text/plain": [
       " [1] \"\"             \"-\"            \"20013\"        \"20126\"        \"2015\"        \n",
       " [6] \"25008\"        \"27004\"        \"27013\"        \"28\"           \"28001\"       \n",
       "[11] \"280013\"       \"28002\"        \"28002\\n28002\" \"28003\"        \"28004\"       \n",
       "[16] \"28005\"        \"28006\"        \"28007\"        \"28008\"        \"28009\"       \n",
       "[21] \"28010\"        \"28011\"        \"28012\"        \"28013\"        \"28014\"       \n",
       "[26] \"28015\"        \"28016\"        \"28017\"        \"28018\"        \"28019\"       \n",
       "[31] \"28020\"        \"28021\"        \"28022\"        \"28023\"        \"28024\"       \n",
       "[36] \"28025\"        \"28026\"        \"28027\"        \"28028\"        \"28029\"       \n",
       "[41] \"28030\"        \"28031\"        \"28032\"        \"28033\"        \"28034\"       \n",
       "[46] \"28035\"        \"28036\"        \"28037\"        \"28038\"        \"28039\"       \n",
       "[51] \"2804\"         \"28040\"        \"28041\"        \"28042\"        \"28043\"       \n",
       "[56] \"28044\"        \"28045\"        \"28046\"        \"28047\"        \"28048\"       \n",
       "[61] \"28049\"        \"2805\"         \"28050\"        \"28051\"        \"28051\\n28051\"\n",
       "[66] \"28052\"        \"28053\"        \"28054\"        \"28055\"        \"28056\"       \n",
       "[71] \"28058\"        \"28060\"        \"28094\"        \"28105\"        \"2815\"        \n",
       "[76] \"28850\"        \"Madrid 28004\""
      ]
     },
     "metadata": {},
     "output_type": "display_data"
    }
   ],
   "source": [
    "str(airbnb$CodigoPostal )\n",
    "levels(airbnb$CodigoPostal )"
   ]
  },
  {
   "cell_type": "markdown",
   "metadata": {},
   "source": [
    "Pasamos de Factor a String"
   ]
  },
  {
   "cell_type": "code",
   "execution_count": 9,
   "metadata": {},
   "outputs": [
    {
     "name": "stdout",
     "output_type": "stream",
     "text": [
      " chr [1:13207] \"28004\" \"28004\" \"28004\" \"28004\" \"28015\" \"28004\" \"28004\" ...\n"
     ]
    }
   ],
   "source": [
    "airbnb$CodigoPostal<-as.character(airbnb$CodigoPostal)\n",
    "str(airbnb$CodigoPostal )"
   ]
  },
  {
   "cell_type": "markdown",
   "metadata": {},
   "source": [
    "Ponemos a NA todos los que tengan un guion o esten en blanco"
   ]
  },
  {
   "cell_type": "code",
   "execution_count": 10,
   "metadata": {},
   "outputs": [],
   "source": [
    "airbnb$CodigoPostal[airbnb$CodigoPostal == \"\"|airbnb$CodigoPostal == \"-\"] <- NA"
   ]
  },
  {
   "cell_type": "markdown",
   "metadata": {},
   "source": [
    "Buscamos los que tengan un \\nhacemos un split y cogemos el primer termino"
   ]
  },
  {
   "cell_type": "code",
   "execution_count": 11,
   "metadata": {},
   "outputs": [
    {
     "data": {
      "text/html": [
       "<style>\n",
       ".list-inline {list-style: none; margin:0; padding: 0}\n",
       ".list-inline>li {display: inline-block}\n",
       ".list-inline>li:not(:last-child)::after {content: \"\\00b7\"; padding: 0 .5ex}\n",
       "</style>\n",
       "<ol class=list-inline><li>'28002'</li><li>'28051'</li></ol>\n"
      ],
      "text/latex": [
       "\\begin{enumerate*}\n",
       "\\item '28002'\n",
       "\\item '28051'\n",
       "\\end{enumerate*}\n"
      ],
      "text/markdown": [
       "1. '28002'\n",
       "2. '28051'\n",
       "\n",
       "\n"
      ],
      "text/plain": [
       "[1] \"28002\" \"28051\""
      ]
     },
     "metadata": {},
     "output_type": "display_data"
    }
   ],
   "source": [
    "sapply(strsplit(airbnb$CodigoPostal[grep(\"\\n\", airbnb$CodigoPostal, perl=TRUE, value=FALSE)], split = \"\\n\"), \"[\", 1)\n"
   ]
  },
  {
   "cell_type": "markdown",
   "metadata": {},
   "source": [
    "Los sustituimos "
   ]
  },
  {
   "cell_type": "code",
   "execution_count": 12,
   "metadata": {},
   "outputs": [],
   "source": [
    "airbnb$CodigoPostal[grep(\"\\n\", airbnb$CodigoPostal, perl=TRUE, value=FALSE)]<-sapply(strsplit(airbnb$CodigoPostal[grep(\"\\n\", airbnb$CodigoPostal, perl=TRUE, value=FALSE)], split = \"\\n\"), \"[\", 1)"
   ]
  },
  {
   "cell_type": "markdown",
   "metadata": {},
   "source": [
    "Buscamos los que empiezan por caracter"
   ]
  },
  {
   "cell_type": "code",
   "execution_count": 13,
   "metadata": {},
   "outputs": [
    {
     "data": {
      "text/html": [
       "'Madrid 28004'"
      ],
      "text/latex": [
       "'Madrid 28004'"
      ],
      "text/markdown": [
       "'Madrid 28004'"
      ],
      "text/plain": [
       "[1] \"Madrid 28004\""
      ]
     },
     "metadata": {},
     "output_type": "display_data"
    }
   ],
   "source": [
    "airbnb$CodigoPostal[grep(\"^[a-zA-Z]\", airbnb$CodigoPostal, perl=TRUE, value=FALSE)]"
   ]
  },
  {
   "cell_type": "markdown",
   "metadata": {},
   "source": [
    "Partimos el string y cogemos el segundo termino "
   ]
  },
  {
   "cell_type": "code",
   "execution_count": 14,
   "metadata": {},
   "outputs": [
    {
     "data": {
      "text/html": [
       "'28004'"
      ],
      "text/latex": [
       "'28004'"
      ],
      "text/markdown": [
       "'28004'"
      ],
      "text/plain": [
       "[1] \"28004\""
      ]
     },
     "metadata": {},
     "output_type": "display_data"
    }
   ],
   "source": [
    "sapply(strsplit(airbnb$CodigoPostal[grep(\"[a-zA-Z]\", airbnb$CodigoPostal, perl=TRUE, value=FALSE)], split = \" \"), \"[\", 2)"
   ]
  },
  {
   "cell_type": "code",
   "execution_count": 15,
   "metadata": {},
   "outputs": [],
   "source": [
    "airbnb$CodigoPostal[grep(\"[a-zA-Z]\", airbnb$CodigoPostal, perl=TRUE, value=FALSE)]<-sapply(strsplit(airbnb$CodigoPostal[grep(\"[a-zA-Z]\", airbnb$CodigoPostal, perl=TRUE, value=FALSE)], split = \" \"), \"[\", 2)"
   ]
  },
  {
   "cell_type": "markdown",
   "metadata": {},
   "source": [
    "Quitamos los distintos los que no empicen por 28"
   ]
  },
  {
   "cell_type": "code",
   "execution_count": 16,
   "metadata": {
    "scrolled": true
   },
   "outputs": [
    {
     "data": {
      "text/html": [
       "<style>\n",
       ".list-inline {list-style: none; margin:0; padding: 0}\n",
       ".list-inline>li {display: inline-block}\n",
       ".list-inline>li:not(:last-child)::after {content: \"\\00b7\"; padding: 0 .5ex}\n",
       "</style>\n",
       "<ol class=list-inline><li>58</li><li>4064</li><li>7995</li><li>9712</li><li>11115</li><li>11817</li></ol>\n"
      ],
      "text/latex": [
       "\\begin{enumerate*}\n",
       "\\item 58\n",
       "\\item 4064\n",
       "\\item 7995\n",
       "\\item 9712\n",
       "\\item 11115\n",
       "\\item 11817\n",
       "\\end{enumerate*}\n"
      ],
      "text/markdown": [
       "1. 58\n",
       "2. 4064\n",
       "3. 7995\n",
       "4. 9712\n",
       "5. 11115\n",
       "6. 11817\n",
       "\n",
       "\n"
      ],
      "text/plain": [
       "[1]    58  4064  7995  9712 11115 11817"
      ]
     },
     "metadata": {},
     "output_type": "display_data"
    }
   ],
   "source": [
    "grep(\"^[2][^8]+\", airbnb$CodigoPostal, perl=TRUE, value=FALSE)"
   ]
  },
  {
   "cell_type": "code",
   "execution_count": 17,
   "metadata": {},
   "outputs": [],
   "source": [
    "airbnb$CodigoPostal[grep(\"^[2][^8]+\", airbnb$CodigoPostal, perl=TRUE, value=FALSE)]<-NA"
   ]
  },
  {
   "cell_type": "markdown",
   "metadata": {},
   "source": [
    "Trato las excepciones"
   ]
  },
  {
   "cell_type": "code",
   "execution_count": 18,
   "metadata": {},
   "outputs": [],
   "source": [
    "airbnb$CodigoPostal[airbnb$CodigoPostal==\"28\"]<-NA"
   ]
  },
  {
   "cell_type": "code",
   "execution_count": 19,
   "metadata": {},
   "outputs": [],
   "source": [
    "airbnb$CodigoPostal[airbnb$CodigoPostal==\"2804\"]<-28004\n",
    "airbnb$CodigoPostal[airbnb$CodigoPostal==\"2805\"]<-28005\n",
    "airbnb$CodigoPostal[airbnb$CodigoPostal==\"2815\"]<-28015\n",
    "airbnb$CodigoPostal[airbnb$CodigoPostal==\"280013\"]<-28013"
   ]
  },
  {
   "cell_type": "markdown",
   "metadata": {},
   "source": [
    "Una vez limpios los datos ¿Cuales son los códigos postales que tenemos? "
   ]
  },
  {
   "cell_type": "code",
   "execution_count": 20,
   "metadata": {},
   "outputs": [
    {
     "name": "stdout",
     "output_type": "stream",
     "text": [
      " chr [1:13207] \"28004\" \"28004\" \"28004\" \"28004\" \"28015\" \"28004\" \"28004\" ...\n"
     ]
    }
   ],
   "source": [
    "str(airbnb$CodigoPostal)"
   ]
  },
  {
   "cell_type": "code",
   "execution_count": 21,
   "metadata": {},
   "outputs": [
    {
     "data": {
      "text/plain": [
       "\n",
       "28001 28002 28003 28004 28005 28006 28007 28008 28009 28010 28011 28012 28013 \n",
       "  231   171   185  1796  1195   218   206   338   216   384   250  2060  1020 \n",
       "28014 28015 28016 28017 28018 28019 28020 28021 28022 28023 28024 28025 28026 \n",
       "  630   601    76   107    43   200   192    58    30    23    44   123    93 \n",
       "28027 28028 28029 28030 28031 28032 28033 28034 28035 28036 28037 28038 28039 \n",
       "  122   263   110    73    27    33    89    45    59    67    65    77   160 \n",
       "28040 28041 28042 28043 28044 28045 28046 28047 28048 28049 28050 28051 28052 \n",
       "   16    63    90   103    19   495    32    67     1     3    58    17     1 \n",
       "28053 28054 28055 28056 28058 28060 28094 28105 28850 \n",
       "   85    12    12     1     1     1     1     1     1 "
      ]
     },
     "metadata": {},
     "output_type": "display_data"
    }
   ],
   "source": [
    "tblCodigosPostales<-table(airbnb$CodigoPostal)\n",
    "tblCodigosPostales"
   ]
  },
  {
   "cell_type": "code",
   "execution_count": 22,
   "metadata": {},
   "outputs": [
    {
     "name": "stdout",
     "output_type": "stream",
     "text": [
      " 'table' int [1:61(1d)] 231 171 185 1796 1195 218 206 338 216 384 ...\n",
      " - attr(*, \"dimnames\")=List of 1\n",
      "  ..$ : chr [1:61] \"28001\" \"28002\" \"28003\" \"28004\" ...\n"
     ]
    }
   ],
   "source": [
    "str(tblCodigosPostales)"
   ]
  },
  {
   "cell_type": "code",
   "execution_count": 23,
   "metadata": {},
   "outputs": [
    {
     "data": {
      "text/html": [
       "<dl>\n",
       "\t<dt>$dim</dt>\n",
       "\t\t<dd>61</dd>\n",
       "\t<dt>$dimnames</dt>\n",
       "\t\t<dd><strong>$NA</strong> = <style>\n",
       ".list-inline {list-style: none; margin:0; padding: 0}\n",
       ".list-inline>li {display: inline-block}\n",
       ".list-inline>li:not(:last-child)::after {content: \"\\00b7\"; padding: 0 .5ex}\n",
       "</style>\n",
       "<ol class=list-inline><li>'28001'</li><li>'28002'</li><li>'28003'</li><li>'28004'</li><li>'28005'</li><li>'28006'</li><li>'28007'</li><li>'28008'</li><li>'28009'</li><li>'28010'</li><li>'28011'</li><li>'28012'</li><li>'28013'</li><li>'28014'</li><li>'28015'</li><li>'28016'</li><li>'28017'</li><li>'28018'</li><li>'28019'</li><li>'28020'</li><li>'28021'</li><li>'28022'</li><li>'28023'</li><li>'28024'</li><li>'28025'</li><li>'28026'</li><li>'28027'</li><li>'28028'</li><li>'28029'</li><li>'28030'</li><li>'28031'</li><li>'28032'</li><li>'28033'</li><li>'28034'</li><li>'28035'</li><li>'28036'</li><li>'28037'</li><li>'28038'</li><li>'28039'</li><li>'28040'</li><li>'28041'</li><li>'28042'</li><li>'28043'</li><li>'28044'</li><li>'28045'</li><li>'28046'</li><li>'28047'</li><li>'28048'</li><li>'28049'</li><li>'28050'</li><li>'28051'</li><li>'28052'</li><li>'28053'</li><li>'28054'</li><li>'28055'</li><li>'28056'</li><li>'28058'</li><li>'28060'</li><li>'28094'</li><li>'28105'</li><li>'28850'</li></ol>\n",
       "</dd>\n",
       "\t<dt>$class</dt>\n",
       "\t\t<dd>'table'</dd>\n",
       "</dl>\n"
      ],
      "text/latex": [
       "\\begin{description}\n",
       "\\item[\\$dim] 61\n",
       "\\item[\\$dimnames] \\textbf{\\$NA} = \\begin{enumerate*}\n",
       "\\item '28001'\n",
       "\\item '28002'\n",
       "\\item '28003'\n",
       "\\item '28004'\n",
       "\\item '28005'\n",
       "\\item '28006'\n",
       "\\item '28007'\n",
       "\\item '28008'\n",
       "\\item '28009'\n",
       "\\item '28010'\n",
       "\\item '28011'\n",
       "\\item '28012'\n",
       "\\item '28013'\n",
       "\\item '28014'\n",
       "\\item '28015'\n",
       "\\item '28016'\n",
       "\\item '28017'\n",
       "\\item '28018'\n",
       "\\item '28019'\n",
       "\\item '28020'\n",
       "\\item '28021'\n",
       "\\item '28022'\n",
       "\\item '28023'\n",
       "\\item '28024'\n",
       "\\item '28025'\n",
       "\\item '28026'\n",
       "\\item '28027'\n",
       "\\item '28028'\n",
       "\\item '28029'\n",
       "\\item '28030'\n",
       "\\item '28031'\n",
       "\\item '28032'\n",
       "\\item '28033'\n",
       "\\item '28034'\n",
       "\\item '28035'\n",
       "\\item '28036'\n",
       "\\item '28037'\n",
       "\\item '28038'\n",
       "\\item '28039'\n",
       "\\item '28040'\n",
       "\\item '28041'\n",
       "\\item '28042'\n",
       "\\item '28043'\n",
       "\\item '28044'\n",
       "\\item '28045'\n",
       "\\item '28046'\n",
       "\\item '28047'\n",
       "\\item '28048'\n",
       "\\item '28049'\n",
       "\\item '28050'\n",
       "\\item '28051'\n",
       "\\item '28052'\n",
       "\\item '28053'\n",
       "\\item '28054'\n",
       "\\item '28055'\n",
       "\\item '28056'\n",
       "\\item '28058'\n",
       "\\item '28060'\n",
       "\\item '28094'\n",
       "\\item '28105'\n",
       "\\item '28850'\n",
       "\\end{enumerate*}\n",
       "\n",
       "\\item[\\$class] 'table'\n",
       "\\end{description}\n"
      ],
      "text/markdown": [
       "$dim\n",
       ":   61\n",
       "$dimnames\n",
       ":   **$NA** = 1. '28001'\n",
       "2. '28002'\n",
       "3. '28003'\n",
       "4. '28004'\n",
       "5. '28005'\n",
       "6. '28006'\n",
       "7. '28007'\n",
       "8. '28008'\n",
       "9. '28009'\n",
       "10. '28010'\n",
       "11. '28011'\n",
       "12. '28012'\n",
       "13. '28013'\n",
       "14. '28014'\n",
       "15. '28015'\n",
       "16. '28016'\n",
       "17. '28017'\n",
       "18. '28018'\n",
       "19. '28019'\n",
       "20. '28020'\n",
       "21. '28021'\n",
       "22. '28022'\n",
       "23. '28023'\n",
       "24. '28024'\n",
       "25. '28025'\n",
       "26. '28026'\n",
       "27. '28027'\n",
       "28. '28028'\n",
       "29. '28029'\n",
       "30. '28030'\n",
       "31. '28031'\n",
       "32. '28032'\n",
       "33. '28033'\n",
       "34. '28034'\n",
       "35. '28035'\n",
       "36. '28036'\n",
       "37. '28037'\n",
       "38. '28038'\n",
       "39. '28039'\n",
       "40. '28040'\n",
       "41. '28041'\n",
       "42. '28042'\n",
       "43. '28043'\n",
       "44. '28044'\n",
       "45. '28045'\n",
       "46. '28046'\n",
       "47. '28047'\n",
       "48. '28048'\n",
       "49. '28049'\n",
       "50. '28050'\n",
       "51. '28051'\n",
       "52. '28052'\n",
       "53. '28053'\n",
       "54. '28054'\n",
       "55. '28055'\n",
       "56. '28056'\n",
       "57. '28058'\n",
       "58. '28060'\n",
       "59. '28094'\n",
       "60. '28105'\n",
       "61. '28850'\n",
       "\n",
       "\n",
       "\n",
       "$class\n",
       ":   'table'\n",
       "\n",
       "\n"
      ],
      "text/plain": [
       "$dim\n",
       "[1] 61\n",
       "\n",
       "$dimnames\n",
       "$dimnames[[1]]\n",
       " [1] \"28001\" \"28002\" \"28003\" \"28004\" \"28005\" \"28006\" \"28007\" \"28008\" \"28009\"\n",
       "[10] \"28010\" \"28011\" \"28012\" \"28013\" \"28014\" \"28015\" \"28016\" \"28017\" \"28018\"\n",
       "[19] \"28019\" \"28020\" \"28021\" \"28022\" \"28023\" \"28024\" \"28025\" \"28026\" \"28027\"\n",
       "[28] \"28028\" \"28029\" \"28030\" \"28031\" \"28032\" \"28033\" \"28034\" \"28035\" \"28036\"\n",
       "[37] \"28037\" \"28038\" \"28039\" \"28040\" \"28041\" \"28042\" \"28043\" \"28044\" \"28045\"\n",
       "[46] \"28046\" \"28047\" \"28048\" \"28049\" \"28050\" \"28051\" \"28052\" \"28053\" \"28054\"\n",
       "[55] \"28055\" \"28056\" \"28058\" \"28060\" \"28094\" \"28105\" \"28850\"\n",
       "\n",
       "\n",
       "$class\n",
       "[1] \"table\"\n"
      ]
     },
     "metadata": {},
     "output_type": "display_data"
    }
   ],
   "source": [
    "attributes(tblCodigosPostales)"
   ]
  },
  {
   "cell_type": "code",
   "execution_count": 24,
   "metadata": {},
   "outputs": [
    {
     "data": {
      "text/html": [
       "<span style=white-space:pre-wrap>'El número de códigos postales es:  61'</span>"
      ],
      "text/latex": [
       "'El número de códigos postales es:  61'"
      ],
      "text/markdown": [
       "<span style=white-space:pre-wrap>'El número de códigos postales es:  61'</span>"
      ],
      "text/plain": [
       "[1] \"El número de códigos postales es:  61\""
      ]
     },
     "metadata": {},
     "output_type": "display_data"
    }
   ],
   "source": [
    "paste(\"El número de códigos postales es: \",attributes(tblCodigosPostales)$dim)"
   ]
  },
  {
   "cell_type": "markdown",
   "metadata": {},
   "source": [
    "¿Cuales son los 5 códigos postales con más entradas? ¿Y con menos? ¿Cuantas entradas tienen?"
   ]
  },
  {
   "cell_type": "code",
   "execution_count": 25,
   "metadata": {},
   "outputs": [
    {
     "data": {
      "text/plain": [
       "\n",
       "28012 28004 28005 28013 28014 28015 28045 28010 28008 28028 28011 28001 28006 \n",
       " 2060  1796  1195  1020   630   601   495   384   338   263   250   231   218 \n",
       "28009 28007 28019 28020 28003 28002 28039 28025 28027 28029 28017 28043 28026 \n",
       "  216   206   200   192   185   171   160   123   122   110   107   103    93 \n",
       "28042 28033 28053 28038 28016 28030 28036 28047 28037 28041 28035 28021 28050 \n",
       "   90    89    85    77    76    73    67    67    65    63    59    58    58 \n",
       "28034 28024 28018 28032 28046 28022 28031 28023 28044 28051 28040 28054 28055 \n",
       "   45    44    43    33    32    30    27    23    19    17    16    12    12 \n",
       "28049 28048 28052 28056 28058 28060 28094 28105 28850 \n",
       "    3     1     1     1     1     1     1     1     1 "
      ]
     },
     "metadata": {},
     "output_type": "display_data"
    }
   ],
   "source": [
    "tblCodigosPostalesOrdenadosDesc<-sort(tblCodigosPostales,,decreasing=T)\n",
    "tblCodigosPostalesOrdenadosDesc"
   ]
  },
  {
   "cell_type": "markdown",
   "metadata": {},
   "source": [
    "Los cinco códigos postales con mas entradas"
   ]
  },
  {
   "cell_type": "code",
   "execution_count": 26,
   "metadata": {},
   "outputs": [
    {
     "data": {
      "text/plain": [
       "\n",
       "28012 28004 28005 28013 28014 \n",
       " 2060  1796  1195  1020   630 "
      ]
     },
     "metadata": {},
     "output_type": "display_data"
    }
   ],
   "source": [
    "tblCodigosPostalesOrdenadosDesc[1:5]"
   ]
  },
  {
   "cell_type": "code",
   "execution_count": 27,
   "metadata": {},
   "outputs": [
    {
     "data": {
      "text/plain": [
       "\n",
       "28048 28052 28056 28058 28060 28094 28105 28850 28049 28054 28055 28040 28051 \n",
       "    1     1     1     1     1     1     1     1     3    12    12    16    17 \n",
       "28044 28023 28031 28022 28046 28032 28018 28024 28034 28021 28050 28035 28041 \n",
       "   19    23    27    30    32    33    43    44    45    58    58    59    63 \n",
       "28037 28036 28047 28030 28016 28038 28053 28033 28042 28026 28043 28017 28029 \n",
       "   65    67    67    73    76    77    85    89    90    93   103   107   110 \n",
       "28027 28025 28039 28002 28003 28020 28019 28007 28009 28006 28001 28011 28028 \n",
       "  122   123   160   171   185   192   200   206   216   218   231   250   263 \n",
       "28008 28010 28045 28015 28014 28013 28005 28004 28012 \n",
       "  338   384   495   601   630  1020  1195  1796  2060 "
      ]
     },
     "metadata": {},
     "output_type": "display_data"
    }
   ],
   "source": [
    "tblCodigosPostalesOrdenadosAsc<-sort(tblCodigosPostales,,decreasing=F)\n",
    "tblCodigosPostalesOrdenadosAsc"
   ]
  },
  {
   "cell_type": "markdown",
   "metadata": {},
   "source": [
    "Los cinco códigos postales con menos entradas"
   ]
  },
  {
   "cell_type": "code",
   "execution_count": 28,
   "metadata": {},
   "outputs": [
    {
     "data": {
      "text/plain": [
       "\n",
       "28048 28052 28056 28058 28060 \n",
       "    1     1     1     1     1 "
      ]
     },
     "metadata": {},
     "output_type": "display_data"
    }
   ],
   "source": [
    "tblCodigosPostalesOrdenadosAsc[1:5]"
   ]
  },
  {
   "cell_type": "markdown",
   "metadata": {},
   "source": [
    "¿Cuales son los barrios que hay en el código postal 28012?"
   ]
  },
  {
   "cell_type": "code",
   "execution_count": 29,
   "metadata": {},
   "outputs": [],
   "source": [
    "airbnb$Barrio<-as.character(airbnb$Barrio)"
   ]
  },
  {
   "cell_type": "code",
   "execution_count": 30,
   "metadata": {},
   "outputs": [],
   "source": [
    "barriosCp<-airbnb$Barrio[airbnb$CodigoPostal==\"28012\"]\n"
   ]
  },
  {
   "cell_type": "code",
   "execution_count": 31,
   "metadata": {},
   "outputs": [
    {
     "name": "stdout",
     "output_type": "stream",
     "text": [
      " chr [1:2060] \"Sol\" \"Sol\" \"Sol\" \"Sol\" \"Acacias\" \"Sol\" \"Sol\" \"Sol\" \"Sol\" ...\n",
      " - attr(*, \"na.action\")= 'omit' int [1:447] 10 11 18 42 44 78 79 80 81 82 ...\n"
     ]
    }
   ],
   "source": [
    "barriosCp<-na.omit(barriosCp)\n",
    "str(barriosCp)"
   ]
  },
  {
   "cell_type": "code",
   "execution_count": 32,
   "metadata": {},
   "outputs": [],
   "source": [
    "tbarriosCp<-table(barriosCp)"
   ]
  },
  {
   "cell_type": "code",
   "execution_count": 33,
   "metadata": {},
   "outputs": [
    {
     "name": "stdout",
     "output_type": "stream",
     "text": [
      " 'table' int [1:11(1d)] 13 1 1 216 1 1449 1 27 46 301 ...\n",
      " - attr(*, \"dimnames\")=List of 1\n",
      "  ..$ barriosCp: chr [1:11] \"Acacias\" \"Arapiles\" \"Atocha\" \"Cortes\" ...\n"
     ]
    }
   ],
   "source": [
    "str(tbarriosCp)"
   ]
  },
  {
   "cell_type": "code",
   "execution_count": 34,
   "metadata": {},
   "outputs": [
    {
     "data": {
      "text/html": [
       "<span style=white-space:pre-wrap>'Los barrios que hay en el cp 28012 son:  Acacias, Arapiles, Atocha, Cortes, Delicias, Embajadores, Goya, Palacio, Palos de Moguer, Sol, Universidad'</span>"
      ],
      "text/latex": [
       "'Los barrios que hay en el cp 28012 son:  Acacias, Arapiles, Atocha, Cortes, Delicias, Embajadores, Goya, Palacio, Palos de Moguer, Sol, Universidad'"
      ],
      "text/markdown": [
       "<span style=white-space:pre-wrap>'Los barrios que hay en el cp 28012 son:  Acacias, Arapiles, Atocha, Cortes, Delicias, Embajadores, Goya, Palacio, Palos de Moguer, Sol, Universidad'</span>"
      ],
      "text/plain": [
       "[1] \"Los barrios que hay en el cp 28012 son:  Acacias, Arapiles, Atocha, Cortes, Delicias, Embajadores, Goya, Palacio, Palos de Moguer, Sol, Universidad\""
      ]
     },
     "metadata": {},
     "output_type": "display_data"
    }
   ],
   "source": [
    "paste(\"Los barrios que hay en el cp 28012 son: \",\n",
    "paste(attributes(tbarriosCp)$dimnames$barriosCp,collapse=\", \"))"
   ]
  },
  {
   "cell_type": "markdown",
   "metadata": {},
   "source": [
    "¿Cuantas entradas hay en cada uno de esos barrios para el codigo postao 28012? Asumiendo que el identificador de Barrio sea correcto, ¿es fiable la columna de código postal?"
   ]
  },
  {
   "cell_type": "code",
   "execution_count": 35,
   "metadata": {},
   "outputs": [
    {
     "data": {
      "text/plain": [
       "barriosCp\n",
       "    Embajadores             Sol          Cortes Palos de Moguer         Palacio \n",
       "           1449             301             216              46              27 \n",
       "        Acacias     Universidad        Arapiles          Atocha        Delicias \n",
       "             13               4               1               1               1 \n",
       "           Goya \n",
       "              1 "
      ]
     },
     "metadata": {},
     "output_type": "display_data"
    }
   ],
   "source": [
    "sort(tbarriosCp,,decreasing=T)"
   ]
  },
  {
   "cell_type": "markdown",
   "metadata": {},
   "source": [
    "¿Cuantos barrios hay en todo el dataset airbnb? ¿Cuales son?"
   ]
  },
  {
   "cell_type": "code",
   "execution_count": 36,
   "metadata": {},
   "outputs": [],
   "source": [
    "tbarrios<-table(airbnb$Barrio)"
   ]
  },
  {
   "cell_type": "code",
   "execution_count": 37,
   "metadata": {},
   "outputs": [
    {
     "data": {
      "text/html": [
       "<span style=white-space:pre-wrap>'El número de barrios que hay en todo el dataset son:  125'</span>"
      ],
      "text/latex": [
       "'El número de barrios que hay en todo el dataset son:  125'"
      ],
      "text/markdown": [
       "<span style=white-space:pre-wrap>'El número de barrios que hay en todo el dataset son:  125'</span>"
      ],
      "text/plain": [
       "[1] \"El número de barrios que hay en todo el dataset son:  125\""
      ]
     },
     "metadata": {},
     "output_type": "display_data"
    }
   ],
   "source": [
    "paste(\"El número de barrios que hay en todo el dataset son: \",\n",
    "paste(attributes(tbarrios)$dim))"
   ]
  },
  {
   "cell_type": "code",
   "execution_count": 38,
   "metadata": {},
   "outputs": [],
   "source": [
    "names(attributes(tbarrios)$dimnames)<-c(\"barrios\")"
   ]
  },
  {
   "cell_type": "code",
   "execution_count": 39,
   "metadata": {},
   "outputs": [
    {
     "data": {
      "text/html": [
       "<dl>\n",
       "\t<dt>$dim</dt>\n",
       "\t\t<dd>125</dd>\n",
       "\t<dt>$dimnames</dt>\n",
       "\t\t<dd><strong>$barrios</strong> = <style>\n",
       ".list-inline {list-style: none; margin:0; padding: 0}\n",
       ".list-inline>li {display: inline-block}\n",
       ".list-inline>li:not(:last-child)::after {content: \"\\00b7\"; padding: 0 .5ex}\n",
       "</style>\n",
       "<ol class=list-inline><li>'Abrantes'</li><li>'Acacias'</li><li>'Adelfas'</li><li>'Aeropuerto'</li><li>'Aguilas'</li><li>'Alameda de Osuna'</li><li>'Almagro'</li><li>'Almenara'</li><li>'Almendrales'</li><li>'Aluche'</li><li>'Ambroz'</li><li>'Amposta'</li><li>'Apostol Santiago'</li><li>'Arapiles'</li><li>'Aravaca'</li><li>'Arcos'</li><li>'Argüelles'</li><li>'Atocha'</li><li>'Bellas Vistas'</li><li>'Berruguete'</li><li>'Buenavista'</li><li>'Butarque'</li><li>'Campamento'</li><li>'Canillas'</li><li>'Canillejas'</li><li>'Cármenes'</li><li>'Casa de Campo'</li><li>'Casco Histórico de Barajas'</li><li>'Casco Histórico de Vallecas'</li><li>'Casco Histórico de Vicálvaro'</li><li>'Castellana'</li><li>'Castilla'</li><li>'Castillejos'</li><li>'Chopera'</li><li>'Ciudad Jardín'</li><li>'Ciudad Universitaria'</li><li>'Colina'</li><li>'Comillas'</li><li>'Concepción'</li><li>'Corralejos'</li><li>'Cortes'</li><li>'Costillares'</li><li>'Cuatro Caminos'</li><li>'Cuatro Vientos'</li><li>'Delicias'</li><li>'El Goloso'</li><li>'El Plantío'</li><li>'El Viso'</li><li>'Embajadores'</li><li>'Entrevías'</li><li>'Estrella'</li><li>'Fontarrón'</li><li>'Fuente del Berro'</li><li>'Fuentelareina'</li><li>'Gaztambide'</li><li>'Goya'</li><li>'Guindalera'</li><li>'Hellín'</li><li>'Hispanoamérica'</li><li>'Ibiza'</li><li>'Imperial'</li><li>'Jerónimos'</li><li>'Justicia'</li><li>'La Paz'</li><li>'Legazpi'</li><li>'Lista'</li><li>'Los Angeles'</li><li>'Los Rosales'</li><li>'Lucero'</li><li>'Marroquina'</li><li>'Media Legua'</li><li>'Mirasierra'</li><li>'Moscardó'</li><li>'Niño Jesús'</li><li>'Nueva España'</li><li>'Numancia'</li><li>'Opañel'</li><li>'Orcasitas'</li><li>'Orcasur'</li><li>'Pacífico'</li><li>'Palacio'</li><li>'Palomas'</li><li>'Palomeras Bajas'</li><li>'Palomeras Sureste'</li><li>'Palos de Moguer'</li><li>'Pavones'</li><li>'Peñagrande'</li><li>'Pilar'</li><li>'Pinar del Rey'</li><li>'Piovera'</li><li>'Portazgo'</li><li>'Pradolongo'</li><li>'Prosperidad'</li><li>'Pueblo Nuevo'</li><li>'Puerta Bonita'</li><li>'Puerta del Angel'</li><li>'Quintana'</li><li>'Recoletos'</li><li>'Rejas'</li><li>'Rios Rosas'</li><li>'Rosas'</li><li>'Salvador'</li><li>'San Andrés'</li><li>'San Cristobal'</li><li>'San Diego'</li><li>'San Fermín'</li><li>'San Isidro'</li><li>'San Juan Bautista'</li><li>'San Pascual'</li><li>'Santa Eugenia'</li><li>'Simancas'</li><li>'Sol'</li><li>'Timón'</li><li>'Trafalgar'</li><li>'Universidad'</li><li>'Valdeacederas'</li><li>'Valdefuentes'</li><li>'Valdemarín'</li><li>'Valdezarza'</li><li>'Vallehermoso'</li><li>'Valverde'</li><li>'Ventas'</li><li>'Vinateros'</li><li>'Vista Alegre'</li><li>'Zofío'</li></ol>\n",
       "</dd>\n",
       "\t<dt>$class</dt>\n",
       "\t\t<dd>'table'</dd>\n",
       "</dl>\n"
      ],
      "text/latex": [
       "\\begin{description}\n",
       "\\item[\\$dim] 125\n",
       "\\item[\\$dimnames] \\textbf{\\$barrios} = \\begin{enumerate*}\n",
       "\\item 'Abrantes'\n",
       "\\item 'Acacias'\n",
       "\\item 'Adelfas'\n",
       "\\item 'Aeropuerto'\n",
       "\\item 'Aguilas'\n",
       "\\item 'Alameda de Osuna'\n",
       "\\item 'Almagro'\n",
       "\\item 'Almenara'\n",
       "\\item 'Almendrales'\n",
       "\\item 'Aluche'\n",
       "\\item 'Ambroz'\n",
       "\\item 'Amposta'\n",
       "\\item 'Apostol Santiago'\n",
       "\\item 'Arapiles'\n",
       "\\item 'Aravaca'\n",
       "\\item 'Arcos'\n",
       "\\item 'Argüelles'\n",
       "\\item 'Atocha'\n",
       "\\item 'Bellas Vistas'\n",
       "\\item 'Berruguete'\n",
       "\\item 'Buenavista'\n",
       "\\item 'Butarque'\n",
       "\\item 'Campamento'\n",
       "\\item 'Canillas'\n",
       "\\item 'Canillejas'\n",
       "\\item 'Cármenes'\n",
       "\\item 'Casa de Campo'\n",
       "\\item 'Casco Histórico de Barajas'\n",
       "\\item 'Casco Histórico de Vallecas'\n",
       "\\item 'Casco Histórico de Vicálvaro'\n",
       "\\item 'Castellana'\n",
       "\\item 'Castilla'\n",
       "\\item 'Castillejos'\n",
       "\\item 'Chopera'\n",
       "\\item 'Ciudad Jardín'\n",
       "\\item 'Ciudad Universitaria'\n",
       "\\item 'Colina'\n",
       "\\item 'Comillas'\n",
       "\\item 'Concepción'\n",
       "\\item 'Corralejos'\n",
       "\\item 'Cortes'\n",
       "\\item 'Costillares'\n",
       "\\item 'Cuatro Caminos'\n",
       "\\item 'Cuatro Vientos'\n",
       "\\item 'Delicias'\n",
       "\\item 'El Goloso'\n",
       "\\item 'El Plantío'\n",
       "\\item 'El Viso'\n",
       "\\item 'Embajadores'\n",
       "\\item 'Entrevías'\n",
       "\\item 'Estrella'\n",
       "\\item 'Fontarrón'\n",
       "\\item 'Fuente del Berro'\n",
       "\\item 'Fuentelareina'\n",
       "\\item 'Gaztambide'\n",
       "\\item 'Goya'\n",
       "\\item 'Guindalera'\n",
       "\\item 'Hellín'\n",
       "\\item 'Hispanoamérica'\n",
       "\\item 'Ibiza'\n",
       "\\item 'Imperial'\n",
       "\\item 'Jerónimos'\n",
       "\\item 'Justicia'\n",
       "\\item 'La Paz'\n",
       "\\item 'Legazpi'\n",
       "\\item 'Lista'\n",
       "\\item 'Los Angeles'\n",
       "\\item 'Los Rosales'\n",
       "\\item 'Lucero'\n",
       "\\item 'Marroquina'\n",
       "\\item 'Media Legua'\n",
       "\\item 'Mirasierra'\n",
       "\\item 'Moscardó'\n",
       "\\item 'Niño Jesús'\n",
       "\\item 'Nueva España'\n",
       "\\item 'Numancia'\n",
       "\\item 'Opañel'\n",
       "\\item 'Orcasitas'\n",
       "\\item 'Orcasur'\n",
       "\\item 'Pacífico'\n",
       "\\item 'Palacio'\n",
       "\\item 'Palomas'\n",
       "\\item 'Palomeras Bajas'\n",
       "\\item 'Palomeras Sureste'\n",
       "\\item 'Palos de Moguer'\n",
       "\\item 'Pavones'\n",
       "\\item 'Peñagrande'\n",
       "\\item 'Pilar'\n",
       "\\item 'Pinar del Rey'\n",
       "\\item 'Piovera'\n",
       "\\item 'Portazgo'\n",
       "\\item 'Pradolongo'\n",
       "\\item 'Prosperidad'\n",
       "\\item 'Pueblo Nuevo'\n",
       "\\item 'Puerta Bonita'\n",
       "\\item 'Puerta del Angel'\n",
       "\\item 'Quintana'\n",
       "\\item 'Recoletos'\n",
       "\\item 'Rejas'\n",
       "\\item 'Rios Rosas'\n",
       "\\item 'Rosas'\n",
       "\\item 'Salvador'\n",
       "\\item 'San Andrés'\n",
       "\\item 'San Cristobal'\n",
       "\\item 'San Diego'\n",
       "\\item 'San Fermín'\n",
       "\\item 'San Isidro'\n",
       "\\item 'San Juan Bautista'\n",
       "\\item 'San Pascual'\n",
       "\\item 'Santa Eugenia'\n",
       "\\item 'Simancas'\n",
       "\\item 'Sol'\n",
       "\\item 'Timón'\n",
       "\\item 'Trafalgar'\n",
       "\\item 'Universidad'\n",
       "\\item 'Valdeacederas'\n",
       "\\item 'Valdefuentes'\n",
       "\\item 'Valdemarín'\n",
       "\\item 'Valdezarza'\n",
       "\\item 'Vallehermoso'\n",
       "\\item 'Valverde'\n",
       "\\item 'Ventas'\n",
       "\\item 'Vinateros'\n",
       "\\item 'Vista Alegre'\n",
       "\\item 'Zofío'\n",
       "\\end{enumerate*}\n",
       "\n",
       "\\item[\\$class] 'table'\n",
       "\\end{description}\n"
      ],
      "text/markdown": [
       "$dim\n",
       ":   125\n",
       "$dimnames\n",
       ":   **$barrios** = 1. 'Abrantes'\n",
       "2. 'Acacias'\n",
       "3. 'Adelfas'\n",
       "4. 'Aeropuerto'\n",
       "5. 'Aguilas'\n",
       "6. 'Alameda de Osuna'\n",
       "7. 'Almagro'\n",
       "8. 'Almenara'\n",
       "9. 'Almendrales'\n",
       "10. 'Aluche'\n",
       "11. 'Ambroz'\n",
       "12. 'Amposta'\n",
       "13. 'Apostol Santiago'\n",
       "14. 'Arapiles'\n",
       "15. 'Aravaca'\n",
       "16. 'Arcos'\n",
       "17. 'Argüelles'\n",
       "18. 'Atocha'\n",
       "19. 'Bellas Vistas'\n",
       "20. 'Berruguete'\n",
       "21. 'Buenavista'\n",
       "22. 'Butarque'\n",
       "23. 'Campamento'\n",
       "24. 'Canillas'\n",
       "25. 'Canillejas'\n",
       "26. 'Cármenes'\n",
       "27. 'Casa de Campo'\n",
       "28. 'Casco Histórico de Barajas'\n",
       "29. 'Casco Histórico de Vallecas'\n",
       "30. 'Casco Histórico de Vicálvaro'\n",
       "31. 'Castellana'\n",
       "32. 'Castilla'\n",
       "33. 'Castillejos'\n",
       "34. 'Chopera'\n",
       "35. 'Ciudad Jardín'\n",
       "36. 'Ciudad Universitaria'\n",
       "37. 'Colina'\n",
       "38. 'Comillas'\n",
       "39. 'Concepción'\n",
       "40. 'Corralejos'\n",
       "41. 'Cortes'\n",
       "42. 'Costillares'\n",
       "43. 'Cuatro Caminos'\n",
       "44. 'Cuatro Vientos'\n",
       "45. 'Delicias'\n",
       "46. 'El Goloso'\n",
       "47. 'El Plantío'\n",
       "48. 'El Viso'\n",
       "49. 'Embajadores'\n",
       "50. 'Entrevías'\n",
       "51. 'Estrella'\n",
       "52. 'Fontarrón'\n",
       "53. 'Fuente del Berro'\n",
       "54. 'Fuentelareina'\n",
       "55. 'Gaztambide'\n",
       "56. 'Goya'\n",
       "57. 'Guindalera'\n",
       "58. 'Hellín'\n",
       "59. 'Hispanoamérica'\n",
       "60. 'Ibiza'\n",
       "61. 'Imperial'\n",
       "62. 'Jerónimos'\n",
       "63. 'Justicia'\n",
       "64. 'La Paz'\n",
       "65. 'Legazpi'\n",
       "66. 'Lista'\n",
       "67. 'Los Angeles'\n",
       "68. 'Los Rosales'\n",
       "69. 'Lucero'\n",
       "70. 'Marroquina'\n",
       "71. 'Media Legua'\n",
       "72. 'Mirasierra'\n",
       "73. 'Moscardó'\n",
       "74. 'Niño Jesús'\n",
       "75. 'Nueva España'\n",
       "76. 'Numancia'\n",
       "77. 'Opañel'\n",
       "78. 'Orcasitas'\n",
       "79. 'Orcasur'\n",
       "80. 'Pacífico'\n",
       "81. 'Palacio'\n",
       "82. 'Palomas'\n",
       "83. 'Palomeras Bajas'\n",
       "84. 'Palomeras Sureste'\n",
       "85. 'Palos de Moguer'\n",
       "86. 'Pavones'\n",
       "87. 'Peñagrande'\n",
       "88. 'Pilar'\n",
       "89. 'Pinar del Rey'\n",
       "90. 'Piovera'\n",
       "91. 'Portazgo'\n",
       "92. 'Pradolongo'\n",
       "93. 'Prosperidad'\n",
       "94. 'Pueblo Nuevo'\n",
       "95. 'Puerta Bonita'\n",
       "96. 'Puerta del Angel'\n",
       "97. 'Quintana'\n",
       "98. 'Recoletos'\n",
       "99. 'Rejas'\n",
       "100. 'Rios Rosas'\n",
       "101. 'Rosas'\n",
       "102. 'Salvador'\n",
       "103. 'San Andrés'\n",
       "104. 'San Cristobal'\n",
       "105. 'San Diego'\n",
       "106. 'San Fermín'\n",
       "107. 'San Isidro'\n",
       "108. 'San Juan Bautista'\n",
       "109. 'San Pascual'\n",
       "110. 'Santa Eugenia'\n",
       "111. 'Simancas'\n",
       "112. 'Sol'\n",
       "113. 'Timón'\n",
       "114. 'Trafalgar'\n",
       "115. 'Universidad'\n",
       "116. 'Valdeacederas'\n",
       "117. 'Valdefuentes'\n",
       "118. 'Valdemarín'\n",
       "119. 'Valdezarza'\n",
       "120. 'Vallehermoso'\n",
       "121. 'Valverde'\n",
       "122. 'Ventas'\n",
       "123. 'Vinateros'\n",
       "124. 'Vista Alegre'\n",
       "125. 'Zofío'\n",
       "\n",
       "\n",
       "\n",
       "$class\n",
       ":   'table'\n",
       "\n",
       "\n"
      ],
      "text/plain": [
       "$dim\n",
       "[1] 125\n",
       "\n",
       "$dimnames\n",
       "$dimnames$barrios\n",
       "  [1] \"Abrantes\"                     \"Acacias\"                     \n",
       "  [3] \"Adelfas\"                      \"Aeropuerto\"                  \n",
       "  [5] \"Aguilas\"                      \"Alameda de Osuna\"            \n",
       "  [7] \"Almagro\"                      \"Almenara\"                    \n",
       "  [9] \"Almendrales\"                  \"Aluche\"                      \n",
       " [11] \"Ambroz\"                       \"Amposta\"                     \n",
       " [13] \"Apostol Santiago\"             \"Arapiles\"                    \n",
       " [15] \"Aravaca\"                      \"Arcos\"                       \n",
       " [17] \"Argüelles\"                    \"Atocha\"                      \n",
       " [19] \"Bellas Vistas\"                \"Berruguete\"                  \n",
       " [21] \"Buenavista\"                   \"Butarque\"                    \n",
       " [23] \"Campamento\"                   \"Canillas\"                    \n",
       " [25] \"Canillejas\"                   \"Cármenes\"                    \n",
       " [27] \"Casa de Campo\"                \"Casco Histórico de Barajas\"  \n",
       " [29] \"Casco Histórico de Vallecas\"  \"Casco Histórico de Vicálvaro\"\n",
       " [31] \"Castellana\"                   \"Castilla\"                    \n",
       " [33] \"Castillejos\"                  \"Chopera\"                     \n",
       " [35] \"Ciudad Jardín\"                \"Ciudad Universitaria\"        \n",
       " [37] \"Colina\"                       \"Comillas\"                    \n",
       " [39] \"Concepción\"                   \"Corralejos\"                  \n",
       " [41] \"Cortes\"                       \"Costillares\"                 \n",
       " [43] \"Cuatro Caminos\"               \"Cuatro Vientos\"              \n",
       " [45] \"Delicias\"                     \"El Goloso\"                   \n",
       " [47] \"El Plantío\"                   \"El Viso\"                     \n",
       " [49] \"Embajadores\"                  \"Entrevías\"                   \n",
       " [51] \"Estrella\"                     \"Fontarrón\"                   \n",
       " [53] \"Fuente del Berro\"             \"Fuentelareina\"               \n",
       " [55] \"Gaztambide\"                   \"Goya\"                        \n",
       " [57] \"Guindalera\"                   \"Hellín\"                      \n",
       " [59] \"Hispanoamérica\"               \"Ibiza\"                       \n",
       " [61] \"Imperial\"                     \"Jerónimos\"                   \n",
       " [63] \"Justicia\"                     \"La Paz\"                      \n",
       " [65] \"Legazpi\"                      \"Lista\"                       \n",
       " [67] \"Los Angeles\"                  \"Los Rosales\"                 \n",
       " [69] \"Lucero\"                       \"Marroquina\"                  \n",
       " [71] \"Media Legua\"                  \"Mirasierra\"                  \n",
       " [73] \"Moscardó\"                     \"Niño Jesús\"                  \n",
       " [75] \"Nueva España\"                 \"Numancia\"                    \n",
       " [77] \"Opañel\"                       \"Orcasitas\"                   \n",
       " [79] \"Orcasur\"                      \"Pacífico\"                    \n",
       " [81] \"Palacio\"                      \"Palomas\"                     \n",
       " [83] \"Palomeras Bajas\"              \"Palomeras Sureste\"           \n",
       " [85] \"Palos de Moguer\"              \"Pavones\"                     \n",
       " [87] \"Peñagrande\"                   \"Pilar\"                       \n",
       " [89] \"Pinar del Rey\"                \"Piovera\"                     \n",
       " [91] \"Portazgo\"                     \"Pradolongo\"                  \n",
       " [93] \"Prosperidad\"                  \"Pueblo Nuevo\"                \n",
       " [95] \"Puerta Bonita\"                \"Puerta del Angel\"            \n",
       " [97] \"Quintana\"                     \"Recoletos\"                   \n",
       " [99] \"Rejas\"                        \"Rios Rosas\"                  \n",
       "[101] \"Rosas\"                        \"Salvador\"                    \n",
       "[103] \"San Andrés\"                   \"San Cristobal\"               \n",
       "[105] \"San Diego\"                    \"San Fermín\"                  \n",
       "[107] \"San Isidro\"                   \"San Juan Bautista\"           \n",
       "[109] \"San Pascual\"                  \"Santa Eugenia\"               \n",
       "[111] \"Simancas\"                     \"Sol\"                         \n",
       "[113] \"Timón\"                        \"Trafalgar\"                   \n",
       "[115] \"Universidad\"                  \"Valdeacederas\"               \n",
       "[117] \"Valdefuentes\"                 \"Valdemarín\"                  \n",
       "[119] \"Valdezarza\"                   \"Vallehermoso\"                \n",
       "[121] \"Valverde\"                     \"Ventas\"                      \n",
       "[123] \"Vinateros\"                    \"Vista Alegre\"                \n",
       "[125] \"Zofío\"                       \n",
       "\n",
       "\n",
       "$class\n",
       "[1] \"table\"\n"
      ]
     },
     "metadata": {},
     "output_type": "display_data"
    }
   ],
   "source": [
    "attributes(tbarrios)"
   ]
  },
  {
   "cell_type": "code",
   "execution_count": 40,
   "metadata": {},
   "outputs": [
    {
     "data": {
      "text/html": [
       "<span style=white-space:pre-wrap>'Los barrios que hay en todo el dataset son:  Abrantes, Acacias, Adelfas, Aeropuerto, Aguilas, Alameda de Osuna, Almagro, Almenara, Almendrales, Aluche, Ambroz, Amposta, Apostol Santiago, Arapiles, Aravaca, Arcos, Argüelles, Atocha, Bellas Vistas, Berruguete, Buenavista, Butarque, Campamento, Canillas, Canillejas, Cármenes, Casa de Campo, Casco Histórico de Barajas, Casco Histórico de Vallecas, Casco Histórico de Vicálvaro, Castellana, Castilla, Castillejos, Chopera, Ciudad Jardín, Ciudad Universitaria, Colina, Comillas, Concepción, Corralejos, Cortes, Costillares, Cuatro Caminos, Cuatro Vientos, Delicias, El Goloso, El Plantío, El Viso, Embajadores, Entrevías, Estrella, Fontarrón, Fuente del Berro, Fuentelareina, Gaztambide, Goya, Guindalera, Hellín, Hispanoamérica, Ibiza, Imperial, Jerónimos, Justicia, La Paz, Legazpi, Lista, Los Angeles, Los Rosales, Lucero, Marroquina, Media Legua, Mirasierra, Moscardó, Niño Jesús, Nueva España, Numancia, Opañel, Orcasitas, Orcasur, Pacífico, Palacio, Palomas, Palomeras Bajas, Palomeras Sureste, Palos de Moguer, Pavones, Peñagrande, Pilar, Pinar del Rey, Piovera, Portazgo, Pradolongo, Prosperidad, Pueblo Nuevo, Puerta Bonita, Puerta del Angel, Quintana, Recoletos, Rejas, Rios Rosas, Rosas, Salvador, San Andrés, San Cristobal, San Diego, San Fermín, San Isidro, San Juan Bautista, San Pascual, Santa Eugenia, Simancas, Sol, Timón, Trafalgar, Universidad, Valdeacederas, Valdefuentes, Valdemarín, Valdezarza, Vallehermoso, Valverde, Ventas, Vinateros, Vista Alegre, Zofío'</span>"
      ],
      "text/latex": [
       "'Los barrios que hay en todo el dataset son:  Abrantes, Acacias, Adelfas, Aeropuerto, Aguilas, Alameda de Osuna, Almagro, Almenara, Almendrales, Aluche, Ambroz, Amposta, Apostol Santiago, Arapiles, Aravaca, Arcos, Argüelles, Atocha, Bellas Vistas, Berruguete, Buenavista, Butarque, Campamento, Canillas, Canillejas, Cármenes, Casa de Campo, Casco Histórico de Barajas, Casco Histórico de Vallecas, Casco Histórico de Vicálvaro, Castellana, Castilla, Castillejos, Chopera, Ciudad Jardín, Ciudad Universitaria, Colina, Comillas, Concepción, Corralejos, Cortes, Costillares, Cuatro Caminos, Cuatro Vientos, Delicias, El Goloso, El Plantío, El Viso, Embajadores, Entrevías, Estrella, Fontarrón, Fuente del Berro, Fuentelareina, Gaztambide, Goya, Guindalera, Hellín, Hispanoamérica, Ibiza, Imperial, Jerónimos, Justicia, La Paz, Legazpi, Lista, Los Angeles, Los Rosales, Lucero, Marroquina, Media Legua, Mirasierra, Moscardó, Niño Jesús, Nueva España, Numancia, Opañel, Orcasitas, Orcasur, Pacífico, Palacio, Palomas, Palomeras Bajas, Palomeras Sureste, Palos de Moguer, Pavones, Peñagrande, Pilar, Pinar del Rey, Piovera, Portazgo, Pradolongo, Prosperidad, Pueblo Nuevo, Puerta Bonita, Puerta del Angel, Quintana, Recoletos, Rejas, Rios Rosas, Rosas, Salvador, San Andrés, San Cristobal, San Diego, San Fermín, San Isidro, San Juan Bautista, San Pascual, Santa Eugenia, Simancas, Sol, Timón, Trafalgar, Universidad, Valdeacederas, Valdefuentes, Valdemarín, Valdezarza, Vallehermoso, Valverde, Ventas, Vinateros, Vista Alegre, Zofío'"
      ],
      "text/markdown": [
       "<span style=white-space:pre-wrap>'Los barrios que hay en todo el dataset son:  Abrantes, Acacias, Adelfas, Aeropuerto, Aguilas, Alameda de Osuna, Almagro, Almenara, Almendrales, Aluche, Ambroz, Amposta, Apostol Santiago, Arapiles, Aravaca, Arcos, Argüelles, Atocha, Bellas Vistas, Berruguete, Buenavista, Butarque, Campamento, Canillas, Canillejas, Cármenes, Casa de Campo, Casco Histórico de Barajas, Casco Histórico de Vallecas, Casco Histórico de Vicálvaro, Castellana, Castilla, Castillejos, Chopera, Ciudad Jardín, Ciudad Universitaria, Colina, Comillas, Concepción, Corralejos, Cortes, Costillares, Cuatro Caminos, Cuatro Vientos, Delicias, El Goloso, El Plantío, El Viso, Embajadores, Entrevías, Estrella, Fontarrón, Fuente del Berro, Fuentelareina, Gaztambide, Goya, Guindalera, Hellín, Hispanoamérica, Ibiza, Imperial, Jerónimos, Justicia, La Paz, Legazpi, Lista, Los Angeles, Los Rosales, Lucero, Marroquina, Media Legua, Mirasierra, Moscardó, Niño Jesús, Nueva España, Numancia, Opañel, Orcasitas, Orcasur, Pacífico, Palacio, Palomas, Palomeras Bajas, Palomeras Sureste, Palos de Moguer, Pavones, Peñagrande, Pilar, Pinar del Rey, Piovera, Portazgo, Pradolongo, Prosperidad, Pueblo Nuevo, Puerta Bonita, Puerta del Angel, Quintana, Recoletos, Rejas, Rios Rosas, Rosas, Salvador, San Andrés, San Cristobal, San Diego, San Fermín, San Isidro, San Juan Bautista, San Pascual, Santa Eugenia, Simancas, Sol, Timón, Trafalgar, Universidad, Valdeacederas, Valdefuentes, Valdemarín, Valdezarza, Vallehermoso, Valverde, Ventas, Vinateros, Vista Alegre, Zofío'</span>"
      ],
      "text/plain": [
       "[1] \"Los barrios que hay en todo el dataset son:  Abrantes, Acacias, Adelfas, Aeropuerto, Aguilas, Alameda de Osuna, Almagro, Almenara, Almendrales, Aluche, Ambroz, Amposta, Apostol Santiago, Arapiles, Aravaca, Arcos, Argüelles, Atocha, Bellas Vistas, Berruguete, Buenavista, Butarque, Campamento, Canillas, Canillejas, Cármenes, Casa de Campo, Casco Histórico de Barajas, Casco Histórico de Vallecas, Casco Histórico de Vicálvaro, Castellana, Castilla, Castillejos, Chopera, Ciudad Jardín, Ciudad Universitaria, Colina, Comillas, Concepción, Corralejos, Cortes, Costillares, Cuatro Caminos, Cuatro Vientos, Delicias, El Goloso, El Plantío, El Viso, Embajadores, Entrevías, Estrella, Fontarrón, Fuente del Berro, Fuentelareina, Gaztambide, Goya, Guindalera, Hellín, Hispanoamérica, Ibiza, Imperial, Jerónimos, Justicia, La Paz, Legazpi, Lista, Los Angeles, Los Rosales, Lucero, Marroquina, Media Legua, Mirasierra, Moscardó, Niño Jesús, Nueva España, Numancia, Opañel, Orcasitas, Orcasur, Pacífico, Palacio, Palomas, Palomeras Bajas, Palomeras Sureste, Palos de Moguer, Pavones, Peñagrande, Pilar, Pinar del Rey, Piovera, Portazgo, Pradolongo, Prosperidad, Pueblo Nuevo, Puerta Bonita, Puerta del Angel, Quintana, Recoletos, Rejas, Rios Rosas, Rosas, Salvador, San Andrés, San Cristobal, San Diego, San Fermín, San Isidro, San Juan Bautista, San Pascual, Santa Eugenia, Simancas, Sol, Timón, Trafalgar, Universidad, Valdeacederas, Valdefuentes, Valdemarín, Valdezarza, Vallehermoso, Valverde, Ventas, Vinateros, Vista Alegre, Zofío\""
      ]
     },
     "metadata": {},
     "output_type": "display_data"
    }
   ],
   "source": [
    "paste(\"Los barrios que hay en todo el dataset son: \",\n",
    "paste(attributes(tbarrios)$dimnames$barrios,collapse=\", \"))"
   ]
  },
  {
   "cell_type": "markdown",
   "metadata": {},
   "source": [
    "¿Cuales son los 5 barrios que tienen mayor número entradas?"
   ]
  },
  {
   "cell_type": "code",
   "execution_count": 41,
   "metadata": {},
   "outputs": [],
   "source": [
    "tbarrios<-sort(tbarrios,,decreasing=T)"
   ]
  },
  {
   "cell_type": "code",
   "execution_count": 42,
   "metadata": {},
   "outputs": [
    {
     "data": {
      "text/plain": [
       "barrios\n",
       "Embajadores Universidad     Palacio         Sol    Justicia \n",
       "       1844        1358        1083         940         785 "
      ]
     },
     "metadata": {},
     "output_type": "display_data"
    }
   ],
   "source": [
    "tbarrios[1:5]"
   ]
  },
  {
   "cell_type": "markdown",
   "metadata": {},
   "source": [
    "¿Cuantos Tipos de Alquiler diferentes hay? ¿Cuales son? ¿Cuantas entradas en el dataframe hay por cada tipo?"
   ]
  },
  {
   "cell_type": "code",
   "execution_count": 43,
   "metadata": {},
   "outputs": [
    {
     "data": {
      "text/html": [
       "<span style=white-space:pre-wrap>'El número de Tipos de Alquiler son:  3'</span>"
      ],
      "text/latex": [
       "'El número de Tipos de Alquiler son:  3'"
      ],
      "text/markdown": [
       "<span style=white-space:pre-wrap>'El número de Tipos de Alquiler son:  3'</span>"
      ],
      "text/plain": [
       "[1] \"El número de Tipos de Alquiler son:  3\""
      ]
     },
     "metadata": {},
     "output_type": "display_data"
    },
    {
     "data": {
      "text/html": [
       "<span style=white-space:pre-wrap>'Los Tipos de Alquiler son:  Entire home/apt, Private room, Shared room'</span>"
      ],
      "text/latex": [
       "'Los Tipos de Alquiler son:  Entire home/apt, Private room, Shared room'"
      ],
      "text/markdown": [
       "<span style=white-space:pre-wrap>'Los Tipos de Alquiler son:  Entire home/apt, Private room, Shared room'</span>"
      ],
      "text/plain": [
       "[1] \"Los Tipos de Alquiler son:  Entire home/apt, Private room, Shared room\""
      ]
     },
     "metadata": {},
     "output_type": "display_data"
    },
    {
     "data": {
      "text/html": [
       "<style>\n",
       ".dl-inline {width: auto; margin:0; padding: 0}\n",
       ".dl-inline>dt, .dl-inline>dd {float: none; width: auto; display: inline-block}\n",
       ".dl-inline>dt::after {content: \":\\0020\"; padding-right: .5ex}\n",
       ".dl-inline>dt:not(:first-of-type) {padding-left: .5ex}\n",
       "</style><dl class=dl-inline><dt>Entire home/apt</dt><dd>7903</dd><dt>Private room</dt><dd>5113</dd><dt>Shared room</dt><dd>191</dd></dl>\n"
      ],
      "text/latex": [
       "\\begin{description*}\n",
       "\\item[Entire home/apt] 7903\n",
       "\\item[Private room] 5113\n",
       "\\item[Shared room] 191\n",
       "\\end{description*}\n"
      ],
      "text/markdown": [
       "Entire home/apt\n",
       ":   7903Private room\n",
       ":   5113Shared room\n",
       ":   191\n",
       "\n"
      ],
      "text/plain": [
       "Entire home/apt    Private room     Shared room \n",
       "           7903            5113             191 "
      ]
     },
     "metadata": {},
     "output_type": "display_data"
    }
   ],
   "source": [
    "paste(\"El número de Tipos de Alquiler son: \",length(levels(airbnb$TipoAlquiler)))\n",
    "paste(\"Los Tipos de Alquiler son: \",paste(levels(airbnb$TipoAlquiler),collapse=\", \"))\n",
    "summary(airbnb$TipoAlquiler)"
   ]
  },
  {
   "cell_type": "markdown",
   "metadata": {},
   "source": [
    "Muestra el diagrama de cajas del precio para cada uno de los diferentes Tipos de Alquiler"
   ]
  },
  {
   "cell_type": "code",
   "execution_count": 44,
   "metadata": {},
   "outputs": [
    {
     "name": "stdout",
     "output_type": "stream",
     "text": [
      "'data.frame':\t13207 obs. of  14 variables:\n",
      " $ CodigoPostal   : chr  \"28004\" \"28004\" \"28004\" \"28004\" ...\n",
      " $ Barrio         : chr  \"Universidad\" \"Universidad\" \"Universidad\" \"Universidad\" ...\n",
      " $ TipoPropiedad  : Factor w/ 22 levels \"Apartment\",\"Bed & Breakfast\",..: 1 1 1 16 1 1 15 1 1 1 ...\n",
      " $ TipoAlquiler   : Factor w/ 3 levels \"Entire home/apt\",..: 2 1 1 1 1 1 2 1 1 1 ...\n",
      " $ MaxOcupantes   : int  2 6 3 3 5 2 7 3 2 4 ...\n",
      " $ NumBanyos      : num  2 1 1 2 1 1 5 1 1 2 ...\n",
      " $ NumDormitorios : int  1 3 2 1 1 0 1 1 1 2 ...\n",
      " $ NumCamas       : int  1 5 2 1 1 1 7 NA 1 2 ...\n",
      " $ TipoCama       : Factor w/ 5 levels \"Airbed\",\"Couch\",..: 5 5 5 5 5 5 5 5 5 5 ...\n",
      " $ Comodidades    : Factor w/ 11073 levels \"\",\"Air conditioning,Breakfast,Washer,Essentials,Hair dryer\",..: 9444 4020 3249 4039 8369 2047 961 7436 5618 7736 ...\n",
      " $ PiesCuadrados  : int  NA NA NA NA 538 NA NA NA 700 NA ...\n",
      " $ Precio         : int  35 92 55 60 75 55 60 70 90 155 ...\n",
      " $ Puntuacion     : int  NA 96 91 100 90 95 77 84 98 NA ...\n",
      " $ MetrosCuadrados: num  NA NA NA NA 50 ...\n"
     ]
    }
   ],
   "source": [
    "str(airbnb)"
   ]
  },
  {
   "cell_type": "code",
   "execution_count": 45,
   "metadata": {},
   "outputs": [
    {
     "data": {
      "text/plain": [
       "   Min. 1st Qu.  Median    Mean 3rd Qu.    Max.    NA's \n",
       "   9.00   31.00   52.00   65.92   80.00  875.00       9 "
      ]
     },
     "metadata": {},
     "output_type": "display_data"
    }
   ],
   "source": [
    "summary(airbnb$Precio)"
   ]
  },
  {
   "cell_type": "code",
   "execution_count": 46,
   "metadata": {},
   "outputs": [
    {
     "data": {
      "image/png": "[encoded data removed]",
      "text/plain": [
       "plot without title"
      ]
     },
     "metadata": {
      "image/png": {
       "height": 480,
       "width": 720
      },
      "text/plain": {
       "height": 480,
       "width": 720
      }
     },
     "output_type": "display_data"
    }
   ],
   "source": [
    "options(repr.plot.height=8,repr.plot.width=12)\n",
    "ggplot(data=subset(airbnb,!is.na(Precio)),aes(x=TipoAlquiler, y=Precio, color=TipoAlquiler))+geom_boxplot()+scale_color_discrete(name=\"Precio\")"
   ]
  },
  {
   "cell_type": "markdown",
   "metadata": {},
   "source": [
    "Cual es el precio medio de alquiler medio de cada uno, la diferencia que hay ¿es estadísticamente significativa?\n",
    "¿Con que test lo comprobarías?"
   ]
  },
  {
   "cell_type": "code",
   "execution_count": 47,
   "metadata": {},
   "outputs": [],
   "source": [
    "tipoAlquilerDf <- aggregate(airbnb$Precio,\n",
    "                by = list(airbnb$TipoAlquiler),\n",
    "                FUN = function(x) mean(x, na.rm = TRUE))\n"
   ]
  },
  {
   "cell_type": "code",
   "execution_count": 48,
   "metadata": {},
   "outputs": [
    {
     "data": {
      "text/html": [
       "<table>\n",
       "<caption>A data.frame: 3 × 2</caption>\n",
       "<thead>\n",
       "\t<tr><th scope=col>Tipo Alquiler</th><th scope=col>Precio medio</th></tr>\n",
       "\t<tr><th scope=col>&lt;fct&gt;</th><th scope=col>&lt;dbl&gt;</th></tr>\n",
       "</thead>\n",
       "<tbody>\n",
       "\t<tr><td>Entire home/apt</td><td>87.29661</td></tr>\n",
       "\t<tr><td>Private room   </td><td>34.25514</td></tr>\n",
       "\t<tr><td>Shared room    </td><td>29.85340</td></tr>\n",
       "</tbody>\n",
       "</table>\n"
      ],
      "text/latex": [
       "A data.frame: 3 × 2\n",
       "\\begin{tabular}{ll}\n",
       " Tipo Alquiler & Precio medio\\\\\n",
       " <fct> & <dbl>\\\\\n",
       "\\hline\n",
       "\t Entire home/apt & 87.29661\\\\\n",
       "\t Private room    & 34.25514\\\\\n",
       "\t Shared room     & 29.85340\\\\\n",
       "\\end{tabular}\n"
      ],
      "text/markdown": [
       "\n",
       "A data.frame: 3 × 2\n",
       "\n",
       "| Tipo Alquiler &lt;fct&gt; | Precio medio &lt;dbl&gt; |\n",
       "|---|---|\n",
       "| Entire home/apt | 87.29661 |\n",
       "| Private room    | 34.25514 |\n",
       "| Shared room     | 29.85340 |\n",
       "\n"
      ],
      "text/plain": [
       "  Tipo Alquiler   Precio medio\n",
       "1 Entire home/apt 87.29661    \n",
       "2 Private room    34.25514    \n",
       "3 Shared room     29.85340    "
      ]
     },
     "metadata": {},
     "output_type": "display_data"
    }
   ],
   "source": [
    "colnames(tipoAlquilerDf)<-c(\"Tipo Alquiler\",\"Precio medio\")\n",
    "tipoAlquilerDf"
   ]
  },
  {
   "cell_type": "code",
   "execution_count": 49,
   "metadata": {},
   "outputs": [
    {
     "name": "stdout",
     "output_type": "stream",
     "text": [
      "[1] \"El tipo  Entire home/apt\"\n",
      "[1] \"Su pvalor es  1.24077898621874e-72\"\n",
      "[1] \"El tipo  Private room\"\n",
      "[1] \"Su pvalor es  9.18974842339072e-85\"\n",
      "[1] \"El tipo  Shared room\"\n",
      "[1] \"Su pvalor es  4.51672121600842e-24\"\n"
     ]
    },
    {
     "data": {
      "text/html": [
       "'Como los valores de p-valor son muy bajos la distribución no es normal.'"
      ],
      "text/latex": [
       "'Como los valores de p-valor son muy bajos la distribución no es normal.'"
      ],
      "text/markdown": [
       "'Como los valores de p-valor son muy bajos la distribución no es normal.'"
      ],
      "text/plain": [
       "[1] \"Como los valores de p-valor son muy bajos la distribución no es normal.\""
      ]
     },
     "metadata": {},
     "output_type": "display_data"
    },
    {
     "data": {
      "text/plain": [
       "\n",
       "\tKruskal-Wallis rank sum test\n",
       "\n",
       "data:  Precio by TipoAlquiler\n",
       "Kruskal-Wallis chi-squared = 7235.6, df = 2, p-value < 2.2e-16\n"
      ]
     },
     "metadata": {},
     "output_type": "display_data"
    },
    {
     "data": {
      "text/html": [
       "'Entonces decimos que el precio medio de aquiler es estaditicamente diferente porque el p-valor es muy bajo'"
      ],
      "text/latex": [
       "'Entonces decimos que el precio medio de aquiler es estaditicamente diferente porque el p-valor es muy bajo'"
      ],
      "text/markdown": [
       "'Entonces decimos que el precio medio de aquiler es estaditicamente diferente porque el p-valor es muy bajo'"
      ],
      "text/plain": [
       "[1] \"Entonces decimos que el precio medio de aquiler es estaditicamente diferente porque el p-valor es muy bajo\""
      ]
     },
     "metadata": {},
     "output_type": "display_data"
    }
   ],
   "source": [
    "for (tipoAlquiler in levels(airbnb$TipoAlquiler)){\n",
    "    dfTipoAlquiler<-subset(airbnb,TipoAlquiler==tipoAlquiler)\n",
    "   #Como el test de shapiro no admite más de 5000 filas\n",
    "    if (nrow(dfTipoAlquiler)>5000){\n",
    "        dfTipoAlquiler<-dfTipoAlquiler[1:5000,]\n",
    "    }\n",
    "    testShapiro<-shapiro.test(dfTipoAlquiler$Precio)\n",
    "    print(paste(\"El tipo \",tipoAlquiler))\n",
    "    print(paste(\"Su pvalor es \",testShapiro$p.value))\n",
    "}\n",
    "paste(\"Como los valores de p-valor son muy bajos la distribución no es normal.\")\n",
    "#Entonces tenemos que utilizar otro test para cualquier distribución\n",
    "kruskal.test(Precio~TipoAlquiler,airbnb)\n",
    "\n",
    "paste(\"Entonces decimos que el precio medio de aquiler es estaditicamente diferente porque el p-valor es muy bajo\")"
   ]
  },
  {
   "cell_type": "markdown",
   "metadata": {},
   "source": [
    "Filtra el dataframe cuyos tipo de alquiler sea  'Entire home/apt' y guardalo en un dataframe llamado \n",
    "*airbnb_entire*.\n",
    "Estas serán las entradas que tienen un alquiler del piso completo."
   ]
  },
  {
   "cell_type": "code",
   "execution_count": 50,
   "metadata": {},
   "outputs": [
    {
     "data": {
      "text/html": [
       "<table>\n",
       "<caption>A data.frame: 7903 × 15</caption>\n",
       "<thead>\n",
       "\t<tr><th></th><th scope=col>CodigoPostal</th><th scope=col>Barrio</th><th scope=col>TipoPropiedad</th><th scope=col>TipoAlquiler</th><th scope=col>MaxOcupantes</th><th scope=col>NumBanyos</th><th scope=col>NumDormitorios</th><th scope=col>NumCamas</th><th scope=col>TipoCama</th><th scope=col>Comodidades</th><th scope=col>PiesCuadrados</th><th scope=col>Precio</th><th scope=col>Puntuacion</th><th scope=col>MetrosCuadrados</th><th scope=col>contador</th></tr>\n",
       "\t<tr><th></th><th scope=col>&lt;chr&gt;</th><th scope=col>&lt;chr&gt;</th><th scope=col>&lt;fct&gt;</th><th scope=col>&lt;fct&gt;</th><th scope=col>&lt;int&gt;</th><th scope=col>&lt;dbl&gt;</th><th scope=col>&lt;int&gt;</th><th scope=col>&lt;int&gt;</th><th scope=col>&lt;fct&gt;</th><th scope=col>&lt;fct&gt;</th><th scope=col>&lt;int&gt;</th><th scope=col>&lt;int&gt;</th><th scope=col>&lt;int&gt;</th><th scope=col>&lt;dbl&gt;</th><th scope=col>&lt;dbl&gt;</th></tr>\n",
       "</thead>\n",
       "<tbody>\n",
       "\t<tr><th scope=row>2</th><td>28004</td><td>Universidad</td><td>Apartment  </td><td>Entire home/apt</td><td> 6</td><td>1</td><td>3</td><td> 5</td><td>Real Bed     </td><td>TV,Internet,Wireless Internet,Air conditioning,Kitchen,Indoor fireplace,Heating,Family/kid friendly,Washer,Dryer,Smoke detector,Carbon monoxide detector,Essentials,Shampoo                                                                                                                                                                                     </td><td> NA</td><td> 92</td><td> 96</td><td>      NA</td><td>1</td></tr>\n",
       "\t<tr><th scope=row>3</th><td>28004</td><td>Universidad</td><td>Apartment  </td><td>Entire home/apt</td><td> 3</td><td>1</td><td>2</td><td> 2</td><td>Real Bed     </td><td>TV,Internet,Wireless Internet,Air conditioning,Kitchen,Doorman,Heating,Family/kid friendly,Washer,Essentials,Shampoo,Hangers,Hair dryer,Iron,Laptop friendly workspace                                                                                                                                                                                          </td><td> NA</td><td> 55</td><td> 91</td><td>      NA</td><td>1</td></tr>\n",
       "\t<tr><th scope=row>4</th><td>28004</td><td>Universidad</td><td>Loft       </td><td>Entire home/apt</td><td> 3</td><td>2</td><td>1</td><td> 1</td><td>Real Bed     </td><td>TV,Internet,Wireless Internet,Air conditioning,Kitchen,Pets allowed,Breakfast,Elevator in building,Indoor fireplace,Buzzer/wireless intercom,Heating,Washer,Essentials,Shampoo,Hangers,Hair dryer,Iron,Laptop friendly workspace,translation missing: en.hosting_amenity_49,translation missing: en.hosting_amenity_50                                          </td><td> NA</td><td> 60</td><td>100</td><td>      NA</td><td>1</td></tr>\n",
       "\t<tr><th scope=row>5</th><td>28015</td><td>Universidad</td><td>Apartment  </td><td>Entire home/apt</td><td> 5</td><td>1</td><td>1</td><td> 1</td><td>Real Bed     </td><td>TV,Wireless Internet,Air conditioning,Kitchen,Smoking allowed,Pets allowed,Elevator in building,Heating,Family/kid friendly,Washer,Essentials,Iron                                                                                                                                                                                                              </td><td>538</td><td> 75</td><td> 90</td><td>49.98181</td><td>1</td></tr>\n",
       "\t<tr><th scope=row>6</th><td>28004</td><td>Universidad</td><td>Apartment  </td><td>Entire home/apt</td><td> 2</td><td>1</td><td>0</td><td> 1</td><td>Real Bed     </td><td>TV,Cable TV,Internet,Wireless Internet,Air conditioning,Wheelchair accessible,Kitchen,Doorman,Elevator in building,Buzzer/wireless intercom,Heating,Washer,Smoke detector,Carbon monoxide detector,First aid kit,Safety card,Fire extinguisher,Essentials,Shampoo,24-hour check-in,Hangers,Hair dryer,Iron,Laptop friendly workspace,Self Check-In,Doorman Entry</td><td> NA</td><td> 55</td><td> 95</td><td>      NA</td><td>1</td></tr>\n",
       "\t<tr><th scope=row>8</th><td>28004</td><td>Universidad</td><td>Apartment  </td><td>Entire home/apt</td><td> 3</td><td>1</td><td>1</td><td>NA</td><td>Real Bed     </td><td>TV,Wireless Internet,Air conditioning,Kitchen,Elevator in building,Buzzer/wireless intercom,Heating,Washer                                                                                                                                                                                                                                                      </td><td> NA</td><td> 70</td><td> 84</td><td>      NA</td><td>1</td></tr>\n",
       "\t<tr><th scope=row>9</th><td>28015</td><td>Universidad</td><td>Apartment  </td><td>Entire home/apt</td><td> 2</td><td>1</td><td>1</td><td> 1</td><td>Real Bed     </td><td>TV,Internet,Wireless Internet,Kitchen,Elevator in building,Buzzer/wireless intercom,Heating,Family/kid friendly,Washer,Dryer,Essentials,Shampoo,translation missing: en.hosting_amenity_49                                                                                                                                                                      </td><td>700</td><td> 90</td><td> 98</td><td>65.03210</td><td>1</td></tr>\n",
       "\t<tr><th scope=row>10</th><td>28004</td><td>Universidad</td><td>Apartment  </td><td>Entire home/apt</td><td> 4</td><td>2</td><td>2</td><td> 2</td><td>Real Bed     </td><td>TV,Wireless Internet,Air conditioning,Kitchen,Elevator in building,Hot tub,Heating,Family/kid friendly,Washer,Dryer,Essentials,Hair dryer,Iron                                                                                                                                                                                                                  </td><td> NA</td><td>155</td><td> NA</td><td>      NA</td><td>1</td></tr>\n",
       "\t<tr><th scope=row>11</th><td>28004</td><td>Universidad</td><td>Apartment  </td><td>Entire home/apt</td><td> 4</td><td>1</td><td>1</td><td> 2</td><td>Real Bed     </td><td>TV,Wireless Internet,Air conditioning,Wheelchair accessible,Kitchen,Elevator in building,Buzzer/wireless intercom,Heating,Family/kid friendly,Washer,Essentials,Shampoo                                                                                                                                                                                         </td><td> 40</td><td> 70</td><td> 90</td><td> 3.71612</td><td>1</td></tr>\n",
       "\t<tr><th scope=row>15</th><td>28013</td><td>Sol        </td><td>Apartment  </td><td>Entire home/apt</td><td> 4</td><td>1</td><td>1</td><td> 1</td><td>Real Bed     </td><td>TV,Wireless Internet,Air conditioning,Kitchen,Doorman,Elevator in building,Buzzer/wireless intercom,Heating,Family/kid friendly,Suitable for events,Washer,Essentials,Hangers,Hair dryer,Iron                                                                                                                                                                   </td><td>646</td><td> 75</td><td> 91</td><td>60.01534</td><td>1</td></tr>\n",
       "\t<tr><th scope=row>16</th><td>28013</td><td>Sol        </td><td>Condominium</td><td>Entire home/apt</td><td> 6</td><td>1</td><td>2</td><td> 3</td><td>Real Bed     </td><td>TV,Wireless Internet,Air conditioning,Kitchen,Doorman,Elevator in building,Buzzer/wireless intercom,Heating,Family/kid friendly,Washer,Dryer,Essentials,Shampoo,Hangers,Hair dryer,Iron                                                                                                                                                                         </td><td> NA</td><td>130</td><td>100</td><td>      NA</td><td>1</td></tr>\n",
       "\t<tr><th scope=row>17</th><td>28013</td><td>Sol        </td><td>Apartment  </td><td>Entire home/apt</td><td> 4</td><td>1</td><td>1</td><td> 2</td><td>Real Bed     </td><td>TV,Internet,Wireless Internet,Air conditioning,Kitchen,Doorman,Elevator in building,Buzzer/wireless intercom,Heating,Family/kid friendly,Washer,Smoke detector,Carbon monoxide detector,First aid kit,Safety card,Fire extinguisher,Essentials,Shampoo,24-hour check-in,Hangers,Hair dryer,Iron,Laptop friendly workspace                                       </td><td> NA</td><td>100</td><td> 97</td><td>      NA</td><td>1</td></tr>\n",
       "\t<tr><th scope=row>18</th><td>28012</td><td>Sol        </td><td>Apartment  </td><td>Entire home/apt</td><td> 6</td><td>1</td><td>2</td><td> 2</td><td>Real Bed     </td><td>TV,Internet,Wireless Internet,Air conditioning,Kitchen,Smoking allowed,Elevator in building,Buzzer/wireless intercom,Heating,Family/kid friendly,Washer,Dryer,Essentials,Shampoo,Hangers,Hair dryer,Iron,Laptop friendly workspace                                                                                                                              </td><td> NA</td><td>160</td><td> 95</td><td>      NA</td><td>1</td></tr>\n",
       "\t<tr><th scope=row>19</th><td>28013</td><td>Sol        </td><td>Apartment  </td><td>Entire home/apt</td><td> 4</td><td>1</td><td>1</td><td> 2</td><td>Real Bed     </td><td>TV,Internet,Wireless Internet,Air conditioning,Kitchen,Heating,Washer,Essentials,Hangers,Hair dryer,translation missing: en.hosting_amenity_50                                                                                                                                                                                                                  </td><td> NA</td><td> 49</td><td> 95</td><td>      NA</td><td>1</td></tr>\n",
       "\t<tr><th scope=row>21</th><td>28013</td><td>Sol        </td><td>Apartment  </td><td>Entire home/apt</td><td> 4</td><td>1</td><td>1</td><td> 2</td><td>Real Bed     </td><td>TV,Wireless Internet,Kitchen,Pets allowed,Elevator in building,Heating,Family/kid friendly,Washer,Essentials,Shampoo,Hangers,Hair dryer,Laptop friendly workspace                                                                                                                                                                                               </td><td> NA</td><td> 70</td><td> 88</td><td>      NA</td><td>1</td></tr>\n",
       "\t<tr><th scope=row>22</th><td>28005</td><td>Sol        </td><td>Apartment  </td><td>Entire home/apt</td><td>10</td><td>2</td><td>4</td><td> 7</td><td>Real Bed     </td><td>TV,Internet,Wireless Internet,Air conditioning,Kitchen,Heating,Family/kid friendly,Washer,Essentials                                                                                                                                                                                                                                                            </td><td> NA</td><td>210</td><td> 81</td><td>      NA</td><td>1</td></tr>\n",
       "\t<tr><th scope=row>23</th><td>28013</td><td>Sol        </td><td>Apartment  </td><td>Entire home/apt</td><td> 6</td><td>1</td><td>2</td><td> 4</td><td>Real Bed     </td><td>TV,Internet,Wireless Internet,Air conditioning,Kitchen,Smoking allowed,Pets allowed,Doorman,Elevator in building,Buzzer/wireless intercom,Heating,Family/kid friendly,Washer,First aid kit,Safety card,Essentials,Shampoo,Hangers,Hair dryer,Iron                                                                                                               </td><td> NA</td><td>120</td><td> 99</td><td>      NA</td><td>1</td></tr>\n",
       "\t<tr><th scope=row>24</th><td>28012</td><td>Sol        </td><td>Apartment  </td><td>Entire home/apt</td><td> 4</td><td>1</td><td>1</td><td> 2</td><td>Real Bed     </td><td>TV,Internet,Wireless Internet,Air conditioning,Kitchen,Elevator in building,Heating,Family/kid friendly,Washer,Smoke detector,Carbon monoxide detector,Essentials,Shampoo,24-hour check-in,Hangers,Hair dryer,Iron,Laptop friendly workspace                                                                                                                    </td><td> NA</td><td> 50</td><td> 91</td><td>      NA</td><td>1</td></tr>\n",
       "\t<tr><th scope=row>25</th><td>28012</td><td>Sol        </td><td>Apartment  </td><td>Entire home/apt</td><td> 4</td><td>1</td><td>1</td><td> 1</td><td>Real Bed     </td><td>TV,Cable TV,Internet,Wireless Internet,Air conditioning,Kitchen,Elevator in building,Buzzer/wireless intercom,Heating,Family/kid friendly,Washer,Essentials,Hair dryer,Iron                                                                                                                                                                                     </td><td>753</td><td>100</td><td> 87</td><td>69.95596</td><td>1</td></tr>\n",
       "\t<tr><th scope=row>26</th><td>28013</td><td>Sol        </td><td>Apartment  </td><td>Entire home/apt</td><td> 4</td><td>1</td><td>1</td><td> 2</td><td>Real Bed     </td><td>TV,Internet,Wireless Internet,Air conditioning,Kitchen,Breakfast,Elevator in building,Heating,Family/kid friendly,Washer,First aid kit,Fire extinguisher,Essentials,Shampoo,Hangers,Hair dryer,Iron,Laptop friendly workspace                                                                                                                                   </td><td> NA</td><td> 75</td><td>100</td><td>      NA</td><td>1</td></tr>\n",
       "\t<tr><th scope=row>27</th><td>28014</td><td>Sol        </td><td>Condominium</td><td>Entire home/apt</td><td> 8</td><td>2</td><td>2</td><td> 5</td><td>Real Bed     </td><td>TV,Internet,Wireless Internet,Air conditioning,Wheelchair accessible,Kitchen,Doorman,Elevator in building,Buzzer/wireless intercom,Heating,Family/kid friendly,Washer,Smoke detector,Carbon monoxide detector,Essentials,Shampoo,24-hour check-in,Hangers,Hair dryer,Iron,Laptop friendly workspace                                                             </td><td> NA</td><td>155</td><td> 93</td><td>      NA</td><td>1</td></tr>\n",
       "\t<tr><th scope=row>28</th><td>28013</td><td>Sol        </td><td>Apartment  </td><td>Entire home/apt</td><td> 6</td><td>2</td><td>2</td><td> 3</td><td>Real Bed     </td><td>TV,Internet,Wireless Internet,Air conditioning,Wheelchair accessible,Kitchen,Doorman,Elevator in building,Buzzer/wireless intercom,Heating,Family/kid friendly,Washer,Dryer,Essentials,Hangers,Hair dryer,Iron                                                                                                                                                  </td><td> NA</td><td>155</td><td> 80</td><td>      NA</td><td>1</td></tr>\n",
       "\t<tr><th scope=row>30</th><td>28005</td><td>Sol        </td><td>Apartment  </td><td>Entire home/apt</td><td> 8</td><td>1</td><td>3</td><td> 4</td><td>Real Bed     </td><td>TV,Internet,Wireless Internet,Kitchen,Breakfast,Elevator in building,Buzzer/wireless intercom,Heating,Family/kid friendly,Washer,Essentials,Shampoo,Hangers,Hair dryer,Iron,Laptop friendly workspace,Self Check-In,Lockbox                                                                                                                                     </td><td> NA</td><td>163</td><td>100</td><td>      NA</td><td>1</td></tr>\n",
       "\t<tr><th scope=row>31</th><td>28005</td><td>Imperial   </td><td>Apartment  </td><td>Entire home/apt</td><td> 3</td><td>1</td><td>1</td><td> 1</td><td>Real Bed     </td><td>TV,Internet,Wireless Internet,Kitchen,Pets allowed,Elevator in building,Heating,Family/kid friendly,Washer,Fire extinguisher,Essentials,Shampoo,Hangers,Hair dryer,Iron,Laptop friendly workspace,translation missing: en.hosting_amenity_50                                                                                                                    </td><td> NA</td><td> 70</td><td> 95</td><td>      NA</td><td>1</td></tr>\n",
       "\t<tr><th scope=row>32</th><td>28005</td><td>Imperial   </td><td>Apartment  </td><td>Entire home/apt</td><td> 3</td><td>1</td><td>2</td><td> 2</td><td>Real Bed     </td><td>TV,Wireless Internet,Kitchen,Heating,Family/kid friendly,Washer,Essentials,Hair dryer,translation missing: en.hosting_amenity_50                                                                                                                                                                                                                                </td><td> NA</td><td> 49</td><td> 88</td><td>      NA</td><td>1</td></tr>\n",
       "\t<tr><th scope=row>36</th><td>28005</td><td>Acacias    </td><td>House      </td><td>Entire home/apt</td><td> 4</td><td>2</td><td>2</td><td> 4</td><td>Real Bed     </td><td>TV,Wireless Internet,Air conditioning,Wheelchair accessible,Kitchen,Doorman,Elevator in building,Buzzer/wireless intercom,Heating,Washer,Essentials,Shampoo,Hangers,Hair dryer,Iron,Laptop friendly workspace                                                                                                                                                   </td><td> NA</td><td> 90</td><td> 92</td><td>      NA</td><td>1</td></tr>\n",
       "\t<tr><th scope=row>43</th><td>28013</td><td>Sol        </td><td>Apartment  </td><td>Entire home/apt</td><td> 4</td><td>1</td><td>1</td><td> 1</td><td>Pull-out Sofa</td><td>TV,Internet,Wireless Internet,Air conditioning,Kitchen,Elevator in building,Buzzer/wireless intercom,Heating,Family/kid friendly,Washer,Smoke detector,Carbon monoxide detector,First aid kit,Essentials,Shampoo,24-hour check-in,Hangers,Hair dryer,Iron,Laptop friendly workspace,translation missing: en.hosting_amenity_50                                  </td><td> NA</td><td> 64</td><td> 97</td><td>      NA</td><td>1</td></tr>\n",
       "\t<tr><th scope=row>44</th><td>28013</td><td>Sol        </td><td>Apartment  </td><td>Entire home/apt</td><td> 6</td><td>2</td><td>2</td><td> 2</td><td>Real Bed     </td><td>TV,Wireless Internet,Air conditioning,Kitchen,Elevator in building,Heating,Washer,Essentials,Shampoo                                                                                                                                                                                                                                                            </td><td> NA</td><td>109</td><td> 90</td><td>      NA</td><td>1</td></tr>\n",
       "\t<tr><th scope=row>45</th><td>28013</td><td>Sol        </td><td>Apartment  </td><td>Entire home/apt</td><td> 3</td><td>1</td><td>1</td><td> 2</td><td>Real Bed     </td><td>TV,Internet,Wireless Internet,Air conditioning,Kitchen,Smoking allowed,Elevator in building,Buzzer/wireless intercom,Heating,Family/kid friendly,Washer,Fire extinguisher,Essentials,Shampoo,Hangers,Hair dryer,Iron                                                                                                                                            </td><td> NA</td><td> 67</td><td> 95</td><td>      NA</td><td>1</td></tr>\n",
       "\t<tr><th scope=row>46</th><td>28013</td><td>Sol        </td><td>Apartment  </td><td>Entire home/apt</td><td> 2</td><td>1</td><td>1</td><td> 1</td><td>Real Bed     </td><td>TV,Internet,Wireless Internet,Air conditioning,Kitchen,Elevator in building,Buzzer/wireless intercom,Heating,Family/kid friendly,Washer,First aid kit,Essentials,Shampoo,Hair dryer,Iron                                                                                                                                                                        </td><td>269</td><td> 65</td><td> 93</td><td>24.99091</td><td>1</td></tr>\n",
       "\t<tr><th scope=row>⋮</th><td>⋮</td><td>⋮</td><td>⋮</td><td>⋮</td><td>⋮</td><td>⋮</td><td>⋮</td><td>⋮</td><td>⋮</td><td>⋮</td><td>⋮</td><td>⋮</td><td>⋮</td><td>⋮</td><td>⋮</td></tr>\n",
       "\t<tr><th scope=row>13157</th><td>28010</td><td>Almagro             </td><td>Apartment  </td><td>Entire home/apt</td><td> 2</td><td>1.0</td><td>0</td><td> 1</td><td>Pull-out Sofa</td><td>TV,Wireless Internet,Kitchen,Buzzer/wireless intercom,Heating,Essentials,Hangers,Iron,translation missing: en.hosting_amenity_49,translation missing: en.hosting_amenity_50                                                                                                                                          </td><td> NA</td><td> 30</td><td> 83</td><td>      NA</td><td>1</td></tr>\n",
       "\t<tr><th scope=row>13158</th><td>28010</td><td>Almagro             </td><td>Apartment  </td><td>Entire home/apt</td><td> 2</td><td>1.0</td><td>1</td><td> 1</td><td>Real Bed     </td><td>TV,Internet,Wireless Internet,Air conditioning,Kitchen,Pets allowed,Doorman,Elevator in building,Buzzer/wireless intercom,Heating,Family/kid friendly,Washer,Essentials,Hangers,Iron,Laptop friendly workspace,translation missing: en.hosting_amenity_49                                                            </td><td> NA</td><td> 45</td><td>100</td><td>      NA</td><td>1</td></tr>\n",
       "\t<tr><th scope=row>13159</th><td>28003</td><td>Rios Rosas          </td><td>Apartment  </td><td>Entire home/apt</td><td> 3</td><td>1.0</td><td>1</td><td> 1</td><td>Real Bed     </td><td>TV,Internet,Wireless Internet,Air conditioning,Kitchen,Elevator in building,Buzzer/wireless intercom,Heating,Family/kid friendly,Washer,Fire extinguisher,Essentials,24-hour check-in,Hangers,Hair dryer,Iron,Laptop friendly workspace                                                                              </td><td> NA</td><td> 39</td><td> 94</td><td>      NA</td><td>1</td></tr>\n",
       "\t<tr><th scope=row>13167</th><td>28008</td><td>Argüelles           </td><td>House      </td><td>Entire home/apt</td><td> 3</td><td>1.0</td><td>1</td><td> 2</td><td>Real Bed     </td><td>TV,Internet,Wireless Internet,Air conditioning,Kitchen,Elevator in building,Heating,Washer,Smoke detector,Fire extinguisher,Essentials,Hangers,Hair dryer,Iron,Laptop friendly workspace                                                                                                                             </td><td> NA</td><td>105</td><td> NA</td><td>      NA</td><td>1</td></tr>\n",
       "\t<tr><th scope=row>13168</th><td>28008</td><td>Argüelles           </td><td>House      </td><td>Entire home/apt</td><td> 5</td><td>1.0</td><td>3</td><td> 4</td><td>Real Bed     </td><td>TV,Internet,Wireless Internet,Wheelchair accessible,Kitchen,Smoking allowed,Doorman,Elevator in building,Buzzer/wireless intercom,Heating,Family/kid friendly,Washer,Fire extinguisher,Essentials,Shampoo,24-hour check-in,Hangers,Hair dryer,Iron,Laptop friendly workspace                                         </td><td> NA</td><td>139</td><td> 92</td><td>      NA</td><td>1</td></tr>\n",
       "\t<tr><th scope=row>13169</th><td>28008</td><td>Argüelles           </td><td>Apartment  </td><td>Entire home/apt</td><td> 4</td><td>1.0</td><td>1</td><td> 1</td><td>Real Bed     </td><td>TV,Wireless Internet,Kitchen,Elevator in building,Heating,Family/kid friendly,Washer,Dryer,Essentials,Shampoo,24-hour check-in,Hangers,Hair dryer,Iron,Laptop friendly workspace                                                                                                                                     </td><td> NA</td><td> 61</td><td> 92</td><td>      NA</td><td>1</td></tr>\n",
       "\t<tr><th scope=row>13175</th><td>28003</td><td>Ciudad Universitaria</td><td>Loft       </td><td>Entire home/apt</td><td> 3</td><td>1.0</td><td>1</td><td> 2</td><td>Real Bed     </td><td>TV,Wireless Internet,Kitchen,Breakfast,Elevator in building,Buzzer/wireless intercom,Heating,Family/kid friendly,Washer,Essentials,Shampoo,Hangers,Iron,Laptop friendly workspace                                                                                                                                    </td><td> NA</td><td> 55</td><td>100</td><td>      NA</td><td>1</td></tr>\n",
       "\t<tr><th scope=row>13176</th><td>28038</td><td>Numancia            </td><td>Apartment  </td><td>Entire home/apt</td><td> 6</td><td>1.0</td><td>3</td><td> 4</td><td>Real Bed     </td><td>TV,Internet,Wireless Internet,Air conditioning,Kitchen,Buzzer/wireless intercom,Heating,Family/kid friendly,Washer,First aid kit,Essentials,Shampoo,Hangers,Hair dryer,Iron,Laptop friendly workspace                                                                                                                </td><td> NA</td><td> 65</td><td> 94</td><td>      NA</td><td>1</td></tr>\n",
       "\t<tr><th scope=row>13179</th><td>28023</td><td>Aravaca             </td><td>Condominium</td><td>Entire home/apt</td><td> 3</td><td>1.0</td><td>1</td><td> 3</td><td>Real Bed     </td><td>TV,Internet,Wireless Internet,Pool,Kitchen,Free parking on premises,Doorman,Heating,Family/kid friendly,Washer,Essentials,24-hour check-in,Hangers,Iron,Laptop friendly workspace,Private entrance                                                                                                                   </td><td> NA</td><td> 50</td><td>100</td><td>      NA</td><td>1</td></tr>\n",
       "\t<tr><th scope=row>13183</th><td>28004</td><td>Universidad         </td><td>Other      </td><td>Entire home/apt</td><td> 3</td><td>1.0</td><td>1</td><td> 1</td><td>Real Bed     </td><td>TV,Internet,Wireless Internet,Air conditioning,Kitchen,Smoking allowed,Pets allowed,Elevator in building,Buzzer/wireless intercom,Heating,Family/kid friendly,Washer,Dryer,Fire extinguisher,Essentials,24-hour check-in,Hangers,Hair dryer,Iron                                                                     </td><td> NA</td><td> 43</td><td> 83</td><td>      NA</td><td>1</td></tr>\n",
       "\t<tr><th scope=row>13184</th><td>28004</td><td>Universidad         </td><td>Apartment  </td><td>Entire home/apt</td><td> 3</td><td>1.0</td><td>1</td><td> 1</td><td>Real Bed     </td><td>TV,Internet,Wireless Internet,Kitchen,Buzzer/wireless intercom,Heating,Washer,Dryer,Essentials,Shampoo,24-hour check-in,Hangers,Hair dryer,Iron,Laptop friendly workspace,translation missing: en.hosting_amenity_49,translation missing: en.hosting_amenity_50                                                      </td><td> NA</td><td> 80</td><td> 96</td><td>      NA</td><td>1</td></tr>\n",
       "\t<tr><th scope=row>13185</th><td>28004</td><td>Universidad         </td><td>Apartment  </td><td>Entire home/apt</td><td> 2</td><td>1.0</td><td>1</td><td> 1</td><td>Real Bed     </td><td>TV,Internet,Wireless Internet,Air conditioning,Kitchen,Elevator in building,Heating,Washer,Dryer,First aid kit,Essentials,Hangers,Hair dryer,Iron,translation missing: en.hosting_amenity_49,translation missing: en.hosting_amenity_50                                                                              </td><td> NA</td><td> 80</td><td> 99</td><td>      NA</td><td>1</td></tr>\n",
       "\t<tr><th scope=row>13186</th><td>28015</td><td>Universidad         </td><td>Apartment  </td><td>Entire home/apt</td><td> 4</td><td>1.0</td><td>1</td><td> 2</td><td>Real Bed     </td><td>TV,Internet,Wireless Internet,Air conditioning,Kitchen,Elevator in building,Heating,Family/kid friendly,Washer,Smoke detector,Fire extinguisher,Essentials,Shampoo,Lock on bedroom door,Hangers,Hair dryer,Iron                                                                                                      </td><td> NA</td><td>100</td><td>100</td><td>      NA</td><td>1</td></tr>\n",
       "\t<tr><th scope=row>13187</th><td>28015</td><td>Universidad         </td><td>Apartment  </td><td>Entire home/apt</td><td> 2</td><td>1.0</td><td>1</td><td> 2</td><td>Real Bed     </td><td>TV,Wireless Internet,Air conditioning,Kitchen,Elevator in building,Buzzer/wireless intercom,Heating,Family/kid friendly,Washer                                                                                                                                                                                       </td><td>291</td><td> 50</td><td> 87</td><td>27.03477</td><td>1</td></tr>\n",
       "\t<tr><th scope=row>13188</th><td>28015</td><td>Universidad         </td><td>Apartment  </td><td>Entire home/apt</td><td> 5</td><td>1.0</td><td>2</td><td> 3</td><td>Real Bed     </td><td>TV,Internet,Wireless Internet,Kitchen,Smoking allowed,Elevator in building,Buzzer/wireless intercom,Heating,Family/kid friendly,Washer,First aid kit,Essentials,Shampoo,24-hour check-in,Hangers,Hair dryer,Iron,Laptop friendly workspace                                                                           </td><td> NA</td><td> 85</td><td> 90</td><td>      NA</td><td>1</td></tr>\n",
       "\t<tr><th scope=row>13190</th><td>28015</td><td>Universidad         </td><td>Apartment  </td><td>Entire home/apt</td><td> 4</td><td>1.0</td><td>1</td><td> 2</td><td>Real Bed     </td><td>TV,Wireless Internet,Air conditioning,Kitchen,Smoking allowed,Heating,Family/kid friendly,Washer,Dryer,Smoke detector,First aid kit,Essentials,Shampoo,Hangers,Hair dryer,Iron                                                                                                                                       </td><td> NA</td><td> 60</td><td>100</td><td>      NA</td><td>1</td></tr>\n",
       "\t<tr><th scope=row>13191</th><td>28013</td><td>Universidad         </td><td>Apartment  </td><td>Entire home/apt</td><td> 2</td><td>1.0</td><td>1</td><td> 1</td><td>Real Bed     </td><td>TV,Wireless Internet,Air conditioning,Kitchen,Elevator in building,Heating,Washer,Dryer,Essentials,Shampoo,Hangers,Hair dryer,Iron,Laptop friendly workspace,translation missing: en.hosting_amenity_49,translation missing: en.hosting_amenity_50                                                                   </td><td> NA</td><td>145</td><td> NA</td><td>      NA</td><td>1</td></tr>\n",
       "\t<tr><th scope=row>13192</th><td>28004</td><td>Universidad         </td><td>Apartment  </td><td>Entire home/apt</td><td> 4</td><td>1.0</td><td>1</td><td> 2</td><td>Real Bed     </td><td>TV,Internet,Wireless Internet,Air conditioning,Kitchen,Pets allowed,Indoor fireplace,Buzzer/wireless intercom,Heating,Family/kid friendly,Washer,Smoke detector,Carbon monoxide detector,Essentials,Shampoo,24-hour check-in,Hangers,Hair dryer,Iron,Laptop friendly workspace                                       </td><td> NA</td><td> 62</td><td> 91</td><td>      NA</td><td>1</td></tr>\n",
       "\t<tr><th scope=row>13193</th><td>28004</td><td>Universidad         </td><td>Apartment  </td><td>Entire home/apt</td><td>14</td><td>5.5</td><td>5</td><td>10</td><td>Real Bed     </td><td>TV,Internet,Wireless Internet,Air conditioning,Kitchen,Smoking allowed,Elevator in building,Indoor fireplace,Family/kid friendly,Washer,Dryer,First aid kit,Fire extinguisher,Essentials                                                                                                                             </td><td> NA</td><td>300</td><td> 94</td><td>      NA</td><td>1</td></tr>\n",
       "\t<tr><th scope=row>13195</th><td>28004</td><td>Universidad         </td><td>Apartment  </td><td>Entire home/apt</td><td> 3</td><td>1.0</td><td>1</td><td> 2</td><td>Real Bed     </td><td>TV,Wireless Internet,Kitchen,Buzzer/wireless intercom,Heating,Family/kid friendly,Washer,Smoke detector,Essentials,Shampoo,24-hour check-in,Hangers,Laptop friendly workspace,translation missing: en.hosting_amenity_50                                                                                             </td><td> NA</td><td> 62</td><td> 81</td><td>      NA</td><td>1</td></tr>\n",
       "\t<tr><th scope=row>13198</th><td>28004</td><td>Universidad         </td><td>Apartment  </td><td>Entire home/apt</td><td> 4</td><td>1.0</td><td>2</td><td> 4</td><td>Pull-out Sofa</td><td>TV,Internet,Wireless Internet,Air conditioning,Kitchen,Smoking allowed,Pets allowed,Elevator in building,Heating,Family/kid friendly,Washer,Dryer,Essentials,Shampoo,Hangers,Hair dryer,Iron                                                                                                                         </td><td> NA</td><td> 90</td><td> 90</td><td>      NA</td><td>1</td></tr>\n",
       "\t<tr><th scope=row>13199</th><td>28004</td><td>Universidad         </td><td>Apartment  </td><td>Entire home/apt</td><td> 4</td><td>1.0</td><td>2</td><td> 2</td><td>Real Bed     </td><td>TV,Internet,Wireless Internet,Air conditioning,Kitchen,Smoking allowed,Pets allowed,Buzzer/wireless intercom,Heating,Family/kid friendly,Washer,Dryer,Essentials,Hangers,Hair dryer,Iron                                                                                                                             </td><td> NA</td><td> 70</td><td> 87</td><td>      NA</td><td>1</td></tr>\n",
       "\t<tr><th scope=row>13200</th><td>28004</td><td>Universidad         </td><td>Apartment  </td><td>Entire home/apt</td><td> 2</td><td>1.0</td><td>1</td><td> 1</td><td>Real Bed     </td><td>TV,Internet,Wireless Internet,Air conditioning,Kitchen,Smoking allowed,Pets allowed,Elevator in building,Heating,Family/kid friendly,Washer,First aid kit,Fire extinguisher,Essentials,Lock on bedroom door,Hangers,Hair dryer,Iron                                                                                  </td><td> NA</td><td> 40</td><td> 82</td><td>      NA</td><td>1</td></tr>\n",
       "\t<tr><th scope=row>13201</th><td>28004</td><td>Universidad         </td><td>Loft       </td><td>Entire home/apt</td><td> 2</td><td>1.0</td><td>1</td><td> 2</td><td>Real Bed     </td><td>Internet,Wireless Internet,Smoking allowed,Breakfast,Elevator in building,Heating,Shampoo,Hangers,Hair dryer,Iron,Laptop friendly workspace,translation missing: en.hosting_amenity_49,translation missing: en.hosting_amenity_50                                                                                    </td><td> NA</td><td> 30</td><td> NA</td><td>      NA</td><td>1</td></tr>\n",
       "\t<tr><th scope=row>13202</th><td>28004</td><td>Universidad         </td><td>Apartment  </td><td>Entire home/apt</td><td> 4</td><td>1.0</td><td>1</td><td> 2</td><td>Real Bed     </td><td>TV,Wireless Internet,Air conditioning,Kitchen,Smoking allowed,Pets allowed,Heating,Family/kid friendly,Washer,Fire extinguisher,Essentials,Lock on bedroom door,Hangers,Hair dryer,Iron                                                                                                                              </td><td> NA</td><td> 48</td><td> 83</td><td>      NA</td><td>1</td></tr>\n",
       "\t<tr><th scope=row>13203</th><td>28015</td><td>Universidad         </td><td>Apartment  </td><td>Entire home/apt</td><td> 2</td><td>1.0</td><td>1</td><td> 1</td><td>Real Bed     </td><td>TV,Internet,Wireless Internet,Air conditioning,Kitchen,Elevator in building,Buzzer/wireless intercom,Heating,Washer,Dryer,Smoke detector,Fire extinguisher,Essentials,Shampoo,Hangers,Hair dryer,Iron,Laptop friendly workspace,translation missing: en.hosting_amenity_49,translation missing: en.hosting_amenity_50</td><td> NA</td><td> 35</td><td> 90</td><td>      NA</td><td>1</td></tr>\n",
       "\t<tr><th scope=row>13204</th><td>28004</td><td>Universidad         </td><td>Apartment  </td><td>Entire home/apt</td><td> 3</td><td>1.0</td><td>1</td><td> 2</td><td>Real Bed     </td><td>TV,Wireless Internet,Air conditioning,Kitchen,Elevator in building,Buzzer/wireless intercom,Heating,Family/kid friendly,Washer,Dryer,Smoke detector,Carbon monoxide detector,Fire extinguisher,Essentials,Shampoo,24-hour check-in,Hangers,Hair dryer,Iron,Laptop friendly workspace                                 </td><td> NA</td><td> 79</td><td> 97</td><td>      NA</td><td>1</td></tr>\n",
       "\t<tr><th scope=row>13205</th><td>28013</td><td>Universidad         </td><td>Apartment  </td><td>Entire home/apt</td><td> 4</td><td>1.0</td><td>1</td><td> 1</td><td>Real Bed     </td><td>TV,Wireless Internet,Air conditioning,Pool,Kitchen,Doorman,Gym,Elevator in building,Buzzer/wireless intercom,Heating,Washer,First aid kit,Safety card,Essentials,Shampoo,Hangers,Hair dryer,Iron,Laptop friendly workspace                                                                                           </td><td> NA</td><td>150</td><td>100</td><td>      NA</td><td>1</td></tr>\n",
       "\t<tr><th scope=row>13206</th><td>28004</td><td>Universidad         </td><td>Loft       </td><td>Entire home/apt</td><td> 2</td><td>1.0</td><td>0</td><td> 1</td><td>Real Bed     </td><td>TV,Internet,Wireless Internet,Kitchen,Smoking allowed,Pets allowed,Elevator in building,Heating,Family/kid friendly,Washer,First aid kit,Essentials,Shampoo                                                                                                                                                          </td><td> NA</td><td> 80</td><td> 91</td><td>      NA</td><td>1</td></tr>\n",
       "\t<tr><th scope=row>13207</th><td>28004</td><td>Universidad         </td><td>Apartment  </td><td>Entire home/apt</td><td> 3</td><td>1.0</td><td>0</td><td> 2</td><td>Real Bed     </td><td>TV,Internet,Wireless Internet,Air conditioning,Kitchen,Heating,Family/kid friendly,Washer                                                                                                                                                                                                                            </td><td> NA</td><td> 69</td><td> 80</td><td>      NA</td><td>1</td></tr>\n",
       "</tbody>\n",
       "</table>\n"
      ],
      "text/latex": [
       "A data.frame: 7903 × 15\n",
       "\\begin{tabular}{r|lllllllllllllll}\n",
       "  & CodigoPostal & Barrio & TipoPropiedad & TipoAlquiler & MaxOcupantes & NumBanyos & NumDormitorios & NumCamas & TipoCama & Comodidades & PiesCuadrados & Precio & Puntuacion & MetrosCuadrados & contador\\\\\n",
       "  & <chr> & <chr> & <fct> & <fct> & <int> & <dbl> & <int> & <int> & <fct> & <fct> & <int> & <int> & <int> & <dbl> & <dbl>\\\\\n",
       "\\hline\n",
       "\t2 & 28004 & Universidad & Apartment   & Entire home/apt &  6 & 1 & 3 &  5 & Real Bed      & TV,Internet,Wireless Internet,Air conditioning,Kitchen,Indoor fireplace,Heating,Family/kid friendly,Washer,Dryer,Smoke detector,Carbon monoxide detector,Essentials,Shampoo                                                                                                                                                                                      &  NA &  92 &  96 &       NA & 1\\\\\n",
       "\t3 & 28004 & Universidad & Apartment   & Entire home/apt &  3 & 1 & 2 &  2 & Real Bed      & TV,Internet,Wireless Internet,Air conditioning,Kitchen,Doorman,Heating,Family/kid friendly,Washer,Essentials,Shampoo,Hangers,Hair dryer,Iron,Laptop friendly workspace                                                                                                                                                                                           &  NA &  55 &  91 &       NA & 1\\\\\n",
       "\t4 & 28004 & Universidad & Loft        & Entire home/apt &  3 & 2 & 1 &  1 & Real Bed      & TV,Internet,Wireless Internet,Air conditioning,Kitchen,Pets allowed,Breakfast,Elevator in building,Indoor fireplace,Buzzer/wireless intercom,Heating,Washer,Essentials,Shampoo,Hangers,Hair dryer,Iron,Laptop friendly workspace,translation missing: en.hosting\\_amenity\\_49,translation missing: en.hosting\\_amenity\\_50                                           &  NA &  60 & 100 &       NA & 1\\\\\n",
       "\t5 & 28015 & Universidad & Apartment   & Entire home/apt &  5 & 1 & 1 &  1 & Real Bed      & TV,Wireless Internet,Air conditioning,Kitchen,Smoking allowed,Pets allowed,Elevator in building,Heating,Family/kid friendly,Washer,Essentials,Iron                                                                                                                                                                                                               & 538 &  75 &  90 & 49.98181 & 1\\\\\n",
       "\t6 & 28004 & Universidad & Apartment   & Entire home/apt &  2 & 1 & 0 &  1 & Real Bed      & TV,Cable TV,Internet,Wireless Internet,Air conditioning,Wheelchair accessible,Kitchen,Doorman,Elevator in building,Buzzer/wireless intercom,Heating,Washer,Smoke detector,Carbon monoxide detector,First aid kit,Safety card,Fire extinguisher,Essentials,Shampoo,24-hour check-in,Hangers,Hair dryer,Iron,Laptop friendly workspace,Self Check-In,Doorman Entry &  NA &  55 &  95 &       NA & 1\\\\\n",
       "\t8 & 28004 & Universidad & Apartment   & Entire home/apt &  3 & 1 & 1 & NA & Real Bed      & TV,Wireless Internet,Air conditioning,Kitchen,Elevator in building,Buzzer/wireless intercom,Heating,Washer                                                                                                                                                                                                                                                       &  NA &  70 &  84 &       NA & 1\\\\\n",
       "\t9 & 28015 & Universidad & Apartment   & Entire home/apt &  2 & 1 & 1 &  1 & Real Bed      & TV,Internet,Wireless Internet,Kitchen,Elevator in building,Buzzer/wireless intercom,Heating,Family/kid friendly,Washer,Dryer,Essentials,Shampoo,translation missing: en.hosting\\_amenity\\_49                                                                                                                                                                       & 700 &  90 &  98 & 65.03210 & 1\\\\\n",
       "\t10 & 28004 & Universidad & Apartment   & Entire home/apt &  4 & 2 & 2 &  2 & Real Bed      & TV,Wireless Internet,Air conditioning,Kitchen,Elevator in building,Hot tub,Heating,Family/kid friendly,Washer,Dryer,Essentials,Hair dryer,Iron                                                                                                                                                                                                                   &  NA & 155 &  NA &       NA & 1\\\\\n",
       "\t11 & 28004 & Universidad & Apartment   & Entire home/apt &  4 & 1 & 1 &  2 & Real Bed      & TV,Wireless Internet,Air conditioning,Wheelchair accessible,Kitchen,Elevator in building,Buzzer/wireless intercom,Heating,Family/kid friendly,Washer,Essentials,Shampoo                                                                                                                                                                                          &  40 &  70 &  90 &  3.71612 & 1\\\\\n",
       "\t15 & 28013 & Sol         & Apartment   & Entire home/apt &  4 & 1 & 1 &  1 & Real Bed      & TV,Wireless Internet,Air conditioning,Kitchen,Doorman,Elevator in building,Buzzer/wireless intercom,Heating,Family/kid friendly,Suitable for events,Washer,Essentials,Hangers,Hair dryer,Iron                                                                                                                                                                    & 646 &  75 &  91 & 60.01534 & 1\\\\\n",
       "\t16 & 28013 & Sol         & Condominium & Entire home/apt &  6 & 1 & 2 &  3 & Real Bed      & TV,Wireless Internet,Air conditioning,Kitchen,Doorman,Elevator in building,Buzzer/wireless intercom,Heating,Family/kid friendly,Washer,Dryer,Essentials,Shampoo,Hangers,Hair dryer,Iron                                                                                                                                                                          &  NA & 130 & 100 &       NA & 1\\\\\n",
       "\t17 & 28013 & Sol         & Apartment   & Entire home/apt &  4 & 1 & 1 &  2 & Real Bed      & TV,Internet,Wireless Internet,Air conditioning,Kitchen,Doorman,Elevator in building,Buzzer/wireless intercom,Heating,Family/kid friendly,Washer,Smoke detector,Carbon monoxide detector,First aid kit,Safety card,Fire extinguisher,Essentials,Shampoo,24-hour check-in,Hangers,Hair dryer,Iron,Laptop friendly workspace                                        &  NA & 100 &  97 &       NA & 1\\\\\n",
       "\t18 & 28012 & Sol         & Apartment   & Entire home/apt &  6 & 1 & 2 &  2 & Real Bed      & TV,Internet,Wireless Internet,Air conditioning,Kitchen,Smoking allowed,Elevator in building,Buzzer/wireless intercom,Heating,Family/kid friendly,Washer,Dryer,Essentials,Shampoo,Hangers,Hair dryer,Iron,Laptop friendly workspace                                                                                                                               &  NA & 160 &  95 &       NA & 1\\\\\n",
       "\t19 & 28013 & Sol         & Apartment   & Entire home/apt &  4 & 1 & 1 &  2 & Real Bed      & TV,Internet,Wireless Internet,Air conditioning,Kitchen,Heating,Washer,Essentials,Hangers,Hair dryer,translation missing: en.hosting\\_amenity\\_50                                                                                                                                                                                                                   &  NA &  49 &  95 &       NA & 1\\\\\n",
       "\t21 & 28013 & Sol         & Apartment   & Entire home/apt &  4 & 1 & 1 &  2 & Real Bed      & TV,Wireless Internet,Kitchen,Pets allowed,Elevator in building,Heating,Family/kid friendly,Washer,Essentials,Shampoo,Hangers,Hair dryer,Laptop friendly workspace                                                                                                                                                                                                &  NA &  70 &  88 &       NA & 1\\\\\n",
       "\t22 & 28005 & Sol         & Apartment   & Entire home/apt & 10 & 2 & 4 &  7 & Real Bed      & TV,Internet,Wireless Internet,Air conditioning,Kitchen,Heating,Family/kid friendly,Washer,Essentials                                                                                                                                                                                                                                                             &  NA & 210 &  81 &       NA & 1\\\\\n",
       "\t23 & 28013 & Sol         & Apartment   & Entire home/apt &  6 & 1 & 2 &  4 & Real Bed      & TV,Internet,Wireless Internet,Air conditioning,Kitchen,Smoking allowed,Pets allowed,Doorman,Elevator in building,Buzzer/wireless intercom,Heating,Family/kid friendly,Washer,First aid kit,Safety card,Essentials,Shampoo,Hangers,Hair dryer,Iron                                                                                                                &  NA & 120 &  99 &       NA & 1\\\\\n",
       "\t24 & 28012 & Sol         & Apartment   & Entire home/apt &  4 & 1 & 1 &  2 & Real Bed      & TV,Internet,Wireless Internet,Air conditioning,Kitchen,Elevator in building,Heating,Family/kid friendly,Washer,Smoke detector,Carbon monoxide detector,Essentials,Shampoo,24-hour check-in,Hangers,Hair dryer,Iron,Laptop friendly workspace                                                                                                                     &  NA &  50 &  91 &       NA & 1\\\\\n",
       "\t25 & 28012 & Sol         & Apartment   & Entire home/apt &  4 & 1 & 1 &  1 & Real Bed      & TV,Cable TV,Internet,Wireless Internet,Air conditioning,Kitchen,Elevator in building,Buzzer/wireless intercom,Heating,Family/kid friendly,Washer,Essentials,Hair dryer,Iron                                                                                                                                                                                      & 753 & 100 &  87 & 69.95596 & 1\\\\\n",
       "\t26 & 28013 & Sol         & Apartment   & Entire home/apt &  4 & 1 & 1 &  2 & Real Bed      & TV,Internet,Wireless Internet,Air conditioning,Kitchen,Breakfast,Elevator in building,Heating,Family/kid friendly,Washer,First aid kit,Fire extinguisher,Essentials,Shampoo,Hangers,Hair dryer,Iron,Laptop friendly workspace                                                                                                                                    &  NA &  75 & 100 &       NA & 1\\\\\n",
       "\t27 & 28014 & Sol         & Condominium & Entire home/apt &  8 & 2 & 2 &  5 & Real Bed      & TV,Internet,Wireless Internet,Air conditioning,Wheelchair accessible,Kitchen,Doorman,Elevator in building,Buzzer/wireless intercom,Heating,Family/kid friendly,Washer,Smoke detector,Carbon monoxide detector,Essentials,Shampoo,24-hour check-in,Hangers,Hair dryer,Iron,Laptop friendly workspace                                                              &  NA & 155 &  93 &       NA & 1\\\\\n",
       "\t28 & 28013 & Sol         & Apartment   & Entire home/apt &  6 & 2 & 2 &  3 & Real Bed      & TV,Internet,Wireless Internet,Air conditioning,Wheelchair accessible,Kitchen,Doorman,Elevator in building,Buzzer/wireless intercom,Heating,Family/kid friendly,Washer,Dryer,Essentials,Hangers,Hair dryer,Iron                                                                                                                                                   &  NA & 155 &  80 &       NA & 1\\\\\n",
       "\t30 & 28005 & Sol         & Apartment   & Entire home/apt &  8 & 1 & 3 &  4 & Real Bed      & TV,Internet,Wireless Internet,Kitchen,Breakfast,Elevator in building,Buzzer/wireless intercom,Heating,Family/kid friendly,Washer,Essentials,Shampoo,Hangers,Hair dryer,Iron,Laptop friendly workspace,Self Check-In,Lockbox                                                                                                                                      &  NA & 163 & 100 &       NA & 1\\\\\n",
       "\t31 & 28005 & Imperial    & Apartment   & Entire home/apt &  3 & 1 & 1 &  1 & Real Bed      & TV,Internet,Wireless Internet,Kitchen,Pets allowed,Elevator in building,Heating,Family/kid friendly,Washer,Fire extinguisher,Essentials,Shampoo,Hangers,Hair dryer,Iron,Laptop friendly workspace,translation missing: en.hosting\\_amenity\\_50                                                                                                                     &  NA &  70 &  95 &       NA & 1\\\\\n",
       "\t32 & 28005 & Imperial    & Apartment   & Entire home/apt &  3 & 1 & 2 &  2 & Real Bed      & TV,Wireless Internet,Kitchen,Heating,Family/kid friendly,Washer,Essentials,Hair dryer,translation missing: en.hosting\\_amenity\\_50                                                                                                                                                                                                                                 &  NA &  49 &  88 &       NA & 1\\\\\n",
       "\t36 & 28005 & Acacias     & House       & Entire home/apt &  4 & 2 & 2 &  4 & Real Bed      & TV,Wireless Internet,Air conditioning,Wheelchair accessible,Kitchen,Doorman,Elevator in building,Buzzer/wireless intercom,Heating,Washer,Essentials,Shampoo,Hangers,Hair dryer,Iron,Laptop friendly workspace                                                                                                                                                    &  NA &  90 &  92 &       NA & 1\\\\\n",
       "\t43 & 28013 & Sol         & Apartment   & Entire home/apt &  4 & 1 & 1 &  1 & Pull-out Sofa & TV,Internet,Wireless Internet,Air conditioning,Kitchen,Elevator in building,Buzzer/wireless intercom,Heating,Family/kid friendly,Washer,Smoke detector,Carbon monoxide detector,First aid kit,Essentials,Shampoo,24-hour check-in,Hangers,Hair dryer,Iron,Laptop friendly workspace,translation missing: en.hosting\\_amenity\\_50                                   &  NA &  64 &  97 &       NA & 1\\\\\n",
       "\t44 & 28013 & Sol         & Apartment   & Entire home/apt &  6 & 2 & 2 &  2 & Real Bed      & TV,Wireless Internet,Air conditioning,Kitchen,Elevator in building,Heating,Washer,Essentials,Shampoo                                                                                                                                                                                                                                                             &  NA & 109 &  90 &       NA & 1\\\\\n",
       "\t45 & 28013 & Sol         & Apartment   & Entire home/apt &  3 & 1 & 1 &  2 & Real Bed      & TV,Internet,Wireless Internet,Air conditioning,Kitchen,Smoking allowed,Elevator in building,Buzzer/wireless intercom,Heating,Family/kid friendly,Washer,Fire extinguisher,Essentials,Shampoo,Hangers,Hair dryer,Iron                                                                                                                                             &  NA &  67 &  95 &       NA & 1\\\\\n",
       "\t46 & 28013 & Sol         & Apartment   & Entire home/apt &  2 & 1 & 1 &  1 & Real Bed      & TV,Internet,Wireless Internet,Air conditioning,Kitchen,Elevator in building,Buzzer/wireless intercom,Heating,Family/kid friendly,Washer,First aid kit,Essentials,Shampoo,Hair dryer,Iron                                                                                                                                                                         & 269 &  65 &  93 & 24.99091 & 1\\\\\n",
       "\t⋮ & ⋮ & ⋮ & ⋮ & ⋮ & ⋮ & ⋮ & ⋮ & ⋮ & ⋮ & ⋮ & ⋮ & ⋮ & ⋮ & ⋮ & ⋮\\\\\n",
       "\t13157 & 28010 & Almagro              & Apartment   & Entire home/apt &  2 & 1.0 & 0 &  1 & Pull-out Sofa & TV,Wireless Internet,Kitchen,Buzzer/wireless intercom,Heating,Essentials,Hangers,Iron,translation missing: en.hosting\\_amenity\\_49,translation missing: en.hosting\\_amenity\\_50                                                                                                                                           &  NA &  30 &  83 &       NA & 1\\\\\n",
       "\t13158 & 28010 & Almagro              & Apartment   & Entire home/apt &  2 & 1.0 & 1 &  1 & Real Bed      & TV,Internet,Wireless Internet,Air conditioning,Kitchen,Pets allowed,Doorman,Elevator in building,Buzzer/wireless intercom,Heating,Family/kid friendly,Washer,Essentials,Hangers,Iron,Laptop friendly workspace,translation missing: en.hosting\\_amenity\\_49                                                             &  NA &  45 & 100 &       NA & 1\\\\\n",
       "\t13159 & 28003 & Rios Rosas           & Apartment   & Entire home/apt &  3 & 1.0 & 1 &  1 & Real Bed      & TV,Internet,Wireless Internet,Air conditioning,Kitchen,Elevator in building,Buzzer/wireless intercom,Heating,Family/kid friendly,Washer,Fire extinguisher,Essentials,24-hour check-in,Hangers,Hair dryer,Iron,Laptop friendly workspace                                                                               &  NA &  39 &  94 &       NA & 1\\\\\n",
       "\t13167 & 28008 & Argüelles            & House       & Entire home/apt &  3 & 1.0 & 1 &  2 & Real Bed      & TV,Internet,Wireless Internet,Air conditioning,Kitchen,Elevator in building,Heating,Washer,Smoke detector,Fire extinguisher,Essentials,Hangers,Hair dryer,Iron,Laptop friendly workspace                                                                                                                              &  NA & 105 &  NA &       NA & 1\\\\\n",
       "\t13168 & 28008 & Argüelles            & House       & Entire home/apt &  5 & 1.0 & 3 &  4 & Real Bed      & TV,Internet,Wireless Internet,Wheelchair accessible,Kitchen,Smoking allowed,Doorman,Elevator in building,Buzzer/wireless intercom,Heating,Family/kid friendly,Washer,Fire extinguisher,Essentials,Shampoo,24-hour check-in,Hangers,Hair dryer,Iron,Laptop friendly workspace                                          &  NA & 139 &  92 &       NA & 1\\\\\n",
       "\t13169 & 28008 & Argüelles            & Apartment   & Entire home/apt &  4 & 1.0 & 1 &  1 & Real Bed      & TV,Wireless Internet,Kitchen,Elevator in building,Heating,Family/kid friendly,Washer,Dryer,Essentials,Shampoo,24-hour check-in,Hangers,Hair dryer,Iron,Laptop friendly workspace                                                                                                                                      &  NA &  61 &  92 &       NA & 1\\\\\n",
       "\t13175 & 28003 & Ciudad Universitaria & Loft        & Entire home/apt &  3 & 1.0 & 1 &  2 & Real Bed      & TV,Wireless Internet,Kitchen,Breakfast,Elevator in building,Buzzer/wireless intercom,Heating,Family/kid friendly,Washer,Essentials,Shampoo,Hangers,Iron,Laptop friendly workspace                                                                                                                                     &  NA &  55 & 100 &       NA & 1\\\\\n",
       "\t13176 & 28038 & Numancia             & Apartment   & Entire home/apt &  6 & 1.0 & 3 &  4 & Real Bed      & TV,Internet,Wireless Internet,Air conditioning,Kitchen,Buzzer/wireless intercom,Heating,Family/kid friendly,Washer,First aid kit,Essentials,Shampoo,Hangers,Hair dryer,Iron,Laptop friendly workspace                                                                                                                 &  NA &  65 &  94 &       NA & 1\\\\\n",
       "\t13179 & 28023 & Aravaca              & Condominium & Entire home/apt &  3 & 1.0 & 1 &  3 & Real Bed      & TV,Internet,Wireless Internet,Pool,Kitchen,Free parking on premises,Doorman,Heating,Family/kid friendly,Washer,Essentials,24-hour check-in,Hangers,Iron,Laptop friendly workspace,Private entrance                                                                                                                    &  NA &  50 & 100 &       NA & 1\\\\\n",
       "\t13183 & 28004 & Universidad          & Other       & Entire home/apt &  3 & 1.0 & 1 &  1 & Real Bed      & TV,Internet,Wireless Internet,Air conditioning,Kitchen,Smoking allowed,Pets allowed,Elevator in building,Buzzer/wireless intercom,Heating,Family/kid friendly,Washer,Dryer,Fire extinguisher,Essentials,24-hour check-in,Hangers,Hair dryer,Iron                                                                      &  NA &  43 &  83 &       NA & 1\\\\\n",
       "\t13184 & 28004 & Universidad          & Apartment   & Entire home/apt &  3 & 1.0 & 1 &  1 & Real Bed      & TV,Internet,Wireless Internet,Kitchen,Buzzer/wireless intercom,Heating,Washer,Dryer,Essentials,Shampoo,24-hour check-in,Hangers,Hair dryer,Iron,Laptop friendly workspace,translation missing: en.hosting\\_amenity\\_49,translation missing: en.hosting\\_amenity\\_50                                                       &  NA &  80 &  96 &       NA & 1\\\\\n",
       "\t13185 & 28004 & Universidad          & Apartment   & Entire home/apt &  2 & 1.0 & 1 &  1 & Real Bed      & TV,Internet,Wireless Internet,Air conditioning,Kitchen,Elevator in building,Heating,Washer,Dryer,First aid kit,Essentials,Hangers,Hair dryer,Iron,translation missing: en.hosting\\_amenity\\_49,translation missing: en.hosting\\_amenity\\_50                                                                               &  NA &  80 &  99 &       NA & 1\\\\\n",
       "\t13186 & 28015 & Universidad          & Apartment   & Entire home/apt &  4 & 1.0 & 1 &  2 & Real Bed      & TV,Internet,Wireless Internet,Air conditioning,Kitchen,Elevator in building,Heating,Family/kid friendly,Washer,Smoke detector,Fire extinguisher,Essentials,Shampoo,Lock on bedroom door,Hangers,Hair dryer,Iron                                                                                                       &  NA & 100 & 100 &       NA & 1\\\\\n",
       "\t13187 & 28015 & Universidad          & Apartment   & Entire home/apt &  2 & 1.0 & 1 &  2 & Real Bed      & TV,Wireless Internet,Air conditioning,Kitchen,Elevator in building,Buzzer/wireless intercom,Heating,Family/kid friendly,Washer                                                                                                                                                                                        & 291 &  50 &  87 & 27.03477 & 1\\\\\n",
       "\t13188 & 28015 & Universidad          & Apartment   & Entire home/apt &  5 & 1.0 & 2 &  3 & Real Bed      & TV,Internet,Wireless Internet,Kitchen,Smoking allowed,Elevator in building,Buzzer/wireless intercom,Heating,Family/kid friendly,Washer,First aid kit,Essentials,Shampoo,24-hour check-in,Hangers,Hair dryer,Iron,Laptop friendly workspace                                                                            &  NA &  85 &  90 &       NA & 1\\\\\n",
       "\t13190 & 28015 & Universidad          & Apartment   & Entire home/apt &  4 & 1.0 & 1 &  2 & Real Bed      & TV,Wireless Internet,Air conditioning,Kitchen,Smoking allowed,Heating,Family/kid friendly,Washer,Dryer,Smoke detector,First aid kit,Essentials,Shampoo,Hangers,Hair dryer,Iron                                                                                                                                        &  NA &  60 & 100 &       NA & 1\\\\\n",
       "\t13191 & 28013 & Universidad          & Apartment   & Entire home/apt &  2 & 1.0 & 1 &  1 & Real Bed      & TV,Wireless Internet,Air conditioning,Kitchen,Elevator in building,Heating,Washer,Dryer,Essentials,Shampoo,Hangers,Hair dryer,Iron,Laptop friendly workspace,translation missing: en.hosting\\_amenity\\_49,translation missing: en.hosting\\_amenity\\_50                                                                    &  NA & 145 &  NA &       NA & 1\\\\\n",
       "\t13192 & 28004 & Universidad          & Apartment   & Entire home/apt &  4 & 1.0 & 1 &  2 & Real Bed      & TV,Internet,Wireless Internet,Air conditioning,Kitchen,Pets allowed,Indoor fireplace,Buzzer/wireless intercom,Heating,Family/kid friendly,Washer,Smoke detector,Carbon monoxide detector,Essentials,Shampoo,24-hour check-in,Hangers,Hair dryer,Iron,Laptop friendly workspace                                        &  NA &  62 &  91 &       NA & 1\\\\\n",
       "\t13193 & 28004 & Universidad          & Apartment   & Entire home/apt & 14 & 5.5 & 5 & 10 & Real Bed      & TV,Internet,Wireless Internet,Air conditioning,Kitchen,Smoking allowed,Elevator in building,Indoor fireplace,Family/kid friendly,Washer,Dryer,First aid kit,Fire extinguisher,Essentials                                                                                                                              &  NA & 300 &  94 &       NA & 1\\\\\n",
       "\t13195 & 28004 & Universidad          & Apartment   & Entire home/apt &  3 & 1.0 & 1 &  2 & Real Bed      & TV,Wireless Internet,Kitchen,Buzzer/wireless intercom,Heating,Family/kid friendly,Washer,Smoke detector,Essentials,Shampoo,24-hour check-in,Hangers,Laptop friendly workspace,translation missing: en.hosting\\_amenity\\_50                                                                                              &  NA &  62 &  81 &       NA & 1\\\\\n",
       "\t13198 & 28004 & Universidad          & Apartment   & Entire home/apt &  4 & 1.0 & 2 &  4 & Pull-out Sofa & TV,Internet,Wireless Internet,Air conditioning,Kitchen,Smoking allowed,Pets allowed,Elevator in building,Heating,Family/kid friendly,Washer,Dryer,Essentials,Shampoo,Hangers,Hair dryer,Iron                                                                                                                          &  NA &  90 &  90 &       NA & 1\\\\\n",
       "\t13199 & 28004 & Universidad          & Apartment   & Entire home/apt &  4 & 1.0 & 2 &  2 & Real Bed      & TV,Internet,Wireless Internet,Air conditioning,Kitchen,Smoking allowed,Pets allowed,Buzzer/wireless intercom,Heating,Family/kid friendly,Washer,Dryer,Essentials,Hangers,Hair dryer,Iron                                                                                                                              &  NA &  70 &  87 &       NA & 1\\\\\n",
       "\t13200 & 28004 & Universidad          & Apartment   & Entire home/apt &  2 & 1.0 & 1 &  1 & Real Bed      & TV,Internet,Wireless Internet,Air conditioning,Kitchen,Smoking allowed,Pets allowed,Elevator in building,Heating,Family/kid friendly,Washer,First aid kit,Fire extinguisher,Essentials,Lock on bedroom door,Hangers,Hair dryer,Iron                                                                                   &  NA &  40 &  82 &       NA & 1\\\\\n",
       "\t13201 & 28004 & Universidad          & Loft        & Entire home/apt &  2 & 1.0 & 1 &  2 & Real Bed      & Internet,Wireless Internet,Smoking allowed,Breakfast,Elevator in building,Heating,Shampoo,Hangers,Hair dryer,Iron,Laptop friendly workspace,translation missing: en.hosting\\_amenity\\_49,translation missing: en.hosting\\_amenity\\_50                                                                                     &  NA &  30 &  NA &       NA & 1\\\\\n",
       "\t13202 & 28004 & Universidad          & Apartment   & Entire home/apt &  4 & 1.0 & 1 &  2 & Real Bed      & TV,Wireless Internet,Air conditioning,Kitchen,Smoking allowed,Pets allowed,Heating,Family/kid friendly,Washer,Fire extinguisher,Essentials,Lock on bedroom door,Hangers,Hair dryer,Iron                                                                                                                               &  NA &  48 &  83 &       NA & 1\\\\\n",
       "\t13203 & 28015 & Universidad          & Apartment   & Entire home/apt &  2 & 1.0 & 1 &  1 & Real Bed      & TV,Internet,Wireless Internet,Air conditioning,Kitchen,Elevator in building,Buzzer/wireless intercom,Heating,Washer,Dryer,Smoke detector,Fire extinguisher,Essentials,Shampoo,Hangers,Hair dryer,Iron,Laptop friendly workspace,translation missing: en.hosting\\_amenity\\_49,translation missing: en.hosting\\_amenity\\_50 &  NA &  35 &  90 &       NA & 1\\\\\n",
       "\t13204 & 28004 & Universidad          & Apartment   & Entire home/apt &  3 & 1.0 & 1 &  2 & Real Bed      & TV,Wireless Internet,Air conditioning,Kitchen,Elevator in building,Buzzer/wireless intercom,Heating,Family/kid friendly,Washer,Dryer,Smoke detector,Carbon monoxide detector,Fire extinguisher,Essentials,Shampoo,24-hour check-in,Hangers,Hair dryer,Iron,Laptop friendly workspace                                  &  NA &  79 &  97 &       NA & 1\\\\\n",
       "\t13205 & 28013 & Universidad          & Apartment   & Entire home/apt &  4 & 1.0 & 1 &  1 & Real Bed      & TV,Wireless Internet,Air conditioning,Pool,Kitchen,Doorman,Gym,Elevator in building,Buzzer/wireless intercom,Heating,Washer,First aid kit,Safety card,Essentials,Shampoo,Hangers,Hair dryer,Iron,Laptop friendly workspace                                                                                            &  NA & 150 & 100 &       NA & 1\\\\\n",
       "\t13206 & 28004 & Universidad          & Loft        & Entire home/apt &  2 & 1.0 & 0 &  1 & Real Bed      & TV,Internet,Wireless Internet,Kitchen,Smoking allowed,Pets allowed,Elevator in building,Heating,Family/kid friendly,Washer,First aid kit,Essentials,Shampoo                                                                                                                                                           &  NA &  80 &  91 &       NA & 1\\\\\n",
       "\t13207 & 28004 & Universidad          & Apartment   & Entire home/apt &  3 & 1.0 & 0 &  2 & Real Bed      & TV,Internet,Wireless Internet,Air conditioning,Kitchen,Heating,Family/kid friendly,Washer                                                                                                                                                                                                                             &  NA &  69 &  80 &       NA & 1\\\\\n",
       "\\end{tabular}\n"
      ],
      "text/markdown": [
       "\n",
       "A data.frame: 7903 × 15\n",
       "\n",
       "| <!--/--> | CodigoPostal &lt;chr&gt; | Barrio &lt;chr&gt; | TipoPropiedad &lt;fct&gt; | TipoAlquiler &lt;fct&gt; | MaxOcupantes &lt;int&gt; | NumBanyos &lt;dbl&gt; | NumDormitorios &lt;int&gt; | NumCamas &lt;int&gt; | TipoCama &lt;fct&gt; | Comodidades &lt;fct&gt; | PiesCuadrados &lt;int&gt; | Precio &lt;int&gt; | Puntuacion &lt;int&gt; | MetrosCuadrados &lt;dbl&gt; | contador &lt;dbl&gt; |\n",
       "|---|---|---|---|---|---|---|---|---|---|---|---|---|---|---|---|\n",
       "| 2 | 28004 | Universidad | Apartment   | Entire home/apt |  6 | 1 | 3 |  5 | Real Bed      | TV,Internet,Wireless Internet,Air conditioning,Kitchen,Indoor fireplace,Heating,Family/kid friendly,Washer,Dryer,Smoke detector,Carbon monoxide detector,Essentials,Shampoo                                                                                                                                                                                      |  NA |  92 |  96 |       NA | 1 |\n",
       "| 3 | 28004 | Universidad | Apartment   | Entire home/apt |  3 | 1 | 2 |  2 | Real Bed      | TV,Internet,Wireless Internet,Air conditioning,Kitchen,Doorman,Heating,Family/kid friendly,Washer,Essentials,Shampoo,Hangers,Hair dryer,Iron,Laptop friendly workspace                                                                                                                                                                                           |  NA |  55 |  91 |       NA | 1 |\n",
       "| 4 | 28004 | Universidad | Loft        | Entire home/apt |  3 | 2 | 1 |  1 | Real Bed      | TV,Internet,Wireless Internet,Air conditioning,Kitchen,Pets allowed,Breakfast,Elevator in building,Indoor fireplace,Buzzer/wireless intercom,Heating,Washer,Essentials,Shampoo,Hangers,Hair dryer,Iron,Laptop friendly workspace,translation missing: en.hosting_amenity_49,translation missing: en.hosting_amenity_50                                           |  NA |  60 | 100 |       NA | 1 |\n",
       "| 5 | 28015 | Universidad | Apartment   | Entire home/apt |  5 | 1 | 1 |  1 | Real Bed      | TV,Wireless Internet,Air conditioning,Kitchen,Smoking allowed,Pets allowed,Elevator in building,Heating,Family/kid friendly,Washer,Essentials,Iron                                                                                                                                                                                                               | 538 |  75 |  90 | 49.98181 | 1 |\n",
       "| 6 | 28004 | Universidad | Apartment   | Entire home/apt |  2 | 1 | 0 |  1 | Real Bed      | TV,Cable TV,Internet,Wireless Internet,Air conditioning,Wheelchair accessible,Kitchen,Doorman,Elevator in building,Buzzer/wireless intercom,Heating,Washer,Smoke detector,Carbon monoxide detector,First aid kit,Safety card,Fire extinguisher,Essentials,Shampoo,24-hour check-in,Hangers,Hair dryer,Iron,Laptop friendly workspace,Self Check-In,Doorman Entry |  NA |  55 |  95 |       NA | 1 |\n",
       "| 8 | 28004 | Universidad | Apartment   | Entire home/apt |  3 | 1 | 1 | NA | Real Bed      | TV,Wireless Internet,Air conditioning,Kitchen,Elevator in building,Buzzer/wireless intercom,Heating,Washer                                                                                                                                                                                                                                                       |  NA |  70 |  84 |       NA | 1 |\n",
       "| 9 | 28015 | Universidad | Apartment   | Entire home/apt |  2 | 1 | 1 |  1 | Real Bed      | TV,Internet,Wireless Internet,Kitchen,Elevator in building,Buzzer/wireless intercom,Heating,Family/kid friendly,Washer,Dryer,Essentials,Shampoo,translation missing: en.hosting_amenity_49                                                                                                                                                                       | 700 |  90 |  98 | 65.03210 | 1 |\n",
       "| 10 | 28004 | Universidad | Apartment   | Entire home/apt |  4 | 2 | 2 |  2 | Real Bed      | TV,Wireless Internet,Air conditioning,Kitchen,Elevator in building,Hot tub,Heating,Family/kid friendly,Washer,Dryer,Essentials,Hair dryer,Iron                                                                                                                                                                                                                   |  NA | 155 |  NA |       NA | 1 |\n",
       "| 11 | 28004 | Universidad | Apartment   | Entire home/apt |  4 | 1 | 1 |  2 | Real Bed      | TV,Wireless Internet,Air conditioning,Wheelchair accessible,Kitchen,Elevator in building,Buzzer/wireless intercom,Heating,Family/kid friendly,Washer,Essentials,Shampoo                                                                                                                                                                                          |  40 |  70 |  90 |  3.71612 | 1 |\n",
       "| 15 | 28013 | Sol         | Apartment   | Entire home/apt |  4 | 1 | 1 |  1 | Real Bed      | TV,Wireless Internet,Air conditioning,Kitchen,Doorman,Elevator in building,Buzzer/wireless intercom,Heating,Family/kid friendly,Suitable for events,Washer,Essentials,Hangers,Hair dryer,Iron                                                                                                                                                                    | 646 |  75 |  91 | 60.01534 | 1 |\n",
       "| 16 | 28013 | Sol         | Condominium | Entire home/apt |  6 | 1 | 2 |  3 | Real Bed      | TV,Wireless Internet,Air conditioning,Kitchen,Doorman,Elevator in building,Buzzer/wireless intercom,Heating,Family/kid friendly,Washer,Dryer,Essentials,Shampoo,Hangers,Hair dryer,Iron                                                                                                                                                                          |  NA | 130 | 100 |       NA | 1 |\n",
       "| 17 | 28013 | Sol         | Apartment   | Entire home/apt |  4 | 1 | 1 |  2 | Real Bed      | TV,Internet,Wireless Internet,Air conditioning,Kitchen,Doorman,Elevator in building,Buzzer/wireless intercom,Heating,Family/kid friendly,Washer,Smoke detector,Carbon monoxide detector,First aid kit,Safety card,Fire extinguisher,Essentials,Shampoo,24-hour check-in,Hangers,Hair dryer,Iron,Laptop friendly workspace                                        |  NA | 100 |  97 |       NA | 1 |\n",
       "| 18 | 28012 | Sol         | Apartment   | Entire home/apt |  6 | 1 | 2 |  2 | Real Bed      | TV,Internet,Wireless Internet,Air conditioning,Kitchen,Smoking allowed,Elevator in building,Buzzer/wireless intercom,Heating,Family/kid friendly,Washer,Dryer,Essentials,Shampoo,Hangers,Hair dryer,Iron,Laptop friendly workspace                                                                                                                               |  NA | 160 |  95 |       NA | 1 |\n",
       "| 19 | 28013 | Sol         | Apartment   | Entire home/apt |  4 | 1 | 1 |  2 | Real Bed      | TV,Internet,Wireless Internet,Air conditioning,Kitchen,Heating,Washer,Essentials,Hangers,Hair dryer,translation missing: en.hosting_amenity_50                                                                                                                                                                                                                   |  NA |  49 |  95 |       NA | 1 |\n",
       "| 21 | 28013 | Sol         | Apartment   | Entire home/apt |  4 | 1 | 1 |  2 | Real Bed      | TV,Wireless Internet,Kitchen,Pets allowed,Elevator in building,Heating,Family/kid friendly,Washer,Essentials,Shampoo,Hangers,Hair dryer,Laptop friendly workspace                                                                                                                                                                                                |  NA |  70 |  88 |       NA | 1 |\n",
       "| 22 | 28005 | Sol         | Apartment   | Entire home/apt | 10 | 2 | 4 |  7 | Real Bed      | TV,Internet,Wireless Internet,Air conditioning,Kitchen,Heating,Family/kid friendly,Washer,Essentials                                                                                                                                                                                                                                                             |  NA | 210 |  81 |       NA | 1 |\n",
       "| 23 | 28013 | Sol         | Apartment   | Entire home/apt |  6 | 1 | 2 |  4 | Real Bed      | TV,Internet,Wireless Internet,Air conditioning,Kitchen,Smoking allowed,Pets allowed,Doorman,Elevator in building,Buzzer/wireless intercom,Heating,Family/kid friendly,Washer,First aid kit,Safety card,Essentials,Shampoo,Hangers,Hair dryer,Iron                                                                                                                |  NA | 120 |  99 |       NA | 1 |\n",
       "| 24 | 28012 | Sol         | Apartment   | Entire home/apt |  4 | 1 | 1 |  2 | Real Bed      | TV,Internet,Wireless Internet,Air conditioning,Kitchen,Elevator in building,Heating,Family/kid friendly,Washer,Smoke detector,Carbon monoxide detector,Essentials,Shampoo,24-hour check-in,Hangers,Hair dryer,Iron,Laptop friendly workspace                                                                                                                     |  NA |  50 |  91 |       NA | 1 |\n",
       "| 25 | 28012 | Sol         | Apartment   | Entire home/apt |  4 | 1 | 1 |  1 | Real Bed      | TV,Cable TV,Internet,Wireless Internet,Air conditioning,Kitchen,Elevator in building,Buzzer/wireless intercom,Heating,Family/kid friendly,Washer,Essentials,Hair dryer,Iron                                                                                                                                                                                      | 753 | 100 |  87 | 69.95596 | 1 |\n",
       "| 26 | 28013 | Sol         | Apartment   | Entire home/apt |  4 | 1 | 1 |  2 | Real Bed      | TV,Internet,Wireless Internet,Air conditioning,Kitchen,Breakfast,Elevator in building,Heating,Family/kid friendly,Washer,First aid kit,Fire extinguisher,Essentials,Shampoo,Hangers,Hair dryer,Iron,Laptop friendly workspace                                                                                                                                    |  NA |  75 | 100 |       NA | 1 |\n",
       "| 27 | 28014 | Sol         | Condominium | Entire home/apt |  8 | 2 | 2 |  5 | Real Bed      | TV,Internet,Wireless Internet,Air conditioning,Wheelchair accessible,Kitchen,Doorman,Elevator in building,Buzzer/wireless intercom,Heating,Family/kid friendly,Washer,Smoke detector,Carbon monoxide detector,Essentials,Shampoo,24-hour check-in,Hangers,Hair dryer,Iron,Laptop friendly workspace                                                              |  NA | 155 |  93 |       NA | 1 |\n",
       "| 28 | 28013 | Sol         | Apartment   | Entire home/apt |  6 | 2 | 2 |  3 | Real Bed      | TV,Internet,Wireless Internet,Air conditioning,Wheelchair accessible,Kitchen,Doorman,Elevator in building,Buzzer/wireless intercom,Heating,Family/kid friendly,Washer,Dryer,Essentials,Hangers,Hair dryer,Iron                                                                                                                                                   |  NA | 155 |  80 |       NA | 1 |\n",
       "| 30 | 28005 | Sol         | Apartment   | Entire home/apt |  8 | 1 | 3 |  4 | Real Bed      | TV,Internet,Wireless Internet,Kitchen,Breakfast,Elevator in building,Buzzer/wireless intercom,Heating,Family/kid friendly,Washer,Essentials,Shampoo,Hangers,Hair dryer,Iron,Laptop friendly workspace,Self Check-In,Lockbox                                                                                                                                      |  NA | 163 | 100 |       NA | 1 |\n",
       "| 31 | 28005 | Imperial    | Apartment   | Entire home/apt |  3 | 1 | 1 |  1 | Real Bed      | TV,Internet,Wireless Internet,Kitchen,Pets allowed,Elevator in building,Heating,Family/kid friendly,Washer,Fire extinguisher,Essentials,Shampoo,Hangers,Hair dryer,Iron,Laptop friendly workspace,translation missing: en.hosting_amenity_50                                                                                                                     |  NA |  70 |  95 |       NA | 1 |\n",
       "| 32 | 28005 | Imperial    | Apartment   | Entire home/apt |  3 | 1 | 2 |  2 | Real Bed      | TV,Wireless Internet,Kitchen,Heating,Family/kid friendly,Washer,Essentials,Hair dryer,translation missing: en.hosting_amenity_50                                                                                                                                                                                                                                 |  NA |  49 |  88 |       NA | 1 |\n",
       "| 36 | 28005 | Acacias     | House       | Entire home/apt |  4 | 2 | 2 |  4 | Real Bed      | TV,Wireless Internet,Air conditioning,Wheelchair accessible,Kitchen,Doorman,Elevator in building,Buzzer/wireless intercom,Heating,Washer,Essentials,Shampoo,Hangers,Hair dryer,Iron,Laptop friendly workspace                                                                                                                                                    |  NA |  90 |  92 |       NA | 1 |\n",
       "| 43 | 28013 | Sol         | Apartment   | Entire home/apt |  4 | 1 | 1 |  1 | Pull-out Sofa | TV,Internet,Wireless Internet,Air conditioning,Kitchen,Elevator in building,Buzzer/wireless intercom,Heating,Family/kid friendly,Washer,Smoke detector,Carbon monoxide detector,First aid kit,Essentials,Shampoo,24-hour check-in,Hangers,Hair dryer,Iron,Laptop friendly workspace,translation missing: en.hosting_amenity_50                                   |  NA |  64 |  97 |       NA | 1 |\n",
       "| 44 | 28013 | Sol         | Apartment   | Entire home/apt |  6 | 2 | 2 |  2 | Real Bed      | TV,Wireless Internet,Air conditioning,Kitchen,Elevator in building,Heating,Washer,Essentials,Shampoo                                                                                                                                                                                                                                                             |  NA | 109 |  90 |       NA | 1 |\n",
       "| 45 | 28013 | Sol         | Apartment   | Entire home/apt |  3 | 1 | 1 |  2 | Real Bed      | TV,Internet,Wireless Internet,Air conditioning,Kitchen,Smoking allowed,Elevator in building,Buzzer/wireless intercom,Heating,Family/kid friendly,Washer,Fire extinguisher,Essentials,Shampoo,Hangers,Hair dryer,Iron                                                                                                                                             |  NA |  67 |  95 |       NA | 1 |\n",
       "| 46 | 28013 | Sol         | Apartment   | Entire home/apt |  2 | 1 | 1 |  1 | Real Bed      | TV,Internet,Wireless Internet,Air conditioning,Kitchen,Elevator in building,Buzzer/wireless intercom,Heating,Family/kid friendly,Washer,First aid kit,Essentials,Shampoo,Hair dryer,Iron                                                                                                                                                                         | 269 |  65 |  93 | 24.99091 | 1 |\n",
       "| ⋮ | ⋮ | ⋮ | ⋮ | ⋮ | ⋮ | ⋮ | ⋮ | ⋮ | ⋮ | ⋮ | ⋮ | ⋮ | ⋮ | ⋮ | ⋮ |\n",
       "| 13157 | 28010 | Almagro              | Apartment   | Entire home/apt |  2 | 1.0 | 0 |  1 | Pull-out Sofa | TV,Wireless Internet,Kitchen,Buzzer/wireless intercom,Heating,Essentials,Hangers,Iron,translation missing: en.hosting_amenity_49,translation missing: en.hosting_amenity_50                                                                                                                                           |  NA |  30 |  83 |       NA | 1 |\n",
       "| 13158 | 28010 | Almagro              | Apartment   | Entire home/apt |  2 | 1.0 | 1 |  1 | Real Bed      | TV,Internet,Wireless Internet,Air conditioning,Kitchen,Pets allowed,Doorman,Elevator in building,Buzzer/wireless intercom,Heating,Family/kid friendly,Washer,Essentials,Hangers,Iron,Laptop friendly workspace,translation missing: en.hosting_amenity_49                                                             |  NA |  45 | 100 |       NA | 1 |\n",
       "| 13159 | 28003 | Rios Rosas           | Apartment   | Entire home/apt |  3 | 1.0 | 1 |  1 | Real Bed      | TV,Internet,Wireless Internet,Air conditioning,Kitchen,Elevator in building,Buzzer/wireless intercom,Heating,Family/kid friendly,Washer,Fire extinguisher,Essentials,24-hour check-in,Hangers,Hair dryer,Iron,Laptop friendly workspace                                                                               |  NA |  39 |  94 |       NA | 1 |\n",
       "| 13167 | 28008 | Argüelles            | House       | Entire home/apt |  3 | 1.0 | 1 |  2 | Real Bed      | TV,Internet,Wireless Internet,Air conditioning,Kitchen,Elevator in building,Heating,Washer,Smoke detector,Fire extinguisher,Essentials,Hangers,Hair dryer,Iron,Laptop friendly workspace                                                                                                                              |  NA | 105 |  NA |       NA | 1 |\n",
       "| 13168 | 28008 | Argüelles            | House       | Entire home/apt |  5 | 1.0 | 3 |  4 | Real Bed      | TV,Internet,Wireless Internet,Wheelchair accessible,Kitchen,Smoking allowed,Doorman,Elevator in building,Buzzer/wireless intercom,Heating,Family/kid friendly,Washer,Fire extinguisher,Essentials,Shampoo,24-hour check-in,Hangers,Hair dryer,Iron,Laptop friendly workspace                                          |  NA | 139 |  92 |       NA | 1 |\n",
       "| 13169 | 28008 | Argüelles            | Apartment   | Entire home/apt |  4 | 1.0 | 1 |  1 | Real Bed      | TV,Wireless Internet,Kitchen,Elevator in building,Heating,Family/kid friendly,Washer,Dryer,Essentials,Shampoo,24-hour check-in,Hangers,Hair dryer,Iron,Laptop friendly workspace                                                                                                                                      |  NA |  61 |  92 |       NA | 1 |\n",
       "| 13175 | 28003 | Ciudad Universitaria | Loft        | Entire home/apt |  3 | 1.0 | 1 |  2 | Real Bed      | TV,Wireless Internet,Kitchen,Breakfast,Elevator in building,Buzzer/wireless intercom,Heating,Family/kid friendly,Washer,Essentials,Shampoo,Hangers,Iron,Laptop friendly workspace                                                                                                                                     |  NA |  55 | 100 |       NA | 1 |\n",
       "| 13176 | 28038 | Numancia             | Apartment   | Entire home/apt |  6 | 1.0 | 3 |  4 | Real Bed      | TV,Internet,Wireless Internet,Air conditioning,Kitchen,Buzzer/wireless intercom,Heating,Family/kid friendly,Washer,First aid kit,Essentials,Shampoo,Hangers,Hair dryer,Iron,Laptop friendly workspace                                                                                                                 |  NA |  65 |  94 |       NA | 1 |\n",
       "| 13179 | 28023 | Aravaca              | Condominium | Entire home/apt |  3 | 1.0 | 1 |  3 | Real Bed      | TV,Internet,Wireless Internet,Pool,Kitchen,Free parking on premises,Doorman,Heating,Family/kid friendly,Washer,Essentials,24-hour check-in,Hangers,Iron,Laptop friendly workspace,Private entrance                                                                                                                    |  NA |  50 | 100 |       NA | 1 |\n",
       "| 13183 | 28004 | Universidad          | Other       | Entire home/apt |  3 | 1.0 | 1 |  1 | Real Bed      | TV,Internet,Wireless Internet,Air conditioning,Kitchen,Smoking allowed,Pets allowed,Elevator in building,Buzzer/wireless intercom,Heating,Family/kid friendly,Washer,Dryer,Fire extinguisher,Essentials,24-hour check-in,Hangers,Hair dryer,Iron                                                                      |  NA |  43 |  83 |       NA | 1 |\n",
       "| 13184 | 28004 | Universidad          | Apartment   | Entire home/apt |  3 | 1.0 | 1 |  1 | Real Bed      | TV,Internet,Wireless Internet,Kitchen,Buzzer/wireless intercom,Heating,Washer,Dryer,Essentials,Shampoo,24-hour check-in,Hangers,Hair dryer,Iron,Laptop friendly workspace,translation missing: en.hosting_amenity_49,translation missing: en.hosting_amenity_50                                                       |  NA |  80 |  96 |       NA | 1 |\n",
       "| 13185 | 28004 | Universidad          | Apartment   | Entire home/apt |  2 | 1.0 | 1 |  1 | Real Bed      | TV,Internet,Wireless Internet,Air conditioning,Kitchen,Elevator in building,Heating,Washer,Dryer,First aid kit,Essentials,Hangers,Hair dryer,Iron,translation missing: en.hosting_amenity_49,translation missing: en.hosting_amenity_50                                                                               |  NA |  80 |  99 |       NA | 1 |\n",
       "| 13186 | 28015 | Universidad          | Apartment   | Entire home/apt |  4 | 1.0 | 1 |  2 | Real Bed      | TV,Internet,Wireless Internet,Air conditioning,Kitchen,Elevator in building,Heating,Family/kid friendly,Washer,Smoke detector,Fire extinguisher,Essentials,Shampoo,Lock on bedroom door,Hangers,Hair dryer,Iron                                                                                                       |  NA | 100 | 100 |       NA | 1 |\n",
       "| 13187 | 28015 | Universidad          | Apartment   | Entire home/apt |  2 | 1.0 | 1 |  2 | Real Bed      | TV,Wireless Internet,Air conditioning,Kitchen,Elevator in building,Buzzer/wireless intercom,Heating,Family/kid friendly,Washer                                                                                                                                                                                        | 291 |  50 |  87 | 27.03477 | 1 |\n",
       "| 13188 | 28015 | Universidad          | Apartment   | Entire home/apt |  5 | 1.0 | 2 |  3 | Real Bed      | TV,Internet,Wireless Internet,Kitchen,Smoking allowed,Elevator in building,Buzzer/wireless intercom,Heating,Family/kid friendly,Washer,First aid kit,Essentials,Shampoo,24-hour check-in,Hangers,Hair dryer,Iron,Laptop friendly workspace                                                                            |  NA |  85 |  90 |       NA | 1 |\n",
       "| 13190 | 28015 | Universidad          | Apartment   | Entire home/apt |  4 | 1.0 | 1 |  2 | Real Bed      | TV,Wireless Internet,Air conditioning,Kitchen,Smoking allowed,Heating,Family/kid friendly,Washer,Dryer,Smoke detector,First aid kit,Essentials,Shampoo,Hangers,Hair dryer,Iron                                                                                                                                        |  NA |  60 | 100 |       NA | 1 |\n",
       "| 13191 | 28013 | Universidad          | Apartment   | Entire home/apt |  2 | 1.0 | 1 |  1 | Real Bed      | TV,Wireless Internet,Air conditioning,Kitchen,Elevator in building,Heating,Washer,Dryer,Essentials,Shampoo,Hangers,Hair dryer,Iron,Laptop friendly workspace,translation missing: en.hosting_amenity_49,translation missing: en.hosting_amenity_50                                                                    |  NA | 145 |  NA |       NA | 1 |\n",
       "| 13192 | 28004 | Universidad          | Apartment   | Entire home/apt |  4 | 1.0 | 1 |  2 | Real Bed      | TV,Internet,Wireless Internet,Air conditioning,Kitchen,Pets allowed,Indoor fireplace,Buzzer/wireless intercom,Heating,Family/kid friendly,Washer,Smoke detector,Carbon monoxide detector,Essentials,Shampoo,24-hour check-in,Hangers,Hair dryer,Iron,Laptop friendly workspace                                        |  NA |  62 |  91 |       NA | 1 |\n",
       "| 13193 | 28004 | Universidad          | Apartment   | Entire home/apt | 14 | 5.5 | 5 | 10 | Real Bed      | TV,Internet,Wireless Internet,Air conditioning,Kitchen,Smoking allowed,Elevator in building,Indoor fireplace,Family/kid friendly,Washer,Dryer,First aid kit,Fire extinguisher,Essentials                                                                                                                              |  NA | 300 |  94 |       NA | 1 |\n",
       "| 13195 | 28004 | Universidad          | Apartment   | Entire home/apt |  3 | 1.0 | 1 |  2 | Real Bed      | TV,Wireless Internet,Kitchen,Buzzer/wireless intercom,Heating,Family/kid friendly,Washer,Smoke detector,Essentials,Shampoo,24-hour check-in,Hangers,Laptop friendly workspace,translation missing: en.hosting_amenity_50                                                                                              |  NA |  62 |  81 |       NA | 1 |\n",
       "| 13198 | 28004 | Universidad          | Apartment   | Entire home/apt |  4 | 1.0 | 2 |  4 | Pull-out Sofa | TV,Internet,Wireless Internet,Air conditioning,Kitchen,Smoking allowed,Pets allowed,Elevator in building,Heating,Family/kid friendly,Washer,Dryer,Essentials,Shampoo,Hangers,Hair dryer,Iron                                                                                                                          |  NA |  90 |  90 |       NA | 1 |\n",
       "| 13199 | 28004 | Universidad          | Apartment   | Entire home/apt |  4 | 1.0 | 2 |  2 | Real Bed      | TV,Internet,Wireless Internet,Air conditioning,Kitchen,Smoking allowed,Pets allowed,Buzzer/wireless intercom,Heating,Family/kid friendly,Washer,Dryer,Essentials,Hangers,Hair dryer,Iron                                                                                                                              |  NA |  70 |  87 |       NA | 1 |\n",
       "| 13200 | 28004 | Universidad          | Apartment   | Entire home/apt |  2 | 1.0 | 1 |  1 | Real Bed      | TV,Internet,Wireless Internet,Air conditioning,Kitchen,Smoking allowed,Pets allowed,Elevator in building,Heating,Family/kid friendly,Washer,First aid kit,Fire extinguisher,Essentials,Lock on bedroom door,Hangers,Hair dryer,Iron                                                                                   |  NA |  40 |  82 |       NA | 1 |\n",
       "| 13201 | 28004 | Universidad          | Loft        | Entire home/apt |  2 | 1.0 | 1 |  2 | Real Bed      | Internet,Wireless Internet,Smoking allowed,Breakfast,Elevator in building,Heating,Shampoo,Hangers,Hair dryer,Iron,Laptop friendly workspace,translation missing: en.hosting_amenity_49,translation missing: en.hosting_amenity_50                                                                                     |  NA |  30 |  NA |       NA | 1 |\n",
       "| 13202 | 28004 | Universidad          | Apartment   | Entire home/apt |  4 | 1.0 | 1 |  2 | Real Bed      | TV,Wireless Internet,Air conditioning,Kitchen,Smoking allowed,Pets allowed,Heating,Family/kid friendly,Washer,Fire extinguisher,Essentials,Lock on bedroom door,Hangers,Hair dryer,Iron                                                                                                                               |  NA |  48 |  83 |       NA | 1 |\n",
       "| 13203 | 28015 | Universidad          | Apartment   | Entire home/apt |  2 | 1.0 | 1 |  1 | Real Bed      | TV,Internet,Wireless Internet,Air conditioning,Kitchen,Elevator in building,Buzzer/wireless intercom,Heating,Washer,Dryer,Smoke detector,Fire extinguisher,Essentials,Shampoo,Hangers,Hair dryer,Iron,Laptop friendly workspace,translation missing: en.hosting_amenity_49,translation missing: en.hosting_amenity_50 |  NA |  35 |  90 |       NA | 1 |\n",
       "| 13204 | 28004 | Universidad          | Apartment   | Entire home/apt |  3 | 1.0 | 1 |  2 | Real Bed      | TV,Wireless Internet,Air conditioning,Kitchen,Elevator in building,Buzzer/wireless intercom,Heating,Family/kid friendly,Washer,Dryer,Smoke detector,Carbon monoxide detector,Fire extinguisher,Essentials,Shampoo,24-hour check-in,Hangers,Hair dryer,Iron,Laptop friendly workspace                                  |  NA |  79 |  97 |       NA | 1 |\n",
       "| 13205 | 28013 | Universidad          | Apartment   | Entire home/apt |  4 | 1.0 | 1 |  1 | Real Bed      | TV,Wireless Internet,Air conditioning,Pool,Kitchen,Doorman,Gym,Elevator in building,Buzzer/wireless intercom,Heating,Washer,First aid kit,Safety card,Essentials,Shampoo,Hangers,Hair dryer,Iron,Laptop friendly workspace                                                                                            |  NA | 150 | 100 |       NA | 1 |\n",
       "| 13206 | 28004 | Universidad          | Loft        | Entire home/apt |  2 | 1.0 | 0 |  1 | Real Bed      | TV,Internet,Wireless Internet,Kitchen,Smoking allowed,Pets allowed,Elevator in building,Heating,Family/kid friendly,Washer,First aid kit,Essentials,Shampoo                                                                                                                                                           |  NA |  80 |  91 |       NA | 1 |\n",
       "| 13207 | 28004 | Universidad          | Apartment   | Entire home/apt |  3 | 1.0 | 0 |  2 | Real Bed      | TV,Internet,Wireless Internet,Air conditioning,Kitchen,Heating,Family/kid friendly,Washer                                                                                                                                                                                                                             |  NA |  69 |  80 |       NA | 1 |\n",
       "\n"
      ],
      "text/plain": [
       "      CodigoPostal Barrio               TipoPropiedad TipoAlquiler   \n",
       "2     28004        Universidad          Apartment     Entire home/apt\n",
       "3     28004        Universidad          Apartment     Entire home/apt\n",
       "4     28004        Universidad          Loft          Entire home/apt\n",
       "5     28015        Universidad          Apartment     Entire home/apt\n",
       "6     28004        Universidad          Apartment     Entire home/apt\n",
       "8     28004        Universidad          Apartment     Entire home/apt\n",
       "9     28015        Universidad          Apartment     Entire home/apt\n",
       "10    28004        Universidad          Apartment     Entire home/apt\n",
       "11    28004        Universidad          Apartment     Entire home/apt\n",
       "15    28013        Sol                  Apartment     Entire home/apt\n",
       "16    28013        Sol                  Condominium   Entire home/apt\n",
       "17    28013        Sol                  Apartment     Entire home/apt\n",
       "18    28012        Sol                  Apartment     Entire home/apt\n",
       "19    28013        Sol                  Apartment     Entire home/apt\n",
       "21    28013        Sol                  Apartment     Entire home/apt\n",
       "22    28005        Sol                  Apartment     Entire home/apt\n",
       "23    28013        Sol                  Apartment     Entire home/apt\n",
       "24    28012        Sol                  Apartment     Entire home/apt\n",
       "25    28012        Sol                  Apartment     Entire home/apt\n",
       "26    28013        Sol                  Apartment     Entire home/apt\n",
       "27    28014        Sol                  Condominium   Entire home/apt\n",
       "28    28013        Sol                  Apartment     Entire home/apt\n",
       "30    28005        Sol                  Apartment     Entire home/apt\n",
       "31    28005        Imperial             Apartment     Entire home/apt\n",
       "32    28005        Imperial             Apartment     Entire home/apt\n",
       "36    28005        Acacias              House         Entire home/apt\n",
       "43    28013        Sol                  Apartment     Entire home/apt\n",
       "44    28013        Sol                  Apartment     Entire home/apt\n",
       "45    28013        Sol                  Apartment     Entire home/apt\n",
       "46    28013        Sol                  Apartment     Entire home/apt\n",
       "⋮     ⋮            ⋮                    ⋮             ⋮              \n",
       "13157 28010        Almagro              Apartment     Entire home/apt\n",
       "13158 28010        Almagro              Apartment     Entire home/apt\n",
       "13159 28003        Rios Rosas           Apartment     Entire home/apt\n",
       "13167 28008        Argüelles            House         Entire home/apt\n",
       "13168 28008        Argüelles            House         Entire home/apt\n",
       "13169 28008        Argüelles            Apartment     Entire home/apt\n",
       "13175 28003        Ciudad Universitaria Loft          Entire home/apt\n",
       "13176 28038        Numancia             Apartment     Entire home/apt\n",
       "13179 28023        Aravaca              Condominium   Entire home/apt\n",
       "13183 28004        Universidad          Other         Entire home/apt\n",
       "13184 28004        Universidad          Apartment     Entire home/apt\n",
       "13185 28004        Universidad          Apartment     Entire home/apt\n",
       "13186 28015        Universidad          Apartment     Entire home/apt\n",
       "13187 28015        Universidad          Apartment     Entire home/apt\n",
       "13188 28015        Universidad          Apartment     Entire home/apt\n",
       "13190 28015        Universidad          Apartment     Entire home/apt\n",
       "13191 28013        Universidad          Apartment     Entire home/apt\n",
       "13192 28004        Universidad          Apartment     Entire home/apt\n",
       "13193 28004        Universidad          Apartment     Entire home/apt\n",
       "13195 28004        Universidad          Apartment     Entire home/apt\n",
       "13198 28004        Universidad          Apartment     Entire home/apt\n",
       "13199 28004        Universidad          Apartment     Entire home/apt\n",
       "13200 28004        Universidad          Apartment     Entire home/apt\n",
       "13201 28004        Universidad          Loft          Entire home/apt\n",
       "13202 28004        Universidad          Apartment     Entire home/apt\n",
       "13203 28015        Universidad          Apartment     Entire home/apt\n",
       "13204 28004        Universidad          Apartment     Entire home/apt\n",
       "13205 28013        Universidad          Apartment     Entire home/apt\n",
       "13206 28004        Universidad          Loft          Entire home/apt\n",
       "13207 28004        Universidad          Apartment     Entire home/apt\n",
       "      MaxOcupantes NumBanyos NumDormitorios NumCamas TipoCama     \n",
       "2      6           1         3               5       Real Bed     \n",
       "3      3           1         2               2       Real Bed     \n",
       "4      3           2         1               1       Real Bed     \n",
       "5      5           1         1               1       Real Bed     \n",
       "6      2           1         0               1       Real Bed     \n",
       "8      3           1         1              NA       Real Bed     \n",
       "9      2           1         1               1       Real Bed     \n",
       "10     4           2         2               2       Real Bed     \n",
       "11     4           1         1               2       Real Bed     \n",
       "15     4           1         1               1       Real Bed     \n",
       "16     6           1         2               3       Real Bed     \n",
       "17     4           1         1               2       Real Bed     \n",
       "18     6           1         2               2       Real Bed     \n",
       "19     4           1         1               2       Real Bed     \n",
       "21     4           1         1               2       Real Bed     \n",
       "22    10           2         4               7       Real Bed     \n",
       "23     6           1         2               4       Real Bed     \n",
       "24     4           1         1               2       Real Bed     \n",
       "25     4           1         1               1       Real Bed     \n",
       "26     4           1         1               2       Real Bed     \n",
       "27     8           2         2               5       Real Bed     \n",
       "28     6           2         2               3       Real Bed     \n",
       "30     8           1         3               4       Real Bed     \n",
       "31     3           1         1               1       Real Bed     \n",
       "32     3           1         2               2       Real Bed     \n",
       "36     4           2         2               4       Real Bed     \n",
       "43     4           1         1               1       Pull-out Sofa\n",
       "44     6           2         2               2       Real Bed     \n",
       "45     3           1         1               2       Real Bed     \n",
       "46     2           1         1               1       Real Bed     \n",
       "⋮     ⋮            ⋮         ⋮              ⋮        ⋮            \n",
       "13157  2           1.0       0               1       Pull-out Sofa\n",
       "13158  2           1.0       1               1       Real Bed     \n",
       "13159  3           1.0       1               1       Real Bed     \n",
       "13167  3           1.0       1               2       Real Bed     \n",
       "13168  5           1.0       3               4       Real Bed     \n",
       "13169  4           1.0       1               1       Real Bed     \n",
       "13175  3           1.0       1               2       Real Bed     \n",
       "13176  6           1.0       3               4       Real Bed     \n",
       "13179  3           1.0       1               3       Real Bed     \n",
       "13183  3           1.0       1               1       Real Bed     \n",
       "13184  3           1.0       1               1       Real Bed     \n",
       "13185  2           1.0       1               1       Real Bed     \n",
       "13186  4           1.0       1               2       Real Bed     \n",
       "13187  2           1.0       1               2       Real Bed     \n",
       "13188  5           1.0       2               3       Real Bed     \n",
       "13190  4           1.0       1               2       Real Bed     \n",
       "13191  2           1.0       1               1       Real Bed     \n",
       "13192  4           1.0       1               2       Real Bed     \n",
       "13193 14           5.5       5              10       Real Bed     \n",
       "13195  3           1.0       1               2       Real Bed     \n",
       "13198  4           1.0       2               4       Pull-out Sofa\n",
       "13199  4           1.0       2               2       Real Bed     \n",
       "13200  2           1.0       1               1       Real Bed     \n",
       "13201  2           1.0       1               2       Real Bed     \n",
       "13202  4           1.0       1               2       Real Bed     \n",
       "13203  2           1.0       1               1       Real Bed     \n",
       "13204  3           1.0       1               2       Real Bed     \n",
       "13205  4           1.0       1               1       Real Bed     \n",
       "13206  2           1.0       0               1       Real Bed     \n",
       "13207  3           1.0       0               2       Real Bed     \n",
       "      Comodidades                                                                                                                                                                                                                                                                                                                                                     \n",
       "2     TV,Internet,Wireless Internet,Air conditioning,Kitchen,Indoor fireplace,Heating,Family/kid friendly,Washer,Dryer,Smoke detector,Carbon monoxide detector,Essentials,Shampoo                                                                                                                                                                                     \n",
       "3     TV,Internet,Wireless Internet,Air conditioning,Kitchen,Doorman,Heating,Family/kid friendly,Washer,Essentials,Shampoo,Hangers,Hair dryer,Iron,Laptop friendly workspace                                                                                                                                                                                          \n",
       "4     TV,Internet,Wireless Internet,Air conditioning,Kitchen,Pets allowed,Breakfast,Elevator in building,Indoor fireplace,Buzzer/wireless intercom,Heating,Washer,Essentials,Shampoo,Hangers,Hair dryer,Iron,Laptop friendly workspace,translation missing: en.hosting_amenity_49,translation missing: en.hosting_amenity_50                                          \n",
       "5     TV,Wireless Internet,Air conditioning,Kitchen,Smoking allowed,Pets allowed,Elevator in building,Heating,Family/kid friendly,Washer,Essentials,Iron                                                                                                                                                                                                              \n",
       "6     TV,Cable TV,Internet,Wireless Internet,Air conditioning,Wheelchair accessible,Kitchen,Doorman,Elevator in building,Buzzer/wireless intercom,Heating,Washer,Smoke detector,Carbon monoxide detector,First aid kit,Safety card,Fire extinguisher,Essentials,Shampoo,24-hour check-in,Hangers,Hair dryer,Iron,Laptop friendly workspace,Self Check-In,Doorman Entry\n",
       "8     TV,Wireless Internet,Air conditioning,Kitchen,Elevator in building,Buzzer/wireless intercom,Heating,Washer                                                                                                                                                                                                                                                      \n",
       "9     TV,Internet,Wireless Internet,Kitchen,Elevator in building,Buzzer/wireless intercom,Heating,Family/kid friendly,Washer,Dryer,Essentials,Shampoo,translation missing: en.hosting_amenity_49                                                                                                                                                                      \n",
       "10    TV,Wireless Internet,Air conditioning,Kitchen,Elevator in building,Hot tub,Heating,Family/kid friendly,Washer,Dryer,Essentials,Hair dryer,Iron                                                                                                                                                                                                                  \n",
       "11    TV,Wireless Internet,Air conditioning,Wheelchair accessible,Kitchen,Elevator in building,Buzzer/wireless intercom,Heating,Family/kid friendly,Washer,Essentials,Shampoo                                                                                                                                                                                         \n",
       "15    TV,Wireless Internet,Air conditioning,Kitchen,Doorman,Elevator in building,Buzzer/wireless intercom,Heating,Family/kid friendly,Suitable for events,Washer,Essentials,Hangers,Hair dryer,Iron                                                                                                                                                                   \n",
       "16    TV,Wireless Internet,Air conditioning,Kitchen,Doorman,Elevator in building,Buzzer/wireless intercom,Heating,Family/kid friendly,Washer,Dryer,Essentials,Shampoo,Hangers,Hair dryer,Iron                                                                                                                                                                         \n",
       "17    TV,Internet,Wireless Internet,Air conditioning,Kitchen,Doorman,Elevator in building,Buzzer/wireless intercom,Heating,Family/kid friendly,Washer,Smoke detector,Carbon monoxide detector,First aid kit,Safety card,Fire extinguisher,Essentials,Shampoo,24-hour check-in,Hangers,Hair dryer,Iron,Laptop friendly workspace                                       \n",
       "18    TV,Internet,Wireless Internet,Air conditioning,Kitchen,Smoking allowed,Elevator in building,Buzzer/wireless intercom,Heating,Family/kid friendly,Washer,Dryer,Essentials,Shampoo,Hangers,Hair dryer,Iron,Laptop friendly workspace                                                                                                                              \n",
       "19    TV,Internet,Wireless Internet,Air conditioning,Kitchen,Heating,Washer,Essentials,Hangers,Hair dryer,translation missing: en.hosting_amenity_50                                                                                                                                                                                                                  \n",
       "21    TV,Wireless Internet,Kitchen,Pets allowed,Elevator in building,Heating,Family/kid friendly,Washer,Essentials,Shampoo,Hangers,Hair dryer,Laptop friendly workspace                                                                                                                                                                                               \n",
       "22    TV,Internet,Wireless Internet,Air conditioning,Kitchen,Heating,Family/kid friendly,Washer,Essentials                                                                                                                                                                                                                                                            \n",
       "23    TV,Internet,Wireless Internet,Air conditioning,Kitchen,Smoking allowed,Pets allowed,Doorman,Elevator in building,Buzzer/wireless intercom,Heating,Family/kid friendly,Washer,First aid kit,Safety card,Essentials,Shampoo,Hangers,Hair dryer,Iron                                                                                                               \n",
       "24    TV,Internet,Wireless Internet,Air conditioning,Kitchen,Elevator in building,Heating,Family/kid friendly,Washer,Smoke detector,Carbon monoxide detector,Essentials,Shampoo,24-hour check-in,Hangers,Hair dryer,Iron,Laptop friendly workspace                                                                                                                    \n",
       "25    TV,Cable TV,Internet,Wireless Internet,Air conditioning,Kitchen,Elevator in building,Buzzer/wireless intercom,Heating,Family/kid friendly,Washer,Essentials,Hair dryer,Iron                                                                                                                                                                                     \n",
       "26    TV,Internet,Wireless Internet,Air conditioning,Kitchen,Breakfast,Elevator in building,Heating,Family/kid friendly,Washer,First aid kit,Fire extinguisher,Essentials,Shampoo,Hangers,Hair dryer,Iron,Laptop friendly workspace                                                                                                                                   \n",
       "27    TV,Internet,Wireless Internet,Air conditioning,Wheelchair accessible,Kitchen,Doorman,Elevator in building,Buzzer/wireless intercom,Heating,Family/kid friendly,Washer,Smoke detector,Carbon monoxide detector,Essentials,Shampoo,24-hour check-in,Hangers,Hair dryer,Iron,Laptop friendly workspace                                                             \n",
       "28    TV,Internet,Wireless Internet,Air conditioning,Wheelchair accessible,Kitchen,Doorman,Elevator in building,Buzzer/wireless intercom,Heating,Family/kid friendly,Washer,Dryer,Essentials,Hangers,Hair dryer,Iron                                                                                                                                                  \n",
       "30    TV,Internet,Wireless Internet,Kitchen,Breakfast,Elevator in building,Buzzer/wireless intercom,Heating,Family/kid friendly,Washer,Essentials,Shampoo,Hangers,Hair dryer,Iron,Laptop friendly workspace,Self Check-In,Lockbox                                                                                                                                     \n",
       "31    TV,Internet,Wireless Internet,Kitchen,Pets allowed,Elevator in building,Heating,Family/kid friendly,Washer,Fire extinguisher,Essentials,Shampoo,Hangers,Hair dryer,Iron,Laptop friendly workspace,translation missing: en.hosting_amenity_50                                                                                                                    \n",
       "32    TV,Wireless Internet,Kitchen,Heating,Family/kid friendly,Washer,Essentials,Hair dryer,translation missing: en.hosting_amenity_50                                                                                                                                                                                                                                \n",
       "36    TV,Wireless Internet,Air conditioning,Wheelchair accessible,Kitchen,Doorman,Elevator in building,Buzzer/wireless intercom,Heating,Washer,Essentials,Shampoo,Hangers,Hair dryer,Iron,Laptop friendly workspace                                                                                                                                                   \n",
       "43    TV,Internet,Wireless Internet,Air conditioning,Kitchen,Elevator in building,Buzzer/wireless intercom,Heating,Family/kid friendly,Washer,Smoke detector,Carbon monoxide detector,First aid kit,Essentials,Shampoo,24-hour check-in,Hangers,Hair dryer,Iron,Laptop friendly workspace,translation missing: en.hosting_amenity_50                                  \n",
       "44    TV,Wireless Internet,Air conditioning,Kitchen,Elevator in building,Heating,Washer,Essentials,Shampoo                                                                                                                                                                                                                                                            \n",
       "45    TV,Internet,Wireless Internet,Air conditioning,Kitchen,Smoking allowed,Elevator in building,Buzzer/wireless intercom,Heating,Family/kid friendly,Washer,Fire extinguisher,Essentials,Shampoo,Hangers,Hair dryer,Iron                                                                                                                                            \n",
       "46    TV,Internet,Wireless Internet,Air conditioning,Kitchen,Elevator in building,Buzzer/wireless intercom,Heating,Family/kid friendly,Washer,First aid kit,Essentials,Shampoo,Hair dryer,Iron                                                                                                                                                                        \n",
       "⋮     ⋮                                                                                                                                                                                                                                                                                                                                                               \n",
       "13157 TV,Wireless Internet,Kitchen,Buzzer/wireless intercom,Heating,Essentials,Hangers,Iron,translation missing: en.hosting_amenity_49,translation missing: en.hosting_amenity_50                                                                                                                                                                                     \n",
       "13158 TV,Internet,Wireless Internet,Air conditioning,Kitchen,Pets allowed,Doorman,Elevator in building,Buzzer/wireless intercom,Heating,Family/kid friendly,Washer,Essentials,Hangers,Iron,Laptop friendly workspace,translation missing: en.hosting_amenity_49                                                                                                       \n",
       "13159 TV,Internet,Wireless Internet,Air conditioning,Kitchen,Elevator in building,Buzzer/wireless intercom,Heating,Family/kid friendly,Washer,Fire extinguisher,Essentials,24-hour check-in,Hangers,Hair dryer,Iron,Laptop friendly workspace                                                                                                                         \n",
       "13167 TV,Internet,Wireless Internet,Air conditioning,Kitchen,Elevator in building,Heating,Washer,Smoke detector,Fire extinguisher,Essentials,Hangers,Hair dryer,Iron,Laptop friendly workspace                                                                                                                                                                        \n",
       "13168 TV,Internet,Wireless Internet,Wheelchair accessible,Kitchen,Smoking allowed,Doorman,Elevator in building,Buzzer/wireless intercom,Heating,Family/kid friendly,Washer,Fire extinguisher,Essentials,Shampoo,24-hour check-in,Hangers,Hair dryer,Iron,Laptop friendly workspace                                                                                    \n",
       "13169 TV,Wireless Internet,Kitchen,Elevator in building,Heating,Family/kid friendly,Washer,Dryer,Essentials,Shampoo,24-hour check-in,Hangers,Hair dryer,Iron,Laptop friendly workspace                                                                                                                                                                                \n",
       "13175 TV,Wireless Internet,Kitchen,Breakfast,Elevator in building,Buzzer/wireless intercom,Heating,Family/kid friendly,Washer,Essentials,Shampoo,Hangers,Iron,Laptop friendly workspace                                                                                                                                                                               \n",
       "13176 TV,Internet,Wireless Internet,Air conditioning,Kitchen,Buzzer/wireless intercom,Heating,Family/kid friendly,Washer,First aid kit,Essentials,Shampoo,Hangers,Hair dryer,Iron,Laptop friendly workspace                                                                                                                                                           \n",
       "13179 TV,Internet,Wireless Internet,Pool,Kitchen,Free parking on premises,Doorman,Heating,Family/kid friendly,Washer,Essentials,24-hour check-in,Hangers,Iron,Laptop friendly workspace,Private entrance                                                                                                                                                              \n",
       "13183 TV,Internet,Wireless Internet,Air conditioning,Kitchen,Smoking allowed,Pets allowed,Elevator in building,Buzzer/wireless intercom,Heating,Family/kid friendly,Washer,Dryer,Fire extinguisher,Essentials,24-hour check-in,Hangers,Hair dryer,Iron                                                                                                                \n",
       "13184 TV,Internet,Wireless Internet,Kitchen,Buzzer/wireless intercom,Heating,Washer,Dryer,Essentials,Shampoo,24-hour check-in,Hangers,Hair dryer,Iron,Laptop friendly workspace,translation missing: en.hosting_amenity_49,translation missing: en.hosting_amenity_50                                                                                                 \n",
       "13185 TV,Internet,Wireless Internet,Air conditioning,Kitchen,Elevator in building,Heating,Washer,Dryer,First aid kit,Essentials,Hangers,Hair dryer,Iron,translation missing: en.hosting_amenity_49,translation missing: en.hosting_amenity_50                                                                                                                         \n",
       "13186 TV,Internet,Wireless Internet,Air conditioning,Kitchen,Elevator in building,Heating,Family/kid friendly,Washer,Smoke detector,Fire extinguisher,Essentials,Shampoo,Lock on bedroom door,Hangers,Hair dryer,Iron                                                                                                                                                 \n",
       "13187 TV,Wireless Internet,Air conditioning,Kitchen,Elevator in building,Buzzer/wireless intercom,Heating,Family/kid friendly,Washer                                                                                                                                                                                                                                  \n",
       "13188 TV,Internet,Wireless Internet,Kitchen,Smoking allowed,Elevator in building,Buzzer/wireless intercom,Heating,Family/kid friendly,Washer,First aid kit,Essentials,Shampoo,24-hour check-in,Hangers,Hair dryer,Iron,Laptop friendly workspace                                                                                                                      \n",
       "13190 TV,Wireless Internet,Air conditioning,Kitchen,Smoking allowed,Heating,Family/kid friendly,Washer,Dryer,Smoke detector,First aid kit,Essentials,Shampoo,Hangers,Hair dryer,Iron                                                                                                                                                                                  \n",
       "13191 TV,Wireless Internet,Air conditioning,Kitchen,Elevator in building,Heating,Washer,Dryer,Essentials,Shampoo,Hangers,Hair dryer,Iron,Laptop friendly workspace,translation missing: en.hosting_amenity_49,translation missing: en.hosting_amenity_50                                                                                                              \n",
       "13192 TV,Internet,Wireless Internet,Air conditioning,Kitchen,Pets allowed,Indoor fireplace,Buzzer/wireless intercom,Heating,Family/kid friendly,Washer,Smoke detector,Carbon monoxide detector,Essentials,Shampoo,24-hour check-in,Hangers,Hair dryer,Iron,Laptop friendly workspace                                                                                  \n",
       "13193 TV,Internet,Wireless Internet,Air conditioning,Kitchen,Smoking allowed,Elevator in building,Indoor fireplace,Family/kid friendly,Washer,Dryer,First aid kit,Fire extinguisher,Essentials                                                                                                                                                                        \n",
       "13195 TV,Wireless Internet,Kitchen,Buzzer/wireless intercom,Heating,Family/kid friendly,Washer,Smoke detector,Essentials,Shampoo,24-hour check-in,Hangers,Laptop friendly workspace,translation missing: en.hosting_amenity_50                                                                                                                                        \n",
       "13198 TV,Internet,Wireless Internet,Air conditioning,Kitchen,Smoking allowed,Pets allowed,Elevator in building,Heating,Family/kid friendly,Washer,Dryer,Essentials,Shampoo,Hangers,Hair dryer,Iron                                                                                                                                                                    \n",
       "13199 TV,Internet,Wireless Internet,Air conditioning,Kitchen,Smoking allowed,Pets allowed,Buzzer/wireless intercom,Heating,Family/kid friendly,Washer,Dryer,Essentials,Hangers,Hair dryer,Iron                                                                                                                                                                        \n",
       "13200 TV,Internet,Wireless Internet,Air conditioning,Kitchen,Smoking allowed,Pets allowed,Elevator in building,Heating,Family/kid friendly,Washer,First aid kit,Fire extinguisher,Essentials,Lock on bedroom door,Hangers,Hair dryer,Iron                                                                                                                             \n",
       "13201 Internet,Wireless Internet,Smoking allowed,Breakfast,Elevator in building,Heating,Shampoo,Hangers,Hair dryer,Iron,Laptop friendly workspace,translation missing: en.hosting_amenity_49,translation missing: en.hosting_amenity_50                                                                                                                               \n",
       "13202 TV,Wireless Internet,Air conditioning,Kitchen,Smoking allowed,Pets allowed,Heating,Family/kid friendly,Washer,Fire extinguisher,Essentials,Lock on bedroom door,Hangers,Hair dryer,Iron                                                                                                                                                                         \n",
       "13203 TV,Internet,Wireless Internet,Air conditioning,Kitchen,Elevator in building,Buzzer/wireless intercom,Heating,Washer,Dryer,Smoke detector,Fire extinguisher,Essentials,Shampoo,Hangers,Hair dryer,Iron,Laptop friendly workspace,translation missing: en.hosting_amenity_49,translation missing: en.hosting_amenity_50                                           \n",
       "13204 TV,Wireless Internet,Air conditioning,Kitchen,Elevator in building,Buzzer/wireless intercom,Heating,Family/kid friendly,Washer,Dryer,Smoke detector,Carbon monoxide detector,Fire extinguisher,Essentials,Shampoo,24-hour check-in,Hangers,Hair dryer,Iron,Laptop friendly workspace                                                                            \n",
       "13205 TV,Wireless Internet,Air conditioning,Pool,Kitchen,Doorman,Gym,Elevator in building,Buzzer/wireless intercom,Heating,Washer,First aid kit,Safety card,Essentials,Shampoo,Hangers,Hair dryer,Iron,Laptop friendly workspace                                                                                                                                      \n",
       "13206 TV,Internet,Wireless Internet,Kitchen,Smoking allowed,Pets allowed,Elevator in building,Heating,Family/kid friendly,Washer,First aid kit,Essentials,Shampoo                                                                                                                                                                                                     \n",
       "13207 TV,Internet,Wireless Internet,Air conditioning,Kitchen,Heating,Family/kid friendly,Washer                                                                                                                                                                                                                                                                       \n",
       "      PiesCuadrados Precio Puntuacion MetrosCuadrados contador\n",
       "2      NA            92     96              NA        1       \n",
       "3      NA            55     91              NA        1       \n",
       "4      NA            60    100              NA        1       \n",
       "5     538            75     90        49.98181        1       \n",
       "6      NA            55     95              NA        1       \n",
       "8      NA            70     84              NA        1       \n",
       "9     700            90     98        65.03210        1       \n",
       "10     NA           155     NA              NA        1       \n",
       "11     40            70     90         3.71612        1       \n",
       "15    646            75     91        60.01534        1       \n",
       "16     NA           130    100              NA        1       \n",
       "17     NA           100     97              NA        1       \n",
       "18     NA           160     95              NA        1       \n",
       "19     NA            49     95              NA        1       \n",
       "21     NA            70     88              NA        1       \n",
       "22     NA           210     81              NA        1       \n",
       "23     NA           120     99              NA        1       \n",
       "24     NA            50     91              NA        1       \n",
       "25    753           100     87        69.95596        1       \n",
       "26     NA            75    100              NA        1       \n",
       "27     NA           155     93              NA        1       \n",
       "28     NA           155     80              NA        1       \n",
       "30     NA           163    100              NA        1       \n",
       "31     NA            70     95              NA        1       \n",
       "32     NA            49     88              NA        1       \n",
       "36     NA            90     92              NA        1       \n",
       "43     NA            64     97              NA        1       \n",
       "44     NA           109     90              NA        1       \n",
       "45     NA            67     95              NA        1       \n",
       "46    269            65     93        24.99091        1       \n",
       "⋮     ⋮             ⋮      ⋮          ⋮               ⋮       \n",
       "13157  NA            30     83              NA        1       \n",
       "13158  NA            45    100              NA        1       \n",
       "13159  NA            39     94              NA        1       \n",
       "13167  NA           105     NA              NA        1       \n",
       "13168  NA           139     92              NA        1       \n",
       "13169  NA            61     92              NA        1       \n",
       "13175  NA            55    100              NA        1       \n",
       "13176  NA            65     94              NA        1       \n",
       "13179  NA            50    100              NA        1       \n",
       "13183  NA            43     83              NA        1       \n",
       "13184  NA            80     96              NA        1       \n",
       "13185  NA            80     99              NA        1       \n",
       "13186  NA           100    100              NA        1       \n",
       "13187 291            50     87        27.03477        1       \n",
       "13188  NA            85     90              NA        1       \n",
       "13190  NA            60    100              NA        1       \n",
       "13191  NA           145     NA              NA        1       \n",
       "13192  NA            62     91              NA        1       \n",
       "13193  NA           300     94              NA        1       \n",
       "13195  NA            62     81              NA        1       \n",
       "13198  NA            90     90              NA        1       \n",
       "13199  NA            70     87              NA        1       \n",
       "13200  NA            40     82              NA        1       \n",
       "13201  NA            30     NA              NA        1       \n",
       "13202  NA            48     83              NA        1       \n",
       "13203  NA            35     90              NA        1       \n",
       "13204  NA            79     97              NA        1       \n",
       "13205  NA           150    100              NA        1       \n",
       "13206  NA            80     91              NA        1       \n",
       "13207  NA            69     80              NA        1       "
      ]
     },
     "metadata": {},
     "output_type": "display_data"
    }
   ],
   "source": [
    "airbnb_entire<-subset(airbnb, TipoAlquiler==\"Entire home/apt\")\n",
    "airbnb_entire$contador<-1\n",
    "airbnb_entire"
   ]
  },
  {
   "cell_type": "markdown",
   "metadata": {},
   "source": [
    "¿Cuales son los 5 barrios que tienen un mayor número de apartamentos enteros en alquiler?\n",
    "Nota: Mirar solo en airbnb_entire"
   ]
  },
  {
   "cell_type": "code",
   "execution_count": 51,
   "metadata": {},
   "outputs": [
    {
     "data": {
      "text/html": [
       "<table>\n",
       "<caption>A data.frame: 5 × 2</caption>\n",
       "<thead>\n",
       "\t<tr><th></th><th scope=col>Barrio</th><th scope=col>Freq</th></tr>\n",
       "\t<tr><th></th><th scope=col>&lt;chr&gt;</th><th scope=col>&lt;dbl&gt;</th></tr>\n",
       "</thead>\n",
       "<tbody>\n",
       "\t<tr><th scope=row>45</th><td>Embajadores</td><td>1228</td></tr>\n",
       "\t<tr><th scope=row>109</th><td>Universidad</td><td> 984</td></tr>\n",
       "\t<tr><th scope=row>76</th><td>Palacio    </td><td> 769</td></tr>\n",
       "\t<tr><th scope=row>106</th><td>Sol        </td><td> 701</td></tr>\n",
       "\t<tr><th scope=row>39</th><td>Cortes     </td><td> 574</td></tr>\n",
       "</tbody>\n",
       "</table>\n"
      ],
      "text/latex": [
       "A data.frame: 5 × 2\n",
       "\\begin{tabular}{r|ll}\n",
       "  & Barrio & Freq\\\\\n",
       "  & <chr> & <dbl>\\\\\n",
       "\\hline\n",
       "\t45 & Embajadores & 1228\\\\\n",
       "\t109 & Universidad &  984\\\\\n",
       "\t76 & Palacio     &  769\\\\\n",
       "\t106 & Sol         &  701\\\\\n",
       "\t39 & Cortes      &  574\\\\\n",
       "\\end{tabular}\n"
      ],
      "text/markdown": [
       "\n",
       "A data.frame: 5 × 2\n",
       "\n",
       "| <!--/--> | Barrio &lt;chr&gt; | Freq &lt;dbl&gt; |\n",
       "|---|---|---|\n",
       "| 45 | Embajadores | 1228 |\n",
       "| 109 | Universidad |  984 |\n",
       "| 76 | Palacio     |  769 |\n",
       "| 106 | Sol         |  701 |\n",
       "| 39 | Cortes      |  574 |\n",
       "\n"
      ],
      "text/plain": [
       "    Barrio      Freq\n",
       "45  Embajadores 1228\n",
       "109 Universidad  984\n",
       "76  Palacio      769\n",
       "106 Sol          701\n",
       "39  Cortes       574"
      ]
     },
     "metadata": {},
     "output_type": "display_data"
    }
   ],
   "source": [
    "barriosEntradasDf <- aggregate(airbnb_entire$contador,\n",
    "                by = list(airbnb_entire$Barrio),\n",
    "                FUN = sum)\n",
    "colnames(barriosEntradasDf)<-c(\"Barrio\",\"Freq\")\n",
    "barriosEntradasDf<-barriosEntradasDf[order(barriosEntradasDf$Freq, decreasing = T),]\n",
    "barriosEntradasDf[1:5,]"
   ]
  },
  {
   "cell_type": "markdown",
   "metadata": {},
   "source": [
    "¿Cuales son los 5 barrios que tienen un mayor precio medio de alquiler para apartamentos enteros?\n",
    "\n",
    "¿Cual es su precio medio?\n",
    "\n",
    "Ayuda: Usa la función aggregate `aggregate(.~colname,df,mean,na.rm=TRUE)`"
   ]
  },
  {
   "cell_type": "code",
   "execution_count": 52,
   "metadata": {},
   "outputs": [],
   "source": [
    "barriosPrecioMedioDf <- aggregate(airbnb_entire$Precio,\n",
    "                by = list(airbnb_entire$Barrio),\n",
    "                FUN = function(x) mean(x, na.rm = TRUE))\n",
    "colnames(barriosPrecioMedioDf)<-c(\"Barrio\",\"PrecioMedio\")\n"
   ]
  },
  {
   "cell_type": "code",
   "execution_count": 53,
   "metadata": {},
   "outputs": [
    {
     "data": {
      "text/html": [
       "<table>\n",
       "<caption>A data.frame: 5 × 2</caption>\n",
       "<thead>\n",
       "\t<tr><th></th><th scope=col>Barrio</th><th scope=col>PrecioMedio</th></tr>\n",
       "\t<tr><th></th><th scope=col>&lt;chr&gt;</th><th scope=col>&lt;dbl&gt;</th></tr>\n",
       "</thead>\n",
       "<tbody>\n",
       "\t<tr><th scope=row>77</th><td>Palomas      </td><td>309.7500</td></tr>\n",
       "\t<tr><th scope=row>50</th><td>Fuentelareina</td><td>180.0000</td></tr>\n",
       "\t<tr><th scope=row>93</th><td>Recoletos    </td><td>161.9254</td></tr>\n",
       "\t<tr><th scope=row>43</th><td>El Plantío   </td><td>150.0000</td></tr>\n",
       "\t<tr><th scope=row>30</th><td>Castellana   </td><td>141.3889</td></tr>\n",
       "</tbody>\n",
       "</table>\n"
      ],
      "text/latex": [
       "A data.frame: 5 × 2\n",
       "\\begin{tabular}{r|ll}\n",
       "  & Barrio & PrecioMedio\\\\\n",
       "  & <chr> & <dbl>\\\\\n",
       "\\hline\n",
       "\t77 & Palomas       & 309.7500\\\\\n",
       "\t50 & Fuentelareina & 180.0000\\\\\n",
       "\t93 & Recoletos     & 161.9254\\\\\n",
       "\t43 & El Plantío    & 150.0000\\\\\n",
       "\t30 & Castellana    & 141.3889\\\\\n",
       "\\end{tabular}\n"
      ],
      "text/markdown": [
       "\n",
       "A data.frame: 5 × 2\n",
       "\n",
       "| <!--/--> | Barrio &lt;chr&gt; | PrecioMedio &lt;dbl&gt; |\n",
       "|---|---|---|\n",
       "| 77 | Palomas       | 309.7500 |\n",
       "| 50 | Fuentelareina | 180.0000 |\n",
       "| 93 | Recoletos     | 161.9254 |\n",
       "| 43 | El Plantío    | 150.0000 |\n",
       "| 30 | Castellana    | 141.3889 |\n",
       "\n"
      ],
      "text/plain": [
       "   Barrio        PrecioMedio\n",
       "77 Palomas       309.7500   \n",
       "50 Fuentelareina 180.0000   \n",
       "93 Recoletos     161.9254   \n",
       "43 El Plantío    150.0000   \n",
       "30 Castellana    141.3889   "
      ]
     },
     "metadata": {},
     "output_type": "display_data"
    }
   ],
   "source": [
    "barriosPrecioMedioDf<-barriosPrecioMedioDf[order(barriosPrecioMedioDf$PrecioMedio, decreasing = T),]\n",
    "barriosPrecioMedioDf[1:5,]"
   ]
  },
  {
   "cell_type": "markdown",
   "metadata": {},
   "source": [
    "¿Cuantos apartamentos hay en cada uno de esos barrios?\n",
    "\n",
    "Mostrar una dataframe con el nombre del barrio, el precio y el número de entradas.\n",
    "\n",
    "Ayuda: Podeis crear un nuevo dataframe con las columnas \"Barrio\" y \"Freq\" que contenga el número de entradas en cada barrio y hacer un merge con el dataframe del punto anterior."
   ]
  },
  {
   "cell_type": "code",
   "execution_count": 54,
   "metadata": {},
   "outputs": [],
   "source": [
    "barriosEntradasDf<-barriosEntradasDf[order(barriosEntradasDf$Barrio),]\n",
    "barriosPrecioMedioDf<-barriosPrecioMedioDf[order(barriosPrecioMedioDf$Barrio),]"
   ]
  },
  {
   "cell_type": "code",
   "execution_count": 55,
   "metadata": {},
   "outputs": [
    {
     "data": {
      "text/html": [
       "<table>\n",
       "<caption>A data.frame: 6 × 3</caption>\n",
       "<thead>\n",
       "\t<tr><th></th><th scope=col>Barrio</th><th scope=col>Freq</th><th scope=col>PrecioMedio</th></tr>\n",
       "\t<tr><th></th><th scope=col>&lt;chr&gt;</th><th scope=col>&lt;dbl&gt;</th><th scope=col>&lt;dbl&gt;</th></tr>\n",
       "</thead>\n",
       "<tbody>\n",
       "\t<tr><th scope=row>1</th><td>Abrantes        </td><td> 3</td><td> 46.00000</td></tr>\n",
       "\t<tr><th scope=row>2</th><td>Acacias         </td><td>61</td><td> 68.16393</td></tr>\n",
       "\t<tr><th scope=row>3</th><td>Adelfas         </td><td>33</td><td> 68.72727</td></tr>\n",
       "\t<tr><th scope=row>4</th><td>Aeropuerto      </td><td> 2</td><td> 38.00000</td></tr>\n",
       "\t<tr><th scope=row>5</th><td>Aguilas         </td><td> 2</td><td> 54.50000</td></tr>\n",
       "\t<tr><th scope=row>6</th><td>Alameda de Osuna</td><td> 4</td><td>138.75000</td></tr>\n",
       "</tbody>\n",
       "</table>\n"
      ],
      "text/latex": [
       "A data.frame: 6 × 3\n",
       "\\begin{tabular}{r|lll}\n",
       "  & Barrio & Freq & PrecioMedio\\\\\n",
       "  & <chr> & <dbl> & <dbl>\\\\\n",
       "\\hline\n",
       "\t1 & Abrantes         &  3 &  46.00000\\\\\n",
       "\t2 & Acacias          & 61 &  68.16393\\\\\n",
       "\t3 & Adelfas          & 33 &  68.72727\\\\\n",
       "\t4 & Aeropuerto       &  2 &  38.00000\\\\\n",
       "\t5 & Aguilas          &  2 &  54.50000\\\\\n",
       "\t6 & Alameda de Osuna &  4 & 138.75000\\\\\n",
       "\\end{tabular}\n"
      ],
      "text/markdown": [
       "\n",
       "A data.frame: 6 × 3\n",
       "\n",
       "| <!--/--> | Barrio &lt;chr&gt; | Freq &lt;dbl&gt; | PrecioMedio &lt;dbl&gt; |\n",
       "|---|---|---|---|\n",
       "| 1 | Abrantes         |  3 |  46.00000 |\n",
       "| 2 | Acacias          | 61 |  68.16393 |\n",
       "| 3 | Adelfas          | 33 |  68.72727 |\n",
       "| 4 | Aeropuerto       |  2 |  38.00000 |\n",
       "| 5 | Aguilas          |  2 |  54.50000 |\n",
       "| 6 | Alameda de Osuna |  4 | 138.75000 |\n",
       "\n"
      ],
      "text/plain": [
       "  Barrio           Freq PrecioMedio\n",
       "1 Abrantes          3    46.00000  \n",
       "2 Acacias          61    68.16393  \n",
       "3 Adelfas          33    68.72727  \n",
       "4 Aeropuerto        2    38.00000  \n",
       "5 Aguilas           2    54.50000  \n",
       "6 Alameda de Osuna  4   138.75000  "
      ]
     },
     "metadata": {},
     "output_type": "display_data"
    }
   ],
   "source": [
    "barriosFreqPm<-cbind(barriosEntradasDf,barriosPrecioMedioDf$PrecioMedio)\n",
    "colnames(barriosFreqPm)<-c(\"Barrio\",\"Freq\",\"PrecioMedio\")\n",
    "head(barriosFreqPm)"
   ]
  },
  {
   "cell_type": "markdown",
   "metadata": {},
   "source": [
    "Partiendo del dataframe anterior, muestra los 5 barrios con mayor precio, pero que tengan más de 100 entradas de alquiler."
   ]
  },
  {
   "cell_type": "code",
   "execution_count": 56,
   "metadata": {},
   "outputs": [
    {
     "data": {
      "text/html": [
       "<table>\n",
       "<caption>A data.frame: 5 × 3</caption>\n",
       "<thead>\n",
       "\t<tr><th></th><th scope=col>Barrio</th><th scope=col>Freq</th><th scope=col>PrecioMedio</th></tr>\n",
       "\t<tr><th></th><th scope=col>&lt;chr&gt;</th><th scope=col>&lt;dbl&gt;</th><th scope=col>&lt;dbl&gt;</th></tr>\n",
       "</thead>\n",
       "<tbody>\n",
       "\t<tr><th scope=row>93</th><td>Recoletos</td><td>135</td><td>161.92537</td></tr>\n",
       "\t<tr><th scope=row>52</th><td>Goya     </td><td>142</td><td>111.33803</td></tr>\n",
       "\t<tr><th scope=row>106</th><td>Sol      </td><td>701</td><td>100.75036</td></tr>\n",
       "\t<tr><th scope=row>108</th><td>Trafalgar</td><td>223</td><td> 98.57848</td></tr>\n",
       "\t<tr><th scope=row>59</th><td>Justicia </td><td>534</td><td> 98.25468</td></tr>\n",
       "</tbody>\n",
       "</table>\n"
      ],
      "text/latex": [
       "A data.frame: 5 × 3\n",
       "\\begin{tabular}{r|lll}\n",
       "  & Barrio & Freq & PrecioMedio\\\\\n",
       "  & <chr> & <dbl> & <dbl>\\\\\n",
       "\\hline\n",
       "\t93 & Recoletos & 135 & 161.92537\\\\\n",
       "\t52 & Goya      & 142 & 111.33803\\\\\n",
       "\t106 & Sol       & 701 & 100.75036\\\\\n",
       "\t108 & Trafalgar & 223 &  98.57848\\\\\n",
       "\t59 & Justicia  & 534 &  98.25468\\\\\n",
       "\\end{tabular}\n"
      ],
      "text/markdown": [
       "\n",
       "A data.frame: 5 × 3\n",
       "\n",
       "| <!--/--> | Barrio &lt;chr&gt; | Freq &lt;dbl&gt; | PrecioMedio &lt;dbl&gt; |\n",
       "|---|---|---|---|\n",
       "| 93 | Recoletos | 135 | 161.92537 |\n",
       "| 52 | Goya      | 142 | 111.33803 |\n",
       "| 106 | Sol       | 701 | 100.75036 |\n",
       "| 108 | Trafalgar | 223 |  98.57848 |\n",
       "| 59 | Justicia  | 534 |  98.25468 |\n",
       "\n"
      ],
      "text/plain": [
       "    Barrio    Freq PrecioMedio\n",
       "93  Recoletos 135  161.92537  \n",
       "52  Goya      142  111.33803  \n",
       "106 Sol       701  100.75036  \n",
       "108 Trafalgar 223   98.57848  \n",
       "59  Justicia  534   98.25468  "
      ]
     },
     "metadata": {},
     "output_type": "display_data"
    }
   ],
   "source": [
    "barriosFreqPmMayor100<-subset(barriosFreqPm, Freq>100)\n",
    "barriosFreqPmMayor100<-barriosFreqPmMayor100[order(barriosFreqPmMayor100$PrecioMedio, decreasing = T),]\n",
    "barriosFreqPmMayor100[1:5,]"
   ]
  },
  {
   "cell_type": "markdown",
   "metadata": {},
   "source": [
    "Dibuja el diagrama de densidad de distribución de los diferentes precios"
   ]
  },
  {
   "cell_type": "code",
   "execution_count": 57,
   "metadata": {},
   "outputs": [
    {
     "name": "stderr",
     "output_type": "stream",
     "text": [
      "Warning message in Barrio == c(barriosFreqPmMayor100[1:5, 1]):\n",
      "“longer object length is not a multiple of shorter object length”\n",
      "Warning message:\n",
      "“Removed 1 rows containing non-finite values (stat_density).”\n"
     ]
    },
    {
     "data": {
      "image/png": "[encoded data removed]",
      "text/plain": [
       "plot without title"
      ]
     },
     "metadata": {
      "image/png": {
       "height": 480,
       "width": 720
      },
      "text/plain": {
       "height": 480,
       "width": 720
      }
     },
     "output_type": "display_data"
    }
   ],
   "source": [
    "\n",
    "airbnb_precios_barrios<-subset(airbnb_entire, Barrio==c(barriosFreqPmMayor100[1:5,1]))\n",
    "\n",
    "\n",
    "ggplot(data=airbnb_precios_barrios, aes(x=Precio,color=Barrio))+geom_density()"
   ]
  },
  {
   "cell_type": "markdown",
   "metadata": {},
   "source": [
    "Calcula el tamaño medio, en metros cuadrados, para los 5 barrios anteriores y muestralo en el mismo dataframe junto con el precio y número de entradas"
   ]
  },
  {
   "cell_type": "code",
   "execution_count": 58,
   "metadata": {},
   "outputs": [
    {
     "data": {
      "text/html": [
       "<table>\n",
       "<caption>A data.frame: 351 × 15</caption>\n",
       "<thead>\n",
       "\t<tr><th></th><th scope=col>CodigoPostal</th><th scope=col>Barrio</th><th scope=col>TipoPropiedad</th><th scope=col>TipoAlquiler</th><th scope=col>MaxOcupantes</th><th scope=col>NumBanyos</th><th scope=col>NumDormitorios</th><th scope=col>NumCamas</th><th scope=col>TipoCama</th><th scope=col>Comodidades</th><th scope=col>PiesCuadrados</th><th scope=col>Precio</th><th scope=col>Puntuacion</th><th scope=col>MetrosCuadrados</th><th scope=col>contador</th></tr>\n",
       "\t<tr><th></th><th scope=col>&lt;chr&gt;</th><th scope=col>&lt;chr&gt;</th><th scope=col>&lt;fct&gt;</th><th scope=col>&lt;fct&gt;</th><th scope=col>&lt;int&gt;</th><th scope=col>&lt;dbl&gt;</th><th scope=col>&lt;int&gt;</th><th scope=col>&lt;int&gt;</th><th scope=col>&lt;fct&gt;</th><th scope=col>&lt;fct&gt;</th><th scope=col>&lt;int&gt;</th><th scope=col>&lt;int&gt;</th><th scope=col>&lt;int&gt;</th><th scope=col>&lt;dbl&gt;</th><th scope=col>&lt;dbl&gt;</th></tr>\n",
       "</thead>\n",
       "<tbody>\n",
       "\t<tr><th scope=row>18</th><td>28012</td><td>Sol      </td><td>Apartment</td><td>Entire home/apt</td><td> 6</td><td>1.0</td><td>2</td><td>2</td><td>Real Bed     </td><td>TV,Internet,Wireless Internet,Air conditioning,Kitchen,Smoking allowed,Elevator in building,Buzzer/wireless intercom,Heating,Family/kid friendly,Washer,Dryer,Essentials,Shampoo,Hangers,Hair dryer,Iron,Laptop friendly workspace                                                                                                                                                              </td><td>NA</td><td>160</td><td> 95</td><td>NA</td><td>1</td></tr>\n",
       "\t<tr><th scope=row>24</th><td>28012</td><td>Sol      </td><td>Apartment</td><td>Entire home/apt</td><td> 4</td><td>1.0</td><td>1</td><td>2</td><td>Real Bed     </td><td>TV,Internet,Wireless Internet,Air conditioning,Kitchen,Elevator in building,Heating,Family/kid friendly,Washer,Smoke detector,Carbon monoxide detector,Essentials,Shampoo,24-hour check-in,Hangers,Hair dryer,Iron,Laptop friendly workspace                                                                                                                                                    </td><td>NA</td><td> 50</td><td> 91</td><td>NA</td><td>1</td></tr>\n",
       "\t<tr><th scope=row>30</th><td>28005</td><td>Sol      </td><td>Apartment</td><td>Entire home/apt</td><td> 8</td><td>1.0</td><td>3</td><td>4</td><td>Real Bed     </td><td>TV,Internet,Wireless Internet,Kitchen,Breakfast,Elevator in building,Buzzer/wireless intercom,Heating,Family/kid friendly,Washer,Essentials,Shampoo,Hangers,Hair dryer,Iron,Laptop friendly workspace,Self Check-In,Lockbox                                                                                                                                                                     </td><td>NA</td><td>163</td><td>100</td><td>NA</td><td>1</td></tr>\n",
       "\t<tr><th scope=row>44</th><td>28013</td><td>Sol      </td><td>Apartment</td><td>Entire home/apt</td><td> 6</td><td>2.0</td><td>2</td><td>2</td><td>Real Bed     </td><td>TV,Wireless Internet,Air conditioning,Kitchen,Elevator in building,Heating,Washer,Essentials,Shampoo                                                                                                                                                                                                                                                                                            </td><td>NA</td><td>109</td><td> 90</td><td>NA</td><td>1</td></tr>\n",
       "\t<tr><th scope=row>49</th><td>28013</td><td>Sol      </td><td>Apartment</td><td>Entire home/apt</td><td> 4</td><td>1.0</td><td>2</td><td>2</td><td>Real Bed     </td><td>TV,Internet,Wireless Internet,Air conditioning,Kitchen,Smoking allowed,Heating,Family/kid friendly,Washer,Essentials,Shampoo,Hangers,Hair dryer,Iron,Laptop friendly workspace                                                                                                                                                                                                                  </td><td>NA</td><td> 71</td><td> 93</td><td>NA</td><td>1</td></tr>\n",
       "\t<tr><th scope=row>57</th><td>28012</td><td>Sol      </td><td>Apartment</td><td>Entire home/apt</td><td> 4</td><td>1.0</td><td>1</td><td>1</td><td>Pull-out Sofa</td><td>TV,Wireless Internet,Air conditioning,Kitchen,Doorman,Elevator in building,Buzzer/wireless intercom,Heating,Family/kid friendly,Washer,Smoke detector,Carbon monoxide detector,First aid kit,Safety card,Fire extinguisher,Essentials,Shampoo,24-hour check-in,Hangers,Hair dryer,Iron,Laptop friendly workspace                                                                                </td><td>NA</td><td> 84</td><td> 96</td><td>NA</td><td>1</td></tr>\n",
       "\t<tr><th scope=row>263</th><td>28004</td><td>Justicia </td><td>Apartment</td><td>Entire home/apt</td><td> 2</td><td>1.0</td><td>1</td><td>1</td><td>Real Bed     </td><td>TV,Internet,Wireless Internet,Kitchen,Heating,Family/kid friendly,Washer,Essentials,Hangers,Hair dryer,Iron,Laptop friendly workspace                                                                                                                                                                                                                                                           </td><td>NA</td><td> 85</td><td> 98</td><td>NA</td><td>1</td></tr>\n",
       "\t<tr><th scope=row>270</th><td>28001</td><td>Recoletos</td><td>House    </td><td>Entire home/apt</td><td> 4</td><td>1.0</td><td>2</td><td>2</td><td>Real Bed     </td><td>TV,Wireless Internet,Air conditioning,Kitchen,Doorman,Elevator in building,Heating,Family/kid friendly,Washer,Essentials,Shampoo                                                                                                                                                                                                                                                                </td><td>NA</td><td> 80</td><td> 93</td><td>NA</td><td>1</td></tr>\n",
       "\t<tr><th scope=row>275</th><td>28001</td><td>Recoletos</td><td>Apartment</td><td>Entire home/apt</td><td> 2</td><td>1.0</td><td>1</td><td>2</td><td>Real Bed     </td><td>TV,Wireless Internet,Air conditioning,Pool,Kitchen,Breakfast,Elevator in building,Hot tub,Heating,Family/kid friendly,Washer,First aid kit,Safety card,Essentials,Shampoo,Hangers,Hair dryer,Iron,Laptop friendly workspace,translation missing: en.hosting_amenity_49,Private entrance                                                                                                         </td><td>NA</td><td> 90</td><td> NA</td><td>NA</td><td>1</td></tr>\n",
       "\t<tr><th scope=row>286</th><td>NA   </td><td>Goya     </td><td>Apartment</td><td>Entire home/apt</td><td> 3</td><td>1.0</td><td>2</td><td>2</td><td>Real Bed     </td><td>TV,Internet,Wireless Internet,Air conditioning,Kitchen,Doorman,Elevator in building,Buzzer/wireless intercom,Heating,Family/kid friendly,Washer,First aid kit,Essentials,Shampoo,Hangers,Hair dryer,Iron                                                                                                                                                                                        </td><td>NA</td><td>100</td><td> 96</td><td>NA</td><td>1</td></tr>\n",
       "\t<tr><th scope=row>291</th><td>28004</td><td>Justicia </td><td>Apartment</td><td>Entire home/apt</td><td> 4</td><td>1.0</td><td>1</td><td>2</td><td>Real Bed     </td><td>TV,Internet,Wireless Internet,Air conditioning,Kitchen,Elevator in building,Buzzer/wireless intercom,Heating,Family/kid friendly,Washer,Fire extinguisher,Essentials,Shampoo                                                                                                                                                                                                                    </td><td>NA</td><td>185</td><td> NA</td><td>NA</td><td>1</td></tr>\n",
       "\t<tr><th scope=row>298</th><td>28004</td><td>Justicia </td><td>Apartment</td><td>Entire home/apt</td><td> 2</td><td>1.0</td><td>1</td><td>2</td><td>Real Bed     </td><td>Internet,Wireless Internet,Air conditioning,Kitchen,Buzzer/wireless intercom,Heating,Washer,Essentials,Shampoo,translation missing: en.hosting_amenity_49,translation missing: en.hosting_amenity_50                                                                                                                                                                                            </td><td>NA</td><td> 75</td><td> 88</td><td>NA</td><td>1</td></tr>\n",
       "\t<tr><th scope=row>344</th><td>28010</td><td>Trafalgar</td><td>Apartment</td><td>Entire home/apt</td><td> 5</td><td>2.0</td><td>3</td><td>4</td><td>Real Bed     </td><td>TV,Internet,Wireless Internet,Air conditioning,Kitchen,Free parking on premises,Doorman,Elevator in building,Buzzer/wireless intercom,Heating,Family/kid friendly,Washer,Essentials,Hangers,Hair dryer,Iron,Laptop friendly workspace,Private entrance,Outlet covers,Bathtub,Baby bath,Changing table,High chair,Children’s books and toys,Babysitter recommendations,Crib,Children’s dinnerware</td><td>NA</td><td>140</td><td>100</td><td>NA</td><td>1</td></tr>\n",
       "\t<tr><th scope=row>351</th><td>28010</td><td>Trafalgar</td><td>Apartment</td><td>Entire home/apt</td><td> 8</td><td>2.0</td><td>3</td><td>6</td><td>Real Bed     </td><td>TV,Cable TV,Internet,Wireless Internet,Air conditioning,Wheelchair accessible,Kitchen,Smoking allowed,Pets allowed,Elevator in building,Hot tub,Buzzer/wireless intercom,Heating,Family/kid friendly,Washer,Dryer,Essentials,Hangers,Hair dryer,Iron,Self Check-In,Doorman Entry                                                                                                                </td><td>NA</td><td>119</td><td> 85</td><td>NA</td><td>1</td></tr>\n",
       "\t<tr><th scope=row>557</th><td>28001</td><td>Recoletos</td><td>Other    </td><td>Entire home/apt</td><td> 1</td><td>1.0</td><td>1</td><td>1</td><td>Real Bed     </td><td>TV,Internet,Air conditioning,Kitchen,Breakfast,Elevator in building,Heating,Washer,Fire extinguisher,Essentials,Shampoo,Lock on bedroom door,Hangers,Hair dryer,Iron,Laptop friendly workspace,translation missing: en.hosting_amenity_49,translation missing: en.hosting_amenity_50                                                                                                            </td><td>NA</td><td> 50</td><td> NA</td><td>NA</td><td>1</td></tr>\n",
       "\t<tr><th scope=row>573</th><td>28013</td><td>Sol      </td><td>Apartment</td><td>Entire home/apt</td><td> 6</td><td>2.0</td><td>2</td><td>3</td><td>Real Bed     </td><td>TV,Internet,Wireless Internet,Air conditioning,Kitchen,Doorman,Elevator in building,Buzzer/wireless intercom,Heating,Family/kid friendly,Washer,Essentials,Shampoo,24-hour check-in,Hangers,Hair dryer,Iron,Laptop friendly workspace,Private entrance                                                                                                                                          </td><td>NA</td><td>120</td><td> 96</td><td>NA</td><td>1</td></tr>\n",
       "\t<tr><th scope=row>578</th><td>28005</td><td>Sol      </td><td>Apartment</td><td>Entire home/apt</td><td> 9</td><td>2.0</td><td>4</td><td>1</td><td>Real Bed     </td><td>TV,Internet,Wireless Internet,Kitchen,Elevator in building,Buzzer/wireless intercom,Heating,Family/kid friendly,Washer,Essentials,Shampoo,Iron                                                                                                                                                                                                                                                  </td><td>NA</td><td>180</td><td> 92</td><td>NA</td><td>1</td></tr>\n",
       "\t<tr><th scope=row>583</th><td>28013</td><td>Sol      </td><td>Apartment</td><td>Entire home/apt</td><td> 2</td><td>1.0</td><td>1</td><td>1</td><td>Real Bed     </td><td>TV,Wireless Internet,Air conditioning,Kitchen,Elevator in building,Heating,Family/kid friendly,Washer,Essentials,Shampoo,Hangers,Hair dryer,Iron,Laptop friendly workspace,translation missing: en.hosting_amenity_50                                                                                                                                                                           </td><td>NA</td><td>115</td><td>100</td><td>NA</td><td>1</td></tr>\n",
       "\t<tr><th scope=row>679</th><td>28004</td><td>Sol      </td><td>Apartment</td><td>Entire home/apt</td><td> 4</td><td>1.0</td><td>1</td><td>2</td><td>Real Bed     </td><td>TV,Cable TV,Internet,Wireless Internet,Air conditioning,Kitchen,Elevator in building,Buzzer/wireless intercom,Heating,Family/kid friendly,Washer,Dryer,First aid kit,Essentials,Shampoo,24-hour check-in,Hangers,Hair dryer,Iron,Laptop friendly workspace                                                                                                                                      </td><td>NA</td><td> 85</td><td> 98</td><td>NA</td><td>1</td></tr>\n",
       "\t<tr><th scope=row>686</th><td>28013</td><td>Sol      </td><td>Apartment</td><td>Entire home/apt</td><td> 4</td><td>1.5</td><td>1</td><td>2</td><td>Real Bed     </td><td>TV,Internet,Wireless Internet,Air conditioning,Kitchen,Elevator in building,Heating,Family/kid friendly,Washer,Dryer,Essentials,Shampoo,Hangers,Hair dryer,Iron                                                                                                                                                                                                                                 </td><td>NA</td><td> 60</td><td> 88</td><td>NA</td><td>1</td></tr>\n",
       "\t<tr><th scope=row>691</th><td>28013</td><td>Sol      </td><td>House    </td><td>Entire home/apt</td><td> 5</td><td>1.0</td><td>2</td><td>5</td><td>Real Bed     </td><td>TV,Internet,Wireless Internet,Kitchen,Smoking allowed,Heating,Washer,Essentials,Shampoo,Hangers,Hair dryer,Iron                                                                                                                                                                                                                                                                                 </td><td>NA</td><td> 72</td><td> 75</td><td>NA</td><td>1</td></tr>\n",
       "\t<tr><th scope=row>700</th><td>28012</td><td>Sol      </td><td>House    </td><td>Entire home/apt</td><td> 4</td><td>1.0</td><td>1</td><td>2</td><td>Real Bed     </td><td>TV,Cable TV,Internet,Wireless Internet,Air conditioning,Wheelchair accessible,Kitchen,Doorman,Elevator in building,Buzzer/wireless intercom,Heating,Family/kid friendly,Washer,Smoke detector,Carbon monoxide detector,First aid kit,Safety card,Fire extinguisher,Essentials,Shampoo,Lock on bedroom door,24-hour check-in,Hangers,Hair dryer,Iron,Laptop friendly workspace                   </td><td>NA</td><td> 99</td><td> 91</td><td>NA</td><td>1</td></tr>\n",
       "\t<tr><th scope=row>705</th><td>28012</td><td>Sol      </td><td>Apartment</td><td>Entire home/apt</td><td> 2</td><td>1.0</td><td>1</td><td>1</td><td>Real Bed     </td><td>TV,Cable TV,Internet,Wireless Internet,Air conditioning,Kitchen,Doorman,Elevator in building,Buzzer/wireless intercom,Heating,Family/kid friendly,Washer,Dryer,Smoke detector,Carbon monoxide detector,Essentials,Shampoo,24-hour check-in,Hangers,Hair dryer,Iron,Laptop friendly workspace,translation missing: en.hosting_amenity_49,Self Check-In,Doorman Entry                             </td><td>NA</td><td> 99</td><td> 97</td><td>NA</td><td>1</td></tr>\n",
       "\t<tr><th scope=row>725</th><td>28004</td><td>Justicia </td><td>Apartment</td><td>Entire home/apt</td><td> 2</td><td>1.0</td><td>1</td><td>1</td><td>Real Bed     </td><td>TV,Wireless Internet,Air conditioning,Kitchen,Heating,Family/kid friendly,Washer,Essentials,Shampoo,Hangers,Iron,Laptop friendly workspace                                                                                                                                                                                                                                                      </td><td>NA</td><td> 55</td><td> 93</td><td>NA</td><td>1</td></tr>\n",
       "\t<tr><th scope=row>732</th><td>28004</td><td>Justicia </td><td>Other    </td><td>Entire home/apt</td><td>12</td><td>4.5</td><td>4</td><td>6</td><td>Real Bed     </td><td>TV,Cable TV,Internet,Wireless Internet,Air conditioning,Kitchen,Breakfast,Elevator in building,Indoor fireplace,Buzzer/wireless intercom,Heating,Family/kid friendly,Washer,Dryer,Smoke detector,Carbon monoxide detector,First aid kit,Safety card,Fire extinguisher,Essentials,Shampoo,24-hour check-in,Hangers,Hair dryer,Iron,Laptop friendly workspace                                     </td><td>NA</td><td>285</td><td> 98</td><td>NA</td><td>1</td></tr>\n",
       "\t<tr><th scope=row>737</th><td>28004</td><td>Justicia </td><td>Apartment</td><td>Entire home/apt</td><td> 4</td><td>1.0</td><td>1</td><td>1</td><td>Real Bed     </td><td>TV,Wireless Internet,Air conditioning,Kitchen,Elevator in building,Heating,Family/kid friendly,Washer,Essentials,Shampoo,Hangers,Hair dryer,Iron,Laptop friendly workspace                                                                                                                                                                                                                      </td><td>NA</td><td>100</td><td>100</td><td>NA</td><td>1</td></tr>\n",
       "\t<tr><th scope=row>745</th><td>28004</td><td>Justicia </td><td>Apartment</td><td>Entire home/apt</td><td> 6</td><td>2.0</td><td>2</td><td>5</td><td>Real Bed     </td><td>TV,Internet,Wireless Internet,Air conditioning,Kitchen,Pets live on this property,Dog(s),Elevator in building,Buzzer/wireless intercom,Heating,Family/kid friendly,Washer,Dryer,First aid kit,Fire extinguisher,Essentials,Hangers,Hair dryer,Iron,Laptop friendly workspace                                                                                                                    </td><td>NA</td><td>145</td><td>100</td><td>NA</td><td>1</td></tr>\n",
       "\t<tr><th scope=row>765</th><td>28010</td><td>Trafalgar</td><td>Apartment</td><td>Entire home/apt</td><td> 2</td><td>1.0</td><td>0</td><td>2</td><td>Real Bed     </td><td>TV,Internet,Wireless Internet,Kitchen,Elevator in building,Buzzer/wireless intercom,Heating,Family/kid friendly,Smoke detector,Carbon monoxide detector,Essentials,Shampoo,Hangers,Hair dryer,Iron,Laptop friendly workspace,translation missing: en.hosting_amenity_50                                                                                                                         </td><td>NA</td><td> 40</td><td> 93</td><td>NA</td><td>1</td></tr>\n",
       "\t<tr><th scope=row>774</th><td>28010</td><td>Trafalgar</td><td>Apartment</td><td>Entire home/apt</td><td> 4</td><td>1.0</td><td>1</td><td>2</td><td>Real Bed     </td><td>TV,Internet,Wireless Internet,Air conditioning,Kitchen,Elevator in building,Buzzer/wireless intercom,Heating,Family/kid friendly,Washer,Fire extinguisher,Essentials,Shampoo                                                                                                                                                                                                                    </td><td> 0</td><td> 60</td><td> NA</td><td> 0</td><td>1</td></tr>\n",
       "\t<tr><th scope=row>799</th><td>28001</td><td>Recoletos</td><td>Apartment</td><td>Entire home/apt</td><td> 2</td><td>1.5</td><td>1</td><td>1</td><td>Real Bed     </td><td>TV,Internet,Wireless Internet,Air conditioning,Wheelchair accessible,Pool,Kitchen,Doorman,Elevator in building,Heating,Washer,Dryer,Smoke detector,Carbon monoxide detector,Essentials,Shampoo,24-hour check-in,Hangers,Hair dryer,Iron,Laptop friendly workspace,translation missing: en.hosting_amenity_49,translation missing: en.hosting_amenity_50                                         </td><td>NA</td><td>115</td><td> 85</td><td>NA</td><td>1</td></tr>\n",
       "\t<tr><th scope=row>⋮</th><td>⋮</td><td>⋮</td><td>⋮</td><td>⋮</td><td>⋮</td><td>⋮</td><td>⋮</td><td>⋮</td><td>⋮</td><td>⋮</td><td>⋮</td><td>⋮</td><td>⋮</td><td>⋮</td><td>⋮</td></tr>\n",
       "\t<tr><th scope=row>11934</th><td>28001</td><td>Goya     </td><td>Apartment  </td><td>Entire home/apt</td><td>4</td><td>1.0</td><td>1</td><td> 1</td><td>Real Bed     </td><td>TV,Wireless Internet,Air conditioning,Pool,Kitchen,Gym,Elevator in building,Heating,Family/kid friendly,Washer,Dryer,Essentials,Shampoo,Hangers,Hair dryer,Iron                                                                                                                                                     </td><td>  NA</td><td> 90</td><td>100</td><td>      NA</td><td>1</td></tr>\n",
       "\t<tr><th scope=row>11940</th><td>28009</td><td>Goya     </td><td>Apartment  </td><td>Entire home/apt</td><td>4</td><td>2.0</td><td>2</td><td> 2</td><td>Real Bed     </td><td>TV,Internet,Wireless Internet,Air conditioning,Kitchen,Elevator in building,Buzzer/wireless intercom,Heating,Family/kid friendly,Washer,Dryer,Essentials,Shampoo,Hangers,Hair dryer,Iron                                                                                                                            </td><td>  NA</td><td>110</td><td> 95</td><td>      NA</td><td>1</td></tr>\n",
       "\t<tr><th scope=row>11967</th><td>28014</td><td>Sol      </td><td>Condominium</td><td>Entire home/apt</td><td>4</td><td>1.0</td><td>0</td><td> 1</td><td>Real Bed     </td><td>TV,Cable TV,Internet,Wireless Internet,Air conditioning,Wheelchair accessible,Kitchen,Doorman,Elevator in building,Buzzer/wireless intercom,Heating,Family/kid friendly,Washer,Smoke detector,Carbon monoxide detector,Essentials,Shampoo,24-hour check-in,Hangers,Hair dryer,Iron,Laptop friendly workspace        </td><td>  NA</td><td> 82</td><td>100</td><td>      NA</td><td>1</td></tr>\n",
       "\t<tr><th scope=row>11975</th><td>28013</td><td>Sol      </td><td>Apartment  </td><td>Entire home/apt</td><td>4</td><td>1.0</td><td>1</td><td> 2</td><td>Real Bed     </td><td>TV,Internet,Wireless Internet,Air conditioning,Kitchen,Buzzer/wireless intercom,Heating,Family/kid friendly,Washer,Dryer,Smoke detector,Carbon monoxide detector,Essentials,Shampoo,24-hour check-in,Hangers,Hair dryer,Iron,Laptop friendly workspace                                                              </td><td>  NA</td><td> 77</td><td> 98</td><td>      NA</td><td>1</td></tr>\n",
       "\t<tr><th scope=row>11999</th><td>28012</td><td>Sol      </td><td>Apartment  </td><td>Entire home/apt</td><td>4</td><td>1.0</td><td>1</td><td> 2</td><td>Real Bed     </td><td>Internet,Wireless Internet,Air conditioning,Elevator in building,Hot tub,Buzzer/wireless intercom,Heating,Family/kid friendly,Washer,Essentials,Hair dryer                                                                                                                                                          </td><td>  NA</td><td> 75</td><td> 91</td><td>      NA</td><td>1</td></tr>\n",
       "\t<tr><th scope=row>12004</th><td>28012</td><td>Sol      </td><td>Apartment  </td><td>Entire home/apt</td><td>2</td><td>1.0</td><td>1</td><td> 1</td><td>Real Bed     </td><td>TV,Internet,Wireless Internet,Air conditioning,Kitchen,Elevator in building,Heating,Washer,Essentials,Shampoo,24-hour check-in,Hangers,Iron                                                                                                                                                                         </td><td>  NA</td><td> 75</td><td> 98</td><td>      NA</td><td>1</td></tr>\n",
       "\t<tr><th scope=row>12158</th><td>28010</td><td>Trafalgar</td><td>Apartment  </td><td>Entire home/apt</td><td>2</td><td>1.0</td><td>1</td><td> 1</td><td>Real Bed     </td><td>TV,Internet,Wireless Internet,Air conditioning,Kitchen,Heating,Washer,Essentials,Hangers,Hair dryer,Iron,Laptop friendly workspace                                                                                                                                                                                  </td><td>  NA</td><td> 95</td><td> 90</td><td>      NA</td><td>1</td></tr>\n",
       "\t<tr><th scope=row>12165</th><td>28010</td><td>Trafalgar</td><td>Apartment  </td><td>Entire home/apt</td><td>5</td><td>1.0</td><td>2</td><td> 3</td><td>Real Bed     </td><td>TV,Internet,Wireless Internet,Kitchen,Buzzer/wireless intercom,Family/kid friendly,Washer                                                                                                                                                                                                                           </td><td>  NA</td><td> 49</td><td> 47</td><td>      NA</td><td>1</td></tr>\n",
       "\t<tr><th scope=row>12336</th><td>28015</td><td>Trafalgar</td><td>Apartment  </td><td>Entire home/apt</td><td>2</td><td>1.0</td><td>1</td><td>NA</td><td>Real Bed     </td><td>Wireless Internet,Air conditioning,Kitchen,Elevator in building,Heating,Family/kid friendly,Washer,Essentials                                                                                                                                                                                                       </td><td>  NA</td><td> 85</td><td> 75</td><td>      NA</td><td>1</td></tr>\n",
       "\t<tr><th scope=row>12344</th><td>28010</td><td>Trafalgar</td><td>Apartment  </td><td>Entire home/apt</td><td>6</td><td>1.0</td><td>2</td><td> 4</td><td>Real Bed     </td><td>TV,Wireless Internet,Air conditioning,Kitchen,Elevator in building,Heating,Washer,Dryer,Fire extinguisher,Essentials,Shampoo,Hangers,Hair dryer,Iron                                                                                                                                                                </td><td>  NA</td><td>100</td><td> 80</td><td>      NA</td><td>1</td></tr>\n",
       "\t<tr><th scope=row>12351</th><td>28001</td><td>Recoletos</td><td>Apartment  </td><td>Entire home/apt</td><td>4</td><td>1.0</td><td>1</td><td> 2</td><td>Real Bed     </td><td>TV,Wireless Internet,Air conditioning,Kitchen,Elevator in building,Heating,Family/kid friendly,Washer,Essentials,Hangers,Iron,Laptop friendly workspace                                                                                                                                                             </td><td>  NA</td><td>125</td><td> 98</td><td>      NA</td><td>1</td></tr>\n",
       "\t<tr><th scope=row>12358</th><td>28006</td><td>Goya     </td><td>Apartment  </td><td>Entire home/apt</td><td>6</td><td>2.0</td><td>3</td><td> 6</td><td>Real Bed     </td><td>TV,Internet,Wireless Internet,Wheelchair accessible,Kitchen,Doorman,Elevator in building,Buzzer/wireless intercom,Heating,Family/kid friendly,Washer,Essentials,Hangers,Iron,Laptop friendly workspace                                                                                                              </td><td>  NA</td><td> 75</td><td> 86</td><td>      NA</td><td>1</td></tr>\n",
       "\t<tr><th scope=row>12724</th><td>28012</td><td>Sol      </td><td>Apartment  </td><td>Entire home/apt</td><td>4</td><td>2.0</td><td>2</td><td> 3</td><td>Real Bed     </td><td>Internet,Wireless Internet,Air conditioning,Kitchen,Doorman,Elevator in building,Buzzer/wireless intercom,Heating,Family/kid friendly,Washer,Dryer,Smoke detector,Carbon monoxide detector,Essentials,Shampoo,24-hour check-in,Hangers,Hair dryer,Iron,Laptop friendly workspace                                    </td><td>  NA</td><td>150</td><td> 99</td><td>      NA</td><td>1</td></tr>\n",
       "\t<tr><th scope=row>12731</th><td>28013</td><td>Sol      </td><td>Apartment  </td><td>Entire home/apt</td><td>6</td><td>1.5</td><td>2</td><td> 3</td><td>Real Bed     </td><td>TV,Internet,Wireless Internet,Air conditioning,Kitchen,Indoor fireplace,Buzzer/wireless intercom,Heating,Washer,Essentials,Shampoo,24-hour check-in,Hangers,Hair dryer,Iron,Laptop friendly workspace                                                                                                               </td><td>  NA</td><td>125</td><td> 93</td><td>      NA</td><td>1</td></tr>\n",
       "\t<tr><th scope=row>12736</th><td>28012</td><td>Sol      </td><td>Apartment  </td><td>Entire home/apt</td><td>5</td><td>1.0</td><td>2</td><td> 2</td><td>Real Bed     </td><td>TV,Internet,Wireless Internet,Air conditioning,Kitchen,Smoking allowed,Elevator in building,Buzzer/wireless intercom,Heating,Family/kid friendly,Washer,Essentials,Shampoo,Hair dryer,Iron                                                                                                                          </td><td>  NA</td><td>115</td><td> NA</td><td>      NA</td><td>1</td></tr>\n",
       "\t<tr><th scope=row>12742</th><td>28012</td><td>Sol      </td><td>Apartment  </td><td>Entire home/apt</td><td>4</td><td>2.0</td><td>1</td><td> 2</td><td>Real Bed     </td><td>TV,Wireless Internet,Air conditioning,Kitchen,Elevator in building,Heating,Family/kid friendly,Washer,Essentials,Hangers,Hair dryer,Laptop friendly workspace,translation missing: en.hosting_amenity_50                                                                                                            </td><td>  NA</td><td> 89</td><td> 67</td><td>      NA</td><td>1</td></tr>\n",
       "\t<tr><th scope=row>12747</th><td>28012</td><td>Sol      </td><td>Apartment  </td><td>Entire home/apt</td><td>6</td><td>2.0</td><td>2</td><td> 3</td><td>Real Bed     </td><td>TV,Cable TV,Internet,Wireless Internet,Air conditioning,Kitchen,Doorman,Elevator in building,Buzzer/wireless intercom,Heating,Family/kid friendly,Washer,24-hour check-in,Hangers,Hair dryer,Iron,Laptop friendly workspace                                                                                         </td><td>1076</td><td>140</td><td> 94</td><td>99.96363</td><td>1</td></tr>\n",
       "\t<tr><th scope=row>12754</th><td>28013</td><td>Sol      </td><td>Apartment  </td><td>Entire home/apt</td><td>4</td><td>1.0</td><td>0</td><td> 2</td><td>Real Bed     </td><td>TV,Wireless Internet,Kitchen,Elevator in building,Family/kid friendly,Washer,Smoke detector,First aid kit,Fire extinguisher,Shampoo,Hair dryer                                                                                                                                                                      </td><td>  NA</td><td> 65</td><td> 80</td><td>      NA</td><td>1</td></tr>\n",
       "\t<tr><th scope=row>12793</th><td>28004</td><td>Justicia </td><td>Apartment  </td><td>Entire home/apt</td><td>2</td><td>1.0</td><td>0</td><td> 1</td><td>Real Bed     </td><td>TV,Internet,Wireless Internet,Air conditioning,Kitchen,Buzzer/wireless intercom,Heating,Family/kid friendly,Essentials,Shampoo,Hangers,Hair dryer,Iron,Laptop friendly workspace                                                                                                                                    </td><td>  NA</td><td> 45</td><td> 88</td><td>      NA</td><td>1</td></tr>\n",
       "\t<tr><th scope=row>12802</th><td>NA   </td><td>Justicia </td><td>Apartment  </td><td>Entire home/apt</td><td>3</td><td>1.0</td><td>2</td><td> 2</td><td>Real Bed     </td><td>TV,Internet,Air conditioning,Kitchen,Elevator in building,Heating,Family/kid friendly,Washer,Essentials                                                                                                                                                                                                             </td><td>  NA</td><td> 45</td><td> 80</td><td>      NA</td><td>1</td></tr>\n",
       "\t<tr><th scope=row>12909</th><td>28005</td><td>Sol      </td><td>Apartment  </td><td>Entire home/apt</td><td>6</td><td>1.0</td><td>2</td><td> 3</td><td>Real Bed     </td><td>TV,Cable TV,Internet,Wireless Internet,Air conditioning,Kitchen,Elevator in building,Buzzer/wireless intercom,Heating,Family/kid friendly,Washer,Dryer,Smoke detector,Carbon monoxide detector,Essentials,Shampoo,24-hour check-in,Hangers,Hair dryer,Iron,Laptop friendly workspace                                </td><td>  NA</td><td> 99</td><td> 89</td><td>      NA</td><td>1</td></tr>\n",
       "\t<tr><th scope=row>12914</th><td>28013</td><td>Sol      </td><td>Apartment  </td><td>Entire home/apt</td><td>4</td><td>1.0</td><td>1</td><td> 1</td><td>Real Bed     </td><td>TV,Internet,Wireless Internet,Air conditioning,Kitchen,Smoking allowed,Breakfast,Elevator in building,Heating,Family/kid friendly,Washer,Essentials,Hangers,Hair dryer,Iron                                                                                                                                         </td><td>  NA</td><td> 95</td><td> 97</td><td>      NA</td><td>1</td></tr>\n",
       "\t<tr><th scope=row>12921</th><td>28013</td><td>Sol      </td><td>Apartment  </td><td>Entire home/apt</td><td>2</td><td>1.0</td><td>1</td><td> 1</td><td>Pull-out Sofa</td><td>TV,Cable TV,Internet,Wireless Internet,Air conditioning,Kitchen,Doorman,Elevator in building,Heating,Family/kid friendly,Smoke detector,First aid kit,Safety card,Fire extinguisher,Essentials,Shampoo,24-hour check-in,Hangers,Hair dryer,Iron,Laptop friendly workspace,translation missing: en.hosting_amenity_49</td><td>  NA</td><td> 55</td><td> 97</td><td>      NA</td><td>1</td></tr>\n",
       "\t<tr><th scope=row>12926</th><td>28013</td><td>Sol      </td><td>Apartment  </td><td>Entire home/apt</td><td>8</td><td>2.0</td><td>3</td><td> 8</td><td>Real Bed     </td><td>TV,Internet,Wireless Internet,Air conditioning,Wheelchair accessible,Kitchen,Doorman,Elevator in building,Heating,Family/kid friendly,Suitable for events,Washer,Dryer,Smoke detector,First aid kit,Fire extinguisher,Shampoo                                                                                       </td><td>  NA</td><td>250</td><td> 88</td><td>      NA</td><td>1</td></tr>\n",
       "\t<tr><th scope=row>12935</th><td>28013</td><td>Sol      </td><td>Condominium</td><td>Entire home/apt</td><td>2</td><td>1.0</td><td>0</td><td> 1</td><td>Real Bed     </td><td>TV,Internet,Wireless Internet,Air conditioning,Kitchen,Elevator in building,Heating,Washer,Essentials,Hangers,Hair dryer,Iron,Laptop friendly workspace                                                                                                                                                             </td><td>  NA</td><td> 50</td><td> 87</td><td>      NA</td><td>1</td></tr>\n",
       "\t<tr><th scope=row>12940</th><td>28013</td><td>Sol      </td><td>Apartment  </td><td>Entire home/apt</td><td>4</td><td>1.0</td><td>1</td><td> 1</td><td>Real Bed     </td><td>Internet,Wireless Internet,Kitchen,Pets allowed,Doorman,Elevator in building,Buzzer/wireless intercom,Heating,Family/kid friendly,First aid kit,Essentials,Hangers,Hair dryer,Iron,Laptop friendly workspace                                                                                                        </td><td>  NA</td><td> 69</td><td> 80</td><td>      NA</td><td>1</td></tr>\n",
       "\t<tr><th scope=row>12997</th><td>28004</td><td>Justicia </td><td>Apartment  </td><td>Entire home/apt</td><td>4</td><td>1.0</td><td>1</td><td> 2</td><td>Pull-out Sofa</td><td>TV,Internet,Wireless Internet,Air conditioning,Kitchen,Doorman,Elevator in building,Buzzer/wireless intercom,Heating,Family/kid friendly,Essentials,Shampoo,Hangers,Hair dryer,Iron,Laptop friendly workspace                                                                                                       </td><td>  NA</td><td> 80</td><td> 95</td><td>      NA</td><td>1</td></tr>\n",
       "\t<tr><th scope=row>13006</th><td>28004</td><td>Justicia </td><td>Apartment  </td><td>Entire home/apt</td><td>4</td><td>1.0</td><td>1</td><td> 2</td><td>Real Bed     </td><td>TV,Internet,Wireless Internet,Air conditioning,Kitchen,Elevator in building,Buzzer/wireless intercom,Heating,Family/kid friendly,Washer,Smoke detector,Carbon monoxide detector,Essentials,Shampoo,Hangers,Hair dryer,Iron,Laptop friendly workspace                                                                </td><td>  NA</td><td> 75</td><td>100</td><td>      NA</td><td>1</td></tr>\n",
       "\t<tr><th scope=row>13047</th><td>28001</td><td>Recoletos</td><td>Apartment  </td><td>Entire home/apt</td><td>4</td><td>2.0</td><td>2</td><td> 4</td><td>Real Bed     </td><td>TV,Cable TV,Internet,Wireless Internet,Air conditioning,Kitchen,Smoking allowed,Doorman,Elevator in building,Buzzer/wireless intercom,Heating,Family/kid friendly,Washer,Dryer,Essentials,24-hour check-in,Hangers,Hair dryer,Iron,Laptop friendly workspace                                                        </td><td>  NA</td><td>310</td><td> 80</td><td>      NA</td><td>1</td></tr>\n",
       "\t<tr><th scope=row>13142</th><td>28010</td><td>Trafalgar</td><td>Apartment  </td><td>Entire home/apt</td><td>4</td><td>1.0</td><td>2</td><td> 3</td><td>Real Bed     </td><td>TV,Wireless Internet,Air conditioning,Kitchen,Doorman,Elevator in building,Buzzer/wireless intercom,Heating,Family/kid friendly,Washer,Essentials,Shampoo,Hangers,Hair dryer,Iron,Laptop friendly workspace                                                                                                         </td><td>  NA</td><td> 72</td><td> 90</td><td>      NA</td><td>1</td></tr>\n",
       "</tbody>\n",
       "</table>\n"
      ],
      "text/latex": [
       "A data.frame: 351 × 15\n",
       "\\begin{tabular}{r|lllllllllllllll}\n",
       "  & CodigoPostal & Barrio & TipoPropiedad & TipoAlquiler & MaxOcupantes & NumBanyos & NumDormitorios & NumCamas & TipoCama & Comodidades & PiesCuadrados & Precio & Puntuacion & MetrosCuadrados & contador\\\\\n",
       "  & <chr> & <chr> & <fct> & <fct> & <int> & <dbl> & <int> & <int> & <fct> & <fct> & <int> & <int> & <int> & <dbl> & <dbl>\\\\\n",
       "\\hline\n",
       "\t18 & 28012 & Sol       & Apartment & Entire home/apt &  6 & 1.0 & 2 & 2 & Real Bed      & TV,Internet,Wireless Internet,Air conditioning,Kitchen,Smoking allowed,Elevator in building,Buzzer/wireless intercom,Heating,Family/kid friendly,Washer,Dryer,Essentials,Shampoo,Hangers,Hair dryer,Iron,Laptop friendly workspace                                                                                                                                                               & NA & 160 &  95 & NA & 1\\\\\n",
       "\t24 & 28012 & Sol       & Apartment & Entire home/apt &  4 & 1.0 & 1 & 2 & Real Bed      & TV,Internet,Wireless Internet,Air conditioning,Kitchen,Elevator in building,Heating,Family/kid friendly,Washer,Smoke detector,Carbon monoxide detector,Essentials,Shampoo,24-hour check-in,Hangers,Hair dryer,Iron,Laptop friendly workspace                                                                                                                                                     & NA &  50 &  91 & NA & 1\\\\\n",
       "\t30 & 28005 & Sol       & Apartment & Entire home/apt &  8 & 1.0 & 3 & 4 & Real Bed      & TV,Internet,Wireless Internet,Kitchen,Breakfast,Elevator in building,Buzzer/wireless intercom,Heating,Family/kid friendly,Washer,Essentials,Shampoo,Hangers,Hair dryer,Iron,Laptop friendly workspace,Self Check-In,Lockbox                                                                                                                                                                      & NA & 163 & 100 & NA & 1\\\\\n",
       "\t44 & 28013 & Sol       & Apartment & Entire home/apt &  6 & 2.0 & 2 & 2 & Real Bed      & TV,Wireless Internet,Air conditioning,Kitchen,Elevator in building,Heating,Washer,Essentials,Shampoo                                                                                                                                                                                                                                                                                             & NA & 109 &  90 & NA & 1\\\\\n",
       "\t49 & 28013 & Sol       & Apartment & Entire home/apt &  4 & 1.0 & 2 & 2 & Real Bed      & TV,Internet,Wireless Internet,Air conditioning,Kitchen,Smoking allowed,Heating,Family/kid friendly,Washer,Essentials,Shampoo,Hangers,Hair dryer,Iron,Laptop friendly workspace                                                                                                                                                                                                                   & NA &  71 &  93 & NA & 1\\\\\n",
       "\t57 & 28012 & Sol       & Apartment & Entire home/apt &  4 & 1.0 & 1 & 1 & Pull-out Sofa & TV,Wireless Internet,Air conditioning,Kitchen,Doorman,Elevator in building,Buzzer/wireless intercom,Heating,Family/kid friendly,Washer,Smoke detector,Carbon monoxide detector,First aid kit,Safety card,Fire extinguisher,Essentials,Shampoo,24-hour check-in,Hangers,Hair dryer,Iron,Laptop friendly workspace                                                                                 & NA &  84 &  96 & NA & 1\\\\\n",
       "\t263 & 28004 & Justicia  & Apartment & Entire home/apt &  2 & 1.0 & 1 & 1 & Real Bed      & TV,Internet,Wireless Internet,Kitchen,Heating,Family/kid friendly,Washer,Essentials,Hangers,Hair dryer,Iron,Laptop friendly workspace                                                                                                                                                                                                                                                            & NA &  85 &  98 & NA & 1\\\\\n",
       "\t270 & 28001 & Recoletos & House     & Entire home/apt &  4 & 1.0 & 2 & 2 & Real Bed      & TV,Wireless Internet,Air conditioning,Kitchen,Doorman,Elevator in building,Heating,Family/kid friendly,Washer,Essentials,Shampoo                                                                                                                                                                                                                                                                 & NA &  80 &  93 & NA & 1\\\\\n",
       "\t275 & 28001 & Recoletos & Apartment & Entire home/apt &  2 & 1.0 & 1 & 2 & Real Bed      & TV,Wireless Internet,Air conditioning,Pool,Kitchen,Breakfast,Elevator in building,Hot tub,Heating,Family/kid friendly,Washer,First aid kit,Safety card,Essentials,Shampoo,Hangers,Hair dryer,Iron,Laptop friendly workspace,translation missing: en.hosting\\_amenity\\_49,Private entrance                                                                                                          & NA &  90 &  NA & NA & 1\\\\\n",
       "\t286 & NA    & Goya      & Apartment & Entire home/apt &  3 & 1.0 & 2 & 2 & Real Bed      & TV,Internet,Wireless Internet,Air conditioning,Kitchen,Doorman,Elevator in building,Buzzer/wireless intercom,Heating,Family/kid friendly,Washer,First aid kit,Essentials,Shampoo,Hangers,Hair dryer,Iron                                                                                                                                                                                         & NA & 100 &  96 & NA & 1\\\\\n",
       "\t291 & 28004 & Justicia  & Apartment & Entire home/apt &  4 & 1.0 & 1 & 2 & Real Bed      & TV,Internet,Wireless Internet,Air conditioning,Kitchen,Elevator in building,Buzzer/wireless intercom,Heating,Family/kid friendly,Washer,Fire extinguisher,Essentials,Shampoo                                                                                                                                                                                                                     & NA & 185 &  NA & NA & 1\\\\\n",
       "\t298 & 28004 & Justicia  & Apartment & Entire home/apt &  2 & 1.0 & 1 & 2 & Real Bed      & Internet,Wireless Internet,Air conditioning,Kitchen,Buzzer/wireless intercom,Heating,Washer,Essentials,Shampoo,translation missing: en.hosting\\_amenity\\_49,translation missing: en.hosting\\_amenity\\_50                                                                                                                                                                                             & NA &  75 &  88 & NA & 1\\\\\n",
       "\t344 & 28010 & Trafalgar & Apartment & Entire home/apt &  5 & 2.0 & 3 & 4 & Real Bed      & TV,Internet,Wireless Internet,Air conditioning,Kitchen,Free parking on premises,Doorman,Elevator in building,Buzzer/wireless intercom,Heating,Family/kid friendly,Washer,Essentials,Hangers,Hair dryer,Iron,Laptop friendly workspace,Private entrance,Outlet covers,Bathtub,Baby bath,Changing table,High chair,Children’s books and toys,Babysitter recommendations,Crib,Children’s dinnerware & NA & 140 & 100 & NA & 1\\\\\n",
       "\t351 & 28010 & Trafalgar & Apartment & Entire home/apt &  8 & 2.0 & 3 & 6 & Real Bed      & TV,Cable TV,Internet,Wireless Internet,Air conditioning,Wheelchair accessible,Kitchen,Smoking allowed,Pets allowed,Elevator in building,Hot tub,Buzzer/wireless intercom,Heating,Family/kid friendly,Washer,Dryer,Essentials,Hangers,Hair dryer,Iron,Self Check-In,Doorman Entry                                                                                                                 & NA & 119 &  85 & NA & 1\\\\\n",
       "\t557 & 28001 & Recoletos & Other     & Entire home/apt &  1 & 1.0 & 1 & 1 & Real Bed      & TV,Internet,Air conditioning,Kitchen,Breakfast,Elevator in building,Heating,Washer,Fire extinguisher,Essentials,Shampoo,Lock on bedroom door,Hangers,Hair dryer,Iron,Laptop friendly workspace,translation missing: en.hosting\\_amenity\\_49,translation missing: en.hosting\\_amenity\\_50                                                                                                             & NA &  50 &  NA & NA & 1\\\\\n",
       "\t573 & 28013 & Sol       & Apartment & Entire home/apt &  6 & 2.0 & 2 & 3 & Real Bed      & TV,Internet,Wireless Internet,Air conditioning,Kitchen,Doorman,Elevator in building,Buzzer/wireless intercom,Heating,Family/kid friendly,Washer,Essentials,Shampoo,24-hour check-in,Hangers,Hair dryer,Iron,Laptop friendly workspace,Private entrance                                                                                                                                           & NA & 120 &  96 & NA & 1\\\\\n",
       "\t578 & 28005 & Sol       & Apartment & Entire home/apt &  9 & 2.0 & 4 & 1 & Real Bed      & TV,Internet,Wireless Internet,Kitchen,Elevator in building,Buzzer/wireless intercom,Heating,Family/kid friendly,Washer,Essentials,Shampoo,Iron                                                                                                                                                                                                                                                   & NA & 180 &  92 & NA & 1\\\\\n",
       "\t583 & 28013 & Sol       & Apartment & Entire home/apt &  2 & 1.0 & 1 & 1 & Real Bed      & TV,Wireless Internet,Air conditioning,Kitchen,Elevator in building,Heating,Family/kid friendly,Washer,Essentials,Shampoo,Hangers,Hair dryer,Iron,Laptop friendly workspace,translation missing: en.hosting\\_amenity\\_50                                                                                                                                                                            & NA & 115 & 100 & NA & 1\\\\\n",
       "\t679 & 28004 & Sol       & Apartment & Entire home/apt &  4 & 1.0 & 1 & 2 & Real Bed      & TV,Cable TV,Internet,Wireless Internet,Air conditioning,Kitchen,Elevator in building,Buzzer/wireless intercom,Heating,Family/kid friendly,Washer,Dryer,First aid kit,Essentials,Shampoo,24-hour check-in,Hangers,Hair dryer,Iron,Laptop friendly workspace                                                                                                                                       & NA &  85 &  98 & NA & 1\\\\\n",
       "\t686 & 28013 & Sol       & Apartment & Entire home/apt &  4 & 1.5 & 1 & 2 & Real Bed      & TV,Internet,Wireless Internet,Air conditioning,Kitchen,Elevator in building,Heating,Family/kid friendly,Washer,Dryer,Essentials,Shampoo,Hangers,Hair dryer,Iron                                                                                                                                                                                                                                  & NA &  60 &  88 & NA & 1\\\\\n",
       "\t691 & 28013 & Sol       & House     & Entire home/apt &  5 & 1.0 & 2 & 5 & Real Bed      & TV,Internet,Wireless Internet,Kitchen,Smoking allowed,Heating,Washer,Essentials,Shampoo,Hangers,Hair dryer,Iron                                                                                                                                                                                                                                                                                  & NA &  72 &  75 & NA & 1\\\\\n",
       "\t700 & 28012 & Sol       & House     & Entire home/apt &  4 & 1.0 & 1 & 2 & Real Bed      & TV,Cable TV,Internet,Wireless Internet,Air conditioning,Wheelchair accessible,Kitchen,Doorman,Elevator in building,Buzzer/wireless intercom,Heating,Family/kid friendly,Washer,Smoke detector,Carbon monoxide detector,First aid kit,Safety card,Fire extinguisher,Essentials,Shampoo,Lock on bedroom door,24-hour check-in,Hangers,Hair dryer,Iron,Laptop friendly workspace                    & NA &  99 &  91 & NA & 1\\\\\n",
       "\t705 & 28012 & Sol       & Apartment & Entire home/apt &  2 & 1.0 & 1 & 1 & Real Bed      & TV,Cable TV,Internet,Wireless Internet,Air conditioning,Kitchen,Doorman,Elevator in building,Buzzer/wireless intercom,Heating,Family/kid friendly,Washer,Dryer,Smoke detector,Carbon monoxide detector,Essentials,Shampoo,24-hour check-in,Hangers,Hair dryer,Iron,Laptop friendly workspace,translation missing: en.hosting\\_amenity\\_49,Self Check-In,Doorman Entry                              & NA &  99 &  97 & NA & 1\\\\\n",
       "\t725 & 28004 & Justicia  & Apartment & Entire home/apt &  2 & 1.0 & 1 & 1 & Real Bed      & TV,Wireless Internet,Air conditioning,Kitchen,Heating,Family/kid friendly,Washer,Essentials,Shampoo,Hangers,Iron,Laptop friendly workspace                                                                                                                                                                                                                                                       & NA &  55 &  93 & NA & 1\\\\\n",
       "\t732 & 28004 & Justicia  & Other     & Entire home/apt & 12 & 4.5 & 4 & 6 & Real Bed      & TV,Cable TV,Internet,Wireless Internet,Air conditioning,Kitchen,Breakfast,Elevator in building,Indoor fireplace,Buzzer/wireless intercom,Heating,Family/kid friendly,Washer,Dryer,Smoke detector,Carbon monoxide detector,First aid kit,Safety card,Fire extinguisher,Essentials,Shampoo,24-hour check-in,Hangers,Hair dryer,Iron,Laptop friendly workspace                                      & NA & 285 &  98 & NA & 1\\\\\n",
       "\t737 & 28004 & Justicia  & Apartment & Entire home/apt &  4 & 1.0 & 1 & 1 & Real Bed      & TV,Wireless Internet,Air conditioning,Kitchen,Elevator in building,Heating,Family/kid friendly,Washer,Essentials,Shampoo,Hangers,Hair dryer,Iron,Laptop friendly workspace                                                                                                                                                                                                                       & NA & 100 & 100 & NA & 1\\\\\n",
       "\t745 & 28004 & Justicia  & Apartment & Entire home/apt &  6 & 2.0 & 2 & 5 & Real Bed      & TV,Internet,Wireless Internet,Air conditioning,Kitchen,Pets live on this property,Dog(s),Elevator in building,Buzzer/wireless intercom,Heating,Family/kid friendly,Washer,Dryer,First aid kit,Fire extinguisher,Essentials,Hangers,Hair dryer,Iron,Laptop friendly workspace                                                                                                                     & NA & 145 & 100 & NA & 1\\\\\n",
       "\t765 & 28010 & Trafalgar & Apartment & Entire home/apt &  2 & 1.0 & 0 & 2 & Real Bed      & TV,Internet,Wireless Internet,Kitchen,Elevator in building,Buzzer/wireless intercom,Heating,Family/kid friendly,Smoke detector,Carbon monoxide detector,Essentials,Shampoo,Hangers,Hair dryer,Iron,Laptop friendly workspace,translation missing: en.hosting\\_amenity\\_50                                                                                                                          & NA &  40 &  93 & NA & 1\\\\\n",
       "\t774 & 28010 & Trafalgar & Apartment & Entire home/apt &  4 & 1.0 & 1 & 2 & Real Bed      & TV,Internet,Wireless Internet,Air conditioning,Kitchen,Elevator in building,Buzzer/wireless intercom,Heating,Family/kid friendly,Washer,Fire extinguisher,Essentials,Shampoo                                                                                                                                                                                                                     &  0 &  60 &  NA &  0 & 1\\\\\n",
       "\t799 & 28001 & Recoletos & Apartment & Entire home/apt &  2 & 1.5 & 1 & 1 & Real Bed      & TV,Internet,Wireless Internet,Air conditioning,Wheelchair accessible,Pool,Kitchen,Doorman,Elevator in building,Heating,Washer,Dryer,Smoke detector,Carbon monoxide detector,Essentials,Shampoo,24-hour check-in,Hangers,Hair dryer,Iron,Laptop friendly workspace,translation missing: en.hosting\\_amenity\\_49,translation missing: en.hosting\\_amenity\\_50                                          & NA & 115 &  85 & NA & 1\\\\\n",
       "\t⋮ & ⋮ & ⋮ & ⋮ & ⋮ & ⋮ & ⋮ & ⋮ & ⋮ & ⋮ & ⋮ & ⋮ & ⋮ & ⋮ & ⋮ & ⋮\\\\\n",
       "\t11934 & 28001 & Goya      & Apartment   & Entire home/apt & 4 & 1.0 & 1 &  1 & Real Bed      & TV,Wireless Internet,Air conditioning,Pool,Kitchen,Gym,Elevator in building,Heating,Family/kid friendly,Washer,Dryer,Essentials,Shampoo,Hangers,Hair dryer,Iron                                                                                                                                                      &   NA &  90 & 100 &       NA & 1\\\\\n",
       "\t11940 & 28009 & Goya      & Apartment   & Entire home/apt & 4 & 2.0 & 2 &  2 & Real Bed      & TV,Internet,Wireless Internet,Air conditioning,Kitchen,Elevator in building,Buzzer/wireless intercom,Heating,Family/kid friendly,Washer,Dryer,Essentials,Shampoo,Hangers,Hair dryer,Iron                                                                                                                             &   NA & 110 &  95 &       NA & 1\\\\\n",
       "\t11967 & 28014 & Sol       & Condominium & Entire home/apt & 4 & 1.0 & 0 &  1 & Real Bed      & TV,Cable TV,Internet,Wireless Internet,Air conditioning,Wheelchair accessible,Kitchen,Doorman,Elevator in building,Buzzer/wireless intercom,Heating,Family/kid friendly,Washer,Smoke detector,Carbon monoxide detector,Essentials,Shampoo,24-hour check-in,Hangers,Hair dryer,Iron,Laptop friendly workspace         &   NA &  82 & 100 &       NA & 1\\\\\n",
       "\t11975 & 28013 & Sol       & Apartment   & Entire home/apt & 4 & 1.0 & 1 &  2 & Real Bed      & TV,Internet,Wireless Internet,Air conditioning,Kitchen,Buzzer/wireless intercom,Heating,Family/kid friendly,Washer,Dryer,Smoke detector,Carbon monoxide detector,Essentials,Shampoo,24-hour check-in,Hangers,Hair dryer,Iron,Laptop friendly workspace                                                               &   NA &  77 &  98 &       NA & 1\\\\\n",
       "\t11999 & 28012 & Sol       & Apartment   & Entire home/apt & 4 & 1.0 & 1 &  2 & Real Bed      & Internet,Wireless Internet,Air conditioning,Elevator in building,Hot tub,Buzzer/wireless intercom,Heating,Family/kid friendly,Washer,Essentials,Hair dryer                                                                                                                                                           &   NA &  75 &  91 &       NA & 1\\\\\n",
       "\t12004 & 28012 & Sol       & Apartment   & Entire home/apt & 2 & 1.0 & 1 &  1 & Real Bed      & TV,Internet,Wireless Internet,Air conditioning,Kitchen,Elevator in building,Heating,Washer,Essentials,Shampoo,24-hour check-in,Hangers,Iron                                                                                                                                                                          &   NA &  75 &  98 &       NA & 1\\\\\n",
       "\t12158 & 28010 & Trafalgar & Apartment   & Entire home/apt & 2 & 1.0 & 1 &  1 & Real Bed      & TV,Internet,Wireless Internet,Air conditioning,Kitchen,Heating,Washer,Essentials,Hangers,Hair dryer,Iron,Laptop friendly workspace                                                                                                                                                                                   &   NA &  95 &  90 &       NA & 1\\\\\n",
       "\t12165 & 28010 & Trafalgar & Apartment   & Entire home/apt & 5 & 1.0 & 2 &  3 & Real Bed      & TV,Internet,Wireless Internet,Kitchen,Buzzer/wireless intercom,Family/kid friendly,Washer                                                                                                                                                                                                                            &   NA &  49 &  47 &       NA & 1\\\\\n",
       "\t12336 & 28015 & Trafalgar & Apartment   & Entire home/apt & 2 & 1.0 & 1 & NA & Real Bed      & Wireless Internet,Air conditioning,Kitchen,Elevator in building,Heating,Family/kid friendly,Washer,Essentials                                                                                                                                                                                                        &   NA &  85 &  75 &       NA & 1\\\\\n",
       "\t12344 & 28010 & Trafalgar & Apartment   & Entire home/apt & 6 & 1.0 & 2 &  4 & Real Bed      & TV,Wireless Internet,Air conditioning,Kitchen,Elevator in building,Heating,Washer,Dryer,Fire extinguisher,Essentials,Shampoo,Hangers,Hair dryer,Iron                                                                                                                                                                 &   NA & 100 &  80 &       NA & 1\\\\\n",
       "\t12351 & 28001 & Recoletos & Apartment   & Entire home/apt & 4 & 1.0 & 1 &  2 & Real Bed      & TV,Wireless Internet,Air conditioning,Kitchen,Elevator in building,Heating,Family/kid friendly,Washer,Essentials,Hangers,Iron,Laptop friendly workspace                                                                                                                                                              &   NA & 125 &  98 &       NA & 1\\\\\n",
       "\t12358 & 28006 & Goya      & Apartment   & Entire home/apt & 6 & 2.0 & 3 &  6 & Real Bed      & TV,Internet,Wireless Internet,Wheelchair accessible,Kitchen,Doorman,Elevator in building,Buzzer/wireless intercom,Heating,Family/kid friendly,Washer,Essentials,Hangers,Iron,Laptop friendly workspace                                                                                                               &   NA &  75 &  86 &       NA & 1\\\\\n",
       "\t12724 & 28012 & Sol       & Apartment   & Entire home/apt & 4 & 2.0 & 2 &  3 & Real Bed      & Internet,Wireless Internet,Air conditioning,Kitchen,Doorman,Elevator in building,Buzzer/wireless intercom,Heating,Family/kid friendly,Washer,Dryer,Smoke detector,Carbon monoxide detector,Essentials,Shampoo,24-hour check-in,Hangers,Hair dryer,Iron,Laptop friendly workspace                                     &   NA & 150 &  99 &       NA & 1\\\\\n",
       "\t12731 & 28013 & Sol       & Apartment   & Entire home/apt & 6 & 1.5 & 2 &  3 & Real Bed      & TV,Internet,Wireless Internet,Air conditioning,Kitchen,Indoor fireplace,Buzzer/wireless intercom,Heating,Washer,Essentials,Shampoo,24-hour check-in,Hangers,Hair dryer,Iron,Laptop friendly workspace                                                                                                                &   NA & 125 &  93 &       NA & 1\\\\\n",
       "\t12736 & 28012 & Sol       & Apartment   & Entire home/apt & 5 & 1.0 & 2 &  2 & Real Bed      & TV,Internet,Wireless Internet,Air conditioning,Kitchen,Smoking allowed,Elevator in building,Buzzer/wireless intercom,Heating,Family/kid friendly,Washer,Essentials,Shampoo,Hair dryer,Iron                                                                                                                           &   NA & 115 &  NA &       NA & 1\\\\\n",
       "\t12742 & 28012 & Sol       & Apartment   & Entire home/apt & 4 & 2.0 & 1 &  2 & Real Bed      & TV,Wireless Internet,Air conditioning,Kitchen,Elevator in building,Heating,Family/kid friendly,Washer,Essentials,Hangers,Hair dryer,Laptop friendly workspace,translation missing: en.hosting\\_amenity\\_50                                                                                                             &   NA &  89 &  67 &       NA & 1\\\\\n",
       "\t12747 & 28012 & Sol       & Apartment   & Entire home/apt & 6 & 2.0 & 2 &  3 & Real Bed      & TV,Cable TV,Internet,Wireless Internet,Air conditioning,Kitchen,Doorman,Elevator in building,Buzzer/wireless intercom,Heating,Family/kid friendly,Washer,24-hour check-in,Hangers,Hair dryer,Iron,Laptop friendly workspace                                                                                          & 1076 & 140 &  94 & 99.96363 & 1\\\\\n",
       "\t12754 & 28013 & Sol       & Apartment   & Entire home/apt & 4 & 1.0 & 0 &  2 & Real Bed      & TV,Wireless Internet,Kitchen,Elevator in building,Family/kid friendly,Washer,Smoke detector,First aid kit,Fire extinguisher,Shampoo,Hair dryer                                                                                                                                                                       &   NA &  65 &  80 &       NA & 1\\\\\n",
       "\t12793 & 28004 & Justicia  & Apartment   & Entire home/apt & 2 & 1.0 & 0 &  1 & Real Bed      & TV,Internet,Wireless Internet,Air conditioning,Kitchen,Buzzer/wireless intercom,Heating,Family/kid friendly,Essentials,Shampoo,Hangers,Hair dryer,Iron,Laptop friendly workspace                                                                                                                                     &   NA &  45 &  88 &       NA & 1\\\\\n",
       "\t12802 & NA    & Justicia  & Apartment   & Entire home/apt & 3 & 1.0 & 2 &  2 & Real Bed      & TV,Internet,Air conditioning,Kitchen,Elevator in building,Heating,Family/kid friendly,Washer,Essentials                                                                                                                                                                                                              &   NA &  45 &  80 &       NA & 1\\\\\n",
       "\t12909 & 28005 & Sol       & Apartment   & Entire home/apt & 6 & 1.0 & 2 &  3 & Real Bed      & TV,Cable TV,Internet,Wireless Internet,Air conditioning,Kitchen,Elevator in building,Buzzer/wireless intercom,Heating,Family/kid friendly,Washer,Dryer,Smoke detector,Carbon monoxide detector,Essentials,Shampoo,24-hour check-in,Hangers,Hair dryer,Iron,Laptop friendly workspace                                 &   NA &  99 &  89 &       NA & 1\\\\\n",
       "\t12914 & 28013 & Sol       & Apartment   & Entire home/apt & 4 & 1.0 & 1 &  1 & Real Bed      & TV,Internet,Wireless Internet,Air conditioning,Kitchen,Smoking allowed,Breakfast,Elevator in building,Heating,Family/kid friendly,Washer,Essentials,Hangers,Hair dryer,Iron                                                                                                                                          &   NA &  95 &  97 &       NA & 1\\\\\n",
       "\t12921 & 28013 & Sol       & Apartment   & Entire home/apt & 2 & 1.0 & 1 &  1 & Pull-out Sofa & TV,Cable TV,Internet,Wireless Internet,Air conditioning,Kitchen,Doorman,Elevator in building,Heating,Family/kid friendly,Smoke detector,First aid kit,Safety card,Fire extinguisher,Essentials,Shampoo,24-hour check-in,Hangers,Hair dryer,Iron,Laptop friendly workspace,translation missing: en.hosting\\_amenity\\_49 &   NA &  55 &  97 &       NA & 1\\\\\n",
       "\t12926 & 28013 & Sol       & Apartment   & Entire home/apt & 8 & 2.0 & 3 &  8 & Real Bed      & TV,Internet,Wireless Internet,Air conditioning,Wheelchair accessible,Kitchen,Doorman,Elevator in building,Heating,Family/kid friendly,Suitable for events,Washer,Dryer,Smoke detector,First aid kit,Fire extinguisher,Shampoo                                                                                        &   NA & 250 &  88 &       NA & 1\\\\\n",
       "\t12935 & 28013 & Sol       & Condominium & Entire home/apt & 2 & 1.0 & 0 &  1 & Real Bed      & TV,Internet,Wireless Internet,Air conditioning,Kitchen,Elevator in building,Heating,Washer,Essentials,Hangers,Hair dryer,Iron,Laptop friendly workspace                                                                                                                                                              &   NA &  50 &  87 &       NA & 1\\\\\n",
       "\t12940 & 28013 & Sol       & Apartment   & Entire home/apt & 4 & 1.0 & 1 &  1 & Real Bed      & Internet,Wireless Internet,Kitchen,Pets allowed,Doorman,Elevator in building,Buzzer/wireless intercom,Heating,Family/kid friendly,First aid kit,Essentials,Hangers,Hair dryer,Iron,Laptop friendly workspace                                                                                                         &   NA &  69 &  80 &       NA & 1\\\\\n",
       "\t12997 & 28004 & Justicia  & Apartment   & Entire home/apt & 4 & 1.0 & 1 &  2 & Pull-out Sofa & TV,Internet,Wireless Internet,Air conditioning,Kitchen,Doorman,Elevator in building,Buzzer/wireless intercom,Heating,Family/kid friendly,Essentials,Shampoo,Hangers,Hair dryer,Iron,Laptop friendly workspace                                                                                                        &   NA &  80 &  95 &       NA & 1\\\\\n",
       "\t13006 & 28004 & Justicia  & Apartment   & Entire home/apt & 4 & 1.0 & 1 &  2 & Real Bed      & TV,Internet,Wireless Internet,Air conditioning,Kitchen,Elevator in building,Buzzer/wireless intercom,Heating,Family/kid friendly,Washer,Smoke detector,Carbon monoxide detector,Essentials,Shampoo,Hangers,Hair dryer,Iron,Laptop friendly workspace                                                                 &   NA &  75 & 100 &       NA & 1\\\\\n",
       "\t13047 & 28001 & Recoletos & Apartment   & Entire home/apt & 4 & 2.0 & 2 &  4 & Real Bed      & TV,Cable TV,Internet,Wireless Internet,Air conditioning,Kitchen,Smoking allowed,Doorman,Elevator in building,Buzzer/wireless intercom,Heating,Family/kid friendly,Washer,Dryer,Essentials,24-hour check-in,Hangers,Hair dryer,Iron,Laptop friendly workspace                                                         &   NA & 310 &  80 &       NA & 1\\\\\n",
       "\t13142 & 28010 & Trafalgar & Apartment   & Entire home/apt & 4 & 1.0 & 2 &  3 & Real Bed      & TV,Wireless Internet,Air conditioning,Kitchen,Doorman,Elevator in building,Buzzer/wireless intercom,Heating,Family/kid friendly,Washer,Essentials,Shampoo,Hangers,Hair dryer,Iron,Laptop friendly workspace                                                                                                          &   NA &  72 &  90 &       NA & 1\\\\\n",
       "\\end{tabular}\n"
      ],
      "text/markdown": [
       "\n",
       "A data.frame: 351 × 15\n",
       "\n",
       "| <!--/--> | CodigoPostal &lt;chr&gt; | Barrio &lt;chr&gt; | TipoPropiedad &lt;fct&gt; | TipoAlquiler &lt;fct&gt; | MaxOcupantes &lt;int&gt; | NumBanyos &lt;dbl&gt; | NumDormitorios &lt;int&gt; | NumCamas &lt;int&gt; | TipoCama &lt;fct&gt; | Comodidades &lt;fct&gt; | PiesCuadrados &lt;int&gt; | Precio &lt;int&gt; | Puntuacion &lt;int&gt; | MetrosCuadrados &lt;dbl&gt; | contador &lt;dbl&gt; |\n",
       "|---|---|---|---|---|---|---|---|---|---|---|---|---|---|---|---|\n",
       "| 18 | 28012 | Sol       | Apartment | Entire home/apt |  6 | 1.0 | 2 | 2 | Real Bed      | TV,Internet,Wireless Internet,Air conditioning,Kitchen,Smoking allowed,Elevator in building,Buzzer/wireless intercom,Heating,Family/kid friendly,Washer,Dryer,Essentials,Shampoo,Hangers,Hair dryer,Iron,Laptop friendly workspace                                                                                                                                                               | NA | 160 |  95 | NA | 1 |\n",
       "| 24 | 28012 | Sol       | Apartment | Entire home/apt |  4 | 1.0 | 1 | 2 | Real Bed      | TV,Internet,Wireless Internet,Air conditioning,Kitchen,Elevator in building,Heating,Family/kid friendly,Washer,Smoke detector,Carbon monoxide detector,Essentials,Shampoo,24-hour check-in,Hangers,Hair dryer,Iron,Laptop friendly workspace                                                                                                                                                     | NA |  50 |  91 | NA | 1 |\n",
       "| 30 | 28005 | Sol       | Apartment | Entire home/apt |  8 | 1.0 | 3 | 4 | Real Bed      | TV,Internet,Wireless Internet,Kitchen,Breakfast,Elevator in building,Buzzer/wireless intercom,Heating,Family/kid friendly,Washer,Essentials,Shampoo,Hangers,Hair dryer,Iron,Laptop friendly workspace,Self Check-In,Lockbox                                                                                                                                                                      | NA | 163 | 100 | NA | 1 |\n",
       "| 44 | 28013 | Sol       | Apartment | Entire home/apt |  6 | 2.0 | 2 | 2 | Real Bed      | TV,Wireless Internet,Air conditioning,Kitchen,Elevator in building,Heating,Washer,Essentials,Shampoo                                                                                                                                                                                                                                                                                             | NA | 109 |  90 | NA | 1 |\n",
       "| 49 | 28013 | Sol       | Apartment | Entire home/apt |  4 | 1.0 | 2 | 2 | Real Bed      | TV,Internet,Wireless Internet,Air conditioning,Kitchen,Smoking allowed,Heating,Family/kid friendly,Washer,Essentials,Shampoo,Hangers,Hair dryer,Iron,Laptop friendly workspace                                                                                                                                                                                                                   | NA |  71 |  93 | NA | 1 |\n",
       "| 57 | 28012 | Sol       | Apartment | Entire home/apt |  4 | 1.0 | 1 | 1 | Pull-out Sofa | TV,Wireless Internet,Air conditioning,Kitchen,Doorman,Elevator in building,Buzzer/wireless intercom,Heating,Family/kid friendly,Washer,Smoke detector,Carbon monoxide detector,First aid kit,Safety card,Fire extinguisher,Essentials,Shampoo,24-hour check-in,Hangers,Hair dryer,Iron,Laptop friendly workspace                                                                                 | NA |  84 |  96 | NA | 1 |\n",
       "| 263 | 28004 | Justicia  | Apartment | Entire home/apt |  2 | 1.0 | 1 | 1 | Real Bed      | TV,Internet,Wireless Internet,Kitchen,Heating,Family/kid friendly,Washer,Essentials,Hangers,Hair dryer,Iron,Laptop friendly workspace                                                                                                                                                                                                                                                            | NA |  85 |  98 | NA | 1 |\n",
       "| 270 | 28001 | Recoletos | House     | Entire home/apt |  4 | 1.0 | 2 | 2 | Real Bed      | TV,Wireless Internet,Air conditioning,Kitchen,Doorman,Elevator in building,Heating,Family/kid friendly,Washer,Essentials,Shampoo                                                                                                                                                                                                                                                                 | NA |  80 |  93 | NA | 1 |\n",
       "| 275 | 28001 | Recoletos | Apartment | Entire home/apt |  2 | 1.0 | 1 | 2 | Real Bed      | TV,Wireless Internet,Air conditioning,Pool,Kitchen,Breakfast,Elevator in building,Hot tub,Heating,Family/kid friendly,Washer,First aid kit,Safety card,Essentials,Shampoo,Hangers,Hair dryer,Iron,Laptop friendly workspace,translation missing: en.hosting_amenity_49,Private entrance                                                                                                          | NA |  90 |  NA | NA | 1 |\n",
       "| 286 | NA    | Goya      | Apartment | Entire home/apt |  3 | 1.0 | 2 | 2 | Real Bed      | TV,Internet,Wireless Internet,Air conditioning,Kitchen,Doorman,Elevator in building,Buzzer/wireless intercom,Heating,Family/kid friendly,Washer,First aid kit,Essentials,Shampoo,Hangers,Hair dryer,Iron                                                                                                                                                                                         | NA | 100 |  96 | NA | 1 |\n",
       "| 291 | 28004 | Justicia  | Apartment | Entire home/apt |  4 | 1.0 | 1 | 2 | Real Bed      | TV,Internet,Wireless Internet,Air conditioning,Kitchen,Elevator in building,Buzzer/wireless intercom,Heating,Family/kid friendly,Washer,Fire extinguisher,Essentials,Shampoo                                                                                                                                                                                                                     | NA | 185 |  NA | NA | 1 |\n",
       "| 298 | 28004 | Justicia  | Apartment | Entire home/apt |  2 | 1.0 | 1 | 2 | Real Bed      | Internet,Wireless Internet,Air conditioning,Kitchen,Buzzer/wireless intercom,Heating,Washer,Essentials,Shampoo,translation missing: en.hosting_amenity_49,translation missing: en.hosting_amenity_50                                                                                                                                                                                             | NA |  75 |  88 | NA | 1 |\n",
       "| 344 | 28010 | Trafalgar | Apartment | Entire home/apt |  5 | 2.0 | 3 | 4 | Real Bed      | TV,Internet,Wireless Internet,Air conditioning,Kitchen,Free parking on premises,Doorman,Elevator in building,Buzzer/wireless intercom,Heating,Family/kid friendly,Washer,Essentials,Hangers,Hair dryer,Iron,Laptop friendly workspace,Private entrance,Outlet covers,Bathtub,Baby bath,Changing table,High chair,Children’s books and toys,Babysitter recommendations,Crib,Children’s dinnerware | NA | 140 | 100 | NA | 1 |\n",
       "| 351 | 28010 | Trafalgar | Apartment | Entire home/apt |  8 | 2.0 | 3 | 6 | Real Bed      | TV,Cable TV,Internet,Wireless Internet,Air conditioning,Wheelchair accessible,Kitchen,Smoking allowed,Pets allowed,Elevator in building,Hot tub,Buzzer/wireless intercom,Heating,Family/kid friendly,Washer,Dryer,Essentials,Hangers,Hair dryer,Iron,Self Check-In,Doorman Entry                                                                                                                 | NA | 119 |  85 | NA | 1 |\n",
       "| 557 | 28001 | Recoletos | Other     | Entire home/apt |  1 | 1.0 | 1 | 1 | Real Bed      | TV,Internet,Air conditioning,Kitchen,Breakfast,Elevator in building,Heating,Washer,Fire extinguisher,Essentials,Shampoo,Lock on bedroom door,Hangers,Hair dryer,Iron,Laptop friendly workspace,translation missing: en.hosting_amenity_49,translation missing: en.hosting_amenity_50                                                                                                             | NA |  50 |  NA | NA | 1 |\n",
       "| 573 | 28013 | Sol       | Apartment | Entire home/apt |  6 | 2.0 | 2 | 3 | Real Bed      | TV,Internet,Wireless Internet,Air conditioning,Kitchen,Doorman,Elevator in building,Buzzer/wireless intercom,Heating,Family/kid friendly,Washer,Essentials,Shampoo,24-hour check-in,Hangers,Hair dryer,Iron,Laptop friendly workspace,Private entrance                                                                                                                                           | NA | 120 |  96 | NA | 1 |\n",
       "| 578 | 28005 | Sol       | Apartment | Entire home/apt |  9 | 2.0 | 4 | 1 | Real Bed      | TV,Internet,Wireless Internet,Kitchen,Elevator in building,Buzzer/wireless intercom,Heating,Family/kid friendly,Washer,Essentials,Shampoo,Iron                                                                                                                                                                                                                                                   | NA | 180 |  92 | NA | 1 |\n",
       "| 583 | 28013 | Sol       | Apartment | Entire home/apt |  2 | 1.0 | 1 | 1 | Real Bed      | TV,Wireless Internet,Air conditioning,Kitchen,Elevator in building,Heating,Family/kid friendly,Washer,Essentials,Shampoo,Hangers,Hair dryer,Iron,Laptop friendly workspace,translation missing: en.hosting_amenity_50                                                                                                                                                                            | NA | 115 | 100 | NA | 1 |\n",
       "| 679 | 28004 | Sol       | Apartment | Entire home/apt |  4 | 1.0 | 1 | 2 | Real Bed      | TV,Cable TV,Internet,Wireless Internet,Air conditioning,Kitchen,Elevator in building,Buzzer/wireless intercom,Heating,Family/kid friendly,Washer,Dryer,First aid kit,Essentials,Shampoo,24-hour check-in,Hangers,Hair dryer,Iron,Laptop friendly workspace                                                                                                                                       | NA |  85 |  98 | NA | 1 |\n",
       "| 686 | 28013 | Sol       | Apartment | Entire home/apt |  4 | 1.5 | 1 | 2 | Real Bed      | TV,Internet,Wireless Internet,Air conditioning,Kitchen,Elevator in building,Heating,Family/kid friendly,Washer,Dryer,Essentials,Shampoo,Hangers,Hair dryer,Iron                                                                                                                                                                                                                                  | NA |  60 |  88 | NA | 1 |\n",
       "| 691 | 28013 | Sol       | House     | Entire home/apt |  5 | 1.0 | 2 | 5 | Real Bed      | TV,Internet,Wireless Internet,Kitchen,Smoking allowed,Heating,Washer,Essentials,Shampoo,Hangers,Hair dryer,Iron                                                                                                                                                                                                                                                                                  | NA |  72 |  75 | NA | 1 |\n",
       "| 700 | 28012 | Sol       | House     | Entire home/apt |  4 | 1.0 | 1 | 2 | Real Bed      | TV,Cable TV,Internet,Wireless Internet,Air conditioning,Wheelchair accessible,Kitchen,Doorman,Elevator in building,Buzzer/wireless intercom,Heating,Family/kid friendly,Washer,Smoke detector,Carbon monoxide detector,First aid kit,Safety card,Fire extinguisher,Essentials,Shampoo,Lock on bedroom door,24-hour check-in,Hangers,Hair dryer,Iron,Laptop friendly workspace                    | NA |  99 |  91 | NA | 1 |\n",
       "| 705 | 28012 | Sol       | Apartment | Entire home/apt |  2 | 1.0 | 1 | 1 | Real Bed      | TV,Cable TV,Internet,Wireless Internet,Air conditioning,Kitchen,Doorman,Elevator in building,Buzzer/wireless intercom,Heating,Family/kid friendly,Washer,Dryer,Smoke detector,Carbon monoxide detector,Essentials,Shampoo,24-hour check-in,Hangers,Hair dryer,Iron,Laptop friendly workspace,translation missing: en.hosting_amenity_49,Self Check-In,Doorman Entry                              | NA |  99 |  97 | NA | 1 |\n",
       "| 725 | 28004 | Justicia  | Apartment | Entire home/apt |  2 | 1.0 | 1 | 1 | Real Bed      | TV,Wireless Internet,Air conditioning,Kitchen,Heating,Family/kid friendly,Washer,Essentials,Shampoo,Hangers,Iron,Laptop friendly workspace                                                                                                                                                                                                                                                       | NA |  55 |  93 | NA | 1 |\n",
       "| 732 | 28004 | Justicia  | Other     | Entire home/apt | 12 | 4.5 | 4 | 6 | Real Bed      | TV,Cable TV,Internet,Wireless Internet,Air conditioning,Kitchen,Breakfast,Elevator in building,Indoor fireplace,Buzzer/wireless intercom,Heating,Family/kid friendly,Washer,Dryer,Smoke detector,Carbon monoxide detector,First aid kit,Safety card,Fire extinguisher,Essentials,Shampoo,24-hour check-in,Hangers,Hair dryer,Iron,Laptop friendly workspace                                      | NA | 285 |  98 | NA | 1 |\n",
       "| 737 | 28004 | Justicia  | Apartment | Entire home/apt |  4 | 1.0 | 1 | 1 | Real Bed      | TV,Wireless Internet,Air conditioning,Kitchen,Elevator in building,Heating,Family/kid friendly,Washer,Essentials,Shampoo,Hangers,Hair dryer,Iron,Laptop friendly workspace                                                                                                                                                                                                                       | NA | 100 | 100 | NA | 1 |\n",
       "| 745 | 28004 | Justicia  | Apartment | Entire home/apt |  6 | 2.0 | 2 | 5 | Real Bed      | TV,Internet,Wireless Internet,Air conditioning,Kitchen,Pets live on this property,Dog(s),Elevator in building,Buzzer/wireless intercom,Heating,Family/kid friendly,Washer,Dryer,First aid kit,Fire extinguisher,Essentials,Hangers,Hair dryer,Iron,Laptop friendly workspace                                                                                                                     | NA | 145 | 100 | NA | 1 |\n",
       "| 765 | 28010 | Trafalgar | Apartment | Entire home/apt |  2 | 1.0 | 0 | 2 | Real Bed      | TV,Internet,Wireless Internet,Kitchen,Elevator in building,Buzzer/wireless intercom,Heating,Family/kid friendly,Smoke detector,Carbon monoxide detector,Essentials,Shampoo,Hangers,Hair dryer,Iron,Laptop friendly workspace,translation missing: en.hosting_amenity_50                                                                                                                          | NA |  40 |  93 | NA | 1 |\n",
       "| 774 | 28010 | Trafalgar | Apartment | Entire home/apt |  4 | 1.0 | 1 | 2 | Real Bed      | TV,Internet,Wireless Internet,Air conditioning,Kitchen,Elevator in building,Buzzer/wireless intercom,Heating,Family/kid friendly,Washer,Fire extinguisher,Essentials,Shampoo                                                                                                                                                                                                                     |  0 |  60 |  NA |  0 | 1 |\n",
       "| 799 | 28001 | Recoletos | Apartment | Entire home/apt |  2 | 1.5 | 1 | 1 | Real Bed      | TV,Internet,Wireless Internet,Air conditioning,Wheelchair accessible,Pool,Kitchen,Doorman,Elevator in building,Heating,Washer,Dryer,Smoke detector,Carbon monoxide detector,Essentials,Shampoo,24-hour check-in,Hangers,Hair dryer,Iron,Laptop friendly workspace,translation missing: en.hosting_amenity_49,translation missing: en.hosting_amenity_50                                          | NA | 115 |  85 | NA | 1 |\n",
       "| ⋮ | ⋮ | ⋮ | ⋮ | ⋮ | ⋮ | ⋮ | ⋮ | ⋮ | ⋮ | ⋮ | ⋮ | ⋮ | ⋮ | ⋮ | ⋮ |\n",
       "| 11934 | 28001 | Goya      | Apartment   | Entire home/apt | 4 | 1.0 | 1 |  1 | Real Bed      | TV,Wireless Internet,Air conditioning,Pool,Kitchen,Gym,Elevator in building,Heating,Family/kid friendly,Washer,Dryer,Essentials,Shampoo,Hangers,Hair dryer,Iron                                                                                                                                                      |   NA |  90 | 100 |       NA | 1 |\n",
       "| 11940 | 28009 | Goya      | Apartment   | Entire home/apt | 4 | 2.0 | 2 |  2 | Real Bed      | TV,Internet,Wireless Internet,Air conditioning,Kitchen,Elevator in building,Buzzer/wireless intercom,Heating,Family/kid friendly,Washer,Dryer,Essentials,Shampoo,Hangers,Hair dryer,Iron                                                                                                                             |   NA | 110 |  95 |       NA | 1 |\n",
       "| 11967 | 28014 | Sol       | Condominium | Entire home/apt | 4 | 1.0 | 0 |  1 | Real Bed      | TV,Cable TV,Internet,Wireless Internet,Air conditioning,Wheelchair accessible,Kitchen,Doorman,Elevator in building,Buzzer/wireless intercom,Heating,Family/kid friendly,Washer,Smoke detector,Carbon monoxide detector,Essentials,Shampoo,24-hour check-in,Hangers,Hair dryer,Iron,Laptop friendly workspace         |   NA |  82 | 100 |       NA | 1 |\n",
       "| 11975 | 28013 | Sol       | Apartment   | Entire home/apt | 4 | 1.0 | 1 |  2 | Real Bed      | TV,Internet,Wireless Internet,Air conditioning,Kitchen,Buzzer/wireless intercom,Heating,Family/kid friendly,Washer,Dryer,Smoke detector,Carbon monoxide detector,Essentials,Shampoo,24-hour check-in,Hangers,Hair dryer,Iron,Laptop friendly workspace                                                               |   NA |  77 |  98 |       NA | 1 |\n",
       "| 11999 | 28012 | Sol       | Apartment   | Entire home/apt | 4 | 1.0 | 1 |  2 | Real Bed      | Internet,Wireless Internet,Air conditioning,Elevator in building,Hot tub,Buzzer/wireless intercom,Heating,Family/kid friendly,Washer,Essentials,Hair dryer                                                                                                                                                           |   NA |  75 |  91 |       NA | 1 |\n",
       "| 12004 | 28012 | Sol       | Apartment   | Entire home/apt | 2 | 1.0 | 1 |  1 | Real Bed      | TV,Internet,Wireless Internet,Air conditioning,Kitchen,Elevator in building,Heating,Washer,Essentials,Shampoo,24-hour check-in,Hangers,Iron                                                                                                                                                                          |   NA |  75 |  98 |       NA | 1 |\n",
       "| 12158 | 28010 | Trafalgar | Apartment   | Entire home/apt | 2 | 1.0 | 1 |  1 | Real Bed      | TV,Internet,Wireless Internet,Air conditioning,Kitchen,Heating,Washer,Essentials,Hangers,Hair dryer,Iron,Laptop friendly workspace                                                                                                                                                                                   |   NA |  95 |  90 |       NA | 1 |\n",
       "| 12165 | 28010 | Trafalgar | Apartment   | Entire home/apt | 5 | 1.0 | 2 |  3 | Real Bed      | TV,Internet,Wireless Internet,Kitchen,Buzzer/wireless intercom,Family/kid friendly,Washer                                                                                                                                                                                                                            |   NA |  49 |  47 |       NA | 1 |\n",
       "| 12336 | 28015 | Trafalgar | Apartment   | Entire home/apt | 2 | 1.0 | 1 | NA | Real Bed      | Wireless Internet,Air conditioning,Kitchen,Elevator in building,Heating,Family/kid friendly,Washer,Essentials                                                                                                                                                                                                        |   NA |  85 |  75 |       NA | 1 |\n",
       "| 12344 | 28010 | Trafalgar | Apartment   | Entire home/apt | 6 | 1.0 | 2 |  4 | Real Bed      | TV,Wireless Internet,Air conditioning,Kitchen,Elevator in building,Heating,Washer,Dryer,Fire extinguisher,Essentials,Shampoo,Hangers,Hair dryer,Iron                                                                                                                                                                 |   NA | 100 |  80 |       NA | 1 |\n",
       "| 12351 | 28001 | Recoletos | Apartment   | Entire home/apt | 4 | 1.0 | 1 |  2 | Real Bed      | TV,Wireless Internet,Air conditioning,Kitchen,Elevator in building,Heating,Family/kid friendly,Washer,Essentials,Hangers,Iron,Laptop friendly workspace                                                                                                                                                              |   NA | 125 |  98 |       NA | 1 |\n",
       "| 12358 | 28006 | Goya      | Apartment   | Entire home/apt | 6 | 2.0 | 3 |  6 | Real Bed      | TV,Internet,Wireless Internet,Wheelchair accessible,Kitchen,Doorman,Elevator in building,Buzzer/wireless intercom,Heating,Family/kid friendly,Washer,Essentials,Hangers,Iron,Laptop friendly workspace                                                                                                               |   NA |  75 |  86 |       NA | 1 |\n",
       "| 12724 | 28012 | Sol       | Apartment   | Entire home/apt | 4 | 2.0 | 2 |  3 | Real Bed      | Internet,Wireless Internet,Air conditioning,Kitchen,Doorman,Elevator in building,Buzzer/wireless intercom,Heating,Family/kid friendly,Washer,Dryer,Smoke detector,Carbon monoxide detector,Essentials,Shampoo,24-hour check-in,Hangers,Hair dryer,Iron,Laptop friendly workspace                                     |   NA | 150 |  99 |       NA | 1 |\n",
       "| 12731 | 28013 | Sol       | Apartment   | Entire home/apt | 6 | 1.5 | 2 |  3 | Real Bed      | TV,Internet,Wireless Internet,Air conditioning,Kitchen,Indoor fireplace,Buzzer/wireless intercom,Heating,Washer,Essentials,Shampoo,24-hour check-in,Hangers,Hair dryer,Iron,Laptop friendly workspace                                                                                                                |   NA | 125 |  93 |       NA | 1 |\n",
       "| 12736 | 28012 | Sol       | Apartment   | Entire home/apt | 5 | 1.0 | 2 |  2 | Real Bed      | TV,Internet,Wireless Internet,Air conditioning,Kitchen,Smoking allowed,Elevator in building,Buzzer/wireless intercom,Heating,Family/kid friendly,Washer,Essentials,Shampoo,Hair dryer,Iron                                                                                                                           |   NA | 115 |  NA |       NA | 1 |\n",
       "| 12742 | 28012 | Sol       | Apartment   | Entire home/apt | 4 | 2.0 | 1 |  2 | Real Bed      | TV,Wireless Internet,Air conditioning,Kitchen,Elevator in building,Heating,Family/kid friendly,Washer,Essentials,Hangers,Hair dryer,Laptop friendly workspace,translation missing: en.hosting_amenity_50                                                                                                             |   NA |  89 |  67 |       NA | 1 |\n",
       "| 12747 | 28012 | Sol       | Apartment   | Entire home/apt | 6 | 2.0 | 2 |  3 | Real Bed      | TV,Cable TV,Internet,Wireless Internet,Air conditioning,Kitchen,Doorman,Elevator in building,Buzzer/wireless intercom,Heating,Family/kid friendly,Washer,24-hour check-in,Hangers,Hair dryer,Iron,Laptop friendly workspace                                                                                          | 1076 | 140 |  94 | 99.96363 | 1 |\n",
       "| 12754 | 28013 | Sol       | Apartment   | Entire home/apt | 4 | 1.0 | 0 |  2 | Real Bed      | TV,Wireless Internet,Kitchen,Elevator in building,Family/kid friendly,Washer,Smoke detector,First aid kit,Fire extinguisher,Shampoo,Hair dryer                                                                                                                                                                       |   NA |  65 |  80 |       NA | 1 |\n",
       "| 12793 | 28004 | Justicia  | Apartment   | Entire home/apt | 2 | 1.0 | 0 |  1 | Real Bed      | TV,Internet,Wireless Internet,Air conditioning,Kitchen,Buzzer/wireless intercom,Heating,Family/kid friendly,Essentials,Shampoo,Hangers,Hair dryer,Iron,Laptop friendly workspace                                                                                                                                     |   NA |  45 |  88 |       NA | 1 |\n",
       "| 12802 | NA    | Justicia  | Apartment   | Entire home/apt | 3 | 1.0 | 2 |  2 | Real Bed      | TV,Internet,Air conditioning,Kitchen,Elevator in building,Heating,Family/kid friendly,Washer,Essentials                                                                                                                                                                                                              |   NA |  45 |  80 |       NA | 1 |\n",
       "| 12909 | 28005 | Sol       | Apartment   | Entire home/apt | 6 | 1.0 | 2 |  3 | Real Bed      | TV,Cable TV,Internet,Wireless Internet,Air conditioning,Kitchen,Elevator in building,Buzzer/wireless intercom,Heating,Family/kid friendly,Washer,Dryer,Smoke detector,Carbon monoxide detector,Essentials,Shampoo,24-hour check-in,Hangers,Hair dryer,Iron,Laptop friendly workspace                                 |   NA |  99 |  89 |       NA | 1 |\n",
       "| 12914 | 28013 | Sol       | Apartment   | Entire home/apt | 4 | 1.0 | 1 |  1 | Real Bed      | TV,Internet,Wireless Internet,Air conditioning,Kitchen,Smoking allowed,Breakfast,Elevator in building,Heating,Family/kid friendly,Washer,Essentials,Hangers,Hair dryer,Iron                                                                                                                                          |   NA |  95 |  97 |       NA | 1 |\n",
       "| 12921 | 28013 | Sol       | Apartment   | Entire home/apt | 2 | 1.0 | 1 |  1 | Pull-out Sofa | TV,Cable TV,Internet,Wireless Internet,Air conditioning,Kitchen,Doorman,Elevator in building,Heating,Family/kid friendly,Smoke detector,First aid kit,Safety card,Fire extinguisher,Essentials,Shampoo,24-hour check-in,Hangers,Hair dryer,Iron,Laptop friendly workspace,translation missing: en.hosting_amenity_49 |   NA |  55 |  97 |       NA | 1 |\n",
       "| 12926 | 28013 | Sol       | Apartment   | Entire home/apt | 8 | 2.0 | 3 |  8 | Real Bed      | TV,Internet,Wireless Internet,Air conditioning,Wheelchair accessible,Kitchen,Doorman,Elevator in building,Heating,Family/kid friendly,Suitable for events,Washer,Dryer,Smoke detector,First aid kit,Fire extinguisher,Shampoo                                                                                        |   NA | 250 |  88 |       NA | 1 |\n",
       "| 12935 | 28013 | Sol       | Condominium | Entire home/apt | 2 | 1.0 | 0 |  1 | Real Bed      | TV,Internet,Wireless Internet,Air conditioning,Kitchen,Elevator in building,Heating,Washer,Essentials,Hangers,Hair dryer,Iron,Laptop friendly workspace                                                                                                                                                              |   NA |  50 |  87 |       NA | 1 |\n",
       "| 12940 | 28013 | Sol       | Apartment   | Entire home/apt | 4 | 1.0 | 1 |  1 | Real Bed      | Internet,Wireless Internet,Kitchen,Pets allowed,Doorman,Elevator in building,Buzzer/wireless intercom,Heating,Family/kid friendly,First aid kit,Essentials,Hangers,Hair dryer,Iron,Laptop friendly workspace                                                                                                         |   NA |  69 |  80 |       NA | 1 |\n",
       "| 12997 | 28004 | Justicia  | Apartment   | Entire home/apt | 4 | 1.0 | 1 |  2 | Pull-out Sofa | TV,Internet,Wireless Internet,Air conditioning,Kitchen,Doorman,Elevator in building,Buzzer/wireless intercom,Heating,Family/kid friendly,Essentials,Shampoo,Hangers,Hair dryer,Iron,Laptop friendly workspace                                                                                                        |   NA |  80 |  95 |       NA | 1 |\n",
       "| 13006 | 28004 | Justicia  | Apartment   | Entire home/apt | 4 | 1.0 | 1 |  2 | Real Bed      | TV,Internet,Wireless Internet,Air conditioning,Kitchen,Elevator in building,Buzzer/wireless intercom,Heating,Family/kid friendly,Washer,Smoke detector,Carbon monoxide detector,Essentials,Shampoo,Hangers,Hair dryer,Iron,Laptop friendly workspace                                                                 |   NA |  75 | 100 |       NA | 1 |\n",
       "| 13047 | 28001 | Recoletos | Apartment   | Entire home/apt | 4 | 2.0 | 2 |  4 | Real Bed      | TV,Cable TV,Internet,Wireless Internet,Air conditioning,Kitchen,Smoking allowed,Doorman,Elevator in building,Buzzer/wireless intercom,Heating,Family/kid friendly,Washer,Dryer,Essentials,24-hour check-in,Hangers,Hair dryer,Iron,Laptop friendly workspace                                                         |   NA | 310 |  80 |       NA | 1 |\n",
       "| 13142 | 28010 | Trafalgar | Apartment   | Entire home/apt | 4 | 1.0 | 2 |  3 | Real Bed      | TV,Wireless Internet,Air conditioning,Kitchen,Doorman,Elevator in building,Buzzer/wireless intercom,Heating,Family/kid friendly,Washer,Essentials,Shampoo,Hangers,Hair dryer,Iron,Laptop friendly workspace                                                                                                          |   NA |  72 |  90 |       NA | 1 |\n",
       "\n"
      ],
      "text/plain": [
       "      CodigoPostal Barrio    TipoPropiedad TipoAlquiler    MaxOcupantes\n",
       "18    28012        Sol       Apartment     Entire home/apt  6          \n",
       "24    28012        Sol       Apartment     Entire home/apt  4          \n",
       "30    28005        Sol       Apartment     Entire home/apt  8          \n",
       "44    28013        Sol       Apartment     Entire home/apt  6          \n",
       "49    28013        Sol       Apartment     Entire home/apt  4          \n",
       "57    28012        Sol       Apartment     Entire home/apt  4          \n",
       "263   28004        Justicia  Apartment     Entire home/apt  2          \n",
       "270   28001        Recoletos House         Entire home/apt  4          \n",
       "275   28001        Recoletos Apartment     Entire home/apt  2          \n",
       "286   NA           Goya      Apartment     Entire home/apt  3          \n",
       "291   28004        Justicia  Apartment     Entire home/apt  4          \n",
       "298   28004        Justicia  Apartment     Entire home/apt  2          \n",
       "344   28010        Trafalgar Apartment     Entire home/apt  5          \n",
       "351   28010        Trafalgar Apartment     Entire home/apt  8          \n",
       "557   28001        Recoletos Other         Entire home/apt  1          \n",
       "573   28013        Sol       Apartment     Entire home/apt  6          \n",
       "578   28005        Sol       Apartment     Entire home/apt  9          \n",
       "583   28013        Sol       Apartment     Entire home/apt  2          \n",
       "679   28004        Sol       Apartment     Entire home/apt  4          \n",
       "686   28013        Sol       Apartment     Entire home/apt  4          \n",
       "691   28013        Sol       House         Entire home/apt  5          \n",
       "700   28012        Sol       House         Entire home/apt  4          \n",
       "705   28012        Sol       Apartment     Entire home/apt  2          \n",
       "725   28004        Justicia  Apartment     Entire home/apt  2          \n",
       "732   28004        Justicia  Other         Entire home/apt 12          \n",
       "737   28004        Justicia  Apartment     Entire home/apt  4          \n",
       "745   28004        Justicia  Apartment     Entire home/apt  6          \n",
       "765   28010        Trafalgar Apartment     Entire home/apt  2          \n",
       "774   28010        Trafalgar Apartment     Entire home/apt  4          \n",
       "799   28001        Recoletos Apartment     Entire home/apt  2          \n",
       "⋮     ⋮            ⋮         ⋮             ⋮               ⋮           \n",
       "11934 28001        Goya      Apartment     Entire home/apt 4           \n",
       "11940 28009        Goya      Apartment     Entire home/apt 4           \n",
       "11967 28014        Sol       Condominium   Entire home/apt 4           \n",
       "11975 28013        Sol       Apartment     Entire home/apt 4           \n",
       "11999 28012        Sol       Apartment     Entire home/apt 4           \n",
       "12004 28012        Sol       Apartment     Entire home/apt 2           \n",
       "12158 28010        Trafalgar Apartment     Entire home/apt 2           \n",
       "12165 28010        Trafalgar Apartment     Entire home/apt 5           \n",
       "12336 28015        Trafalgar Apartment     Entire home/apt 2           \n",
       "12344 28010        Trafalgar Apartment     Entire home/apt 6           \n",
       "12351 28001        Recoletos Apartment     Entire home/apt 4           \n",
       "12358 28006        Goya      Apartment     Entire home/apt 6           \n",
       "12724 28012        Sol       Apartment     Entire home/apt 4           \n",
       "12731 28013        Sol       Apartment     Entire home/apt 6           \n",
       "12736 28012        Sol       Apartment     Entire home/apt 5           \n",
       "12742 28012        Sol       Apartment     Entire home/apt 4           \n",
       "12747 28012        Sol       Apartment     Entire home/apt 6           \n",
       "12754 28013        Sol       Apartment     Entire home/apt 4           \n",
       "12793 28004        Justicia  Apartment     Entire home/apt 2           \n",
       "12802 NA           Justicia  Apartment     Entire home/apt 3           \n",
       "12909 28005        Sol       Apartment     Entire home/apt 6           \n",
       "12914 28013        Sol       Apartment     Entire home/apt 4           \n",
       "12921 28013        Sol       Apartment     Entire home/apt 2           \n",
       "12926 28013        Sol       Apartment     Entire home/apt 8           \n",
       "12935 28013        Sol       Condominium   Entire home/apt 2           \n",
       "12940 28013        Sol       Apartment     Entire home/apt 4           \n",
       "12997 28004        Justicia  Apartment     Entire home/apt 4           \n",
       "13006 28004        Justicia  Apartment     Entire home/apt 4           \n",
       "13047 28001        Recoletos Apartment     Entire home/apt 4           \n",
       "13142 28010        Trafalgar Apartment     Entire home/apt 4           \n",
       "      NumBanyos NumDormitorios NumCamas TipoCama     \n",
       "18    1.0       2              2        Real Bed     \n",
       "24    1.0       1              2        Real Bed     \n",
       "30    1.0       3              4        Real Bed     \n",
       "44    2.0       2              2        Real Bed     \n",
       "49    1.0       2              2        Real Bed     \n",
       "57    1.0       1              1        Pull-out Sofa\n",
       "263   1.0       1              1        Real Bed     \n",
       "270   1.0       2              2        Real Bed     \n",
       "275   1.0       1              2        Real Bed     \n",
       "286   1.0       2              2        Real Bed     \n",
       "291   1.0       1              2        Real Bed     \n",
       "298   1.0       1              2        Real Bed     \n",
       "344   2.0       3              4        Real Bed     \n",
       "351   2.0       3              6        Real Bed     \n",
       "557   1.0       1              1        Real Bed     \n",
       "573   2.0       2              3        Real Bed     \n",
       "578   2.0       4              1        Real Bed     \n",
       "583   1.0       1              1        Real Bed     \n",
       "679   1.0       1              2        Real Bed     \n",
       "686   1.5       1              2        Real Bed     \n",
       "691   1.0       2              5        Real Bed     \n",
       "700   1.0       1              2        Real Bed     \n",
       "705   1.0       1              1        Real Bed     \n",
       "725   1.0       1              1        Real Bed     \n",
       "732   4.5       4              6        Real Bed     \n",
       "737   1.0       1              1        Real Bed     \n",
       "745   2.0       2              5        Real Bed     \n",
       "765   1.0       0              2        Real Bed     \n",
       "774   1.0       1              2        Real Bed     \n",
       "799   1.5       1              1        Real Bed     \n",
       "⋮     ⋮         ⋮              ⋮        ⋮            \n",
       "11934 1.0       1               1       Real Bed     \n",
       "11940 2.0       2               2       Real Bed     \n",
       "11967 1.0       0               1       Real Bed     \n",
       "11975 1.0       1               2       Real Bed     \n",
       "11999 1.0       1               2       Real Bed     \n",
       "12004 1.0       1               1       Real Bed     \n",
       "12158 1.0       1               1       Real Bed     \n",
       "12165 1.0       2               3       Real Bed     \n",
       "12336 1.0       1              NA       Real Bed     \n",
       "12344 1.0       2               4       Real Bed     \n",
       "12351 1.0       1               2       Real Bed     \n",
       "12358 2.0       3               6       Real Bed     \n",
       "12724 2.0       2               3       Real Bed     \n",
       "12731 1.5       2               3       Real Bed     \n",
       "12736 1.0       2               2       Real Bed     \n",
       "12742 2.0       1               2       Real Bed     \n",
       "12747 2.0       2               3       Real Bed     \n",
       "12754 1.0       0               2       Real Bed     \n",
       "12793 1.0       0               1       Real Bed     \n",
       "12802 1.0       2               2       Real Bed     \n",
       "12909 1.0       2               3       Real Bed     \n",
       "12914 1.0       1               1       Real Bed     \n",
       "12921 1.0       1               1       Pull-out Sofa\n",
       "12926 2.0       3               8       Real Bed     \n",
       "12935 1.0       0               1       Real Bed     \n",
       "12940 1.0       1               1       Real Bed     \n",
       "12997 1.0       1               2       Pull-out Sofa\n",
       "13006 1.0       1               2       Real Bed     \n",
       "13047 2.0       2               4       Real Bed     \n",
       "13142 1.0       2               3       Real Bed     \n",
       "      Comodidades                                                                                                                                                                                                                                                                                                                                                                                     \n",
       "18    TV,Internet,Wireless Internet,Air conditioning,Kitchen,Smoking allowed,Elevator in building,Buzzer/wireless intercom,Heating,Family/kid friendly,Washer,Dryer,Essentials,Shampoo,Hangers,Hair dryer,Iron,Laptop friendly workspace                                                                                                                                                              \n",
       "24    TV,Internet,Wireless Internet,Air conditioning,Kitchen,Elevator in building,Heating,Family/kid friendly,Washer,Smoke detector,Carbon monoxide detector,Essentials,Shampoo,24-hour check-in,Hangers,Hair dryer,Iron,Laptop friendly workspace                                                                                                                                                    \n",
       "30    TV,Internet,Wireless Internet,Kitchen,Breakfast,Elevator in building,Buzzer/wireless intercom,Heating,Family/kid friendly,Washer,Essentials,Shampoo,Hangers,Hair dryer,Iron,Laptop friendly workspace,Self Check-In,Lockbox                                                                                                                                                                     \n",
       "44    TV,Wireless Internet,Air conditioning,Kitchen,Elevator in building,Heating,Washer,Essentials,Shampoo                                                                                                                                                                                                                                                                                            \n",
       "49    TV,Internet,Wireless Internet,Air conditioning,Kitchen,Smoking allowed,Heating,Family/kid friendly,Washer,Essentials,Shampoo,Hangers,Hair dryer,Iron,Laptop friendly workspace                                                                                                                                                                                                                  \n",
       "57    TV,Wireless Internet,Air conditioning,Kitchen,Doorman,Elevator in building,Buzzer/wireless intercom,Heating,Family/kid friendly,Washer,Smoke detector,Carbon monoxide detector,First aid kit,Safety card,Fire extinguisher,Essentials,Shampoo,24-hour check-in,Hangers,Hair dryer,Iron,Laptop friendly workspace                                                                                \n",
       "263   TV,Internet,Wireless Internet,Kitchen,Heating,Family/kid friendly,Washer,Essentials,Hangers,Hair dryer,Iron,Laptop friendly workspace                                                                                                                                                                                                                                                           \n",
       "270   TV,Wireless Internet,Air conditioning,Kitchen,Doorman,Elevator in building,Heating,Family/kid friendly,Washer,Essentials,Shampoo                                                                                                                                                                                                                                                                \n",
       "275   TV,Wireless Internet,Air conditioning,Pool,Kitchen,Breakfast,Elevator in building,Hot tub,Heating,Family/kid friendly,Washer,First aid kit,Safety card,Essentials,Shampoo,Hangers,Hair dryer,Iron,Laptop friendly workspace,translation missing: en.hosting_amenity_49,Private entrance                                                                                                         \n",
       "286   TV,Internet,Wireless Internet,Air conditioning,Kitchen,Doorman,Elevator in building,Buzzer/wireless intercom,Heating,Family/kid friendly,Washer,First aid kit,Essentials,Shampoo,Hangers,Hair dryer,Iron                                                                                                                                                                                        \n",
       "291   TV,Internet,Wireless Internet,Air conditioning,Kitchen,Elevator in building,Buzzer/wireless intercom,Heating,Family/kid friendly,Washer,Fire extinguisher,Essentials,Shampoo                                                                                                                                                                                                                    \n",
       "298   Internet,Wireless Internet,Air conditioning,Kitchen,Buzzer/wireless intercom,Heating,Washer,Essentials,Shampoo,translation missing: en.hosting_amenity_49,translation missing: en.hosting_amenity_50                                                                                                                                                                                            \n",
       "344   TV,Internet,Wireless Internet,Air conditioning,Kitchen,Free parking on premises,Doorman,Elevator in building,Buzzer/wireless intercom,Heating,Family/kid friendly,Washer,Essentials,Hangers,Hair dryer,Iron,Laptop friendly workspace,Private entrance,Outlet covers,Bathtub,Baby bath,Changing table,High chair,Children’s books and toys,Babysitter recommendations,Crib,Children’s dinnerware\n",
       "351   TV,Cable TV,Internet,Wireless Internet,Air conditioning,Wheelchair accessible,Kitchen,Smoking allowed,Pets allowed,Elevator in building,Hot tub,Buzzer/wireless intercom,Heating,Family/kid friendly,Washer,Dryer,Essentials,Hangers,Hair dryer,Iron,Self Check-In,Doorman Entry                                                                                                                \n",
       "557   TV,Internet,Air conditioning,Kitchen,Breakfast,Elevator in building,Heating,Washer,Fire extinguisher,Essentials,Shampoo,Lock on bedroom door,Hangers,Hair dryer,Iron,Laptop friendly workspace,translation missing: en.hosting_amenity_49,translation missing: en.hosting_amenity_50                                                                                                            \n",
       "573   TV,Internet,Wireless Internet,Air conditioning,Kitchen,Doorman,Elevator in building,Buzzer/wireless intercom,Heating,Family/kid friendly,Washer,Essentials,Shampoo,24-hour check-in,Hangers,Hair dryer,Iron,Laptop friendly workspace,Private entrance                                                                                                                                          \n",
       "578   TV,Internet,Wireless Internet,Kitchen,Elevator in building,Buzzer/wireless intercom,Heating,Family/kid friendly,Washer,Essentials,Shampoo,Iron                                                                                                                                                                                                                                                  \n",
       "583   TV,Wireless Internet,Air conditioning,Kitchen,Elevator in building,Heating,Family/kid friendly,Washer,Essentials,Shampoo,Hangers,Hair dryer,Iron,Laptop friendly workspace,translation missing: en.hosting_amenity_50                                                                                                                                                                           \n",
       "679   TV,Cable TV,Internet,Wireless Internet,Air conditioning,Kitchen,Elevator in building,Buzzer/wireless intercom,Heating,Family/kid friendly,Washer,Dryer,First aid kit,Essentials,Shampoo,24-hour check-in,Hangers,Hair dryer,Iron,Laptop friendly workspace                                                                                                                                      \n",
       "686   TV,Internet,Wireless Internet,Air conditioning,Kitchen,Elevator in building,Heating,Family/kid friendly,Washer,Dryer,Essentials,Shampoo,Hangers,Hair dryer,Iron                                                                                                                                                                                                                                 \n",
       "691   TV,Internet,Wireless Internet,Kitchen,Smoking allowed,Heating,Washer,Essentials,Shampoo,Hangers,Hair dryer,Iron                                                                                                                                                                                                                                                                                 \n",
       "700   TV,Cable TV,Internet,Wireless Internet,Air conditioning,Wheelchair accessible,Kitchen,Doorman,Elevator in building,Buzzer/wireless intercom,Heating,Family/kid friendly,Washer,Smoke detector,Carbon monoxide detector,First aid kit,Safety card,Fire extinguisher,Essentials,Shampoo,Lock on bedroom door,24-hour check-in,Hangers,Hair dryer,Iron,Laptop friendly workspace                   \n",
       "705   TV,Cable TV,Internet,Wireless Internet,Air conditioning,Kitchen,Doorman,Elevator in building,Buzzer/wireless intercom,Heating,Family/kid friendly,Washer,Dryer,Smoke detector,Carbon monoxide detector,Essentials,Shampoo,24-hour check-in,Hangers,Hair dryer,Iron,Laptop friendly workspace,translation missing: en.hosting_amenity_49,Self Check-In,Doorman Entry                             \n",
       "725   TV,Wireless Internet,Air conditioning,Kitchen,Heating,Family/kid friendly,Washer,Essentials,Shampoo,Hangers,Iron,Laptop friendly workspace                                                                                                                                                                                                                                                      \n",
       "732   TV,Cable TV,Internet,Wireless Internet,Air conditioning,Kitchen,Breakfast,Elevator in building,Indoor fireplace,Buzzer/wireless intercom,Heating,Family/kid friendly,Washer,Dryer,Smoke detector,Carbon monoxide detector,First aid kit,Safety card,Fire extinguisher,Essentials,Shampoo,24-hour check-in,Hangers,Hair dryer,Iron,Laptop friendly workspace                                     \n",
       "737   TV,Wireless Internet,Air conditioning,Kitchen,Elevator in building,Heating,Family/kid friendly,Washer,Essentials,Shampoo,Hangers,Hair dryer,Iron,Laptop friendly workspace                                                                                                                                                                                                                      \n",
       "745   TV,Internet,Wireless Internet,Air conditioning,Kitchen,Pets live on this property,Dog(s),Elevator in building,Buzzer/wireless intercom,Heating,Family/kid friendly,Washer,Dryer,First aid kit,Fire extinguisher,Essentials,Hangers,Hair dryer,Iron,Laptop friendly workspace                                                                                                                    \n",
       "765   TV,Internet,Wireless Internet,Kitchen,Elevator in building,Buzzer/wireless intercom,Heating,Family/kid friendly,Smoke detector,Carbon monoxide detector,Essentials,Shampoo,Hangers,Hair dryer,Iron,Laptop friendly workspace,translation missing: en.hosting_amenity_50                                                                                                                         \n",
       "774   TV,Internet,Wireless Internet,Air conditioning,Kitchen,Elevator in building,Buzzer/wireless intercom,Heating,Family/kid friendly,Washer,Fire extinguisher,Essentials,Shampoo                                                                                                                                                                                                                    \n",
       "799   TV,Internet,Wireless Internet,Air conditioning,Wheelchair accessible,Pool,Kitchen,Doorman,Elevator in building,Heating,Washer,Dryer,Smoke detector,Carbon monoxide detector,Essentials,Shampoo,24-hour check-in,Hangers,Hair dryer,Iron,Laptop friendly workspace,translation missing: en.hosting_amenity_49,translation missing: en.hosting_amenity_50                                         \n",
       "⋮     ⋮                                                                                                                                                                                                                                                                                                                                                                                               \n",
       "11934 TV,Wireless Internet,Air conditioning,Pool,Kitchen,Gym,Elevator in building,Heating,Family/kid friendly,Washer,Dryer,Essentials,Shampoo,Hangers,Hair dryer,Iron                                                                                                                                                                                                                                 \n",
       "11940 TV,Internet,Wireless Internet,Air conditioning,Kitchen,Elevator in building,Buzzer/wireless intercom,Heating,Family/kid friendly,Washer,Dryer,Essentials,Shampoo,Hangers,Hair dryer,Iron                                                                                                                                                                                                        \n",
       "11967 TV,Cable TV,Internet,Wireless Internet,Air conditioning,Wheelchair accessible,Kitchen,Doorman,Elevator in building,Buzzer/wireless intercom,Heating,Family/kid friendly,Washer,Smoke detector,Carbon monoxide detector,Essentials,Shampoo,24-hour check-in,Hangers,Hair dryer,Iron,Laptop friendly workspace                                                                                    \n",
       "11975 TV,Internet,Wireless Internet,Air conditioning,Kitchen,Buzzer/wireless intercom,Heating,Family/kid friendly,Washer,Dryer,Smoke detector,Carbon monoxide detector,Essentials,Shampoo,24-hour check-in,Hangers,Hair dryer,Iron,Laptop friendly workspace                                                                                                                                          \n",
       "11999 Internet,Wireless Internet,Air conditioning,Elevator in building,Hot tub,Buzzer/wireless intercom,Heating,Family/kid friendly,Washer,Essentials,Hair dryer                                                                                                                                                                                                                                      \n",
       "12004 TV,Internet,Wireless Internet,Air conditioning,Kitchen,Elevator in building,Heating,Washer,Essentials,Shampoo,24-hour check-in,Hangers,Iron                                                                                                                                                                                                                                                     \n",
       "12158 TV,Internet,Wireless Internet,Air conditioning,Kitchen,Heating,Washer,Essentials,Hangers,Hair dryer,Iron,Laptop friendly workspace                                                                                                                                                                                                                                                              \n",
       "12165 TV,Internet,Wireless Internet,Kitchen,Buzzer/wireless intercom,Family/kid friendly,Washer                                                                                                                                                                                                                                                                                                       \n",
       "12336 Wireless Internet,Air conditioning,Kitchen,Elevator in building,Heating,Family/kid friendly,Washer,Essentials                                                                                                                                                                                                                                                                                   \n",
       "12344 TV,Wireless Internet,Air conditioning,Kitchen,Elevator in building,Heating,Washer,Dryer,Fire extinguisher,Essentials,Shampoo,Hangers,Hair dryer,Iron                                                                                                                                                                                                                                            \n",
       "12351 TV,Wireless Internet,Air conditioning,Kitchen,Elevator in building,Heating,Family/kid friendly,Washer,Essentials,Hangers,Iron,Laptop friendly workspace                                                                                                                                                                                                                                         \n",
       "12358 TV,Internet,Wireless Internet,Wheelchair accessible,Kitchen,Doorman,Elevator in building,Buzzer/wireless intercom,Heating,Family/kid friendly,Washer,Essentials,Hangers,Iron,Laptop friendly workspace                                                                                                                                                                                          \n",
       "12724 Internet,Wireless Internet,Air conditioning,Kitchen,Doorman,Elevator in building,Buzzer/wireless intercom,Heating,Family/kid friendly,Washer,Dryer,Smoke detector,Carbon monoxide detector,Essentials,Shampoo,24-hour check-in,Hangers,Hair dryer,Iron,Laptop friendly workspace                                                                                                                \n",
       "12731 TV,Internet,Wireless Internet,Air conditioning,Kitchen,Indoor fireplace,Buzzer/wireless intercom,Heating,Washer,Essentials,Shampoo,24-hour check-in,Hangers,Hair dryer,Iron,Laptop friendly workspace                                                                                                                                                                                           \n",
       "12736 TV,Internet,Wireless Internet,Air conditioning,Kitchen,Smoking allowed,Elevator in building,Buzzer/wireless intercom,Heating,Family/kid friendly,Washer,Essentials,Shampoo,Hair dryer,Iron                                                                                                                                                                                                      \n",
       "12742 TV,Wireless Internet,Air conditioning,Kitchen,Elevator in building,Heating,Family/kid friendly,Washer,Essentials,Hangers,Hair dryer,Laptop friendly workspace,translation missing: en.hosting_amenity_50                                                                                                                                                                                        \n",
       "12747 TV,Cable TV,Internet,Wireless Internet,Air conditioning,Kitchen,Doorman,Elevator in building,Buzzer/wireless intercom,Heating,Family/kid friendly,Washer,24-hour check-in,Hangers,Hair dryer,Iron,Laptop friendly workspace                                                                                                                                                                     \n",
       "12754 TV,Wireless Internet,Kitchen,Elevator in building,Family/kid friendly,Washer,Smoke detector,First aid kit,Fire extinguisher,Shampoo,Hair dryer                                                                                                                                                                                                                                                  \n",
       "12793 TV,Internet,Wireless Internet,Air conditioning,Kitchen,Buzzer/wireless intercom,Heating,Family/kid friendly,Essentials,Shampoo,Hangers,Hair dryer,Iron,Laptop friendly workspace                                                                                                                                                                                                                \n",
       "12802 TV,Internet,Air conditioning,Kitchen,Elevator in building,Heating,Family/kid friendly,Washer,Essentials                                                                                                                                                                                                                                                                                         \n",
       "12909 TV,Cable TV,Internet,Wireless Internet,Air conditioning,Kitchen,Elevator in building,Buzzer/wireless intercom,Heating,Family/kid friendly,Washer,Dryer,Smoke detector,Carbon monoxide detector,Essentials,Shampoo,24-hour check-in,Hangers,Hair dryer,Iron,Laptop friendly workspace                                                                                                            \n",
       "12914 TV,Internet,Wireless Internet,Air conditioning,Kitchen,Smoking allowed,Breakfast,Elevator in building,Heating,Family/kid friendly,Washer,Essentials,Hangers,Hair dryer,Iron                                                                                                                                                                                                                     \n",
       "12921 TV,Cable TV,Internet,Wireless Internet,Air conditioning,Kitchen,Doorman,Elevator in building,Heating,Family/kid friendly,Smoke detector,First aid kit,Safety card,Fire extinguisher,Essentials,Shampoo,24-hour check-in,Hangers,Hair dryer,Iron,Laptop friendly workspace,translation missing: en.hosting_amenity_49                                                                            \n",
       "12926 TV,Internet,Wireless Internet,Air conditioning,Wheelchair accessible,Kitchen,Doorman,Elevator in building,Heating,Family/kid friendly,Suitable for events,Washer,Dryer,Smoke detector,First aid kit,Fire extinguisher,Shampoo                                                                                                                                                                   \n",
       "12935 TV,Internet,Wireless Internet,Air conditioning,Kitchen,Elevator in building,Heating,Washer,Essentials,Hangers,Hair dryer,Iron,Laptop friendly workspace                                                                                                                                                                                                                                         \n",
       "12940 Internet,Wireless Internet,Kitchen,Pets allowed,Doorman,Elevator in building,Buzzer/wireless intercom,Heating,Family/kid friendly,First aid kit,Essentials,Hangers,Hair dryer,Iron,Laptop friendly workspace                                                                                                                                                                                    \n",
       "12997 TV,Internet,Wireless Internet,Air conditioning,Kitchen,Doorman,Elevator in building,Buzzer/wireless intercom,Heating,Family/kid friendly,Essentials,Shampoo,Hangers,Hair dryer,Iron,Laptop friendly workspace                                                                                                                                                                                   \n",
       "13006 TV,Internet,Wireless Internet,Air conditioning,Kitchen,Elevator in building,Buzzer/wireless intercom,Heating,Family/kid friendly,Washer,Smoke detector,Carbon monoxide detector,Essentials,Shampoo,Hangers,Hair dryer,Iron,Laptop friendly workspace                                                                                                                                            \n",
       "13047 TV,Cable TV,Internet,Wireless Internet,Air conditioning,Kitchen,Smoking allowed,Doorman,Elevator in building,Buzzer/wireless intercom,Heating,Family/kid friendly,Washer,Dryer,Essentials,24-hour check-in,Hangers,Hair dryer,Iron,Laptop friendly workspace                                                                                                                                    \n",
       "13142 TV,Wireless Internet,Air conditioning,Kitchen,Doorman,Elevator in building,Buzzer/wireless intercom,Heating,Family/kid friendly,Washer,Essentials,Shampoo,Hangers,Hair dryer,Iron,Laptop friendly workspace                                                                                                                                                                                     \n",
       "      PiesCuadrados Precio Puntuacion MetrosCuadrados contador\n",
       "18    NA            160     95        NA              1       \n",
       "24    NA             50     91        NA              1       \n",
       "30    NA            163    100        NA              1       \n",
       "44    NA            109     90        NA              1       \n",
       "49    NA             71     93        NA              1       \n",
       "57    NA             84     96        NA              1       \n",
       "263   NA             85     98        NA              1       \n",
       "270   NA             80     93        NA              1       \n",
       "275   NA             90     NA        NA              1       \n",
       "286   NA            100     96        NA              1       \n",
       "291   NA            185     NA        NA              1       \n",
       "298   NA             75     88        NA              1       \n",
       "344   NA            140    100        NA              1       \n",
       "351   NA            119     85        NA              1       \n",
       "557   NA             50     NA        NA              1       \n",
       "573   NA            120     96        NA              1       \n",
       "578   NA            180     92        NA              1       \n",
       "583   NA            115    100        NA              1       \n",
       "679   NA             85     98        NA              1       \n",
       "686   NA             60     88        NA              1       \n",
       "691   NA             72     75        NA              1       \n",
       "700   NA             99     91        NA              1       \n",
       "705   NA             99     97        NA              1       \n",
       "725   NA             55     93        NA              1       \n",
       "732   NA            285     98        NA              1       \n",
       "737   NA            100    100        NA              1       \n",
       "745   NA            145    100        NA              1       \n",
       "765   NA             40     93        NA              1       \n",
       "774    0             60     NA         0              1       \n",
       "799   NA            115     85        NA              1       \n",
       "⋮     ⋮             ⋮      ⋮          ⋮               ⋮       \n",
       "11934   NA           90    100              NA        1       \n",
       "11940   NA          110     95              NA        1       \n",
       "11967   NA           82    100              NA        1       \n",
       "11975   NA           77     98              NA        1       \n",
       "11999   NA           75     91              NA        1       \n",
       "12004   NA           75     98              NA        1       \n",
       "12158   NA           95     90              NA        1       \n",
       "12165   NA           49     47              NA        1       \n",
       "12336   NA           85     75              NA        1       \n",
       "12344   NA          100     80              NA        1       \n",
       "12351   NA          125     98              NA        1       \n",
       "12358   NA           75     86              NA        1       \n",
       "12724   NA          150     99              NA        1       \n",
       "12731   NA          125     93              NA        1       \n",
       "12736   NA          115     NA              NA        1       \n",
       "12742   NA           89     67              NA        1       \n",
       "12747 1076          140     94        99.96363        1       \n",
       "12754   NA           65     80              NA        1       \n",
       "12793   NA           45     88              NA        1       \n",
       "12802   NA           45     80              NA        1       \n",
       "12909   NA           99     89              NA        1       \n",
       "12914   NA           95     97              NA        1       \n",
       "12921   NA           55     97              NA        1       \n",
       "12926   NA          250     88              NA        1       \n",
       "12935   NA           50     87              NA        1       \n",
       "12940   NA           69     80              NA        1       \n",
       "12997   NA           80     95              NA        1       \n",
       "13006   NA           75    100              NA        1       \n",
       "13047   NA          310     80              NA        1       \n",
       "13142   NA           72     90              NA        1       "
      ]
     },
     "metadata": {},
     "output_type": "display_data"
    }
   ],
   "source": [
    "airbnb_precios_barrios"
   ]
  },
  {
   "cell_type": "code",
   "execution_count": 59,
   "metadata": {},
   "outputs": [
    {
     "data": {
      "text/html": [
       "<table>\n",
       "<caption>A data.frame: 5 × 2</caption>\n",
       "<thead>\n",
       "\t<tr><th></th><th scope=col>Barrio</th><th scope=col>MetroCuadradoMedio</th></tr>\n",
       "\t<tr><th></th><th scope=col>&lt;chr&gt;</th><th scope=col>&lt;dbl&gt;</th></tr>\n",
       "</thead>\n",
       "<tbody>\n",
       "\t<tr><th scope=row>1</th><td>Goya     </td><td>     NaN</td></tr>\n",
       "\t<tr><th scope=row>2</th><td>Justicia </td><td>33.74701</td></tr>\n",
       "\t<tr><th scope=row>3</th><td>Recoletos</td><td>30.00767</td></tr>\n",
       "\t<tr><th scope=row>4</th><td>Sol      </td><td>57.00021</td></tr>\n",
       "\t<tr><th scope=row>5</th><td>Trafalgar</td><td>16.66060</td></tr>\n",
       "</tbody>\n",
       "</table>\n"
      ],
      "text/latex": [
       "A data.frame: 5 × 2\n",
       "\\begin{tabular}{r|ll}\n",
       "  & Barrio & MetroCuadradoMedio\\\\\n",
       "  & <chr> & <dbl>\\\\\n",
       "\\hline\n",
       "\t1 & Goya      &      NaN\\\\\n",
       "\t2 & Justicia  & 33.74701\\\\\n",
       "\t3 & Recoletos & 30.00767\\\\\n",
       "\t4 & Sol       & 57.00021\\\\\n",
       "\t5 & Trafalgar & 16.66060\\\\\n",
       "\\end{tabular}\n"
      ],
      "text/markdown": [
       "\n",
       "A data.frame: 5 × 2\n",
       "\n",
       "| <!--/--> | Barrio &lt;chr&gt; | MetroCuadradoMedio &lt;dbl&gt; |\n",
       "|---|---|---|\n",
       "| 1 | Goya      |      NaN |\n",
       "| 2 | Justicia  | 33.74701 |\n",
       "| 3 | Recoletos | 30.00767 |\n",
       "| 4 | Sol       | 57.00021 |\n",
       "| 5 | Trafalgar | 16.66060 |\n",
       "\n"
      ],
      "text/plain": [
       "  Barrio    MetroCuadradoMedio\n",
       "1 Goya           NaN          \n",
       "2 Justicia  33.74701          \n",
       "3 Recoletos 30.00767          \n",
       "4 Sol       57.00021          \n",
       "5 Trafalgar 16.66060          "
      ]
     },
     "metadata": {},
     "output_type": "display_data"
    }
   ],
   "source": [
    "barriosMetrosCuadradosMedioDf <- aggregate(airbnb_precios_barrios$MetrosCuadrados,\n",
    "                by = list(airbnb_precios_barrios$Barrio),\n",
    "                FUN = function(x) mean(x, na.rm = TRUE))\n",
    "colnames(barriosMetrosCuadradosMedioDf)<-c(\"Barrio\",\"MetroCuadradoMedio\")\n",
    "barriosMetrosCuadradosMedioDf<-barriosMetrosCuadradosMedioDf[order(barriosMetrosCuadradosMedioDf$Barrio, decreasing = F),]     \n",
    "barriosMetrosCuadradosMedioDf                                           "
   ]
  },
  {
   "cell_type": "code",
   "execution_count": 60,
   "metadata": {},
   "outputs": [
    {
     "data": {
      "text/html": [
       "<table>\n",
       "<caption>A data.frame: 5 × 3</caption>\n",
       "<thead>\n",
       "\t<tr><th></th><th scope=col>Barrio</th><th scope=col>Freq</th><th scope=col>PrecioMedio</th></tr>\n",
       "\t<tr><th></th><th scope=col>&lt;chr&gt;</th><th scope=col>&lt;dbl&gt;</th><th scope=col>&lt;dbl&gt;</th></tr>\n",
       "</thead>\n",
       "<tbody>\n",
       "\t<tr><th scope=row>52</th><td>Goya     </td><td>142</td><td>111.33803</td></tr>\n",
       "\t<tr><th scope=row>59</th><td>Justicia </td><td>534</td><td> 98.25468</td></tr>\n",
       "\t<tr><th scope=row>93</th><td>Recoletos</td><td>135</td><td>161.92537</td></tr>\n",
       "\t<tr><th scope=row>106</th><td>Sol      </td><td>701</td><td>100.75036</td></tr>\n",
       "\t<tr><th scope=row>108</th><td>Trafalgar</td><td>223</td><td> 98.57848</td></tr>\n",
       "</tbody>\n",
       "</table>\n"
      ],
      "text/latex": [
       "A data.frame: 5 × 3\n",
       "\\begin{tabular}{r|lll}\n",
       "  & Barrio & Freq & PrecioMedio\\\\\n",
       "  & <chr> & <dbl> & <dbl>\\\\\n",
       "\\hline\n",
       "\t52 & Goya      & 142 & 111.33803\\\\\n",
       "\t59 & Justicia  & 534 &  98.25468\\\\\n",
       "\t93 & Recoletos & 135 & 161.92537\\\\\n",
       "\t106 & Sol       & 701 & 100.75036\\\\\n",
       "\t108 & Trafalgar & 223 &  98.57848\\\\\n",
       "\\end{tabular}\n"
      ],
      "text/markdown": [
       "\n",
       "A data.frame: 5 × 3\n",
       "\n",
       "| <!--/--> | Barrio &lt;chr&gt; | Freq &lt;dbl&gt; | PrecioMedio &lt;dbl&gt; |\n",
       "|---|---|---|---|\n",
       "| 52 | Goya      | 142 | 111.33803 |\n",
       "| 59 | Justicia  | 534 |  98.25468 |\n",
       "| 93 | Recoletos | 135 | 161.92537 |\n",
       "| 106 | Sol       | 701 | 100.75036 |\n",
       "| 108 | Trafalgar | 223 |  98.57848 |\n",
       "\n"
      ],
      "text/plain": [
       "    Barrio    Freq PrecioMedio\n",
       "52  Goya      142  111.33803  \n",
       "59  Justicia  534   98.25468  \n",
       "93  Recoletos 135  161.92537  \n",
       "106 Sol       701  100.75036  \n",
       "108 Trafalgar 223   98.57848  "
      ]
     },
     "metadata": {},
     "output_type": "display_data"
    }
   ],
   "source": [
    "barrios5<-barriosFreqPmMayor100[1:5,]\n",
    "barrios5<-barrios5[order(barrios5$Barrio, decreasing = F),]\n",
    "barrios5"
   ]
  },
  {
   "cell_type": "code",
   "execution_count": 61,
   "metadata": {},
   "outputs": [
    {
     "data": {
      "text/html": [
       "<table>\n",
       "<caption>A data.frame: 5 × 4</caption>\n",
       "<thead>\n",
       "\t<tr><th></th><th scope=col>Barrio</th><th scope=col>Freq</th><th scope=col>PrecioMedio</th><th scope=col>MetrosCuadradosMedio</th></tr>\n",
       "\t<tr><th></th><th scope=col>&lt;chr&gt;</th><th scope=col>&lt;dbl&gt;</th><th scope=col>&lt;dbl&gt;</th><th scope=col>&lt;dbl&gt;</th></tr>\n",
       "</thead>\n",
       "<tbody>\n",
       "\t<tr><th scope=row>52</th><td>Goya     </td><td>142</td><td>111.33803</td><td>     NaN</td></tr>\n",
       "\t<tr><th scope=row>59</th><td>Justicia </td><td>534</td><td> 98.25468</td><td>33.74701</td></tr>\n",
       "\t<tr><th scope=row>93</th><td>Recoletos</td><td>135</td><td>161.92537</td><td>30.00767</td></tr>\n",
       "\t<tr><th scope=row>106</th><td>Sol      </td><td>701</td><td>100.75036</td><td>57.00021</td></tr>\n",
       "\t<tr><th scope=row>108</th><td>Trafalgar</td><td>223</td><td> 98.57848</td><td>16.66060</td></tr>\n",
       "</tbody>\n",
       "</table>\n"
      ],
      "text/latex": [
       "A data.frame: 5 × 4\n",
       "\\begin{tabular}{r|llll}\n",
       "  & Barrio & Freq & PrecioMedio & MetrosCuadradosMedio\\\\\n",
       "  & <chr> & <dbl> & <dbl> & <dbl>\\\\\n",
       "\\hline\n",
       "\t52 & Goya      & 142 & 111.33803 &      NaN\\\\\n",
       "\t59 & Justicia  & 534 &  98.25468 & 33.74701\\\\\n",
       "\t93 & Recoletos & 135 & 161.92537 & 30.00767\\\\\n",
       "\t106 & Sol       & 701 & 100.75036 & 57.00021\\\\\n",
       "\t108 & Trafalgar & 223 &  98.57848 & 16.66060\\\\\n",
       "\\end{tabular}\n"
      ],
      "text/markdown": [
       "\n",
       "A data.frame: 5 × 4\n",
       "\n",
       "| <!--/--> | Barrio &lt;chr&gt; | Freq &lt;dbl&gt; | PrecioMedio &lt;dbl&gt; | MetrosCuadradosMedio &lt;dbl&gt; |\n",
       "|---|---|---|---|---|\n",
       "| 52 | Goya      | 142 | 111.33803 |      NaN |\n",
       "| 59 | Justicia  | 534 |  98.25468 | 33.74701 |\n",
       "| 93 | Recoletos | 135 | 161.92537 | 30.00767 |\n",
       "| 106 | Sol       | 701 | 100.75036 | 57.00021 |\n",
       "| 108 | Trafalgar | 223 |  98.57848 | 16.66060 |\n",
       "\n"
      ],
      "text/plain": [
       "    Barrio    Freq PrecioMedio MetrosCuadradosMedio\n",
       "52  Goya      142  111.33803        NaN            \n",
       "59  Justicia  534   98.25468   33.74701            \n",
       "93  Recoletos 135  161.92537   30.00767            \n",
       "106 Sol       701  100.75036   57.00021            \n",
       "108 Trafalgar 223   98.57848   16.66060            "
      ]
     },
     "metadata": {},
     "output_type": "display_data"
    }
   ],
   "source": [
    "barrios5<-cbind(barrios5,barriosMetrosCuadradosMedioDf$MetroCuadradoMedio)\n",
    "colnames(barrios5)<-c(\"Barrio\",\"Freq\",\"PrecioMedio\",\"MetrosCuadradosMedio\")\n",
    "barrios5"
   ]
  },
  {
   "cell_type": "markdown",
   "metadata": {},
   "source": [
    "Dibuja el diagrama de densidad de distribución de los diferentes tamaños de apartamentos"
   ]
  },
  {
   "cell_type": "code",
   "execution_count": 62,
   "metadata": {},
   "outputs": [
    {
     "name": "stderr",
     "output_type": "stream",
     "text": [
      "Warning message:\n",
      "“Removed 332 rows containing non-finite values (stat_density).”\n",
      "Warning message:\n",
      "“Groups with fewer than two data points have been dropped.”\n"
     ]
    },
    {
     "data": {
      "image/png": "[encoded data removed]",
      "text/plain": [
       "plot without title"
      ]
     },
     "metadata": {
      "image/png": {
       "height": 480,
       "width": 720
      },
      "text/plain": {
       "height": 480,
       "width": 720
      }
     },
     "output_type": "display_data"
    }
   ],
   "source": [
    "ggplot(data=airbnb_precios_barrios, aes(x=MetrosCuadrados,color=Barrio))+geom_density()"
   ]
  },
  {
   "cell_type": "code",
   "execution_count": 63,
   "metadata": {},
   "outputs": [
    {
     "data": {
      "text/html": [
       "<style>\n",
       ".list-inline {list-style: none; margin:0; padding: 0}\n",
       ".list-inline>li {display: inline-block}\n",
       ".list-inline>li:not(:last-child)::after {content: \"\\00b7\"; padding: 0 .5ex}\n",
       "</style>\n",
       "<ol class=list-inline><li>'Goya'</li><li>'Justicia'</li><li>'Recoletos'</li><li>'Sol'</li><li>'Trafalgar'</li></ol>\n"
      ],
      "text/latex": [
       "\\begin{enumerate*}\n",
       "\\item 'Goya'\n",
       "\\item 'Justicia'\n",
       "\\item 'Recoletos'\n",
       "\\item 'Sol'\n",
       "\\item 'Trafalgar'\n",
       "\\end{enumerate*}\n"
      ],
      "text/markdown": [
       "1. 'Goya'\n",
       "2. 'Justicia'\n",
       "3. 'Recoletos'\n",
       "4. 'Sol'\n",
       "5. 'Trafalgar'\n",
       "\n",
       "\n"
      ],
      "text/plain": [
       "[1] \"Goya\"      \"Justicia\"  \"Recoletos\" \"Sol\"       \"Trafalgar\""
      ]
     },
     "metadata": {},
     "output_type": "display_data"
    }
   ],
   "source": [
    "barrios5$Barrio"
   ]
  },
  {
   "cell_type": "markdown",
   "metadata": {},
   "source": [
    "Esta claro que las medias de cada uno de estos 5 barrios parecen ser diferentes, pero ¿son estadísticamente diferentes?\n",
    "¿Que test habría que usar para comprobarlo?"
   ]
  },
  {
   "cell_type": "code",
   "execution_count": 64,
   "metadata": {},
   "outputs": [
    {
     "data": {
      "text/html": [
       "'Al igual que antes aplicamos primero el test de shapiro'"
      ],
      "text/latex": [
       "'Al igual que antes aplicamos primero el test de shapiro'"
      ],
      "text/markdown": [
       "'Al igual que antes aplicamos primero el test de shapiro'"
      ],
      "text/plain": [
       "[1] \"Al igual que antes aplicamos primero el test de shapiro\""
      ]
     },
     "metadata": {},
     "output_type": "display_data"
    },
    {
     "name": "stdout",
     "output_type": "stream",
     "text": [
      "[1] \"El barrio Goya\"\n",
      "[1] \"Su pvalor es  2.37965922091091e-16\"\n",
      "[1] \"El barrio Justicia\"\n",
      "[1] \"Su pvalor es  4.85026735836008e-36\"\n",
      "[1] \"El barrio Recoletos\"\n",
      "[1] \"Su pvalor es  3.36326311861036e-15\"\n",
      "[1] \"El barrio Sol\"\n",
      "[1] \"Su pvalor es  7.62118228323687e-31\"\n",
      "[1] \"El barrio Trafalgar\"\n",
      "[1] \"Su pvalor es  1.20343754501432e-20\"\n"
     ]
    },
    {
     "data": {
      "text/html": [
       "'Como el pvalue sale muy bajo aplicamos el test de Kruskal'"
      ],
      "text/latex": [
       "'Como el pvalue sale muy bajo aplicamos el test de Kruskal'"
      ],
      "text/markdown": [
       "'Como el pvalue sale muy bajo aplicamos el test de Kruskal'"
      ],
      "text/plain": [
       "[1] \"Como el pvalue sale muy bajo aplicamos el test de Kruskal\""
      ]
     },
     "metadata": {},
     "output_type": "display_data"
    },
    {
     "data": {
      "text/plain": [
       "\n",
       "\tKruskal-Wallis rank sum test\n",
       "\n",
       "data:  MetrosCuadrados by Barrio\n",
       "Kruskal-Wallis chi-squared = 3.3062, df = 3, p-value = 0.3468\n"
      ]
     },
     "metadata": {},
     "output_type": "display_data"
    },
    {
     "data": {
      "text/html": [
       "'Entonces decimos que las medidas son estadisticamente diferentes porque el p-valor es muy bajo'"
      ],
      "text/latex": [
       "'Entonces decimos que las medidas son estadisticamente diferentes porque el p-valor es muy bajo'"
      ],
      "text/markdown": [
       "'Entonces decimos que las medidas son estadisticamente diferentes porque el p-valor es muy bajo'"
      ],
      "text/plain": [
       "[1] \"Entonces decimos que las medidas son estadisticamente diferentes porque el p-valor es muy bajo\""
      ]
     },
     "metadata": {},
     "output_type": "display_data"
    }
   ],
   "source": [
    "paste(\"Al igual que antes aplicamos primero el test de shapiro\")\n",
    "for (barrio in barrios5$Barrio){\n",
    "    \n",
    "    dfBarrio<-subset(airbnb,Barrio==barrio)\n",
    "    \n",
    "    if (nrow(dfBarrio)>5000){\n",
    "        dfBarrio<-dfBarrio[1:5000,]\n",
    "    }\n",
    "    tShapiro<-shapiro.test(dfBarrio$Precio)\n",
    "    print(paste(\"El barrio\",barrio))\n",
    "    print(paste(\"Su pvalor es \",tShapiro$p.value))\n",
    "}\n",
    "paste(\"Como el pvalue sale muy bajo aplicamos el test de Kruskal\")\n",
    "kruskal.test(MetrosCuadrados~Barrio,airbnb_precios_barrios)\n",
    "\n",
    "paste(\"Entonces decimos que las medidas son estadisticamente diferentes porque el p-valor es muy bajo\")"
   ]
  },
  {
   "cell_type": "markdown",
   "metadata": {},
   "source": [
    "Para únicamente los pisos de alquiler en el barrio de Sol:\n",
    "\n",
    "``barrio_sol<-subset(airbnb_entire,Barrio==\"Sol\")``\n",
    "\n",
    "Calcular un modelo lineal que combine alguna de estas variables:\n",
    "* NumBanyos\n",
    "* NumDormitorios\n",
    "* MaxOcupantes\n",
    "* MetrosCuadrados"
   ]
  },
  {
   "cell_type": "code",
   "execution_count": 65,
   "metadata": {},
   "outputs": [],
   "source": [
    "barrio_sol<-subset(airbnb_entire,Barrio==\"Sol\")"
   ]
  },
  {
   "cell_type": "code",
   "execution_count": 66,
   "metadata": {},
   "outputs": [
    {
     "data": {
      "text/html": [
       "<table>\n",
       "<caption>A matrix: 6 × 4 of type dbl</caption>\n",
       "<thead>\n",
       "\t<tr><th scope=col>NumBanyos</th><th scope=col>NumDormitorios</th><th scope=col>MaxOcupantes</th><th scope=col>MetrosCuadrados</th></tr>\n",
       "</thead>\n",
       "<tbody>\n",
       "\t<tr><td>1</td><td>1</td><td>4</td><td>60.01534</td></tr>\n",
       "\t<tr><td>1</td><td>2</td><td>6</td><td>      NA</td></tr>\n",
       "\t<tr><td>1</td><td>1</td><td>4</td><td>      NA</td></tr>\n",
       "\t<tr><td>1</td><td>2</td><td>6</td><td>      NA</td></tr>\n",
       "\t<tr><td>1</td><td>1</td><td>4</td><td>      NA</td></tr>\n",
       "\t<tr><td>1</td><td>1</td><td>4</td><td>      NA</td></tr>\n",
       "</tbody>\n",
       "</table>\n"
      ],
      "text/latex": [
       "A matrix: 6 × 4 of type dbl\n",
       "\\begin{tabular}{llll}\n",
       " NumBanyos & NumDormitorios & MaxOcupantes & MetrosCuadrados\\\\\n",
       "\\hline\n",
       "\t 1 & 1 & 4 & 60.01534\\\\\n",
       "\t 1 & 2 & 6 &       NA\\\\\n",
       "\t 1 & 1 & 4 &       NA\\\\\n",
       "\t 1 & 2 & 6 &       NA\\\\\n",
       "\t 1 & 1 & 4 &       NA\\\\\n",
       "\t 1 & 1 & 4 &       NA\\\\\n",
       "\\end{tabular}\n"
      ],
      "text/markdown": [
       "\n",
       "A matrix: 6 × 4 of type dbl\n",
       "\n",
       "| NumBanyos | NumDormitorios | MaxOcupantes | MetrosCuadrados |\n",
       "|---|---|---|---|\n",
       "| 1 | 1 | 4 | 60.01534 |\n",
       "| 1 | 2 | 6 |       NA |\n",
       "| 1 | 1 | 4 |       NA |\n",
       "| 1 | 2 | 6 |       NA |\n",
       "| 1 | 1 | 4 |       NA |\n",
       "| 1 | 1 | 4 |       NA |\n",
       "\n"
      ],
      "text/plain": [
       "     NumBanyos NumDormitorios MaxOcupantes MetrosCuadrados\n",
       "[1,] 1         1              4            60.01534       \n",
       "[2,] 1         2              6                  NA       \n",
       "[3,] 1         1              4                  NA       \n",
       "[4,] 1         2              6                  NA       \n",
       "[5,] 1         1              4                  NA       \n",
       "[6,] 1         1              4                  NA       "
      ]
     },
     "metadata": {},
     "output_type": "display_data"
    }
   ],
   "source": [
    "barrio_cor_sol_cor<-cbind(barrio_sol$NumBanyos,barrio_sol$NumDormitorios,barrio_sol$MaxOcupantes,barrio_sol$MetrosCuadrados)\n",
    "colnames(barrio_cor_sol_cor)<-c(\"NumBanyos\",\"NumDormitorios\",\"MaxOcupantes\",\"MetrosCuadrados\")\n",
    "head(barrio_cor_sol_cor)"
   ]
  },
  {
   "cell_type": "markdown",
   "metadata": {},
   "source": [
    "Primero calculamos la correlación para ver como se relacionan estas variables entre sí."
   ]
  },
  {
   "cell_type": "code",
   "execution_count": 67,
   "metadata": {},
   "outputs": [
    {
     "data": {
      "text/html": [
       "<table>\n",
       "<caption>A matrix: 4 × 4 of type dbl</caption>\n",
       "<thead>\n",
       "\t<tr><th></th><th scope=col>NumBanyos</th><th scope=col>NumDormitorios</th><th scope=col>MaxOcupantes</th><th scope=col>MetrosCuadrados</th></tr>\n",
       "</thead>\n",
       "<tbody>\n",
       "\t<tr><th scope=row>NumBanyos</th><td>1.0000000</td><td>0.6873719</td><td>0.7017290</td><td>0.4820549</td></tr>\n",
       "\t<tr><th scope=row>NumDormitorios</th><td>0.6873719</td><td>1.0000000</td><td>0.7853809</td><td>0.5684521</td></tr>\n",
       "\t<tr><th scope=row>MaxOcupantes</th><td>0.7017290</td><td>0.7853809</td><td>1.0000000</td><td>0.4286233</td></tr>\n",
       "\t<tr><th scope=row>MetrosCuadrados</th><td>0.4820549</td><td>0.5684521</td><td>0.4286233</td><td>1.0000000</td></tr>\n",
       "</tbody>\n",
       "</table>\n"
      ],
      "text/latex": [
       "A matrix: 4 × 4 of type dbl\n",
       "\\begin{tabular}{r|llll}\n",
       "  & NumBanyos & NumDormitorios & MaxOcupantes & MetrosCuadrados\\\\\n",
       "\\hline\n",
       "\tNumBanyos & 1.0000000 & 0.6873719 & 0.7017290 & 0.4820549\\\\\n",
       "\tNumDormitorios & 0.6873719 & 1.0000000 & 0.7853809 & 0.5684521\\\\\n",
       "\tMaxOcupantes & 0.7017290 & 0.7853809 & 1.0000000 & 0.4286233\\\\\n",
       "\tMetrosCuadrados & 0.4820549 & 0.5684521 & 0.4286233 & 1.0000000\\\\\n",
       "\\end{tabular}\n"
      ],
      "text/markdown": [
       "\n",
       "A matrix: 4 × 4 of type dbl\n",
       "\n",
       "| <!--/--> | NumBanyos | NumDormitorios | MaxOcupantes | MetrosCuadrados |\n",
       "|---|---|---|---|---|\n",
       "| NumBanyos | 1.0000000 | 0.6873719 | 0.7017290 | 0.4820549 |\n",
       "| NumDormitorios | 0.6873719 | 1.0000000 | 0.7853809 | 0.5684521 |\n",
       "| MaxOcupantes | 0.7017290 | 0.7853809 | 1.0000000 | 0.4286233 |\n",
       "| MetrosCuadrados | 0.4820549 | 0.5684521 | 0.4286233 | 1.0000000 |\n",
       "\n"
      ],
      "text/plain": [
       "                NumBanyos NumDormitorios MaxOcupantes MetrosCuadrados\n",
       "NumBanyos       1.0000000 0.6873719      0.7017290    0.4820549      \n",
       "NumDormitorios  0.6873719 1.0000000      0.7853809    0.5684521      \n",
       "MaxOcupantes    0.7017290 0.7853809      1.0000000    0.4286233      \n",
       "MetrosCuadrados 0.4820549 0.5684521      0.4286233    1.0000000      "
      ]
     },
     "metadata": {},
     "output_type": "display_data"
    }
   ],
   "source": [
    "cor(barrio_cor_sol_cor,use=\"complete.obs\")"
   ]
  },
  {
   "cell_type": "markdown",
   "metadata": {},
   "source": [
    "Se observa que la correlación entre el número de dormitorios y los metros cuadrados es sorprendentemente baja.\n",
    "¿Son de fiar esos números?\n",
    "\n",
    "Mediante un histograma o curvas de densidad podemos descartar números que notienen sentido en el dataframe barrio_sol,\n",
    "para tener una matriz de correlación que tenga mayor sentido.\n"
   ]
  },
  {
   "cell_type": "code",
   "execution_count": 68,
   "metadata": {},
   "outputs": [
    {
     "name": "stderr",
     "output_type": "stream",
     "text": [
      "Warning message:\n",
      "“Removed 641 rows containing non-finite values (stat_density).”\n"
     ]
    },
    {
     "data": {
      "image/png": "[encoded data removed]",
      "text/plain": [
       "plot without title"
      ]
     },
     "metadata": {
      "image/png": {
       "height": 480,
       "width": 720
      },
      "text/plain": {
       "height": 480,
       "width": 720
      }
     },
     "output_type": "display_data"
    }
   ],
   "source": [
    "ggplot(data=barrio_sol, aes(x=MetrosCuadrados,color=Barrio))+geom_density(bw=10)"
   ]
  },
  {
   "cell_type": "code",
   "execution_count": 69,
   "metadata": {},
   "outputs": [
    {
     "name": "stderr",
     "output_type": "stream",
     "text": [
      "Warning message:\n",
      "“Removed 641 rows containing non-finite values (stat_bin).”\n"
     ]
    },
    {
     "data": {
      "image/png": "[encoded data removed]",
      "text/plain": [
       "plot without title"
      ]
     },
     "metadata": {
      "image/png": {
       "height": 480,
       "width": 720
      },
      "text/plain": {
       "height": 480,
       "width": 720
      }
     },
     "output_type": "display_data"
    }
   ],
   "source": [
    "ggplot(data=barrio_sol, aes(x=MetrosCuadrados,color=Barrio))+geom_histogram(bins=10,color=\"red\",fill=\"blue\")"
   ]
  },
  {
   "cell_type": "code",
   "execution_count": 70,
   "metadata": {},
   "outputs": [
    {
     "data": {
      "image/png": "[encoded data removed]",
      "text/plain": [
       "plot without title"
      ]
     },
     "metadata": {
      "image/png": {
       "height": 480,
       "width": 720
      },
      "text/plain": {
       "height": 480,
       "width": 720
      }
     },
     "output_type": "display_data"
    }
   ],
   "source": [
    "ggplot(data=barrio_sol, aes(x=NumDormitorios,color=Barrio))+geom_histogram(bins=10,color=\"red\",fill=\"blue\")"
   ]
  },
  {
   "cell_type": "markdown",
   "metadata": {},
   "source": [
    "Una vez que hayamos filtrado los datos correspondientes calcular el valor o la combinación de valores que mejor nos permite obtener el precio de un inmueble."
   ]
  },
  {
   "cell_type": "code",
   "execution_count": 71,
   "metadata": {},
   "outputs": [],
   "source": [
    "barrio_sol_filtro <- barrio_sol[!is.na(barrio_sol$MetrosCuadrados),]\n",
    "barrio_sol_filtro <- barrio_sol_filtro[barrio_sol_filtro$MetrosCuadrados>10,]\n"
   ]
  },
  {
   "cell_type": "code",
   "execution_count": 72,
   "metadata": {},
   "outputs": [
    {
     "data": {
      "image/png": "[encoded data removed]",
      "text/plain": [
       "plot without title"
      ]
     },
     "metadata": {
      "image/png": {
       "height": 480,
       "width": 720
      },
      "text/plain": {
       "height": 480,
       "width": 720
      }
     },
     "output_type": "display_data"
    }
   ],
   "source": [
    "ggplot(data=barrio_sol_filtro, aes(x=MetrosCuadrados,color=Barrio))+geom_histogram(bins=15,color=\"red\",fill=\"blue\")"
   ]
  },
  {
   "cell_type": "code",
   "execution_count": 73,
   "metadata": {},
   "outputs": [
    {
     "data": {
      "text/html": [
       "<table>\n",
       "<caption>A data.frame: 31 × 15</caption>\n",
       "<thead>\n",
       "\t<tr><th></th><th scope=col>CodigoPostal</th><th scope=col>Barrio</th><th scope=col>TipoPropiedad</th><th scope=col>TipoAlquiler</th><th scope=col>MaxOcupantes</th><th scope=col>NumBanyos</th><th scope=col>NumDormitorios</th><th scope=col>NumCamas</th><th scope=col>TipoCama</th><th scope=col>Comodidades</th><th scope=col>PiesCuadrados</th><th scope=col>Precio</th><th scope=col>Puntuacion</th><th scope=col>MetrosCuadrados</th><th scope=col>contador</th></tr>\n",
       "\t<tr><th></th><th scope=col>&lt;chr&gt;</th><th scope=col>&lt;chr&gt;</th><th scope=col>&lt;fct&gt;</th><th scope=col>&lt;fct&gt;</th><th scope=col>&lt;int&gt;</th><th scope=col>&lt;dbl&gt;</th><th scope=col>&lt;int&gt;</th><th scope=col>&lt;int&gt;</th><th scope=col>&lt;fct&gt;</th><th scope=col>&lt;fct&gt;</th><th scope=col>&lt;int&gt;</th><th scope=col>&lt;int&gt;</th><th scope=col>&lt;int&gt;</th><th scope=col>&lt;dbl&gt;</th><th scope=col>&lt;dbl&gt;</th></tr>\n",
       "</thead>\n",
       "<tbody>\n",
       "\t<tr><th scope=row>15</th><td>28013</td><td>Sol</td><td>Apartment</td><td>Entire home/apt</td><td> 4</td><td>1</td><td>1</td><td>1</td><td>Real Bed</td><td>TV,Wireless Internet,Air conditioning,Kitchen,Doorman,Elevator in building,Buzzer/wireless intercom,Heating,Family/kid friendly,Suitable for events,Washer,Essentials,Hangers,Hair dryer,Iron                                                                                                                                                </td><td> 646</td><td> 75</td><td> 91</td><td> 60.01534</td><td>1</td></tr>\n",
       "\t<tr><th scope=row>25</th><td>28012</td><td>Sol</td><td>Apartment</td><td>Entire home/apt</td><td> 4</td><td>1</td><td>1</td><td>1</td><td>Real Bed</td><td>TV,Cable TV,Internet,Wireless Internet,Air conditioning,Kitchen,Elevator in building,Buzzer/wireless intercom,Heating,Family/kid friendly,Washer,Essentials,Hair dryer,Iron                                                                                                                                                                  </td><td> 753</td><td>100</td><td> 87</td><td> 69.95596</td><td>1</td></tr>\n",
       "\t<tr><th scope=row>46</th><td>28013</td><td>Sol</td><td>Apartment</td><td>Entire home/apt</td><td> 2</td><td>1</td><td>1</td><td>1</td><td>Real Bed</td><td>TV,Internet,Wireless Internet,Air conditioning,Kitchen,Elevator in building,Buzzer/wireless intercom,Heating,Family/kid friendly,Washer,First aid kit,Essentials,Shampoo,Hair dryer,Iron                                                                                                                                                     </td><td> 269</td><td> 65</td><td> 93</td><td> 24.99091</td><td>1</td></tr>\n",
       "\t<tr><th scope=row>574</th><td>28014</td><td>Sol</td><td>Apartment</td><td>Entire home/apt</td><td> 8</td><td>2</td><td>4</td><td>5</td><td>Real Bed</td><td>TV,Internet,Wireless Internet,Air conditioning,Wheelchair accessible,Kitchen,Smoking allowed,Elevator in building,Buzzer/wireless intercom,Heating,Family/kid friendly,Washer,Fire extinguisher,Shampoo,Hangers,Iron,Laptop friendly workspace                                                                                               </td><td>2153</td><td>250</td><td> 99</td><td>200.02016</td><td>1</td></tr>\n",
       "\t<tr><th scope=row>684</th><td>28012</td><td>Sol</td><td>Apartment</td><td>Entire home/apt</td><td> 4</td><td>1</td><td>1</td><td>2</td><td>Real Bed</td><td>TV,Internet,Wireless Internet,Air conditioning,Kitchen,Pets allowed,Elevator in building,Heating,Family/kid friendly,Washer,Essentials,Shampoo                                                                                                                                                                                               </td><td> 538</td><td>108</td><td> 95</td><td> 49.98181</td><td>1</td></tr>\n",
       "\t<tr><th scope=row>690</th><td>28012</td><td>Sol</td><td>Apartment</td><td>Entire home/apt</td><td>10</td><td>2</td><td>2</td><td>6</td><td>Real Bed</td><td>TV,Wireless Internet,Air conditioning,Kitchen,Doorman,Elevator in building,Buzzer/wireless intercom,Heating,Family/kid friendly,Washer,Essentials                                                                                                                                                                                            </td><td>1453</td><td> 98</td><td> 94</td><td>134.98806</td><td>1</td></tr>\n",
       "\t<tr><th scope=row>1414</th><td>28013</td><td>Sol</td><td>Apartment</td><td>Entire home/apt</td><td> 4</td><td>1</td><td>1</td><td>2</td><td>Real Bed</td><td>TV,Internet,Wireless Internet,Air conditioning,Kitchen,Smoking allowed,Pets allowed,Pets live on this property,Cat(s),Buzzer/wireless intercom,Heating,Family/kid friendly,Washer,Essentials,Shampoo                                                                                                                                         </td><td> 915</td><td> 70</td><td>100</td><td> 85.00624</td><td>1</td></tr>\n",
       "\t<tr><th scope=row>1424</th><td>28012</td><td>Sol</td><td>Loft     </td><td>Entire home/apt</td><td> 2</td><td>1</td><td>1</td><td>1</td><td>Real Bed</td><td>TV,Internet,Wireless Internet,Air conditioning,Kitchen,Elevator in building,Buzzer/wireless intercom,Heating,Family/kid friendly,Washer,Essentials,Shampoo,24-hour check-in,Hangers,Hair dryer,Iron,Laptop friendly workspace                                                                                                                </td><td> 431</td><td> 77</td><td> 80</td><td> 40.04119</td><td>1</td></tr>\n",
       "\t<tr><th scope=row>2422</th><td>28012</td><td>Sol</td><td>Apartment</td><td>Entire home/apt</td><td> 8</td><td>1</td><td>2</td><td>6</td><td>Real Bed</td><td>TV,Wireless Internet,Air conditioning,Kitchen,Buzzer/wireless intercom,Heating,Family/kid friendly,Washer,Fire extinguisher,Essentials                                                                                                                                                                                                       </td><td> 883</td><td>145</td><td> 97</td><td> 82.03335</td><td>1</td></tr>\n",
       "\t<tr><th scope=row>2440</th><td>28013</td><td>Sol</td><td>Apartment</td><td>Entire home/apt</td><td> 2</td><td>1</td><td>1</td><td>1</td><td>Real Bed</td><td>TV,Internet,Wireless Internet,Air conditioning,Kitchen,Heating,Washer,Essentials,Shampoo,24-hour check-in,Hangers,Hair dryer,Iron,Laptop friendly workspace                                                                                                                                                                                  </td><td> 205</td><td> 57</td><td> 94</td><td> 19.04511</td><td>1</td></tr>\n",
       "\t<tr><th scope=row>3804</th><td>28005</td><td>Sol</td><td>Apartment</td><td>Entire home/apt</td><td> 4</td><td>1</td><td>1</td><td>2</td><td>Futon   </td><td>TV,Cable TV,Internet,Wireless Internet,Air conditioning,Kitchen,Smoking allowed,Pets allowed,Heating,Family/kid friendly,Washer,Dryer,Essentials,Shampoo,Hangers,Hair dryer,Iron,translation missing: en.hosting_amenity_50                                                                                                                  </td><td> 700</td><td> 95</td><td> 90</td><td> 65.03210</td><td>1</td></tr>\n",
       "\t<tr><th scope=row>4402</th><td>28013</td><td>Sol</td><td>Apartment</td><td>Entire home/apt</td><td> 4</td><td>1</td><td>1</td><td>1</td><td>Real Bed</td><td>TV,Wireless Internet,Air conditioning,Doorman,Elevator in building,Buzzer/wireless intercom,Heating,Family/kid friendly,Suitable for events,Washer,Hangers,Hair dryer,Iron                                                                                                                                                                   </td><td> 646</td><td> 75</td><td> 92</td><td> 60.01534</td><td>1</td></tr>\n",
       "\t<tr><th scope=row>4410</th><td>28004</td><td>Sol</td><td>Apartment</td><td>Entire home/apt</td><td> 3</td><td>1</td><td>1</td><td>1</td><td>Real Bed</td><td>Cable TV,Wireless Internet,Air conditioning,Kitchen,Elevator in building,Buzzer/wireless intercom,Heating,Family/kid friendly,Washer                                                                                                                                                                                                         </td><td> 484</td><td>100</td><td> 96</td><td> 44.96505</td><td>1</td></tr>\n",
       "\t<tr><th scope=row>5397</th><td>28013</td><td>Sol</td><td>Apartment</td><td>Entire home/apt</td><td> 2</td><td>1</td><td>1</td><td>1</td><td>Real Bed</td><td>TV,Wireless Internet,Air conditioning,Kitchen,Doorman,Elevator in building,Buzzer/wireless intercom,Heating,Family/kid friendly,Suitable for events,Washer,Hangers,Hair dryer,Iron                                                                                                                                                           </td><td> 431</td><td> 65</td><td> 90</td><td> 40.04119</td><td>1</td></tr>\n",
       "\t<tr><th scope=row>5417</th><td>NA   </td><td>Sol</td><td>Apartment</td><td>Entire home/apt</td><td>10</td><td>3</td><td>3</td><td>6</td><td>Real Bed</td><td>TV,Internet,Wireless Internet,Air conditioning,Buzzer/wireless intercom,Heating,Washer                                                                                                                                                                                                                                                       </td><td>1292</td><td> 99</td><td> 84</td><td>120.03068</td><td>1</td></tr>\n",
       "\t<tr><th scope=row>6025</th><td>28013</td><td>Sol</td><td>Apartment</td><td>Entire home/apt</td><td> 4</td><td>1</td><td>1</td><td>1</td><td>Real Bed</td><td>TV,Wireless Internet,Air conditioning,Kitchen,Doorman,Elevator in building,Buzzer/wireless intercom,Heating,Family/kid friendly,Suitable for events,Washer,Hangers,Hair dryer,Iron                                                                                                                                                           </td><td> 646</td><td> 75</td><td> 90</td><td> 60.01534</td><td>1</td></tr>\n",
       "\t<tr><th scope=row>6922</th><td>28012</td><td>Sol</td><td>Apartment</td><td>Entire home/apt</td><td>10</td><td>2</td><td>5</td><td>8</td><td>Real Bed</td><td>TV,Wireless Internet,Air conditioning,Kitchen,Pets allowed,Elevator in building,Buzzer/wireless intercom,Heating,Family/kid friendly,Washer,Smoke detector,Carbon monoxide detector,Essentials,Shampoo,24-hour check-in,Hangers,Hair dryer,Iron,Laptop friendly workspace                                                                    </td><td>1615</td><td>300</td><td> 95</td><td>150.03834</td><td>1</td></tr>\n",
       "\t<tr><th scope=row>7783</th><td>28013</td><td>Sol</td><td>Apartment</td><td>Entire home/apt</td><td> 3</td><td>1</td><td>1</td><td>2</td><td>Real Bed</td><td>TV,Wireless Internet,Air conditioning,Kitchen,Buzzer/wireless intercom,Heating,Family/kid friendly,Washer,Essentials,Shampoo,24-hour check-in,Hangers,Hair dryer,Iron,Laptop friendly workspace,Self Check-In,Doorman Entry                                                                                                                  </td><td> 215</td><td> 56</td><td> 87</td><td> 19.97415</td><td>1</td></tr>\n",
       "\t<tr><th scope=row>8299</th><td>28012</td><td>Sol</td><td>Apartment</td><td>Entire home/apt</td><td> 4</td><td>1</td><td>1</td><td>1</td><td>Real Bed</td><td>TV,Internet,Wireless Internet,Air conditioning,Kitchen,Elevator in building,Buzzer/wireless intercom,Heating,Family/kid friendly,Washer,Essentials,Shampoo,24-hour check-in,Hangers,Hair dryer,Iron,Laptop friendly workspace                                                                                                                </td><td> 592</td><td> 82</td><td> 88</td><td> 54.99858</td><td>1</td></tr>\n",
       "\t<tr><th scope=row>8850</th><td>28013</td><td>Sol</td><td>Apartment</td><td>Entire home/apt</td><td>12</td><td>4</td><td>4</td><td>8</td><td>Real Bed</td><td>TV,Internet,Wireless Internet,Air conditioning,Kitchen,Doorman,Elevator in building,Heating,Family/kid friendly,Washer,Essentials,24-hour check-in,Hangers,Hair dryer,Iron                                                                                                                                                                   </td><td>1238</td><td>250</td><td> 96</td><td>115.01391</td><td>1</td></tr>\n",
       "\t<tr><th scope=row>9178</th><td>28012</td><td>Sol</td><td>Apartment</td><td>Entire home/apt</td><td> 6</td><td>2</td><td>3</td><td>4</td><td>Real Bed</td><td>TV,Cable TV,Internet,Wireless Internet,Air conditioning,Kitchen,Elevator in building,Hot tub,Heating,Family/kid friendly,Suitable for events,Washer,Smoke detector,Carbon monoxide detector,First aid kit,Safety card,Fire extinguisher,Essentials,Shampoo,24-hour check-in,Hangers,Hair dryer,Iron,Laptop friendly workspace                </td><td>2153</td><td>199</td><td> 96</td><td>200.02016</td><td>1</td></tr>\n",
       "\t<tr><th scope=row>10389</th><td>28012</td><td>Sol</td><td>Apartment</td><td>Entire home/apt</td><td> 8</td><td>2</td><td>2</td><td>8</td><td>Real Bed</td><td>TV,Internet,Wireless Internet,Air conditioning,Kitchen,Smoking allowed,Pets allowed,Elevator in building,Buzzer/wireless intercom,Heating,Family/kid friendly,Suitable for events,Washer                                                                                                                                                     </td><td>1292</td><td>110</td><td> 80</td><td>120.03068</td><td>1</td></tr>\n",
       "\t<tr><th scope=row>10392</th><td>28012</td><td>Sol</td><td>Apartment</td><td>Entire home/apt</td><td> 4</td><td>1</td><td>1</td><td>3</td><td>Real Bed</td><td>TV,Internet,Wireless Internet,Air conditioning,Kitchen,Elevator in building,Buzzer/wireless intercom,Heating,Family/kid friendly,Washer,Essentials,Shampoo,Hangers,Hair dryer,Iron,Laptop friendly workspace                                                                                                                                 </td><td> 624</td><td> 50</td><td> 89</td><td> 57.97147</td><td>1</td></tr>\n",
       "\t<tr><th scope=row>10729</th><td>28012</td><td>Sol</td><td>Apartment</td><td>Entire home/apt</td><td> 4</td><td>1</td><td>1</td><td>3</td><td>Real Bed</td><td>TV,Internet,Wireless Internet,Air conditioning,Kitchen,Pets allowed,Buzzer/wireless intercom,Heating,Family/kid friendly,Washer,Smoke detector,Carbon monoxide detector,Essentials,Shampoo,24-hour check-in,Hangers,Hair dryer,Iron,Laptop friendly workspace                                                                                </td><td> 603</td><td> 85</td><td> 94</td><td> 56.02051</td><td>1</td></tr>\n",
       "\t<tr><th scope=row>10835</th><td>28005</td><td>Sol</td><td>Loft     </td><td>Entire home/apt</td><td> 7</td><td>2</td><td>5</td><td>7</td><td>Real Bed</td><td>Internet,Wireless Internet,Kitchen,Smoking allowed,Pets allowed,Buzzer/wireless intercom,Heating,Family/kid friendly,Washer,First aid kit,Fire extinguisher,Essentials,Shampoo,Hangers,Hair dryer,Iron,Laptop friendly workspace                                                                                                             </td><td>1776</td><td>149</td><td> 87</td><td>164.99573</td><td>1</td></tr>\n",
       "\t<tr><th scope=row>11080</th><td>28013</td><td>Sol</td><td>Apartment</td><td>Entire home/apt</td><td> 6</td><td>1</td><td>2</td><td>3</td><td>Real Bed</td><td>TV,Internet,Air conditioning,Kitchen,Washer / Dryer,Doorman,Elevator in building,Heating,Family/kid friendly,Washer,Dryer                                                                                                                                                                                                                    </td><td> 807</td><td>102</td><td> 80</td><td> 74.97272</td><td>1</td></tr>\n",
       "\t<tr><th scope=row>11962</th><td>28013</td><td>Sol</td><td>Apartment</td><td>Entire home/apt</td><td> 5</td><td>1</td><td>2</td><td>5</td><td>Real Bed</td><td>TV,Cable TV,Internet,Wireless Internet,Air conditioning,Kitchen,Pets allowed,Elevator in building,Buzzer/wireless intercom,Heating,Family/kid friendly,Smoke detector,Carbon monoxide detector,First aid kit,Safety card,Fire extinguisher,Essentials,Shampoo,24-hour check-in,Hangers,Hair dryer,Iron,Laptop friendly workspace,Game console</td><td> 753</td><td>100</td><td> 91</td><td> 69.95596</td><td>1</td></tr>\n",
       "\t<tr><th scope=row>12747</th><td>28012</td><td>Sol</td><td>Apartment</td><td>Entire home/apt</td><td> 6</td><td>2</td><td>2</td><td>3</td><td>Real Bed</td><td>TV,Cable TV,Internet,Wireless Internet,Air conditioning,Kitchen,Doorman,Elevator in building,Buzzer/wireless intercom,Heating,Family/kid friendly,Washer,24-hour check-in,Hangers,Hair dryer,Iron,Laptop friendly workspace                                                                                                                  </td><td>1076</td><td>140</td><td> 94</td><td> 99.96363</td><td>1</td></tr>\n",
       "\t<tr><th scope=row>12749</th><td>28012</td><td>Sol</td><td>Apartment</td><td>Entire home/apt</td><td> 4</td><td>1</td><td>2</td><td>3</td><td>Real Bed</td><td>TV,Internet,Wireless Internet,Air conditioning,Kitchen,Doorman,Elevator in building,Buzzer/wireless intercom,Heating,Family/kid friendly,Washer,Essentials,Hair dryer,Iron                                                                                                                                                                   </td><td> 947</td><td> 95</td><td> 93</td><td> 87.97914</td><td>1</td></tr>\n",
       "\t<tr><th scope=row>12912</th><td>28013</td><td>Sol</td><td>Apartment</td><td>Entire home/apt</td><td>10</td><td>3</td><td>3</td><td>7</td><td>Real Bed</td><td>TV,Internet,Air conditioning,Kitchen,Smoking allowed,Pets allowed,Heating,Family/kid friendly,Washer                                                                                                                                                                                                                                         </td><td> 807</td><td>150</td><td> 65</td><td> 74.97272</td><td>1</td></tr>\n",
       "\t<tr><th scope=row>12925</th><td>28013</td><td>Sol</td><td>Apartment</td><td>Entire home/apt</td><td> 4</td><td>1</td><td>1</td><td>2</td><td>Real Bed</td><td>TV,Wireless Internet,Air conditioning,Kitchen,Elevator in building,Heating,Family/kid friendly,Washer,Hair dryer,Iron                                                                                                                                                                                                                        </td><td> 431</td><td> 71</td><td> 91</td><td> 40.04119</td><td>1</td></tr>\n",
       "</tbody>\n",
       "</table>\n"
      ],
      "text/latex": [
       "A data.frame: 31 × 15\n",
       "\\begin{tabular}{r|lllllllllllllll}\n",
       "  & CodigoPostal & Barrio & TipoPropiedad & TipoAlquiler & MaxOcupantes & NumBanyos & NumDormitorios & NumCamas & TipoCama & Comodidades & PiesCuadrados & Precio & Puntuacion & MetrosCuadrados & contador\\\\\n",
       "  & <chr> & <chr> & <fct> & <fct> & <int> & <dbl> & <int> & <int> & <fct> & <fct> & <int> & <int> & <int> & <dbl> & <dbl>\\\\\n",
       "\\hline\n",
       "\t15 & 28013 & Sol & Apartment & Entire home/apt &  4 & 1 & 1 & 1 & Real Bed & TV,Wireless Internet,Air conditioning,Kitchen,Doorman,Elevator in building,Buzzer/wireless intercom,Heating,Family/kid friendly,Suitable for events,Washer,Essentials,Hangers,Hair dryer,Iron                                                                                                                                                 &  646 &  75 &  91 &  60.01534 & 1\\\\\n",
       "\t25 & 28012 & Sol & Apartment & Entire home/apt &  4 & 1 & 1 & 1 & Real Bed & TV,Cable TV,Internet,Wireless Internet,Air conditioning,Kitchen,Elevator in building,Buzzer/wireless intercom,Heating,Family/kid friendly,Washer,Essentials,Hair dryer,Iron                                                                                                                                                                   &  753 & 100 &  87 &  69.95596 & 1\\\\\n",
       "\t46 & 28013 & Sol & Apartment & Entire home/apt &  2 & 1 & 1 & 1 & Real Bed & TV,Internet,Wireless Internet,Air conditioning,Kitchen,Elevator in building,Buzzer/wireless intercom,Heating,Family/kid friendly,Washer,First aid kit,Essentials,Shampoo,Hair dryer,Iron                                                                                                                                                      &  269 &  65 &  93 &  24.99091 & 1\\\\\n",
       "\t574 & 28014 & Sol & Apartment & Entire home/apt &  8 & 2 & 4 & 5 & Real Bed & TV,Internet,Wireless Internet,Air conditioning,Wheelchair accessible,Kitchen,Smoking allowed,Elevator in building,Buzzer/wireless intercom,Heating,Family/kid friendly,Washer,Fire extinguisher,Shampoo,Hangers,Iron,Laptop friendly workspace                                                                                                & 2153 & 250 &  99 & 200.02016 & 1\\\\\n",
       "\t684 & 28012 & Sol & Apartment & Entire home/apt &  4 & 1 & 1 & 2 & Real Bed & TV,Internet,Wireless Internet,Air conditioning,Kitchen,Pets allowed,Elevator in building,Heating,Family/kid friendly,Washer,Essentials,Shampoo                                                                                                                                                                                                &  538 & 108 &  95 &  49.98181 & 1\\\\\n",
       "\t690 & 28012 & Sol & Apartment & Entire home/apt & 10 & 2 & 2 & 6 & Real Bed & TV,Wireless Internet,Air conditioning,Kitchen,Doorman,Elevator in building,Buzzer/wireless intercom,Heating,Family/kid friendly,Washer,Essentials                                                                                                                                                                                             & 1453 &  98 &  94 & 134.98806 & 1\\\\\n",
       "\t1414 & 28013 & Sol & Apartment & Entire home/apt &  4 & 1 & 1 & 2 & Real Bed & TV,Internet,Wireless Internet,Air conditioning,Kitchen,Smoking allowed,Pets allowed,Pets live on this property,Cat(s),Buzzer/wireless intercom,Heating,Family/kid friendly,Washer,Essentials,Shampoo                                                                                                                                          &  915 &  70 & 100 &  85.00624 & 1\\\\\n",
       "\t1424 & 28012 & Sol & Loft      & Entire home/apt &  2 & 1 & 1 & 1 & Real Bed & TV,Internet,Wireless Internet,Air conditioning,Kitchen,Elevator in building,Buzzer/wireless intercom,Heating,Family/kid friendly,Washer,Essentials,Shampoo,24-hour check-in,Hangers,Hair dryer,Iron,Laptop friendly workspace                                                                                                                 &  431 &  77 &  80 &  40.04119 & 1\\\\\n",
       "\t2422 & 28012 & Sol & Apartment & Entire home/apt &  8 & 1 & 2 & 6 & Real Bed & TV,Wireless Internet,Air conditioning,Kitchen,Buzzer/wireless intercom,Heating,Family/kid friendly,Washer,Fire extinguisher,Essentials                                                                                                                                                                                                        &  883 & 145 &  97 &  82.03335 & 1\\\\\n",
       "\t2440 & 28013 & Sol & Apartment & Entire home/apt &  2 & 1 & 1 & 1 & Real Bed & TV,Internet,Wireless Internet,Air conditioning,Kitchen,Heating,Washer,Essentials,Shampoo,24-hour check-in,Hangers,Hair dryer,Iron,Laptop friendly workspace                                                                                                                                                                                   &  205 &  57 &  94 &  19.04511 & 1\\\\\n",
       "\t3804 & 28005 & Sol & Apartment & Entire home/apt &  4 & 1 & 1 & 2 & Futon    & TV,Cable TV,Internet,Wireless Internet,Air conditioning,Kitchen,Smoking allowed,Pets allowed,Heating,Family/kid friendly,Washer,Dryer,Essentials,Shampoo,Hangers,Hair dryer,Iron,translation missing: en.hosting\\_amenity\\_50                                                                                                                   &  700 &  95 &  90 &  65.03210 & 1\\\\\n",
       "\t4402 & 28013 & Sol & Apartment & Entire home/apt &  4 & 1 & 1 & 1 & Real Bed & TV,Wireless Internet,Air conditioning,Doorman,Elevator in building,Buzzer/wireless intercom,Heating,Family/kid friendly,Suitable for events,Washer,Hangers,Hair dryer,Iron                                                                                                                                                                    &  646 &  75 &  92 &  60.01534 & 1\\\\\n",
       "\t4410 & 28004 & Sol & Apartment & Entire home/apt &  3 & 1 & 1 & 1 & Real Bed & Cable TV,Wireless Internet,Air conditioning,Kitchen,Elevator in building,Buzzer/wireless intercom,Heating,Family/kid friendly,Washer                                                                                                                                                                                                          &  484 & 100 &  96 &  44.96505 & 1\\\\\n",
       "\t5397 & 28013 & Sol & Apartment & Entire home/apt &  2 & 1 & 1 & 1 & Real Bed & TV,Wireless Internet,Air conditioning,Kitchen,Doorman,Elevator in building,Buzzer/wireless intercom,Heating,Family/kid friendly,Suitable for events,Washer,Hangers,Hair dryer,Iron                                                                                                                                                            &  431 &  65 &  90 &  40.04119 & 1\\\\\n",
       "\t5417 & NA    & Sol & Apartment & Entire home/apt & 10 & 3 & 3 & 6 & Real Bed & TV,Internet,Wireless Internet,Air conditioning,Buzzer/wireless intercom,Heating,Washer                                                                                                                                                                                                                                                        & 1292 &  99 &  84 & 120.03068 & 1\\\\\n",
       "\t6025 & 28013 & Sol & Apartment & Entire home/apt &  4 & 1 & 1 & 1 & Real Bed & TV,Wireless Internet,Air conditioning,Kitchen,Doorman,Elevator in building,Buzzer/wireless intercom,Heating,Family/kid friendly,Suitable for events,Washer,Hangers,Hair dryer,Iron                                                                                                                                                            &  646 &  75 &  90 &  60.01534 & 1\\\\\n",
       "\t6922 & 28012 & Sol & Apartment & Entire home/apt & 10 & 2 & 5 & 8 & Real Bed & TV,Wireless Internet,Air conditioning,Kitchen,Pets allowed,Elevator in building,Buzzer/wireless intercom,Heating,Family/kid friendly,Washer,Smoke detector,Carbon monoxide detector,Essentials,Shampoo,24-hour check-in,Hangers,Hair dryer,Iron,Laptop friendly workspace                                                                     & 1615 & 300 &  95 & 150.03834 & 1\\\\\n",
       "\t7783 & 28013 & Sol & Apartment & Entire home/apt &  3 & 1 & 1 & 2 & Real Bed & TV,Wireless Internet,Air conditioning,Kitchen,Buzzer/wireless intercom,Heating,Family/kid friendly,Washer,Essentials,Shampoo,24-hour check-in,Hangers,Hair dryer,Iron,Laptop friendly workspace,Self Check-In,Doorman Entry                                                                                                                   &  215 &  56 &  87 &  19.97415 & 1\\\\\n",
       "\t8299 & 28012 & Sol & Apartment & Entire home/apt &  4 & 1 & 1 & 1 & Real Bed & TV,Internet,Wireless Internet,Air conditioning,Kitchen,Elevator in building,Buzzer/wireless intercom,Heating,Family/kid friendly,Washer,Essentials,Shampoo,24-hour check-in,Hangers,Hair dryer,Iron,Laptop friendly workspace                                                                                                                 &  592 &  82 &  88 &  54.99858 & 1\\\\\n",
       "\t8850 & 28013 & Sol & Apartment & Entire home/apt & 12 & 4 & 4 & 8 & Real Bed & TV,Internet,Wireless Internet,Air conditioning,Kitchen,Doorman,Elevator in building,Heating,Family/kid friendly,Washer,Essentials,24-hour check-in,Hangers,Hair dryer,Iron                                                                                                                                                                    & 1238 & 250 &  96 & 115.01391 & 1\\\\\n",
       "\t9178 & 28012 & Sol & Apartment & Entire home/apt &  6 & 2 & 3 & 4 & Real Bed & TV,Cable TV,Internet,Wireless Internet,Air conditioning,Kitchen,Elevator in building,Hot tub,Heating,Family/kid friendly,Suitable for events,Washer,Smoke detector,Carbon monoxide detector,First aid kit,Safety card,Fire extinguisher,Essentials,Shampoo,24-hour check-in,Hangers,Hair dryer,Iron,Laptop friendly workspace                 & 2153 & 199 &  96 & 200.02016 & 1\\\\\n",
       "\t10389 & 28012 & Sol & Apartment & Entire home/apt &  8 & 2 & 2 & 8 & Real Bed & TV,Internet,Wireless Internet,Air conditioning,Kitchen,Smoking allowed,Pets allowed,Elevator in building,Buzzer/wireless intercom,Heating,Family/kid friendly,Suitable for events,Washer                                                                                                                                                      & 1292 & 110 &  80 & 120.03068 & 1\\\\\n",
       "\t10392 & 28012 & Sol & Apartment & Entire home/apt &  4 & 1 & 1 & 3 & Real Bed & TV,Internet,Wireless Internet,Air conditioning,Kitchen,Elevator in building,Buzzer/wireless intercom,Heating,Family/kid friendly,Washer,Essentials,Shampoo,Hangers,Hair dryer,Iron,Laptop friendly workspace                                                                                                                                  &  624 &  50 &  89 &  57.97147 & 1\\\\\n",
       "\t10729 & 28012 & Sol & Apartment & Entire home/apt &  4 & 1 & 1 & 3 & Real Bed & TV,Internet,Wireless Internet,Air conditioning,Kitchen,Pets allowed,Buzzer/wireless intercom,Heating,Family/kid friendly,Washer,Smoke detector,Carbon monoxide detector,Essentials,Shampoo,24-hour check-in,Hangers,Hair dryer,Iron,Laptop friendly workspace                                                                                 &  603 &  85 &  94 &  56.02051 & 1\\\\\n",
       "\t10835 & 28005 & Sol & Loft      & Entire home/apt &  7 & 2 & 5 & 7 & Real Bed & Internet,Wireless Internet,Kitchen,Smoking allowed,Pets allowed,Buzzer/wireless intercom,Heating,Family/kid friendly,Washer,First aid kit,Fire extinguisher,Essentials,Shampoo,Hangers,Hair dryer,Iron,Laptop friendly workspace                                                                                                              & 1776 & 149 &  87 & 164.99573 & 1\\\\\n",
       "\t11080 & 28013 & Sol & Apartment & Entire home/apt &  6 & 1 & 2 & 3 & Real Bed & TV,Internet,Air conditioning,Kitchen,Washer / Dryer,Doorman,Elevator in building,Heating,Family/kid friendly,Washer,Dryer                                                                                                                                                                                                                     &  807 & 102 &  80 &  74.97272 & 1\\\\\n",
       "\t11962 & 28013 & Sol & Apartment & Entire home/apt &  5 & 1 & 2 & 5 & Real Bed & TV,Cable TV,Internet,Wireless Internet,Air conditioning,Kitchen,Pets allowed,Elevator in building,Buzzer/wireless intercom,Heating,Family/kid friendly,Smoke detector,Carbon monoxide detector,First aid kit,Safety card,Fire extinguisher,Essentials,Shampoo,24-hour check-in,Hangers,Hair dryer,Iron,Laptop friendly workspace,Game console &  753 & 100 &  91 &  69.95596 & 1\\\\\n",
       "\t12747 & 28012 & Sol & Apartment & Entire home/apt &  6 & 2 & 2 & 3 & Real Bed & TV,Cable TV,Internet,Wireless Internet,Air conditioning,Kitchen,Doorman,Elevator in building,Buzzer/wireless intercom,Heating,Family/kid friendly,Washer,24-hour check-in,Hangers,Hair dryer,Iron,Laptop friendly workspace                                                                                                                   & 1076 & 140 &  94 &  99.96363 & 1\\\\\n",
       "\t12749 & 28012 & Sol & Apartment & Entire home/apt &  4 & 1 & 2 & 3 & Real Bed & TV,Internet,Wireless Internet,Air conditioning,Kitchen,Doorman,Elevator in building,Buzzer/wireless intercom,Heating,Family/kid friendly,Washer,Essentials,Hair dryer,Iron                                                                                                                                                                    &  947 &  95 &  93 &  87.97914 & 1\\\\\n",
       "\t12912 & 28013 & Sol & Apartment & Entire home/apt & 10 & 3 & 3 & 7 & Real Bed & TV,Internet,Air conditioning,Kitchen,Smoking allowed,Pets allowed,Heating,Family/kid friendly,Washer                                                                                                                                                                                                                                          &  807 & 150 &  65 &  74.97272 & 1\\\\\n",
       "\t12925 & 28013 & Sol & Apartment & Entire home/apt &  4 & 1 & 1 & 2 & Real Bed & TV,Wireless Internet,Air conditioning,Kitchen,Elevator in building,Heating,Family/kid friendly,Washer,Hair dryer,Iron                                                                                                                                                                                                                         &  431 &  71 &  91 &  40.04119 & 1\\\\\n",
       "\\end{tabular}\n"
      ],
      "text/markdown": [
       "\n",
       "A data.frame: 31 × 15\n",
       "\n",
       "| <!--/--> | CodigoPostal &lt;chr&gt; | Barrio &lt;chr&gt; | TipoPropiedad &lt;fct&gt; | TipoAlquiler &lt;fct&gt; | MaxOcupantes &lt;int&gt; | NumBanyos &lt;dbl&gt; | NumDormitorios &lt;int&gt; | NumCamas &lt;int&gt; | TipoCama &lt;fct&gt; | Comodidades &lt;fct&gt; | PiesCuadrados &lt;int&gt; | Precio &lt;int&gt; | Puntuacion &lt;int&gt; | MetrosCuadrados &lt;dbl&gt; | contador &lt;dbl&gt; |\n",
       "|---|---|---|---|---|---|---|---|---|---|---|---|---|---|---|---|\n",
       "| 15 | 28013 | Sol | Apartment | Entire home/apt |  4 | 1 | 1 | 1 | Real Bed | TV,Wireless Internet,Air conditioning,Kitchen,Doorman,Elevator in building,Buzzer/wireless intercom,Heating,Family/kid friendly,Suitable for events,Washer,Essentials,Hangers,Hair dryer,Iron                                                                                                                                                 |  646 |  75 |  91 |  60.01534 | 1 |\n",
       "| 25 | 28012 | Sol | Apartment | Entire home/apt |  4 | 1 | 1 | 1 | Real Bed | TV,Cable TV,Internet,Wireless Internet,Air conditioning,Kitchen,Elevator in building,Buzzer/wireless intercom,Heating,Family/kid friendly,Washer,Essentials,Hair dryer,Iron                                                                                                                                                                   |  753 | 100 |  87 |  69.95596 | 1 |\n",
       "| 46 | 28013 | Sol | Apartment | Entire home/apt |  2 | 1 | 1 | 1 | Real Bed | TV,Internet,Wireless Internet,Air conditioning,Kitchen,Elevator in building,Buzzer/wireless intercom,Heating,Family/kid friendly,Washer,First aid kit,Essentials,Shampoo,Hair dryer,Iron                                                                                                                                                      |  269 |  65 |  93 |  24.99091 | 1 |\n",
       "| 574 | 28014 | Sol | Apartment | Entire home/apt |  8 | 2 | 4 | 5 | Real Bed | TV,Internet,Wireless Internet,Air conditioning,Wheelchair accessible,Kitchen,Smoking allowed,Elevator in building,Buzzer/wireless intercom,Heating,Family/kid friendly,Washer,Fire extinguisher,Shampoo,Hangers,Iron,Laptop friendly workspace                                                                                                | 2153 | 250 |  99 | 200.02016 | 1 |\n",
       "| 684 | 28012 | Sol | Apartment | Entire home/apt |  4 | 1 | 1 | 2 | Real Bed | TV,Internet,Wireless Internet,Air conditioning,Kitchen,Pets allowed,Elevator in building,Heating,Family/kid friendly,Washer,Essentials,Shampoo                                                                                                                                                                                                |  538 | 108 |  95 |  49.98181 | 1 |\n",
       "| 690 | 28012 | Sol | Apartment | Entire home/apt | 10 | 2 | 2 | 6 | Real Bed | TV,Wireless Internet,Air conditioning,Kitchen,Doorman,Elevator in building,Buzzer/wireless intercom,Heating,Family/kid friendly,Washer,Essentials                                                                                                                                                                                             | 1453 |  98 |  94 | 134.98806 | 1 |\n",
       "| 1414 | 28013 | Sol | Apartment | Entire home/apt |  4 | 1 | 1 | 2 | Real Bed | TV,Internet,Wireless Internet,Air conditioning,Kitchen,Smoking allowed,Pets allowed,Pets live on this property,Cat(s),Buzzer/wireless intercom,Heating,Family/kid friendly,Washer,Essentials,Shampoo                                                                                                                                          |  915 |  70 | 100 |  85.00624 | 1 |\n",
       "| 1424 | 28012 | Sol | Loft      | Entire home/apt |  2 | 1 | 1 | 1 | Real Bed | TV,Internet,Wireless Internet,Air conditioning,Kitchen,Elevator in building,Buzzer/wireless intercom,Heating,Family/kid friendly,Washer,Essentials,Shampoo,24-hour check-in,Hangers,Hair dryer,Iron,Laptop friendly workspace                                                                                                                 |  431 |  77 |  80 |  40.04119 | 1 |\n",
       "| 2422 | 28012 | Sol | Apartment | Entire home/apt |  8 | 1 | 2 | 6 | Real Bed | TV,Wireless Internet,Air conditioning,Kitchen,Buzzer/wireless intercom,Heating,Family/kid friendly,Washer,Fire extinguisher,Essentials                                                                                                                                                                                                        |  883 | 145 |  97 |  82.03335 | 1 |\n",
       "| 2440 | 28013 | Sol | Apartment | Entire home/apt |  2 | 1 | 1 | 1 | Real Bed | TV,Internet,Wireless Internet,Air conditioning,Kitchen,Heating,Washer,Essentials,Shampoo,24-hour check-in,Hangers,Hair dryer,Iron,Laptop friendly workspace                                                                                                                                                                                   |  205 |  57 |  94 |  19.04511 | 1 |\n",
       "| 3804 | 28005 | Sol | Apartment | Entire home/apt |  4 | 1 | 1 | 2 | Futon    | TV,Cable TV,Internet,Wireless Internet,Air conditioning,Kitchen,Smoking allowed,Pets allowed,Heating,Family/kid friendly,Washer,Dryer,Essentials,Shampoo,Hangers,Hair dryer,Iron,translation missing: en.hosting_amenity_50                                                                                                                   |  700 |  95 |  90 |  65.03210 | 1 |\n",
       "| 4402 | 28013 | Sol | Apartment | Entire home/apt |  4 | 1 | 1 | 1 | Real Bed | TV,Wireless Internet,Air conditioning,Doorman,Elevator in building,Buzzer/wireless intercom,Heating,Family/kid friendly,Suitable for events,Washer,Hangers,Hair dryer,Iron                                                                                                                                                                    |  646 |  75 |  92 |  60.01534 | 1 |\n",
       "| 4410 | 28004 | Sol | Apartment | Entire home/apt |  3 | 1 | 1 | 1 | Real Bed | Cable TV,Wireless Internet,Air conditioning,Kitchen,Elevator in building,Buzzer/wireless intercom,Heating,Family/kid friendly,Washer                                                                                                                                                                                                          |  484 | 100 |  96 |  44.96505 | 1 |\n",
       "| 5397 | 28013 | Sol | Apartment | Entire home/apt |  2 | 1 | 1 | 1 | Real Bed | TV,Wireless Internet,Air conditioning,Kitchen,Doorman,Elevator in building,Buzzer/wireless intercom,Heating,Family/kid friendly,Suitable for events,Washer,Hangers,Hair dryer,Iron                                                                                                                                                            |  431 |  65 |  90 |  40.04119 | 1 |\n",
       "| 5417 | NA    | Sol | Apartment | Entire home/apt | 10 | 3 | 3 | 6 | Real Bed | TV,Internet,Wireless Internet,Air conditioning,Buzzer/wireless intercom,Heating,Washer                                                                                                                                                                                                                                                        | 1292 |  99 |  84 | 120.03068 | 1 |\n",
       "| 6025 | 28013 | Sol | Apartment | Entire home/apt |  4 | 1 | 1 | 1 | Real Bed | TV,Wireless Internet,Air conditioning,Kitchen,Doorman,Elevator in building,Buzzer/wireless intercom,Heating,Family/kid friendly,Suitable for events,Washer,Hangers,Hair dryer,Iron                                                                                                                                                            |  646 |  75 |  90 |  60.01534 | 1 |\n",
       "| 6922 | 28012 | Sol | Apartment | Entire home/apt | 10 | 2 | 5 | 8 | Real Bed | TV,Wireless Internet,Air conditioning,Kitchen,Pets allowed,Elevator in building,Buzzer/wireless intercom,Heating,Family/kid friendly,Washer,Smoke detector,Carbon monoxide detector,Essentials,Shampoo,24-hour check-in,Hangers,Hair dryer,Iron,Laptop friendly workspace                                                                     | 1615 | 300 |  95 | 150.03834 | 1 |\n",
       "| 7783 | 28013 | Sol | Apartment | Entire home/apt |  3 | 1 | 1 | 2 | Real Bed | TV,Wireless Internet,Air conditioning,Kitchen,Buzzer/wireless intercom,Heating,Family/kid friendly,Washer,Essentials,Shampoo,24-hour check-in,Hangers,Hair dryer,Iron,Laptop friendly workspace,Self Check-In,Doorman Entry                                                                                                                   |  215 |  56 |  87 |  19.97415 | 1 |\n",
       "| 8299 | 28012 | Sol | Apartment | Entire home/apt |  4 | 1 | 1 | 1 | Real Bed | TV,Internet,Wireless Internet,Air conditioning,Kitchen,Elevator in building,Buzzer/wireless intercom,Heating,Family/kid friendly,Washer,Essentials,Shampoo,24-hour check-in,Hangers,Hair dryer,Iron,Laptop friendly workspace                                                                                                                 |  592 |  82 |  88 |  54.99858 | 1 |\n",
       "| 8850 | 28013 | Sol | Apartment | Entire home/apt | 12 | 4 | 4 | 8 | Real Bed | TV,Internet,Wireless Internet,Air conditioning,Kitchen,Doorman,Elevator in building,Heating,Family/kid friendly,Washer,Essentials,24-hour check-in,Hangers,Hair dryer,Iron                                                                                                                                                                    | 1238 | 250 |  96 | 115.01391 | 1 |\n",
       "| 9178 | 28012 | Sol | Apartment | Entire home/apt |  6 | 2 | 3 | 4 | Real Bed | TV,Cable TV,Internet,Wireless Internet,Air conditioning,Kitchen,Elevator in building,Hot tub,Heating,Family/kid friendly,Suitable for events,Washer,Smoke detector,Carbon monoxide detector,First aid kit,Safety card,Fire extinguisher,Essentials,Shampoo,24-hour check-in,Hangers,Hair dryer,Iron,Laptop friendly workspace                 | 2153 | 199 |  96 | 200.02016 | 1 |\n",
       "| 10389 | 28012 | Sol | Apartment | Entire home/apt |  8 | 2 | 2 | 8 | Real Bed | TV,Internet,Wireless Internet,Air conditioning,Kitchen,Smoking allowed,Pets allowed,Elevator in building,Buzzer/wireless intercom,Heating,Family/kid friendly,Suitable for events,Washer                                                                                                                                                      | 1292 | 110 |  80 | 120.03068 | 1 |\n",
       "| 10392 | 28012 | Sol | Apartment | Entire home/apt |  4 | 1 | 1 | 3 | Real Bed | TV,Internet,Wireless Internet,Air conditioning,Kitchen,Elevator in building,Buzzer/wireless intercom,Heating,Family/kid friendly,Washer,Essentials,Shampoo,Hangers,Hair dryer,Iron,Laptop friendly workspace                                                                                                                                  |  624 |  50 |  89 |  57.97147 | 1 |\n",
       "| 10729 | 28012 | Sol | Apartment | Entire home/apt |  4 | 1 | 1 | 3 | Real Bed | TV,Internet,Wireless Internet,Air conditioning,Kitchen,Pets allowed,Buzzer/wireless intercom,Heating,Family/kid friendly,Washer,Smoke detector,Carbon monoxide detector,Essentials,Shampoo,24-hour check-in,Hangers,Hair dryer,Iron,Laptop friendly workspace                                                                                 |  603 |  85 |  94 |  56.02051 | 1 |\n",
       "| 10835 | 28005 | Sol | Loft      | Entire home/apt |  7 | 2 | 5 | 7 | Real Bed | Internet,Wireless Internet,Kitchen,Smoking allowed,Pets allowed,Buzzer/wireless intercom,Heating,Family/kid friendly,Washer,First aid kit,Fire extinguisher,Essentials,Shampoo,Hangers,Hair dryer,Iron,Laptop friendly workspace                                                                                                              | 1776 | 149 |  87 | 164.99573 | 1 |\n",
       "| 11080 | 28013 | Sol | Apartment | Entire home/apt |  6 | 1 | 2 | 3 | Real Bed | TV,Internet,Air conditioning,Kitchen,Washer / Dryer,Doorman,Elevator in building,Heating,Family/kid friendly,Washer,Dryer                                                                                                                                                                                                                     |  807 | 102 |  80 |  74.97272 | 1 |\n",
       "| 11962 | 28013 | Sol | Apartment | Entire home/apt |  5 | 1 | 2 | 5 | Real Bed | TV,Cable TV,Internet,Wireless Internet,Air conditioning,Kitchen,Pets allowed,Elevator in building,Buzzer/wireless intercom,Heating,Family/kid friendly,Smoke detector,Carbon monoxide detector,First aid kit,Safety card,Fire extinguisher,Essentials,Shampoo,24-hour check-in,Hangers,Hair dryer,Iron,Laptop friendly workspace,Game console |  753 | 100 |  91 |  69.95596 | 1 |\n",
       "| 12747 | 28012 | Sol | Apartment | Entire home/apt |  6 | 2 | 2 | 3 | Real Bed | TV,Cable TV,Internet,Wireless Internet,Air conditioning,Kitchen,Doorman,Elevator in building,Buzzer/wireless intercom,Heating,Family/kid friendly,Washer,24-hour check-in,Hangers,Hair dryer,Iron,Laptop friendly workspace                                                                                                                   | 1076 | 140 |  94 |  99.96363 | 1 |\n",
       "| 12749 | 28012 | Sol | Apartment | Entire home/apt |  4 | 1 | 2 | 3 | Real Bed | TV,Internet,Wireless Internet,Air conditioning,Kitchen,Doorman,Elevator in building,Buzzer/wireless intercom,Heating,Family/kid friendly,Washer,Essentials,Hair dryer,Iron                                                                                                                                                                    |  947 |  95 |  93 |  87.97914 | 1 |\n",
       "| 12912 | 28013 | Sol | Apartment | Entire home/apt | 10 | 3 | 3 | 7 | Real Bed | TV,Internet,Air conditioning,Kitchen,Smoking allowed,Pets allowed,Heating,Family/kid friendly,Washer                                                                                                                                                                                                                                          |  807 | 150 |  65 |  74.97272 | 1 |\n",
       "| 12925 | 28013 | Sol | Apartment | Entire home/apt |  4 | 1 | 1 | 2 | Real Bed | TV,Wireless Internet,Air conditioning,Kitchen,Elevator in building,Heating,Family/kid friendly,Washer,Hair dryer,Iron                                                                                                                                                                                                                         |  431 |  71 |  91 |  40.04119 | 1 |\n",
       "\n"
      ],
      "text/plain": [
       "      CodigoPostal Barrio TipoPropiedad TipoAlquiler    MaxOcupantes NumBanyos\n",
       "15    28013        Sol    Apartment     Entire home/apt  4           1        \n",
       "25    28012        Sol    Apartment     Entire home/apt  4           1        \n",
       "46    28013        Sol    Apartment     Entire home/apt  2           1        \n",
       "574   28014        Sol    Apartment     Entire home/apt  8           2        \n",
       "684   28012        Sol    Apartment     Entire home/apt  4           1        \n",
       "690   28012        Sol    Apartment     Entire home/apt 10           2        \n",
       "1414  28013        Sol    Apartment     Entire home/apt  4           1        \n",
       "1424  28012        Sol    Loft          Entire home/apt  2           1        \n",
       "2422  28012        Sol    Apartment     Entire home/apt  8           1        \n",
       "2440  28013        Sol    Apartment     Entire home/apt  2           1        \n",
       "3804  28005        Sol    Apartment     Entire home/apt  4           1        \n",
       "4402  28013        Sol    Apartment     Entire home/apt  4           1        \n",
       "4410  28004        Sol    Apartment     Entire home/apt  3           1        \n",
       "5397  28013        Sol    Apartment     Entire home/apt  2           1        \n",
       "5417  NA           Sol    Apartment     Entire home/apt 10           3        \n",
       "6025  28013        Sol    Apartment     Entire home/apt  4           1        \n",
       "6922  28012        Sol    Apartment     Entire home/apt 10           2        \n",
       "7783  28013        Sol    Apartment     Entire home/apt  3           1        \n",
       "8299  28012        Sol    Apartment     Entire home/apt  4           1        \n",
       "8850  28013        Sol    Apartment     Entire home/apt 12           4        \n",
       "9178  28012        Sol    Apartment     Entire home/apt  6           2        \n",
       "10389 28012        Sol    Apartment     Entire home/apt  8           2        \n",
       "10392 28012        Sol    Apartment     Entire home/apt  4           1        \n",
       "10729 28012        Sol    Apartment     Entire home/apt  4           1        \n",
       "10835 28005        Sol    Loft          Entire home/apt  7           2        \n",
       "11080 28013        Sol    Apartment     Entire home/apt  6           1        \n",
       "11962 28013        Sol    Apartment     Entire home/apt  5           1        \n",
       "12747 28012        Sol    Apartment     Entire home/apt  6           2        \n",
       "12749 28012        Sol    Apartment     Entire home/apt  4           1        \n",
       "12912 28013        Sol    Apartment     Entire home/apt 10           3        \n",
       "12925 28013        Sol    Apartment     Entire home/apt  4           1        \n",
       "      NumDormitorios NumCamas TipoCama\n",
       "15    1              1        Real Bed\n",
       "25    1              1        Real Bed\n",
       "46    1              1        Real Bed\n",
       "574   4              5        Real Bed\n",
       "684   1              2        Real Bed\n",
       "690   2              6        Real Bed\n",
       "1414  1              2        Real Bed\n",
       "1424  1              1        Real Bed\n",
       "2422  2              6        Real Bed\n",
       "2440  1              1        Real Bed\n",
       "3804  1              2        Futon   \n",
       "4402  1              1        Real Bed\n",
       "4410  1              1        Real Bed\n",
       "5397  1              1        Real Bed\n",
       "5417  3              6        Real Bed\n",
       "6025  1              1        Real Bed\n",
       "6922  5              8        Real Bed\n",
       "7783  1              2        Real Bed\n",
       "8299  1              1        Real Bed\n",
       "8850  4              8        Real Bed\n",
       "9178  3              4        Real Bed\n",
       "10389 2              8        Real Bed\n",
       "10392 1              3        Real Bed\n",
       "10729 1              3        Real Bed\n",
       "10835 5              7        Real Bed\n",
       "11080 2              3        Real Bed\n",
       "11962 2              5        Real Bed\n",
       "12747 2              3        Real Bed\n",
       "12749 2              3        Real Bed\n",
       "12912 3              7        Real Bed\n",
       "12925 1              2        Real Bed\n",
       "      Comodidades                                                                                                                                                                                                                                                                                                                                  \n",
       "15    TV,Wireless Internet,Air conditioning,Kitchen,Doorman,Elevator in building,Buzzer/wireless intercom,Heating,Family/kid friendly,Suitable for events,Washer,Essentials,Hangers,Hair dryer,Iron                                                                                                                                                \n",
       "25    TV,Cable TV,Internet,Wireless Internet,Air conditioning,Kitchen,Elevator in building,Buzzer/wireless intercom,Heating,Family/kid friendly,Washer,Essentials,Hair dryer,Iron                                                                                                                                                                  \n",
       "46    TV,Internet,Wireless Internet,Air conditioning,Kitchen,Elevator in building,Buzzer/wireless intercom,Heating,Family/kid friendly,Washer,First aid kit,Essentials,Shampoo,Hair dryer,Iron                                                                                                                                                     \n",
       "574   TV,Internet,Wireless Internet,Air conditioning,Wheelchair accessible,Kitchen,Smoking allowed,Elevator in building,Buzzer/wireless intercom,Heating,Family/kid friendly,Washer,Fire extinguisher,Shampoo,Hangers,Iron,Laptop friendly workspace                                                                                               \n",
       "684   TV,Internet,Wireless Internet,Air conditioning,Kitchen,Pets allowed,Elevator in building,Heating,Family/kid friendly,Washer,Essentials,Shampoo                                                                                                                                                                                               \n",
       "690   TV,Wireless Internet,Air conditioning,Kitchen,Doorman,Elevator in building,Buzzer/wireless intercom,Heating,Family/kid friendly,Washer,Essentials                                                                                                                                                                                            \n",
       "1414  TV,Internet,Wireless Internet,Air conditioning,Kitchen,Smoking allowed,Pets allowed,Pets live on this property,Cat(s),Buzzer/wireless intercom,Heating,Family/kid friendly,Washer,Essentials,Shampoo                                                                                                                                         \n",
       "1424  TV,Internet,Wireless Internet,Air conditioning,Kitchen,Elevator in building,Buzzer/wireless intercom,Heating,Family/kid friendly,Washer,Essentials,Shampoo,24-hour check-in,Hangers,Hair dryer,Iron,Laptop friendly workspace                                                                                                                \n",
       "2422  TV,Wireless Internet,Air conditioning,Kitchen,Buzzer/wireless intercom,Heating,Family/kid friendly,Washer,Fire extinguisher,Essentials                                                                                                                                                                                                       \n",
       "2440  TV,Internet,Wireless Internet,Air conditioning,Kitchen,Heating,Washer,Essentials,Shampoo,24-hour check-in,Hangers,Hair dryer,Iron,Laptop friendly workspace                                                                                                                                                                                  \n",
       "3804  TV,Cable TV,Internet,Wireless Internet,Air conditioning,Kitchen,Smoking allowed,Pets allowed,Heating,Family/kid friendly,Washer,Dryer,Essentials,Shampoo,Hangers,Hair dryer,Iron,translation missing: en.hosting_amenity_50                                                                                                                  \n",
       "4402  TV,Wireless Internet,Air conditioning,Doorman,Elevator in building,Buzzer/wireless intercom,Heating,Family/kid friendly,Suitable for events,Washer,Hangers,Hair dryer,Iron                                                                                                                                                                   \n",
       "4410  Cable TV,Wireless Internet,Air conditioning,Kitchen,Elevator in building,Buzzer/wireless intercom,Heating,Family/kid friendly,Washer                                                                                                                                                                                                         \n",
       "5397  TV,Wireless Internet,Air conditioning,Kitchen,Doorman,Elevator in building,Buzzer/wireless intercom,Heating,Family/kid friendly,Suitable for events,Washer,Hangers,Hair dryer,Iron                                                                                                                                                           \n",
       "5417  TV,Internet,Wireless Internet,Air conditioning,Buzzer/wireless intercom,Heating,Washer                                                                                                                                                                                                                                                       \n",
       "6025  TV,Wireless Internet,Air conditioning,Kitchen,Doorman,Elevator in building,Buzzer/wireless intercom,Heating,Family/kid friendly,Suitable for events,Washer,Hangers,Hair dryer,Iron                                                                                                                                                           \n",
       "6922  TV,Wireless Internet,Air conditioning,Kitchen,Pets allowed,Elevator in building,Buzzer/wireless intercom,Heating,Family/kid friendly,Washer,Smoke detector,Carbon monoxide detector,Essentials,Shampoo,24-hour check-in,Hangers,Hair dryer,Iron,Laptop friendly workspace                                                                    \n",
       "7783  TV,Wireless Internet,Air conditioning,Kitchen,Buzzer/wireless intercom,Heating,Family/kid friendly,Washer,Essentials,Shampoo,24-hour check-in,Hangers,Hair dryer,Iron,Laptop friendly workspace,Self Check-In,Doorman Entry                                                                                                                  \n",
       "8299  TV,Internet,Wireless Internet,Air conditioning,Kitchen,Elevator in building,Buzzer/wireless intercom,Heating,Family/kid friendly,Washer,Essentials,Shampoo,24-hour check-in,Hangers,Hair dryer,Iron,Laptop friendly workspace                                                                                                                \n",
       "8850  TV,Internet,Wireless Internet,Air conditioning,Kitchen,Doorman,Elevator in building,Heating,Family/kid friendly,Washer,Essentials,24-hour check-in,Hangers,Hair dryer,Iron                                                                                                                                                                   \n",
       "9178  TV,Cable TV,Internet,Wireless Internet,Air conditioning,Kitchen,Elevator in building,Hot tub,Heating,Family/kid friendly,Suitable for events,Washer,Smoke detector,Carbon monoxide detector,First aid kit,Safety card,Fire extinguisher,Essentials,Shampoo,24-hour check-in,Hangers,Hair dryer,Iron,Laptop friendly workspace                \n",
       "10389 TV,Internet,Wireless Internet,Air conditioning,Kitchen,Smoking allowed,Pets allowed,Elevator in building,Buzzer/wireless intercom,Heating,Family/kid friendly,Suitable for events,Washer                                                                                                                                                     \n",
       "10392 TV,Internet,Wireless Internet,Air conditioning,Kitchen,Elevator in building,Buzzer/wireless intercom,Heating,Family/kid friendly,Washer,Essentials,Shampoo,Hangers,Hair dryer,Iron,Laptop friendly workspace                                                                                                                                 \n",
       "10729 TV,Internet,Wireless Internet,Air conditioning,Kitchen,Pets allowed,Buzzer/wireless intercom,Heating,Family/kid friendly,Washer,Smoke detector,Carbon monoxide detector,Essentials,Shampoo,24-hour check-in,Hangers,Hair dryer,Iron,Laptop friendly workspace                                                                                \n",
       "10835 Internet,Wireless Internet,Kitchen,Smoking allowed,Pets allowed,Buzzer/wireless intercom,Heating,Family/kid friendly,Washer,First aid kit,Fire extinguisher,Essentials,Shampoo,Hangers,Hair dryer,Iron,Laptop friendly workspace                                                                                                             \n",
       "11080 TV,Internet,Air conditioning,Kitchen,Washer / Dryer,Doorman,Elevator in building,Heating,Family/kid friendly,Washer,Dryer                                                                                                                                                                                                                    \n",
       "11962 TV,Cable TV,Internet,Wireless Internet,Air conditioning,Kitchen,Pets allowed,Elevator in building,Buzzer/wireless intercom,Heating,Family/kid friendly,Smoke detector,Carbon monoxide detector,First aid kit,Safety card,Fire extinguisher,Essentials,Shampoo,24-hour check-in,Hangers,Hair dryer,Iron,Laptop friendly workspace,Game console\n",
       "12747 TV,Cable TV,Internet,Wireless Internet,Air conditioning,Kitchen,Doorman,Elevator in building,Buzzer/wireless intercom,Heating,Family/kid friendly,Washer,24-hour check-in,Hangers,Hair dryer,Iron,Laptop friendly workspace                                                                                                                  \n",
       "12749 TV,Internet,Wireless Internet,Air conditioning,Kitchen,Doorman,Elevator in building,Buzzer/wireless intercom,Heating,Family/kid friendly,Washer,Essentials,Hair dryer,Iron                                                                                                                                                                   \n",
       "12912 TV,Internet,Air conditioning,Kitchen,Smoking allowed,Pets allowed,Heating,Family/kid friendly,Washer                                                                                                                                                                                                                                         \n",
       "12925 TV,Wireless Internet,Air conditioning,Kitchen,Elevator in building,Heating,Family/kid friendly,Washer,Hair dryer,Iron                                                                                                                                                                                                                        \n",
       "      PiesCuadrados Precio Puntuacion MetrosCuadrados contador\n",
       "15     646           75     91         60.01534       1       \n",
       "25     753          100     87         69.95596       1       \n",
       "46     269           65     93         24.99091       1       \n",
       "574   2153          250     99        200.02016       1       \n",
       "684    538          108     95         49.98181       1       \n",
       "690   1453           98     94        134.98806       1       \n",
       "1414   915           70    100         85.00624       1       \n",
       "1424   431           77     80         40.04119       1       \n",
       "2422   883          145     97         82.03335       1       \n",
       "2440   205           57     94         19.04511       1       \n",
       "3804   700           95     90         65.03210       1       \n",
       "4402   646           75     92         60.01534       1       \n",
       "4410   484          100     96         44.96505       1       \n",
       "5397   431           65     90         40.04119       1       \n",
       "5417  1292           99     84        120.03068       1       \n",
       "6025   646           75     90         60.01534       1       \n",
       "6922  1615          300     95        150.03834       1       \n",
       "7783   215           56     87         19.97415       1       \n",
       "8299   592           82     88         54.99858       1       \n",
       "8850  1238          250     96        115.01391       1       \n",
       "9178  2153          199     96        200.02016       1       \n",
       "10389 1292          110     80        120.03068       1       \n",
       "10392  624           50     89         57.97147       1       \n",
       "10729  603           85     94         56.02051       1       \n",
       "10835 1776          149     87        164.99573       1       \n",
       "11080  807          102     80         74.97272       1       \n",
       "11962  753          100     91         69.95596       1       \n",
       "12747 1076          140     94         99.96363       1       \n",
       "12749  947           95     93         87.97914       1       \n",
       "12912  807          150     65         74.97272       1       \n",
       "12925  431           71     91         40.04119       1       "
      ]
     },
     "metadata": {},
     "output_type": "display_data"
    }
   ],
   "source": [
    "barrio_sol_filtro <- barrio_sol_filtro[barrio_sol_filtro$NumDormitorios>0,]\n",
    "barrio_sol_filtro"
   ]
  },
  {
   "cell_type": "code",
   "execution_count": 74,
   "metadata": {},
   "outputs": [
    {
     "data": {
      "image/png": "[encoded data removed]",
      "text/plain": [
       "plot without title"
      ]
     },
     "metadata": {
      "image/png": {
       "height": 480,
       "width": 720
      },
      "text/plain": {
       "height": 480,
       "width": 720
      }
     },
     "output_type": "display_data"
    }
   ],
   "source": [
    "ggplot(data=barrio_sol_filtro, aes(x=NumDormitorios,color=Barrio))+geom_histogram(bins=5,color=\"red\",fill=\"blue\")"
   ]
  },
  {
   "cell_type": "code",
   "execution_count": 75,
   "metadata": {},
   "outputs": [
    {
     "data": {
      "text/html": [
       "<table>\n",
       "<caption>A matrix: 6 × 4 of type dbl</caption>\n",
       "<thead>\n",
       "\t<tr><th scope=col>NumBanyos</th><th scope=col>NumDormitorios</th><th scope=col>MaxOcupantes</th><th scope=col>MetrosCuadrados</th></tr>\n",
       "</thead>\n",
       "<tbody>\n",
       "\t<tr><td>1</td><td>1</td><td> 4</td><td> 60.01534</td></tr>\n",
       "\t<tr><td>1</td><td>1</td><td> 4</td><td> 69.95596</td></tr>\n",
       "\t<tr><td>1</td><td>1</td><td> 2</td><td> 24.99091</td></tr>\n",
       "\t<tr><td>2</td><td>4</td><td> 8</td><td>200.02016</td></tr>\n",
       "\t<tr><td>1</td><td>1</td><td> 4</td><td> 49.98181</td></tr>\n",
       "\t<tr><td>2</td><td>2</td><td>10</td><td>134.98806</td></tr>\n",
       "</tbody>\n",
       "</table>\n"
      ],
      "text/latex": [
       "A matrix: 6 × 4 of type dbl\n",
       "\\begin{tabular}{llll}\n",
       " NumBanyos & NumDormitorios & MaxOcupantes & MetrosCuadrados\\\\\n",
       "\\hline\n",
       "\t 1 & 1 &  4 &  60.01534\\\\\n",
       "\t 1 & 1 &  4 &  69.95596\\\\\n",
       "\t 1 & 1 &  2 &  24.99091\\\\\n",
       "\t 2 & 4 &  8 & 200.02016\\\\\n",
       "\t 1 & 1 &  4 &  49.98181\\\\\n",
       "\t 2 & 2 & 10 & 134.98806\\\\\n",
       "\\end{tabular}\n"
      ],
      "text/markdown": [
       "\n",
       "A matrix: 6 × 4 of type dbl\n",
       "\n",
       "| NumBanyos | NumDormitorios | MaxOcupantes | MetrosCuadrados |\n",
       "|---|---|---|---|\n",
       "| 1 | 1 |  4 |  60.01534 |\n",
       "| 1 | 1 |  4 |  69.95596 |\n",
       "| 1 | 1 |  2 |  24.99091 |\n",
       "| 2 | 4 |  8 | 200.02016 |\n",
       "| 1 | 1 |  4 |  49.98181 |\n",
       "| 2 | 2 | 10 | 134.98806 |\n",
       "\n"
      ],
      "text/plain": [
       "     NumBanyos NumDormitorios MaxOcupantes MetrosCuadrados\n",
       "[1,] 1         1               4            60.01534      \n",
       "[2,] 1         1               4            69.95596      \n",
       "[3,] 1         1               2            24.99091      \n",
       "[4,] 2         4               8           200.02016      \n",
       "[5,] 1         1               4            49.98181      \n",
       "[6,] 2         2              10           134.98806      "
      ]
     },
     "metadata": {},
     "output_type": "display_data"
    }
   ],
   "source": [
    "barrio_sol_filtro_cor<-cbind(barrio_sol_filtro$NumBanyos,barrio_sol_filtro$NumDormitorios,barrio_sol_filtro$MaxOcupantes,barrio_sol_filtro$MetrosCuadrados)\n",
    "colnames(barrio_sol_filtro_cor)<-c(\"NumBanyos\",\"NumDormitorios\",\"MaxOcupantes\",\"MetrosCuadrados\")\n",
    "head(barrio_sol_filtro_cor)"
   ]
  },
  {
   "cell_type": "code",
   "execution_count": 76,
   "metadata": {},
   "outputs": [
    {
     "data": {
      "text/html": [
       "<table>\n",
       "<caption>A matrix: 4 × 4 of type dbl</caption>\n",
       "<thead>\n",
       "\t<tr><th></th><th scope=col>NumBanyos</th><th scope=col>NumDormitorios</th><th scope=col>MaxOcupantes</th><th scope=col>MetrosCuadrados</th></tr>\n",
       "</thead>\n",
       "<tbody>\n",
       "\t<tr><th scope=row>NumBanyos</th><td>1.0000000</td><td>0.7337699</td><td>0.8579905</td><td>0.5928876</td></tr>\n",
       "\t<tr><th scope=row>NumDormitorios</th><td>0.7337699</td><td>1.0000000</td><td>0.7827712</td><td>0.8163771</td></tr>\n",
       "\t<tr><th scope=row>MaxOcupantes</th><td>0.8579905</td><td>0.7827712</td><td>1.0000000</td><td>0.6957651</td></tr>\n",
       "\t<tr><th scope=row>MetrosCuadrados</th><td>0.5928876</td><td>0.8163771</td><td>0.6957651</td><td>1.0000000</td></tr>\n",
       "</tbody>\n",
       "</table>\n"
      ],
      "text/latex": [
       "A matrix: 4 × 4 of type dbl\n",
       "\\begin{tabular}{r|llll}\n",
       "  & NumBanyos & NumDormitorios & MaxOcupantes & MetrosCuadrados\\\\\n",
       "\\hline\n",
       "\tNumBanyos & 1.0000000 & 0.7337699 & 0.8579905 & 0.5928876\\\\\n",
       "\tNumDormitorios & 0.7337699 & 1.0000000 & 0.7827712 & 0.8163771\\\\\n",
       "\tMaxOcupantes & 0.8579905 & 0.7827712 & 1.0000000 & 0.6957651\\\\\n",
       "\tMetrosCuadrados & 0.5928876 & 0.8163771 & 0.6957651 & 1.0000000\\\\\n",
       "\\end{tabular}\n"
      ],
      "text/markdown": [
       "\n",
       "A matrix: 4 × 4 of type dbl\n",
       "\n",
       "| <!--/--> | NumBanyos | NumDormitorios | MaxOcupantes | MetrosCuadrados |\n",
       "|---|---|---|---|---|\n",
       "| NumBanyos | 1.0000000 | 0.7337699 | 0.8579905 | 0.5928876 |\n",
       "| NumDormitorios | 0.7337699 | 1.0000000 | 0.7827712 | 0.8163771 |\n",
       "| MaxOcupantes | 0.8579905 | 0.7827712 | 1.0000000 | 0.6957651 |\n",
       "| MetrosCuadrados | 0.5928876 | 0.8163771 | 0.6957651 | 1.0000000 |\n",
       "\n"
      ],
      "text/plain": [
       "                NumBanyos NumDormitorios MaxOcupantes MetrosCuadrados\n",
       "NumBanyos       1.0000000 0.7337699      0.8579905    0.5928876      \n",
       "NumDormitorios  0.7337699 1.0000000      0.7827712    0.8163771      \n",
       "MaxOcupantes    0.8579905 0.7827712      1.0000000    0.6957651      \n",
       "MetrosCuadrados 0.5928876 0.8163771      0.6957651    1.0000000      "
      ]
     },
     "metadata": {},
     "output_type": "display_data"
    }
   ],
   "source": [
    "cor(barrio_sol_filtro_cor,use=\"complete.obs\")"
   ]
  },
  {
   "cell_type": "code",
   "execution_count": 77,
   "metadata": {},
   "outputs": [
    {
     "data": {
      "text/plain": [
       "\n",
       "Call:\n",
       "lm(formula = Precio ~ NumBanyos + NumDormitorios + MetrosCuadrados + \n",
       "    MaxOcupantes, data = barrio_sol_filtro)\n",
       "\n",
       "Residuals:\n",
       "    Min      1Q  Median      3Q     Max \n",
       "-85.042 -13.252  -2.146  19.666  60.825 \n",
       "\n",
       "Coefficients:\n",
       "                Estimate Std. Error t value Pr(>|t|)   \n",
       "(Intercept)      24.0964    13.8767   1.736  0.09432 . \n",
       "NumBanyos        -2.3020    15.6011  -0.148  0.88383   \n",
       "NumDormitorios   32.5218    10.1108   3.217  0.00346 **\n",
       "MetrosCuadrados   0.1999     0.2200   0.909  0.37189   \n",
       "MaxOcupantes      2.7079     4.7448   0.571  0.57311   \n",
       "---\n",
       "Signif. codes:  0 ‘***’ 0.001 ‘**’ 0.01 ‘*’ 0.05 ‘.’ 0.1 ‘ ’ 1\n",
       "\n",
       "Residual standard error: 32.59 on 26 degrees of freedom\n",
       "Multiple R-squared:  0.7534,\tAdjusted R-squared:  0.7155 \n",
       "F-statistic: 19.86 on 4 and 26 DF,  p-value: 1.346e-07\n"
      ]
     },
     "metadata": {},
     "output_type": "display_data"
    }
   ],
   "source": [
    "summary(lm(barrio_sol_filtro,formula=Precio~NumBanyos+NumDormitorios+MetrosCuadrados+MaxOcupantes))\n"
   ]
  },
  {
   "cell_type": "code",
   "execution_count": 78,
   "metadata": {},
   "outputs": [
    {
     "data": {
      "text/plain": [
       "\n",
       "Call:\n",
       "lm(formula = Precio ~ NumDormitorios, data = barrio_sol_filtro)\n",
       "\n",
       "Residuals:\n",
       "    Min      1Q  Median      3Q     Max \n",
       "-97.118 -17.180  -0.534  23.143  53.882 \n",
       "\n",
       "Coefficients:\n",
       "               Estimate Std. Error t value Pr(>|t|)    \n",
       "(Intercept)      32.888     10.500   3.132  0.00394 ** \n",
       "NumDormitorios   42.646      4.711   9.052 6.01e-10 ***\n",
       "---\n",
       "Signif. codes:  0 ‘***’ 0.001 ‘**’ 0.01 ‘*’ 0.05 ‘.’ 0.1 ‘ ’ 1\n",
       "\n",
       "Residual standard error: 31.77 on 29 degrees of freedom\n",
       "Multiple R-squared:  0.7386,\tAdjusted R-squared:  0.7296 \n",
       "F-statistic: 81.94 on 1 and 29 DF,  p-value: 6.01e-10\n"
      ]
     },
     "metadata": {},
     "output_type": "display_data"
    }
   ],
   "source": [
    "summary(lm(barrio_sol_filtro,formula=Precio~NumDormitorios))\n"
   ]
  },
  {
   "cell_type": "code",
   "execution_count": 79,
   "metadata": {},
   "outputs": [
    {
     "data": {
      "text/plain": [
       "\n",
       "Call:\n",
       "lm(formula = Precio ~ MetrosCuadrados, data = barrio_sol_filtro)\n",
       "\n",
       "Residuals:\n",
       "    Min      1Q  Median      3Q     Max \n",
       "-65.894 -19.902  -1.230   8.741 121.549 \n",
       "\n",
       "Coefficients:\n",
       "                Estimate Std. Error t value Pr(>|t|)    \n",
       "(Intercept)      33.3289    14.4874   2.301   0.0288 *  \n",
       "MetrosCuadrados   0.9672     0.1530   6.323  6.6e-07 ***\n",
       "---\n",
       "Signif. codes:  0 ‘***’ 0.001 ‘**’ 0.01 ‘*’ 0.05 ‘.’ 0.1 ‘ ’ 1\n",
       "\n",
       "Residual standard error: 40.3 on 29 degrees of freedom\n",
       "Multiple R-squared:  0.5796,\tAdjusted R-squared:  0.5651 \n",
       "F-statistic: 39.97 on 1 and 29 DF,  p-value: 6.601e-07\n"
      ]
     },
     "metadata": {},
     "output_type": "display_data"
    }
   ],
   "source": [
    "summary(lm(barrio_sol_filtro,formula=Precio~MetrosCuadrados))"
   ]
  },
  {
   "cell_type": "markdown",
   "metadata": {},
   "source": [
    "¿Que variable es más fiable para conocer el precio de un inmueble, el número de habitaciones o los metros cuadrados?"
   ]
  },
  {
   "cell_type": "markdown",
   "metadata": {},
   "source": [
    "La variable mas fiable es el número de habitaciones, porque aunque tengan los dos un valor p-vluae muy bajo el R2 es muy superior en el numero de habitaciones"
   ]
  },
  {
   "cell_type": "markdown",
   "metadata": {},
   "source": [
    "Responde con su correspondiente margen de error del 95%, ¿cuantos euros incrementa el precio del alquiler por cada metro cuadrado extra del piso?"
   ]
  },
  {
   "cell_type": "code",
   "execution_count": 80,
   "metadata": {},
   "outputs": [
    {
     "data": {
      "text/plain": [
       "\n",
       "Call:\n",
       "lm(formula = Precio ~ MetrosCuadrados, data = barrio_sol)\n",
       "\n",
       "Residuals:\n",
       "    Min      1Q  Median      3Q     Max \n",
       "-61.403 -25.126  -6.573  10.003 138.353 \n",
       "\n",
       "Coefficients:\n",
       "                Estimate Std. Error t value Pr(>|t|)    \n",
       "(Intercept)     69.57277    6.70573  10.375 7.79e-15 ***\n",
       "MetrosCuadrados  0.61367    0.09721   6.313 4.13e-08 ***\n",
       "---\n",
       "Signif. codes:  0 ‘***’ 0.001 ‘**’ 0.01 ‘*’ 0.05 ‘.’ 0.1 ‘ ’ 1\n",
       "\n",
       "Residual standard error: 38.96 on 58 degrees of freedom\n",
       "  (641 observations deleted due to missingness)\n",
       "Multiple R-squared:  0.4073,\tAdjusted R-squared:  0.397 \n",
       "F-statistic: 39.85 on 1 and 58 DF,  p-value: 4.134e-08\n"
      ]
     },
     "metadata": {},
     "output_type": "display_data"
    }
   ],
   "source": [
    "model<-lm(barrio_sol,formula=Precio~MetrosCuadrados)\n",
    "summary(model)"
   ]
  },
  {
   "cell_type": "code",
   "execution_count": 81,
   "metadata": {},
   "outputs": [
    {
     "data": {
      "text/html": [
       "<table>\n",
       "<caption>A matrix: 2 × 2 of type dbl</caption>\n",
       "<thead>\n",
       "\t<tr><th></th><th scope=col>2.5 %</th><th scope=col>97.5 %</th></tr>\n",
       "</thead>\n",
       "<tbody>\n",
       "\t<tr><th scope=row>(Intercept)</th><td>56.1497852</td><td>82.9957569</td></tr>\n",
       "\t<tr><th scope=row>MetrosCuadrados</th><td> 0.4190858</td><td> 0.8082612</td></tr>\n",
       "</tbody>\n",
       "</table>\n"
      ],
      "text/latex": [
       "A matrix: 2 × 2 of type dbl\n",
       "\\begin{tabular}{r|ll}\n",
       "  & 2.5 \\% & 97.5 \\%\\\\\n",
       "\\hline\n",
       "\t(Intercept) & 56.1497852 & 82.9957569\\\\\n",
       "\tMetrosCuadrados &  0.4190858 &  0.8082612\\\\\n",
       "\\end{tabular}\n"
      ],
      "text/markdown": [
       "\n",
       "A matrix: 2 × 2 of type dbl\n",
       "\n",
       "| <!--/--> | 2.5 % | 97.5 % |\n",
       "|---|---|---|\n",
       "| (Intercept) | 56.1497852 | 82.9957569 |\n",
       "| MetrosCuadrados |  0.4190858 |  0.8082612 |\n",
       "\n"
      ],
      "text/plain": [
       "                2.5 %      97.5 %    \n",
       "(Intercept)     56.1497852 82.9957569\n",
       "MetrosCuadrados  0.4190858  0.8082612"
      ]
     },
     "metadata": {},
     "output_type": "display_data"
    }
   ],
   "source": [
    "# Observamos su intervalos de confianza\n",
    "confint(model)"
   ]
  },
  {
   "cell_type": "markdown",
   "metadata": {},
   "source": [
    "Por tanto esto quiere decir que por cada metro cuadrado más, el precio se incrementará entre 0,41 y 0,80 Euros"
   ]
  },
  {
   "cell_type": "markdown",
   "metadata": {},
   "source": [
    "Responde con su correspondiente margen de error del 95%, ¿cuantos euros incrementa el precio del alquiler por cada habitación?"
   ]
  },
  {
   "cell_type": "code",
   "execution_count": 82,
   "metadata": {},
   "outputs": [
    {
     "data": {
      "text/plain": [
       "\n",
       "Call:\n",
       "lm(formula = Precio ~ NumDormitorios, data = barrio_sol_filtro)\n",
       "\n",
       "Residuals:\n",
       "    Min      1Q  Median      3Q     Max \n",
       "-97.118 -17.180  -0.534  23.143  53.882 \n",
       "\n",
       "Coefficients:\n",
       "               Estimate Std. Error t value Pr(>|t|)    \n",
       "(Intercept)      32.888     10.500   3.132  0.00394 ** \n",
       "NumDormitorios   42.646      4.711   9.052 6.01e-10 ***\n",
       "---\n",
       "Signif. codes:  0 ‘***’ 0.001 ‘**’ 0.01 ‘*’ 0.05 ‘.’ 0.1 ‘ ’ 1\n",
       "\n",
       "Residual standard error: 31.77 on 29 degrees of freedom\n",
       "Multiple R-squared:  0.7386,\tAdjusted R-squared:  0.7296 \n",
       "F-statistic: 81.94 on 1 and 29 DF,  p-value: 6.01e-10\n"
      ]
     },
     "metadata": {},
     "output_type": "display_data"
    }
   ],
   "source": [
    "modelD<-lm(barrio_sol_filtro,formula=Precio~NumDormitorios)\n",
    "summary(modelD)"
   ]
  },
  {
   "cell_type": "code",
   "execution_count": 83,
   "metadata": {},
   "outputs": [
    {
     "data": {
      "text/html": [
       "<table>\n",
       "<caption>A matrix: 2 × 2 of type dbl</caption>\n",
       "<thead>\n",
       "\t<tr><th></th><th scope=col>2.5 %</th><th scope=col>97.5 %</th></tr>\n",
       "</thead>\n",
       "<tbody>\n",
       "\t<tr><th scope=row>(Intercept)</th><td>11.41223</td><td>54.36366</td></tr>\n",
       "\t<tr><th scope=row>NumDormitorios</th><td>33.01073</td><td>52.28146</td></tr>\n",
       "</tbody>\n",
       "</table>\n"
      ],
      "text/latex": [
       "A matrix: 2 × 2 of type dbl\n",
       "\\begin{tabular}{r|ll}\n",
       "  & 2.5 \\% & 97.5 \\%\\\\\n",
       "\\hline\n",
       "\t(Intercept) & 11.41223 & 54.36366\\\\\n",
       "\tNumDormitorios & 33.01073 & 52.28146\\\\\n",
       "\\end{tabular}\n"
      ],
      "text/markdown": [
       "\n",
       "A matrix: 2 × 2 of type dbl\n",
       "\n",
       "| <!--/--> | 2.5 % | 97.5 % |\n",
       "|---|---|---|\n",
       "| (Intercept) | 11.41223 | 54.36366 |\n",
       "| NumDormitorios | 33.01073 | 52.28146 |\n",
       "\n"
      ],
      "text/plain": [
       "               2.5 %    97.5 %  \n",
       "(Intercept)    11.41223 54.36366\n",
       "NumDormitorios 33.01073 52.28146"
      ]
     },
     "metadata": {},
     "output_type": "display_data"
    }
   ],
   "source": [
    "# Observamos su intervalos de confianza\n",
    "confint(modelD)"
   ]
  },
  {
   "cell_type": "markdown",
   "metadata": {},
   "source": [
    "Esto quiere decir que el precio se incrementar por cada habitación entre 33,01 y 52,28 Euros"
   ]
  },
  {
   "cell_type": "markdown",
   "metadata": {},
   "source": [
    "¿Cual es la probabilidad de encontrar, en el barrio de Sol, un apartamento en alquiler con 3 dormitorios?\n",
    "¿Cual es el margen de error de esa probabilidad?"
   ]
  },
  {
   "cell_type": "markdown",
   "metadata": {},
   "source": [
    "La probabilidad será el numero de apartamentos con tres habitaciones entr el total de apartamentos"
   ]
  },
  {
   "cell_type": "code",
   "execution_count": 84,
   "metadata": {},
   "outputs": [
    {
     "data": {
      "text/html": [
       "55"
      ],
      "text/latex": [
       "55"
      ],
      "text/markdown": [
       "55"
      ],
      "text/plain": [
       "[1] 55"
      ]
     },
     "metadata": {},
     "output_type": "display_data"
    }
   ],
   "source": [
    "apartamentos3Habitaciones <-sum(barrio_sol$NumDormitorios==3)\n",
    "apartamentos3Habitaciones"
   ]
  },
  {
   "cell_type": "code",
   "execution_count": 85,
   "metadata": {},
   "outputs": [
    {
     "data": {
      "text/html": [
       "701"
      ],
      "text/latex": [
       "701"
      ],
      "text/markdown": [
       "701"
      ],
      "text/plain": [
       "[1] 701"
      ]
     },
     "metadata": {},
     "output_type": "display_data"
    }
   ],
   "source": [
    "TotalApartamentos<-nrow(barrio_sol)\n",
    "TotalApartamentos"
   ]
  },
  {
   "cell_type": "code",
   "execution_count": 86,
   "metadata": {},
   "outputs": [
    {
     "data": {
      "text/html": [
       "0.0784593437945792"
      ],
      "text/latex": [
       "0.0784593437945792"
      ],
      "text/markdown": [
       "0.0784593437945792"
      ],
      "text/plain": [
       "[1] 0.07845934"
      ]
     },
     "metadata": {},
     "output_type": "display_data"
    }
   ],
   "source": [
    "p<-apartamentos3Habitaciones/TotalApartamentos\n",
    "p"
   ]
  },
  {
   "cell_type": "code",
   "execution_count": 88,
   "metadata": {},
   "outputs": [
    {
     "data": {
      "text/plain": [
       "\n",
       "\tExact binomial test\n",
       "\n",
       "data:  apartamentos3Habitaciones and TotalApartamentos\n",
       "number of successes = 55, number of trials = 701, p-value < 2.2e-16\n",
       "alternative hypothesis: true probability of success is not equal to 0.5\n",
       "95 percent confidence interval:\n",
       " 0.0596506 0.1009033\n",
       "sample estimates:\n",
       "probability of success \n",
       "            0.07845934 \n"
      ]
     },
     "metadata": {},
     "output_type": "display_data"
    }
   ],
   "source": [
    "b<-binom.test(apartamentos3Habitaciones,TotalApartamentos)\n",
    "b"
   ]
  },
  {
   "cell_type": "code",
   "execution_count": 89,
   "metadata": {},
   "outputs": [
    {
     "data": {
      "text/html": [
       "<span style=white-space:pre-wrap>'La probabilidad de alquilar en Sol un piso con tres habitaciones es:  0.0784593437945792'</span>"
      ],
      "text/latex": [
       "'La probabilidad de alquilar en Sol un piso con tres habitaciones es:  0.0784593437945792'"
      ],
      "text/markdown": [
       "<span style=white-space:pre-wrap>'La probabilidad de alquilar en Sol un piso con tres habitaciones es:  0.0784593437945792'</span>"
      ],
      "text/plain": [
       "[1] \"La probabilidad de alquilar en Sol un piso con tres habitaciones es:  0.0784593437945792\""
      ]
     },
     "metadata": {},
     "output_type": "display_data"
    },
    {
     "data": {
      "text/html": [
       "'El intervalo de confianza : [ 0.0596505980500962 , 0.100903307028694 ]'"
      ],
      "text/latex": [
       "'El intervalo de confianza : {[} 0.0596505980500962 , 0.100903307028694 {]}'"
      ],
      "text/markdown": [
       "'El intervalo de confianza : [ 0.0596505980500962 , 0.100903307028694 ]'"
      ],
      "text/plain": [
       "[1] \"El intervalo de confianza : [ 0.0596505980500962 , 0.100903307028694 ]\""
      ]
     },
     "metadata": {},
     "output_type": "display_data"
    }
   ],
   "source": [
    "paste (\"La probabilidad de alquilar en Sol un piso con tres habitaciones es: \", b$estimate)\n",
    "paste (\"El intervalo de confianza : [\",b$conf.int[1],\",\",b$conf.int[2],\"]\" )"
   ]
  },
  {
   "cell_type": "code",
   "execution_count": null,
   "metadata": {},
   "outputs": [],
   "source": []
  }
 ],
 "metadata": {
  "kernelspec": {
   "display_name": "R",
   "language": "R",
   "name": "ir"
  },
  "language_info": {
   "codemirror_mode": "r",
   "file_extension": ".r",
   "mimetype": "text/x-r-source",
   "name": "R",
   "pygments_lexer": "r",
   "version": "3.6.0"
  }
 },
 "nbformat": 4,
 "nbformat_minor": 2
}
